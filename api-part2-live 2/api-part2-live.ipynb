{
 "cells": [
  {
   "cell_type": "markdown",
   "id": "469b5aff-5004-4ea8-b058-6bf3b5f6ac45",
   "metadata": {},
   "source": [
    "### 1. hiden files/folders\n"
   ]
  },
  {
   "cell_type": "markdown",
   "id": "2652eae4-6924-446a-9243-9fe9d7dd5d44",
   "metadata": {},
   "source": [
    "### 2. environmental variables "
   ]
  },
  {
   "cell_type": "markdown",
   "id": "7d2b1670-47f6-4238-ba8d-047f86119c3c",
   "metadata": {},
   "source": [
    "### Activity 3"
   ]
  },
  {
   "cell_type": "markdown",
   "id": "31070c2c-99b6-4137-9805-86eb762c0aba",
   "metadata": {},
   "source": [
    "### 3. alpaca API\n",
    "- review what is api?\n",
    "- most company provide lib for api calls"
   ]
  },
  {
   "cell_type": "markdown",
   "id": "5db61f3f-bcc5-483f-b92e-9d8a51d66280",
   "metadata": {},
   "source": [
    "### 4. install alpaca API\n",
    "- pip install alpaca_trade_api (this is an old version)\n",
    "- pip install alpaca-py\n",
    "- restart Kernel "
   ]
  },
  {
   "cell_type": "markdown",
   "id": "ea40bbfe-6ef9-4515-b86e-dfa23026901c",
   "metadata": {},
   "source": [
    "### 5. interact with alpaca API"
   ]
  },
  {
   "cell_type": "code",
   "execution_count": null,
   "id": "eb9427ad-d09b-4ce6-a38c-8026a8c00496",
   "metadata": {
    "tags": []
   },
   "outputs": [],
   "source": [
    "# Initial imports\n",
    "import os\n",
    "import requests\n",
    "import pandas as pd\n",
    "from dotenv import load_dotenv\n",
    "import alpaca_trade_api as tradeapi\n",
    "\n",
    "%matplotlib inline"
   ]
  },
  {
   "cell_type": "markdown",
   "id": "d869f90d-5424-40e0-ab7e-7c0f8d3faf8d",
   "metadata": {},
   "source": [
    "## Create a DataFrame with the current amount of shares"
   ]
  },
  {
   "cell_type": "markdown",
   "id": "a1d2af6e-9961-4db3-8fd5-46bfaadaf447",
   "metadata": {},
   "source": [
    "## Load and Verify Environment Variables"
   ]
  },
  {
   "cell_type": "markdown",
   "id": "fbfa6a4d-344a-4472-a214-d15f2592d07d",
   "metadata": {},
   "source": [
    "## Create the Alpaca API Object"
   ]
  },
  {
   "cell_type": "markdown",
   "id": "6a8a4f30-5ea5-4cf1-a118-dedbd1b0643a",
   "metadata": {},
   "source": [
    "## Set a variable `today` with current date using ISO format"
   ]
  },
  {
   "cell_type": "markdown",
   "id": "5d62c0d3-c4c2-491a-8da8-56d737942752",
   "metadata": {},
   "source": [
    "## Set a variable `timeframe` with value equal to `1Day`"
   ]
  },
  {
   "cell_type": "markdown",
   "id": "6c5369b0-6044-44f9-8bf2-06d0cbce4c47",
   "metadata": {},
   "source": [
    "## Create a DataFrame with current price data for `MSFT` & `AAPL` using `alpaca.get_bars()`"
   ]
  },
  {
   "cell_type": "markdown",
   "id": "e63d524f-8b03-4e75-9fc0-69d2d5a8d5a9",
   "metadata": {},
   "source": [
    "## Calculate the current value in dollars of the stock portfolio"
   ]
  },
  {
   "cell_type": "markdown",
   "id": "16d50ba4-2268-4810-9227-7fdfe124e74c",
   "metadata": {},
   "source": [
    "## Plot stock portfolio composition\n",
    "\n",
    "### Create a DataFrame with the current value of shares"
   ]
  },
  {
   "cell_type": "markdown",
   "id": "27c47ee0-2219-4ca8-a38b-eb1acb892dd0",
   "metadata": {},
   "source": [
    "### 5. Activities 5"
   ]
  }
 ],
 "metadata": {
  "kernelspec": {
   "display_name": "Python 3 (ipykernel)",
   "language": "python",
   "name": "python3"
  },
  "language_info": {
   "codemirror_mode": {
    "name": "ipython",
    "version": 3
   },
   "file_extension": ".py",
   "mimetype": "text/x-python",
   "name": "python",
   "nbconvert_exporter": "python",
   "pygments_lexer": "ipython3",
   "version": "3.11.5"
  },
  "toc-showtags": false
 },
 "nbformat": 4,
 "nbformat_minor": 5
}
