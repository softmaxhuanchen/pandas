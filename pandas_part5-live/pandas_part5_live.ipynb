{
 "cells": [
  {
   "cell_type": "markdown",
   "id": "63be5454-0b96-4319-9239-0bb1e416a06a",
   "metadata": {},
   "source": [
    "## Advanced python - Object Oriented Programming"
   ]
  },
  {
   "cell_type": "markdown",
   "id": "063faef1-361a-4f48-8269-8d3a1d0ea022",
   "metadata": {},
   "source": [
    "### 1. OOP vs Functions\n",
    "- a class is a 'type', which inclues functions and variables.\n",
    "- create an object (instance) from the class.\n",
    "- OOP is a way orgnize things into objects and relationships between objects.\n",
    "- Functions are like pipelines, with inputs and outputs."
   ]
  },
  {
   "cell_type": "markdown",
   "id": "84b43c09-c2a8-4e35-8a06-6efa68f34a1f",
   "metadata": {
    "tags": []
   },
   "source": [
    "### 2. mini project \n",
    "- portforlio management\n"
   ]
  },
  {
   "cell_type": "code",
   "execution_count": null,
   "id": "2481c78f-c293-4c3b-870d-12f1334c780b",
   "metadata": {},
   "outputs": [],
   "source": [
    "import pandas as pd\n",
    "from pathlib import Path\n",
    "from IPython.display import display, clear_output\n",
    "import matplotlib.pyplot as plt\n",
    "\n",
    "class Exchange:\n",
    "    def __init__(self):\n",
    "        self.stocks = ['AAPL', 'DPZ', 'GOOG', 'IBM', 'ISRG', 'MNST', 'TSCO', 'TSLA', 'V']\n",
    "        self.stock_data = pd.DataFrame()\n",
    "        self.current_date = None\n",
    "        self.load_stock_data() # to be written\n",
    "        self.set_initial_date() # to be wirtten\n",
    "        \n",
    "    def load_stock_data(self):\n",
    "        dfs = []\n",
    "        for stock in self.stocks:\n",
    "            file_path = Path('./Resources/' + stock + '.csv')\n",
    "            df = pd.read_csv(file_path, index_col='Date')\n",
    "            df.rename(columns={stock: stock}, inplace=True)\n",
    "            dfs.append(df)\n",
    "        self.stock_data = pd.concat(dfs, axis=1, join='inner')        \n",
    "    def set_initial_date(self):\n",
    "        self.current_date = self.stock_data.index[0]\n",
    "    \n",
    "    def get_price(self, stock):\n",
    "        return self.stock_data.at[self.current_date, stock]\n",
    "    def time_passing(self, tick = 1):\n",
    "        all_dates = self.stock_data.index\n",
    "        current_inx = all_dates.get_loc(self.current_date)\n",
    "        if current_idx + tick < len(all_dates):\n",
    "            self.current_date = all_dates[current_idx + tick]\n",
    "        else:\n",
    "            print(\"Reached the end of the available data.\")\n",
    "            \n",
    "\n",
    "            \n",
    "        \n",
    "        \n",
    "        \n",
    "        \n",
    "    \n"
   ]
  },
  {
   "cell_type": "markdown",
   "id": "1c27cf5f-52f6-4574-bf4a-e1cc2e714688",
   "metadata": {},
   "source": [
    "# Guidelines for Tech Interview"
   ]
  },
  {
   "cell_type": "markdown",
   "id": "b1aefce0-ce7b-4288-aa5b-a885ad3250d0",
   "metadata": {
    "tags": []
   },
   "source": [
    "### 1. Buy Low Sell High\n",
    "\n",
    "Xena is an amateur day trader who is trading IAG, a mineral exploration company. On December 12, 2015 at 10 a.m., Xena determined that IAG was a buying opportunity and bought 10,000 shares at 1.42 per share; she ended up selling it an hour later (11 a.m.) at 1.85 per share, generating a profit of $4,300. Although a fantastic trade in and of itself, Xena wants to know if she could have possibly made more money.\n",
    "\n",
    "These were all the prices of IAG at 5-minute intervals on December 12, 2015, between the hours of 10 a.m. and 11 a.m.:\n",
    "\n",
    "`$1.42, $1.32, $1.45, $1.20, $1.34, $1.74, $1.10, $1.89, $1.42, $1.90, $1.80, $1.85`\n",
    "\n",
    "Write an efficient function that takes a list of stock prices in chronological order and finds the best trade by calculating the maximum profit through the determination of the minimum (buy) and maximum (sell) stock prices."
   ]
  },
  {
   "cell_type": "markdown",
   "id": "5620e182-eedb-4f00-a33f-0a32abb7a085",
   "metadata": {},
   "source": [
    "### 2. Counting Letters"
   ]
  },
  {
   "cell_type": "markdown",
   "id": "69ce507b-ab49-4507-8f05-fa95c2419c61",
   "metadata": {},
   "source": [
    "### 3. Deep Equals"
   ]
  },
  {
   "cell_type": "code",
   "execution_count": null,
   "id": "3d7f6300-3d15-4533-ad85-5f2f00aa56aa",
   "metadata": {},
   "outputs": [],
   "source": []
  }
 ],
 "metadata": {
  "kernelspec": {
   "display_name": "Python 3 (ipykernel)",
   "language": "python",
   "name": "python3"
  },
  "language_info": {
   "codemirror_mode": {
    "name": "ipython",
    "version": 3
   },
   "file_extension": ".py",
   "mimetype": "text/x-python",
   "name": "python",
   "nbconvert_exporter": "python",
   "pygments_lexer": "ipython3",
   "version": "3.11.5"
  }
 },
 "nbformat": 4,
 "nbformat_minor": 5
}
