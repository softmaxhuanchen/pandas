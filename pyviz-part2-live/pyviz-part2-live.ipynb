{
 "cells": [
  {
   "cell_type": "markdown",
   "id": "e1ec8165-e684-4668-abda-66f0091132a6",
   "metadata": {},
   "source": [
    "[hvplot doc](https://hvplot.holoviz.org/user_guide/Introduction.html)"
   ]
  },
  {
   "cell_type": "markdown",
   "id": "64f7b512-2b5a-45e7-9027-42b0df8dd79e",
   "metadata": {},
   "source": [
    "### Activity 1\n",
    "- story compare the sub numbers for each region for time periods 2018-q1 to 2020-q2"
   ]
  },
  {
   "cell_type": "code",
   "execution_count": null,
   "id": "f2e05f93-42f5-4e7b-8694-b756122b14ae",
   "metadata": {
    "tags": []
   },
   "outputs": [],
   "source": [
    "import pandas as pd\n",
    "import hvplot.pandas\n",
    "from pathlib import Path"
   ]
  },
  {
   "cell_type": "code",
   "execution_count": null,
   "id": "ce31fb23-5fd9-4141-bacd-c0dafe451c7a",
   "metadata": {
    "tags": []
   },
   "outputs": [],
   "source": [
    "subscribers_df = pd.read_csv(Path(\"Resources/subscriber_numbers.csv\"))\n",
    "subscribers_df\n",
    "subscribers_df.nunique()"
   ]
  },
  {
   "cell_type": "code",
   "execution_count": null,
   "id": "1ef37d5d-d6a8-4463-a81d-a600bb90edfc",
   "metadata": {
    "tags": []
   },
   "outputs": [],
   "source": [
    "subscribers_df[\"Years\"].unique()"
   ]
  },
  {
   "cell_type": "code",
   "execution_count": null,
   "id": "1f355a8f-56b5-4420-b7ed-0d8a58c00f5a",
   "metadata": {
    "tags": []
   },
   "outputs": [],
   "source": [
    "q1_2018 = subscribers_df.loc[subscribers_df[\"Years\"] == 'Q1 - 2018']\n",
    "q1_2018\n",
    "q1_2018 = q1_2018.set_index(\"Area\")"
   ]
  },
  {
   "cell_type": "code",
   "execution_count": null,
   "id": "ded28512-6b78-46cc-9bbe-b6e89a076831",
   "metadata": {
    "tags": []
   },
   "outputs": [],
   "source": [
    "# q1_2018_plot = q1_2018['Subscribers'].hvplot.bar(xlabel = 'International Region', ylabel = 'number of subs', rot = 30, yformatter = '%.0f')\n",
    "\n",
    "q1_2018_plot = q1_2018['Subscribers'].hvplot.bar(xlabel = 'International Region', ylabel = 'number of subs', rot = 30)\n",
    "q1_2018_plot.opts(yformatter = '%.3f', color = 'yellow', hover_color ='orange')"
   ]
  },
  {
   "cell_type": "code",
   "execution_count": null,
   "id": "2f6ee033-4e7f-4a41-9469-cdab72b2fb91",
   "metadata": {
    "tags": []
   },
   "outputs": [],
   "source": [
    "periods = subscribers_df[\"Years\"].unique()\n",
    "first_period = periods[0]\n",
    "df = subscribers_df.loc[subscribers_df[\"Years\"] == first_period].set_index('Area')\n",
    "\n",
    "overlay = df.hvplot.bar()\n",
    "\n",
    "for period in periods[-1:1:-1]:\n",
    "    df = subscribers_df.loc[subscribers_df[\"Years\"] == period].set_index('Area')\n",
    "    overlay *= df.hvplot.bar(label = \"subscriber numbers by region\", hover_cols = [\"Years\"], yformatter= '%.0f', rot = 30)\n",
    "    \n",
    "overlay\n",
    "    "
   ]
  },
  {
   "cell_type": "code",
   "execution_count": null,
   "id": "5b5b6e28-2213-472d-ad15-dfd975d66dc6",
   "metadata": {
    "tags": []
   },
   "outputs": [],
   "source": [
    "areas = subscribers_df[\"Area\"].unique()\n",
    "\n",
    "overlay = None\n",
    "\n",
    "for area in areas:\n",
    "    df_area = subscribers_df.loc[subscribers_df[\"Area\"] == area].set_index('Years')\n",
    "    bar_plot = df_area.hvplot.bar(label = str(area), rot = 30, yformatter= '%.0f')\n",
    "    line_plot = df_area.hvplot.line(label = str(area), rot = 30, yformatter= '%.0f')\n",
    "    if overlay is None:\n",
    "        overlay = bar_plot\n",
    "        overlay *= line_plot\n",
    "    else:\n",
    "        overlay *= bar_plot\n",
    "        overlay *= line_plot\n",
    "        \n",
    "overlay"
   ]
  },
  {
   "cell_type": "code",
   "execution_count": null,
   "id": "3e9198ff-5116-4e38-9233-f47e5c559c6d",
   "metadata": {
    "tags": []
   },
   "outputs": [],
   "source": [
    "subscribers_df.groupby('Area')['Subscribers'].plot(legend = True, figsize = (10,4))"
   ]
  },
  {
   "cell_type": "markdown",
   "id": "aa4c68d6-bcbf-4e10-9f8b-d408bc973d3f",
   "metadata": {},
   "source": [
    "### Activity 3"
   ]
  },
  {
   "cell_type": "code",
   "execution_count": null,
   "id": "468c46ef-54a6-40b2-b8dc-fa8da2a11b90",
   "metadata": {},
   "outputs": [],
   "source": [
    "# subscribers_df.hvplot.bar(groupby = ['Area','Years'])\n",
    "subscribers_df.hvplot.bar(groupby = ['Area'])"
   ]
  },
  {
   "cell_type": "code",
   "execution_count": null,
   "id": "e41d6fae-3f90-490f-b6fd-b6a6066ed144",
   "metadata": {},
   "outputs": [],
   "source": []
  }
 ],
 "metadata": {
  "kernelspec": {
   "display_name": "Python 3 (ipykernel)",
   "language": "python",
   "name": "python3"
  },
  "language_info": {
   "codemirror_mode": {
    "name": "ipython",
    "version": 3
   },
   "file_extension": ".py",
   "mimetype": "text/x-python",
   "name": "python",
   "nbconvert_exporter": "python",
   "pygments_lexer": "ipython3",
   "version": "3.11.5"
  }
 },
 "nbformat": 4,
 "nbformat_minor": 5
}
