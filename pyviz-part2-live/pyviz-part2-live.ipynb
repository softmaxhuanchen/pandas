{
 "cells": [
  {
   "cell_type": "markdown",
   "id": "e1ec8165-e684-4668-abda-66f0091132a6",
   "metadata": {},
   "source": [
    "[hvplot doc](https://hvplot.holoviz.org/user_guide/Introduction.html)"
   ]
  },
  {
   "cell_type": "markdown",
   "id": "64f7b512-2b5a-45e7-9027-42b0df8dd79e",
   "metadata": {},
   "source": [
    "### Activity 1"
   ]
  },
  {
   "cell_type": "markdown",
   "id": "aa4c68d6-bcbf-4e10-9f8b-d408bc973d3f",
   "metadata": {},
   "source": [
    "### Activity 3"
   ]
  },
  {
   "cell_type": "code",
   "execution_count": null,
   "id": "468c46ef-54a6-40b2-b8dc-fa8da2a11b90",
   "metadata": {},
   "outputs": [],
   "source": []
  }
 ],
 "metadata": {
  "kernelspec": {
   "display_name": "Python 3 (ipykernel)",
   "language": "python",
   "name": "python3"
  },
  "language_info": {
   "codemirror_mode": {
    "name": "ipython",
    "version": 3
   },
   "file_extension": ".py",
   "mimetype": "text/x-python",
   "name": "python",
   "nbconvert_exporter": "python",
   "pygments_lexer": "ipython3",
   "version": "3.11.5"
  }
 },
 "nbformat": 4,
 "nbformat_minor": 5
}
