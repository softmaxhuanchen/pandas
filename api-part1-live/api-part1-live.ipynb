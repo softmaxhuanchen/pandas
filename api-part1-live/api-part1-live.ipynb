{
 "cells": [
  {
   "cell_type": "markdown",
   "id": "2dfdca11-d212-4720-af5a-17992322d229",
   "metadata": {},
   "source": [
    "### 1. api introduction\n",
    "- what is api? api a func call. func located in a different env. \n",
    "- what problem does it solve? by sending a message. states are not good. message should be stateless. RESTful api"
   ]
  },
  {
   "cell_type": "markdown",
   "id": "dd852328-a4fa-4277-9d77-3773c0cef6af",
   "metadata": {
    "jp-MarkdownHeadingCollapsed": true,
    "tags": []
   },
   "source": [
    "### 2. some insights: \n",
    "- client/server is like business/customer. API. 24/7. 0 distance\n",
    "- function call with messaging passing\n",
    "- web, digital economy\n"
   ]
  },
  {
   "cell_type": "markdown",
   "id": "ee4708d1-51c0-4f14-8346-9669e05a0002",
   "metadata": {},
   "source": [
    "### 3. some concepts\n",
    "https://data.nasdaq.com/api/v3/datasets/WIKI/AAPL.json?start_date=1985-05-01&end_date=1997-07-01&order=asc&column_index=4&collapse=quarterly&transformation=rdiff\n",
    "- URL https://data.nasdaq.com/\n",
    "- endpoints api/v3/datasets/WIKI/AAPL.json\n",
    "- query string ?start_date=1985-05-01&end_date=1997-07-01&order=asc&column_index=4&collapse=quarterly&transformation=rdiff\n",
    "- start_date=1985-05-01&end_date=1997-07-01&order=asc&column_index=4&collapse=quarterly&transformation=rdiff \n",
    "- para are dict\n",
    "- example: \n",
    "https://api.coinbase.com/v2/prices/BTC-USD/buy?format=json\n",
    "\n",
    "- 3 ways to interact with api: browser, postman, python requests lib\n"
   ]
  },
  {
   "cell_type": "markdown",
   "id": "39c3e653-d906-48c3-9c90-7202e2b2c1a8",
   "metadata": {},
   "source": [
    "### 4. some Demos\n",
    "- stripe"
   ]
  },
  {
   "cell_type": "markdown",
   "id": "c1d9680e-b638-4dc5-9c02-a7243978fff3",
   "metadata": {},
   "source": [
    "### 5. case study \n",
    "- your investment thinking partners\n",
    "- Define the Problem high costs generic advice. The solutions: AI,cloud computing, personalized, cost-effective.\n",
    "- freemium model\n",
    "- Define Functionalities For Individual Users: the app provides personalized asset allocation, portfolio construction, and individual stock analysis based on user input and market data. For Business Customers: Offer API access for integrating the app's functionalities (like market analysis, portfolio suggestions) into their own platforms or services.\n",
    "\n",
    "- Function Suppliers (APIs), financial data API\n",
    "- Deployment Options Cloud Providers: AWS, Azure, or Google Cloud\n",
    "- Business Development and Marketing Facebook, Twitter, LinkedIn, and Instagram APIs for targeted marketing and user engagement"
   ]
  },
  {
   "cell_type": "code",
   "execution_count": null,
   "id": "0e656f7e-e230-48cf-9dda-6259d12f634b",
   "metadata": {},
   "outputs": [],
   "source": [
    "# how to serve an api\n",
    "from flask import Flask\n",
    "app = Flask(__name__)\n",
    "@app.route('/')\n",
    "def home():\n",
    "  return \"Welcome to my simple API!\"\n",
    "@app.route('/hello')\n",
    "def hello_world():\n",
    "  return 'Hello, World!'\n",
    "\n",
    "if __name__ == '__main__':\n",
    "  app.run(host='0.0.0.0', port=8080)"
   ]
  },
  {
   "cell_type": "code",
   "execution_count": null,
   "id": "2e4f7b45-4c36-41af-90c7-dbcd2aa1f075",
   "metadata": {},
   "outputs": [],
   "source": [
    "from flask import Flask\n",
    "\n",
    "app = Flask(__name__)\n",
    "\n",
    "\n",
    "@app.route('/')\n",
    "def home():\n",
    "  return \"Welcome to the Financial Advisory App!\"\n",
    "\n",
    "\n",
    "@app.route('/asset-allocation')\n",
    "def asset_allocation():\n",
    "  return \"Warren: put everything in birkshire anything to add? Charlie. Charle: nope\"\n",
    "\n",
    "\n",
    "@app.route('/portfolio-construction')\n",
    "def portfolio_construction():\n",
    "  return \"30% Bonds, 40% stocks, 20% cash, 10% Crypto.\"\n",
    "\n",
    "\n",
    "@app.route('/stock-analysis')\n",
    "def stock_analysis():\n",
    "  return \"Tesla can make your rich or broke\"\n",
    "\n",
    "\n",
    "@app.route('/business-api')\n",
    "def business_api():\n",
    "  return \"Business customer API endpoint.\"\n",
    "\n",
    "\n",
    "@app.route('/user-advice')\n",
    "def user_advice():\n",
    "  return \"Stay from from financial tick tokers.\"\n",
    "\n",
    "\n",
    "if __name__ == '__main__':\n",
    "  app.run(host='0.0.0.0', port=8080)"
   ]
  },
  {
   "cell_type": "markdown",
   "id": "8f25505d-84b4-4afc-80f0-5bb21d3f52a1",
   "metadata": {},
   "source": [
    "### 6 Activity 4, 5"
   ]
  },
  {
   "cell_type": "code",
   "execution_count": null,
   "id": "84400bea-829a-4e53-b6ce-eb81b095decb",
   "metadata": {},
   "outputs": [],
   "source": [
    "import requests\n",
    "import json\n",
    "url = 'https://data.nasdaq.com/api/v3/datasets/WIKI/IBM.json?start_date=1985-05-01&end_date=1997-07-01&order=asc&column_index=4&collapse=quarterly&transformation=rdiff'\n",
    "data = requests.get(url)\n",
    "json_data = data.json()\n",
    "json_data"
   ]
  },
  {
   "cell_type": "code",
   "execution_count": 13,
   "id": "ec18fca8-dd9b-4bb5-934d-3ff420485757",
   "metadata": {
    "tags": []
   },
   "outputs": [
    {
     "name": "stdout",
     "output_type": "stream",
     "text": [
      "http://api.worldbank.org/v2/country/us/indicator/NY.GDP.MKTP.CD?format=json\n"
     ]
    }
   ],
   "source": [
    "url = \"http://api.worldbank.org/v2/country/us/indicator/NY.GDP.MKTP.CD\"\n",
    "url = url + \"?format=json\"\n",
    "print(url)\n",
    "response_data = requests.get(url)\n",
    "data = response_data.json() # 23315080560000,\n",
    "print(data[1][1]['value'])"
   ]
  },
  {
   "cell_type": "markdown",
   "id": "7ad651ea-4b2b-4d1d-a0e5-7fe38ab90ab8",
   "metadata": {
    "tags": []
   },
   "source": [
    "### 7 activity 6, 7"
   ]
  },
  {
   "cell_type": "code",
   "execution_count": 16,
   "id": "aed3a273-3c06-4033-9bb8-ddcb1709376c",
   "metadata": {
    "tags": []
   },
   "outputs": [
    {
     "data": {
      "text/plain": [
       "{'text': '100 is the number of yards in an American football field (not including the end zones).',\n",
       " 'number': 100,\n",
       " 'found': True,\n",
       " 'type': 'trivia'}"
      ]
     },
     "execution_count": 16,
     "metadata": {},
     "output_type": "execute_result"
    }
   ],
   "source": [
    "# Create parameterized url\n",
    "request_url = \"http://numbersapi.com/100?json\"\n",
    "response = requests.get(request_url).json()\n",
    "response"
   ]
  },
  {
   "cell_type": "markdown",
   "id": "53852afb-ddfd-4804-9992-b01430a81262",
   "metadata": {
    "tags": []
   },
   "source": [
    "### Execute the Numbers API for the number 42"
   ]
  },
  {
   "cell_type": "markdown",
   "id": "73927d67-4409-48de-9140-459bc3d53d96",
   "metadata": {},
   "source": [
    "### 8. Challenge Blackjack using api"
   ]
  },
  {
   "cell_type": "code",
   "execution_count": 21,
   "id": "6ae7ba97-b720-44ec-8299-3bcf3df3938e",
   "metadata": {
    "tags": []
   },
   "outputs": [],
   "source": [
    "import requests\n",
    "import json"
   ]
  },
  {
   "cell_type": "code",
   "execution_count": 28,
   "id": "fa7d1c8b-d531-484a-a29d-118652146041",
   "metadata": {
    "tags": []
   },
   "outputs": [],
   "source": [
    "# return the id of the deck\n",
    "def create_deck():\n",
    "    create_deck_url = f\"https://deckofcardsapi.com/api/deck/new/shuffle/?deck_count=1\"\n",
    "    response = requests.get(create_deck_url).json()\n",
    "    return response.get('deck_id', None)\n"
   ]
  },
  {
   "cell_type": "code",
   "execution_count": 29,
   "id": "257bfb4f-910b-4163-aa0c-6a8f0b29c291",
   "metadata": {
    "tags": []
   },
   "outputs": [],
   "source": [
    "# return a list of cards\n",
    "def draw_cards(deck_id, count = 2):\n",
    "    draw_cards_url = f\"https://deckofcardsapi.com/api/deck/{deck_id}/draw/?count={count}\"\n",
    "    response = requests.get(draw_cards_url).json()\n",
    "    # print(response)\n",
    "    return [(card['code']) for card in response.get('cards', [])]\n"
   ]
  },
  {
   "cell_type": "code",
   "execution_count": 30,
   "id": "73aac1fe-bdff-4463-9154-27b5390bfc26",
   "metadata": {
    "tags": []
   },
   "outputs": [],
   "source": [
    "# calculate the points of the list of cards.\n",
    "def calculate_points(cards):\n",
    "    \n",
    "    values = {'2': 2, '3': 3, '4': 4, '5': 5, '6': 6, '7': 7, '8': 8, '9': 9, '0': 10,\n",
    "              'J': 10, 'Q': 10, 'K': 10, 'A': 11}\n",
    "\n",
    "    total_points = 0\n",
    "    ace_count = 0\n",
    "\n",
    "    for card in cards:\n",
    "        total_points += values[card[0]]\n",
    "        if card[0] == 'A':\n",
    "            ace_count += 1\n",
    "\n",
    "    # Adjust for Aces if total points exceed 21\n",
    "    while total_points > 21 and ace_count:\n",
    "        total_points -= 10\n",
    "        ace_count -= 1\n",
    "\n",
    "    return total_points"
   ]
  },
  {
   "cell_type": "code",
   "execution_count": null,
   "id": "4c2168dd-e416-4681-9056-2e411805e1c6",
   "metadata": {},
   "outputs": [],
   "source": []
  },
  {
   "cell_type": "code",
   "execution_count": 31,
   "id": "def3bedc-8a52-49b7-bb2c-0d0cba323253",
   "metadata": {
    "tags": []
   },
   "outputs": [],
   "source": [
    "def determine_winner(player1_cards, player2_cards):\n",
    "    player1_points = calulate_points(player1_cards)\n",
    "    player2_points = calulate_points(player2_cards)\n",
    "    \n",
    "    if player1_points > 21:\n",
    "        return \"Player 2 wins!\"\n",
    "    elif player2_points > 21:\n",
    "        return \"Player 1 wins!\"\n",
    "    elif player1_points >  player2_points or player1_points == 21:\n",
    "        return \"Player 1 wins!\"\n",
    "    elif player2_points >  player1_points or player2_points == 21:\n",
    "        return \"Player 2 wins!\"\n",
    "    else:\n",
    "        return \"Tie\"\n",
    "    "
   ]
  },
  {
   "cell_type": "code",
   "execution_count": 32,
   "id": "3096f38e-a9a3-4a90-b00a-c82be6968d64",
   "metadata": {
    "tags": []
   },
   "outputs": [],
   "source": [
    "def play_blackjack(player1_name, player2_name):\n",
    "    deck_id = create_deck()\n",
    "    # Draw initial two cards for each player\n",
    "    player1_cards = draw_cards(deck_id)\n",
    "    player2_cards = draw_cards(deck_id)\n",
    "    print(f\"{player1_name}'s initial cards: {player1_cards}\")\n",
    "    print(f\"{player2_name}'s initial cards: {player2_cards}\")\n",
    "\n",
    "    # Player 1's turn\n",
    "    while calculate_points(player1_cards) < 21:\n",
    "        choice = input(f\"{player1_name}, do you want to draw another card? (yes/no): \").lower()\n",
    "        if choice == 'yes':\n",
    "            player1_cards.extend(draw_cards(deck_id, count = 1))\n",
    "            print(f\"{player1_name}'s cards: {player1_cards}\")\n",
    "        else:\n",
    "            print(f\"{player1_name} stands.\")\n",
    "            break\n",
    "\n",
    "    # Player 2's turn\n",
    "    while calculate_points(player2_cards) < 21:\n",
    "        choice = input(f\"{player2_name}, do you want to draw another card? (yes/no): \").lower()\n",
    "        if choice == 'yes':\n",
    "            player2_cards.extend(draw_cards(deck_id, count = 1))\n",
    "            print(f\"{player2_name}'s cards: {player2_cards}\")\n",
    "        else:\n",
    "            print(f\"{player2_name} stands.\")\n",
    "            break\n",
    "\n",
    "    result = determine_winner(player1_cards, player2_cards)\n",
    "    if result == 'Player 1 wins!':\n",
    "        print(f\"{player1_name} wins\")\n",
    "    elif result == 'Player 2 wins!':\n",
    "        print(f\"{player2_name} wins\")\n",
    "    else:\n",
    "        print('tie')\n"
   ]
  },
  {
   "cell_type": "code",
   "execution_count": 34,
   "id": "dc0b16ad-8a0b-46d9-8836-88e7af3549ad",
   "metadata": {
    "tags": []
   },
   "outputs": [
    {
     "name": "stdout",
     "output_type": "stream",
     "text": [
      "Venkata's initial cards: ['0D', 'JH']\n",
      "Nikhil's initial cards: ['4S', '9D']\n"
     ]
    },
    {
     "name": "stdin",
     "output_type": "stream",
     "text": [
      "Venkata, do you want to draw another card? (yes/no):  no\n"
     ]
    },
    {
     "name": "stdout",
     "output_type": "stream",
     "text": [
      "Venkata stands.\n"
     ]
    },
    {
     "name": "stdin",
     "output_type": "stream",
     "text": [
      "Nikhil, do you want to draw another card? (yes/no):  yes\n"
     ]
    },
    {
     "name": "stdout",
     "output_type": "stream",
     "text": [
      "Nikhil's cards: ['4S', '9D', '9S']\n",
      "Venkata wins\n"
     ]
    }
   ],
   "source": [
    "play_blackjack('Venkata','Nikhil')"
   ]
  },
  {
   "cell_type": "code",
   "execution_count": null,
   "id": "233c5f86-3f76-4f96-a246-ec4da5616dc2",
   "metadata": {},
   "outputs": [],
   "source": []
  }
 ],
 "metadata": {
  "kernelspec": {
   "display_name": "Python 3 (ipykernel)",
   "language": "python",
   "name": "python3"
  },
  "language_info": {
   "codemirror_mode": {
    "name": "ipython",
    "version": 3
   },
   "file_extension": ".py",
   "mimetype": "text/x-python",
   "name": "python",
   "nbconvert_exporter": "python",
   "pygments_lexer": "ipython3",
   "version": "3.11.5"
  }
 },
 "nbformat": 4,
 "nbformat_minor": 5
}
