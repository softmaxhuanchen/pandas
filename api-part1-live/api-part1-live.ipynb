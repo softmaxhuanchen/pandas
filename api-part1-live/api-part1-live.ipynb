{
 "cells": [
  {
   "cell_type": "markdown",
   "id": "2dfdca11-d212-4720-af5a-17992322d229",
   "metadata": {},
   "source": [
    "### 1. api introduction\n",
    "- what is api?\n",
    "- what problem does it solve?\n",
    "\n"
   ]
  },
  {
   "cell_type": "markdown",
   "id": "dd852328-a4fa-4277-9d77-3773c0cef6af",
   "metadata": {},
   "source": [
    "### 2. some insights: \n",
    "- client/server vs business/customer\n",
    "- function call and message passing\n",
    "- Web, digital economy, 24/7, without distance"
   ]
  },
  {
   "cell_type": "markdown",
   "id": "ee4708d1-51c0-4f14-8346-9669e05a0002",
   "metadata": {},
   "source": [
    "### 3. some concepts\n",
    "- URL\n",
    "- endpoints\n",
    "- query string\n",
    "- example: \n",
    "1. https:// - HyperText Transfer Protocol\n",
    "2. domain name\n",
    "3. /path, resource\n",
    "4. ?query=value - Key value (dict) &\n",
    "- json\n",
    "- 3 ways to interactive with api providers: browser, postman, python requests lib\n"
   ]
  },
  {
   "cell_type": "markdown",
   "id": "39c3e653-d906-48c3-9c90-7202e2b2c1a8",
   "metadata": {},
   "source": [
    "### 4. some Demos\n",
    "- world bank\n",
    "- nasdaq\n",
    "- stripe\n",
    "- open AI"
   ]
  },
  {
   "cell_type": "markdown",
   "id": "c1d9680e-b638-4dc5-9c02-a7243978fff3",
   "metadata": {},
   "source": [
    "### 5. case study \n",
    "- your investment thinking partners\n",
    "1. Define the Problem\n",
    "high costs generic advice. The solutions: AI,cloud computing, personalized, cost-effective.\n",
    "2. Define the Business Model\n",
    "freemium model, B2B services, offering API access to other businesses.\n",
    "3. Define Functionalities\n",
    "For Individual Users: The app provides personalized asset allocation, portfolio construction, and individual stock analysis based on user input and market data.\n",
    "For Business Customers: Offer API access for integrating the app's functionalities (like market analysis, portfolio suggestions) into their own platforms or services.\n",
    "4. Function Suppliers (APIs)\n",
    "Financial Data APIs.\n",
    "OpenAI's API\n",
    "5. Deployment Options\n",
    "Cloud Providers: AWS, Azure, or Google Cloud\n",
    "6. Business Development and Marketing\n",
    "Facebook, Twitter, LinkedIn, and Instagram APIs for targeted marketing and user engagement."
   ]
  },
  {
   "cell_type": "code",
   "execution_count": null,
   "id": "cca2a5e5-236c-44f3-8676-6db4a08d0050",
   "metadata": {},
   "outputs": [],
   "source": [
    "# how to serve an api\n",
    "from flask import Flask\n",
    "\n",
    "app = Flask(__name__)\n",
    "\n",
    "@app.route('/')\n",
    "def home():\n",
    "    return \"Welcome to my simple API!\"\n",
    "\n",
    "@app.route('/hello')\n",
    "def hello_world():\n",
    "    return 'Hello, World!'\n",
    "\n",
    "if __name__ == '__main__':\n",
    "    app.run(host='0.0.0.0', port=8080)"
   ]
  },
  {
   "cell_type": "code",
   "execution_count": null,
   "id": "57861ddd-98fa-443a-a9a2-c217862cb552",
   "metadata": {},
   "outputs": [],
   "source": [
    "from flask import Flask\n",
    "\n",
    "app = Flask(__name__)\n",
    "\n",
    "\n",
    "@app.route('/')\n",
    "def home():\n",
    "  return \"Welcome to the Financial Advisory App!\"\n",
    "\n",
    "\n",
    "@app.route('/asset-allocation')\n",
    "def asset_allocation():\n",
    "  return \"Warren: put everything in birkshire anything to add? Charlie. Charle: nope\"\n",
    "\n",
    "\n",
    "@app.route('/portfolio-construction')\n",
    "def portfolio_construction():\n",
    "  return \"30% Bonds, 40% stocks, 20% cash, 10% Crypto.\"\n",
    "\n",
    "\n",
    "@app.route('/stock-analysis')\n",
    "def stock_analysis():\n",
    "  return \"Tesla can make your rich or broke\"\n",
    "\n",
    "\n",
    "@app.route('/business-api')\n",
    "def business_api():\n",
    "  return \"Business customer API endpoint.\"\n",
    "\n",
    "\n",
    "@app.route('/user-advice')\n",
    "def user_advice():\n",
    "  return \"Stay from from financial tick tokers.\"\n",
    "\n",
    "\n",
    "if __name__ == '__main__':\n",
    "  app.run(host='0.0.0.0', port=8080)"
   ]
  },
  {
   "cell_type": "markdown",
   "id": "8f25505d-84b4-4afc-80f0-5bb21d3f52a1",
   "metadata": {},
   "source": [
    "### 6 Activity 4, 5"
   ]
  },
  {
   "cell_type": "code",
   "execution_count": null,
   "id": "84400bea-829a-4e53-b6ce-eb81b095decb",
   "metadata": {},
   "outputs": [],
   "source": [
    "import requests"
   ]
  },
  {
   "cell_type": "code",
   "execution_count": null,
   "id": "d9cc7ccd-59c1-4397-b718-301a1c625151",
   "metadata": {},
   "outputs": [],
   "source": [
    "# Create variable to hold request url\n",
    "url = \"http://api.worldbank.org/v2/country/us/indicator/NY.GDP.MKTP.CD\""
   ]
  },
  {
   "cell_type": "code",
   "execution_count": null,
   "id": "3da6539e-2a9e-4aa8-9c40-107eb896162a",
   "metadata": {},
   "outputs": [],
   "source": [
    "# Add format specifier to request url\n",
    "url = url + \"?format=json\""
   ]
  },
  {
   "cell_type": "markdown",
   "id": "aafbded2-eecb-463a-b71f-876ac74c3f2e",
   "metadata": {},
   "source": [
    "### Execute GET request with URL"
   ]
  },
  {
   "cell_type": "code",
   "execution_count": null,
   "id": "5a6f01fa-a351-4afc-9286-34427d9b7e76",
   "metadata": {},
   "outputs": [],
   "source": [
    "# Execute get request\n",
    "requests.get(url)"
   ]
  },
  {
   "cell_type": "markdown",
   "id": "9afd834a-2a2a-4042-8a81-642162fd76e6",
   "metadata": {},
   "source": [
    "### Store response as variable"
   ]
  },
  {
   "cell_type": "code",
   "execution_count": null,
   "id": "fbd3760b-783a-4a3f-9dbd-35fc82598b5f",
   "metadata": {},
   "outputs": [],
   "source": [
    "# Execute GET request and store response\n",
    "response_data = requests.get(url)"
   ]
  },
  {
   "cell_type": "markdown",
   "id": "84cc0964-909f-4600-819c-a73177976912",
   "metadata": {},
   "source": [
    "### Retrieve API output using `content` attribute"
   ]
  },
  {
   "cell_type": "code",
   "execution_count": null,
   "id": "ea932ecb-b540-41fb-adb3-698f6214365f",
   "metadata": {},
   "outputs": [],
   "source": [
    "# Get content\n",
    "response_content = response_data.content\n",
    "print(response_content)"
   ]
  },
  {
   "cell_type": "markdown",
   "id": "0ee5e821-4752-45bb-8d26-cfb080005743",
   "metadata": {},
   "source": [
    "### Use `json` function from `json` library to format"
   ]
  },
  {
   "cell_type": "code",
   "execution_count": null,
   "id": "9e9109fd-043d-42ed-8e0b-cb2d8db963b4",
   "metadata": {},
   "outputs": [],
   "source": [
    "import json\n",
    "\n",
    "# Formatting as json\n",
    "data = response_data.json()\n",
    "data"
   ]
  },
  {
   "cell_type": "markdown",
   "id": "99a2fbc3-0e75-4d06-9d43-2ded48ceb0c8",
   "metadata": {},
   "source": [
    "### Format JSON with indents"
   ]
  },
  {
   "cell_type": "code",
   "execution_count": null,
   "id": "8846655c-3c2d-4f8d-b064-13ecef2d41a7",
   "metadata": {},
   "outputs": [],
   "source": [
    "# Add indents to JSON and output to screen\n",
    "print(json.dumps(data, indent=4))"
   ]
  },
  {
   "cell_type": "markdown",
   "id": "ebb64120-3604-4825-aef5-326557d08671",
   "metadata": {},
   "source": [
    "### Identify country and GDP value for second row"
   ]
  },
  {
   "cell_type": "code",
   "execution_count": null,
   "id": "3afbb5cd-2cfe-40fa-9150-4724ee74e06d",
   "metadata": {},
   "outputs": [],
   "source": [
    "# Select country and GDP value for second row\n",
    "country = data[1][1]['country']['value']\n",
    "gdp_value = data[1][1]['value']\n",
    "\n",
    "print(\"Country: \" + country)\n",
    "print(\"GDP Value: \" + str(gdp_value))"
   ]
  },
  {
   "cell_type": "markdown",
   "id": "7ad651ea-4b2b-4d1d-a0e5-7fe38ab90ab8",
   "metadata": {
    "tags": []
   },
   "source": [
    "### 7 activity 6, 7"
   ]
  },
  {
   "cell_type": "markdown",
   "id": "53852afb-ddfd-4804-9992-b01430a81262",
   "metadata": {},
   "source": [
    "### Execute the Numbers API for the number 42"
   ]
  },
  {
   "cell_type": "code",
   "execution_count": null,
   "id": "356d1c83-22cb-45c3-9a9e-a34e2c0e02e1",
   "metadata": {},
   "outputs": [],
   "source": [
    "import requests\n",
    "import json\n",
    "\n",
    "# Create parameterized url\n",
    "request_url = \"http://numbersapi.com/42?json\"\n",
    "\n",
    "# Submit request and format output\n",
    "response_data = requests.get(request_url).json()\n",
    "print(json.dumps(response_data, indent=4))\n",
    "\n",
    "\n",
    "# Select fact \n",
    "response_data['text']"
   ]
  },
  {
   "cell_type": "markdown",
   "id": "2578d230-07f2-4d14-8071-c9caabf1d93f",
   "metadata": {},
   "source": [
    "### Execute the Numbers API for the number 8"
   ]
  },
  {
   "cell_type": "code",
   "execution_count": null,
   "id": "f7879ceb-f409-461f-a9e8-b3930965b0b7",
   "metadata": {},
   "outputs": [],
   "source": [
    "# Create parameterized url\n",
    "request_url = \"http://numbersapi.com/8?json\"\n",
    "\n",
    "# Submit request and format output\n",
    "response_data = requests.get(request_url).json()\n",
    "print(json.dumps(response_data, indent=4))\n",
    "\n",
    "# Select fact\n",
    "response_data['text']"
   ]
  },
  {
   "cell_type": "markdown",
   "id": "1b1d20a8-3bb2-4e30-bcf5-68aeb3d6e23d",
   "metadata": {},
   "source": [
    "### Challenge Blackjack using api"
   ]
  },
  {
   "cell_type": "code",
   "execution_count": null,
   "id": "0ebaeb2e-a48c-4afc-bb90-71e5d4f40a13",
   "metadata": {
    "tags": []
   },
   "outputs": [],
   "source": [
    "import requests\n",
    "import json\n",
    "def create_deck(deck_count=6):\n",
    "    create_deck_url = f\"https://deckofcardsapi.com/api/deck/new/shuffle/?deck_count={deck_count}\"\n",
    "    response = requests.get(create_deck_url).json()\n",
    "    # print(response)\n",
    "    return response.get('deck_id', None)\n",
    "create_deck()"
   ]
  },
  {
   "cell_type": "code",
   "execution_count": null,
   "id": "cb6f0d13-1ea7-4b90-9dd5-c9cf3b45ffd9",
   "metadata": {
    "tags": []
   },
   "outputs": [],
   "source": [
    "def draw_cards(deck_id, count=2):\n",
    "    draw_cards_url = f\"https://deckofcardsapi.com/api/deck/{deck_id}/draw/?count={count}\"\n",
    "    response = requests.get(draw_cards_url).json()\n",
    "    # print(response)\n",
    "    return [(card['code']) for card in response.get('cards', [])]\n",
    "draw_cards('hgjn9se22d92')"
   ]
  },
  {
   "cell_type": "code",
   "execution_count": null,
   "id": "8a874e26-289f-4a41-baf6-6e2da51cecde",
   "metadata": {
    "tags": []
   },
   "outputs": [],
   "source": [
    "def shuffle_deck(deck_id):\n",
    "    shuffle_deck_url = f\"https://deckofcardsapi.com/api/deck/{deck_id}/shuffle/\"\n",
    "    requests.get(shuffle_deck_url)"
   ]
  },
  {
   "cell_type": "code",
   "execution_count": null,
   "id": "45654802-2f3e-449a-bb4e-baa9a8013488",
   "metadata": {
    "tags": []
   },
   "outputs": [],
   "source": [
    "def calculate_points(cards):\n",
    "    values = {'2': 2, '3': 3, '4': 4, '5': 5, '6': 6, '7': 7, '8': 8, '9': 9, '0': 10,\n",
    "              'J': 10, 'Q': 10, 'K': 10, 'A': 11}\n",
    "\n",
    "    total_points = 0\n",
    "    ace_count = 0\n",
    "\n",
    "    for card in cards:\n",
    "        total_points += values[card[0]]\n",
    "        if card[0] == 'A':\n",
    "            ace_count += 1\n",
    "\n",
    "    # Adjust for Aces if total points exceed 21\n",
    "    while total_points > 21 and ace_count:\n",
    "        total_points -= 10\n",
    "        ace_count -= 1\n",
    "\n",
    "    return total_points"
   ]
  },
  {
   "cell_type": "code",
   "execution_count": null,
   "id": "c5bfbb84-2cb9-462d-8ece-9361167bda46",
   "metadata": {
    "tags": []
   },
   "outputs": [],
   "source": [
    "def determine_winner(player1_cards, player2_cards):\n",
    "    player1_points = calculate_points(player1_cards)\n",
    "    player2_points = calculate_points(player2_cards)\n",
    "\n",
    "    if player1_points > 21:\n",
    "        return \"Player 2 wins!\"\n",
    "    elif player2_points > 21:\n",
    "        return \"Player 1 wins!\"\n",
    "    elif player1_points > player2_points:\n",
    "        return \"Player 1 wins!\"\n",
    "    elif player2_points > player1_points:\n",
    "        return \"Player 2 wins!\"\n",
    "    else:\n",
    "        return \"It's a tie!\""
   ]
  },
  {
   "cell_type": "code",
   "execution_count": 37,
   "id": "5706603d-0b70-42cf-ad25-b23db607c289",
   "metadata": {
    "tags": []
   },
   "outputs": [
    {
     "name": "stdout",
     "output_type": "stream",
     "text": [
      "alice's initial cards: ['7H', '0C']\n",
      "bob's initial cards: ['9D', '5S']\n"
     ]
    },
    {
     "name": "stdin",
     "output_type": "stream",
     "text": [
      "alice, do you want to draw another card? (yes/no):  yes\n"
     ]
    },
    {
     "name": "stdout",
     "output_type": "stream",
     "text": [
      "alice's cards: ['7H', '0C', '8D']\n"
     ]
    },
    {
     "name": "stdin",
     "output_type": "stream",
     "text": [
      "bob, do you want to draw another card? (yes/no):  no\n"
     ]
    },
    {
     "name": "stdout",
     "output_type": "stream",
     "text": [
      "bob stands.\n",
      "bob wins\n"
     ]
    }
   ],
   "source": [
    "def play_blackjack(player1_name, player2_name):\n",
    "    deck_id = create_deck()\n",
    "    shuffle_deck(deck_id)\n",
    "\n",
    "    # Draw initial two cards for each player\n",
    "    player1_cards = draw_cards(deck_id)\n",
    "    player2_cards = draw_cards(deck_id)\n",
    "    print(f\"{player1_name}'s initial cards: {player1_cards}\")\n",
    "    print(f\"{player2_name}'s initial cards: {player2_cards}\")\n",
    "\n",
    "    # Player 1's turn\n",
    "    while calculate_points(player1_cards) < 21:\n",
    "        choice = input(f\"{player1_name}, do you want to draw another card? (yes/no): \").lower()\n",
    "        if choice == 'yes':\n",
    "            player1_cards.extend(draw_cards(deck_id, count = 1))\n",
    "            print(f\"{player1_name}'s cards: {player1_cards}\")\n",
    "        else:\n",
    "            print(f\"{player1_name} stands.\")\n",
    "            break\n",
    "\n",
    "    # Player 2's turn\n",
    "    while calculate_points(player2_cards) < 21:\n",
    "        choice = input(f\"{player2_name}, do you want to draw another card? (yes/no): \").lower()\n",
    "        if choice == 'yes':\n",
    "            player2_cards.extend(draw_cards(deck_id, count = 1))\n",
    "            print(f\"{player2_name}'s cards: {player2_cards}\")\n",
    "        else:\n",
    "            print(f\"{player2_name} stands.\")\n",
    "            break\n",
    "\n",
    "    result = determine_winner(player1_cards, player2_cards)\n",
    "    if result == 'Player 1 wins!':\n",
    "        print(f\"{player1_name} wins\")\n",
    "    elif result == 'Player 2 wins!':\n",
    "        print(f\"{player2_name} wins\")\n",
    "    else:\n",
    "        print('tie')\n",
    "\n",
    "\n",
    "play_blackjack('alice','bob')"
   ]
  },
  {
   "cell_type": "code",
   "execution_count": null,
   "id": "55b16bfe-c74e-47e2-bc0a-88e55fe67b7b",
   "metadata": {},
   "outputs": [],
   "source": []
  }
 ],
 "metadata": {
  "kernelspec": {
   "display_name": "Python 3 (ipykernel)",
   "language": "python",
   "name": "python3"
  },
  "language_info": {
   "codemirror_mode": {
    "name": "ipython",
    "version": 3
   },
   "file_extension": ".py",
   "mimetype": "text/x-python",
   "name": "python",
   "nbconvert_exporter": "python",
   "pygments_lexer": "ipython3",
   "version": "3.11.5"
  }
 },
 "nbformat": 4,
 "nbformat_minor": 5
}
