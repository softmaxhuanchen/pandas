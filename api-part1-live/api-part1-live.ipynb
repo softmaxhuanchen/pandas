{
 "cells": [
  {
   "cell_type": "markdown",
   "id": "2dfdca11-d212-4720-af5a-17992322d229",
   "metadata": {},
   "source": [
    "### 1. api introduction\n",
    "- what is api? api a func call. func located in a different env. \n",
    "- what problem does it solve? by sending a message. states are not good. message should be stateless. RESTful api"
   ]
  },
  {
   "cell_type": "markdown",
   "id": "dd852328-a4fa-4277-9d77-3773c0cef6af",
   "metadata": {
    "jp-MarkdownHeadingCollapsed": true,
    "tags": []
   },
   "source": [
    "### 2. some insights: \n",
    "- client/server is like business/customer. API. 24/7. 0 distance\n",
    "- function call with messaging passing\n",
    "- web, digital economy\n"
   ]
  },
  {
   "cell_type": "markdown",
   "id": "ee4708d1-51c0-4f14-8346-9669e05a0002",
   "metadata": {},
   "source": [
    "### 3. some concepts\n",
    "https://data.nasdaq.com/api/v3/datasets/WIKI/AAPL.json?start_date=1985-05-01&end_date=1997-07-01&order=asc&column_index=4&collapse=quarterly&transformation=rdiff\n",
    "- URL https://data.nasdaq.com/\n",
    "- endpoints api/v3/datasets/WIKI/AAPL.json\n",
    "- query string ?start_date=1985-05-01&end_date=1997-07-01&order=asc&column_index=4&collapse=quarterly&transformation=rdiff\n",
    "- start_date=1985-05-01&end_date=1997-07-01&order=asc&column_index=4&collapse=quarterly&transformation=rdiff \n",
    "- para are dict\n",
    "- example: \n",
    "https://api.coinbase.com/v2/prices/BTC-USD/buy?format=json\n",
    "\n",
    "- 3 ways to interact with api: browser, postman, python requests lib\n"
   ]
  },
  {
   "cell_type": "markdown",
   "id": "39c3e653-d906-48c3-9c90-7202e2b2c1a8",
   "metadata": {},
   "source": [
    "### 4. some Demos\n",
    "- stripe"
   ]
  },
  {
   "cell_type": "markdown",
   "id": "c1d9680e-b638-4dc5-9c02-a7243978fff3",
   "metadata": {},
   "source": [
    "### 5. case study \n",
    "- your investment thinking partners\n",
    "- Define the Problem high costs generic advice. The solutions: AI,cloud computing, personalized, cost-effective.\n",
    "- freemium model\n",
    "- Define Functionalities For Individual Users: the app provides personalized asset allocation, portfolio construction, and individual stock analysis based on user input and market data. For Business Customers: Offer API access for integrating the app's functionalities (like market analysis, portfolio suggestions) into their own platforms or services.\n",
    "\n",
    "- Function Suppliers (APIs), financial data API\n",
    "- Deployment Options Cloud Providers: AWS, Azure, or Google Cloud\n",
    "- Business Development and Marketing Facebook, Twitter, LinkedIn, and Instagram APIs for targeted marketing and user engagement"
   ]
  },
  {
   "cell_type": "code",
   "execution_count": null,
   "id": "0e656f7e-e230-48cf-9dda-6259d12f634b",
   "metadata": {},
   "outputs": [],
   "source": [
    "# how to serve an api\n",
    "from flask import Flask\n",
    "app = Flask(__name__)\n",
    "@app.route('/')\n",
    "def home():\n",
    "  return \"Welcome to my simple API!\"\n",
    "@app.route('/hello')\n",
    "def hello_world():\n",
    "  return 'Hello, World!'\n",
    "\n",
    "if __name__ == '__main__':\n",
    "  app.run(host='0.0.0.0', port=8080)"
   ]
  },
  {
   "cell_type": "code",
   "execution_count": null,
   "id": "2e4f7b45-4c36-41af-90c7-dbcd2aa1f075",
   "metadata": {},
   "outputs": [],
   "source": [
    "from flask import Flask\n",
    "\n",
    "app = Flask(__name__)\n",
    "\n",
    "\n",
    "@app.route('/')\n",
    "def home():\n",
    "  return \"Welcome to the Financial Advisory App!\"\n",
    "\n",
    "\n",
    "@app.route('/asset-allocation')\n",
    "def asset_allocation():\n",
    "  return \"Warren: put everything in birkshire anything to add? Charlie. Charle: nope\"\n",
    "\n",
    "\n",
    "@app.route('/portfolio-construction')\n",
    "def portfolio_construction():\n",
    "  return \"30% Bonds, 40% stocks, 20% cash, 10% Crypto.\"\n",
    "\n",
    "\n",
    "@app.route('/stock-analysis')\n",
    "def stock_analysis():\n",
    "  return \"Tesla can make your rich or broke\"\n",
    "\n",
    "\n",
    "@app.route('/business-api')\n",
    "def business_api():\n",
    "  return \"Business customer API endpoint.\"\n",
    "\n",
    "\n",
    "@app.route('/user-advice')\n",
    "def user_advice():\n",
    "  return \"Stay from from financial tick tokers.\"\n",
    "\n",
    "\n",
    "if __name__ == '__main__':\n",
    "  app.run(host='0.0.0.0', port=8080)"
   ]
  },
  {
   "cell_type": "markdown",
   "id": "8f25505d-84b4-4afc-80f0-5bb21d3f52a1",
   "metadata": {},
   "source": [
    "### 6 Activity 4, 5"
   ]
  },
  {
   "cell_type": "code",
   "execution_count": null,
   "id": "84400bea-829a-4e53-b6ce-eb81b095decb",
   "metadata": {},
   "outputs": [],
   "source": [
    "import requests"
   ]
  },
  {
   "cell_type": "markdown",
   "id": "7ad651ea-4b2b-4d1d-a0e5-7fe38ab90ab8",
   "metadata": {
    "tags": []
   },
   "source": [
    "### 7 activity 6, 7"
   ]
  },
  {
   "cell_type": "markdown",
   "id": "53852afb-ddfd-4804-9992-b01430a81262",
   "metadata": {},
   "source": [
    "### Execute the Numbers API for the number 42"
   ]
  },
  {
   "cell_type": "markdown",
   "id": "73927d67-4409-48de-9140-459bc3d53d96",
   "metadata": {},
   "source": [
    "### 8. Challenge Blackjack using api"
   ]
  },
  {
   "cell_type": "code",
   "execution_count": null,
   "id": "6ae7ba97-b720-44ec-8299-3bcf3df3938e",
   "metadata": {},
   "outputs": [],
   "source": []
  }
 ],
 "metadata": {
  "kernelspec": {
   "display_name": "Python 3 (ipykernel)",
   "language": "python",
   "name": "python3"
  },
  "language_info": {
   "codemirror_mode": {
    "name": "ipython",
    "version": 3
   },
   "file_extension": ".py",
   "mimetype": "text/x-python",
   "name": "python",
   "nbconvert_exporter": "python",
   "pygments_lexer": "ipython3",
   "version": "3.11.5"
  }
 },
 "nbformat": 4,
 "nbformat_minor": 5
}
