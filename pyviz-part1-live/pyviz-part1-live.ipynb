{
 "cells": [
  {
   "cell_type": "markdown",
   "id": "e173dc7b-48c5-4b97-8a2b-132f4b8a1f8d",
   "metadata": {},
   "source": [
    "## conda virtual env\n",
    "1. why create virtual env? \n",
    "2. commands\n",
    "- conda env list\n",
    "- conda deactivate \n",
    "- conda create -n pyviz anaconda\n",
    "- conda activate pyviz\n",
    "3. [reference link](https://github.com/softmaxhuanchen/Python-Dependency-Troubleshooting/blob/main/README.md)\n",
    "4. install pyviz lib\n",
    "- conda activate pyviz\n",
    "- conda install -c pyviz hvplot geoviews"
   ]
  },
  {
   "cell_type": "markdown",
   "id": "a7c15605-2e65-4d8f-972b-fc7bbd16a44b",
   "metadata": {},
   "source": [
    "### Activity 1"
   ]
  },
  {
   "cell_type": "markdown",
   "id": "fa3a8094-fc2e-416e-a5fe-bfdef6263eee",
   "metadata": {},
   "source": [
    "## hvplot using synthetic data\n",
    "[hvplot doc](https://hvplot.holoviz.org/user_guide/Introduction.html)"
   ]
  },
  {
   "cell_type": "code",
   "execution_count": null,
   "id": "7d4c87a0-a6e3-4ac8-ab22-11eeb5b498ae",
   "metadata": {
    "tags": []
   },
   "outputs": [],
   "source": [
    "# Import the required libraries and dependencies\n",
    "import numpy as np\n",
    "import pandas as pd\n",
    "\n",
    "# Import the hvPlot library\n",
    "import hvplot.pandas\n",
    "\n",
    "n = np.random.randn(52,4) # 2d array. \n",
    "n.shape\n",
    "\n",
    "idx = pd.date_range('1/1/2023', periods = 52, freq=\"W\")\n",
    "\n"
   ]
  },
  {
   "cell_type": "code",
   "execution_count": null,
   "id": "3cc15118-5abf-48c7-86f1-94d35081dafe",
   "metadata": {
    "tags": []
   },
   "outputs": [],
   "source": [
    "df = pd.DataFrame(np.random.randn(52,4), index = idx, columns = (\"AAPL\",\"META\",\"TLSA\",\"Navida\"))\n",
    "df1 = df.pct_change()\n",
    "df1 = df1.iloc[1:]\n",
    "df1"
   ]
  },
  {
   "cell_type": "code",
   "execution_count": null,
   "id": "1df3944c-1ddd-4dad-8c0d-1bb3de52eff0",
   "metadata": {
    "tags": []
   },
   "outputs": [],
   "source": [
    "df1.plot()"
   ]
  },
  {
   "cell_type": "code",
   "execution_count": null,
   "id": "dc16be27-21bf-4388-8abd-53a092edbdd4",
   "metadata": {
    "tags": []
   },
   "outputs": [],
   "source": [
    "hvplot.extension('bokeh')\n",
    "df1.hvplot.scatter()"
   ]
  },
  {
   "cell_type": "markdown",
   "id": "87dc5f59-5164-4751-bc1f-4ee12baaad08",
   "metadata": {},
   "source": [
    "### story telling using pyviz\n",
    "1. preparing the dfs (story)\n",
    "2. check dfs\n",
    "3. hvplot()"
   ]
  },
  {
   "cell_type": "code",
   "execution_count": null,
   "id": "05ed1b77-8245-4e83-8759-d51dfdc41feb",
   "metadata": {},
   "outputs": [],
   "source": [
    "import numpy as np\n",
    "import pandas as pd\n",
    "\n",
    "# Import the hvPlot library\n",
    "import hvplot.pandas"
   ]
  },
  {
   "cell_type": "code",
   "execution_count": 20,
   "id": "1c7a16f1-a346-4aab-a035-7ac6333c143a",
   "metadata": {
    "tags": []
   },
   "outputs": [
    {
     "data": {
      "text/html": [
       "<div>\n",
       "<style scoped>\n",
       "    .dataframe tbody tr th:only-of-type {\n",
       "        vertical-align: middle;\n",
       "    }\n",
       "\n",
       "    .dataframe tbody tr th {\n",
       "        vertical-align: top;\n",
       "    }\n",
       "\n",
       "    .dataframe thead th {\n",
       "        text-align: right;\n",
       "    }\n",
       "</style>\n",
       "<table border=\"1\" class=\"dataframe\">\n",
       "  <thead>\n",
       "    <tr style=\"text-align: right;\">\n",
       "      <th></th>\n",
       "      <th>means</th>\n",
       "      <th>stds</th>\n",
       "    </tr>\n",
       "  </thead>\n",
       "  <tbody>\n",
       "    <tr>\n",
       "      <th>AAPL</th>\n",
       "      <td>100</td>\n",
       "      <td>20</td>\n",
       "    </tr>\n",
       "    <tr>\n",
       "      <th>GOOG</th>\n",
       "      <td>130</td>\n",
       "      <td>25</td>\n",
       "    </tr>\n",
       "    <tr>\n",
       "      <th>MSFT</th>\n",
       "      <td>200</td>\n",
       "      <td>15</td>\n",
       "    </tr>\n",
       "    <tr>\n",
       "      <th>Meta</th>\n",
       "      <td>300</td>\n",
       "      <td>35</td>\n",
       "    </tr>\n",
       "  </tbody>\n",
       "</table>\n",
       "</div>"
      ],
      "text/plain": [
       "      means  stds\n",
       "AAPL    100    20\n",
       "GOOG    130    25\n",
       "MSFT    200    15\n",
       "Meta    300    35"
      ]
     },
     "execution_count": 20,
     "metadata": {},
     "output_type": "execute_result"
    }
   ],
   "source": [
    "idx = pd.date_range('1/1/2023', periods = 52, freq=\"W\")\n",
    "stocks = ['AAPL', 'GOOG', 'MSFT', 'Meta']\n",
    "stats_dict = {'means': [100, 130, 200, 300], 'stds': [20, 25, 15,35]}\n",
    "df_stats = pd.DataFrame(stats_dict, index = stocks)\n",
    "df_stats"
   ]
  },
  {
   "cell_type": "code",
   "execution_count": null,
   "id": "f69d22a5-debb-4eea-a36e-7e2544d83b50",
   "metadata": {
    "tags": []
   },
   "outputs": [],
   "source": [
    "snythetic_dict = {}\n",
    "for stock in df_stats.index:\n",
    "    snythetic_dict[stock] = np.random.normal(df_stats.loc[stock, 'means'],df_stats.loc[stock, 'stds'], len(idx))\n",
    "    \n",
    "snythetic_dict"
   ]
  },
  {
   "cell_type": "code",
   "execution_count": null,
   "id": "a93ec030-447b-429c-b9c2-f0d27cac9360",
   "metadata": {
    "tags": []
   },
   "outputs": [],
   "source": [
    "snythetic_df = pd.DataFrame(snythetic_dict, index=idx)\n",
    "snythetic_df\n",
    "df_pct_change = snythetic_df.pct_change()\n",
    "df_pct_change\n",
    "\n",
    "df_pct_change = df_pct_change.iloc[1:]\n",
    "df_pct_change"
   ]
  },
  {
   "cell_type": "code",
   "execution_count": 30,
   "id": "2a65cea3-ca42-40d6-adce-514adf241f5c",
   "metadata": {
    "tags": []
   },
   "outputs": [
    {
     "data": {},
     "metadata": {},
     "output_type": "display_data"
    },
    {
     "data": {
      "application/vnd.holoviews_exec.v0+json": "",
      "text/html": [
       "<div id='p1610'>\n",
       "  <div id=\"ed0e6cce-4af5-42f1-a4c6-fffd82de0518\" data-root-id=\"p1610\" style=\"display: contents;\"></div>\n",
       "</div>\n",
       "<script type=\"application/javascript\">(function(root) {\n",
       "  var docs_json = {\"b8a08b06-cd38-4ecd-90e6-0e0ef7c9d610\":{\"version\":\"3.2.1\",\"title\":\"Bokeh Application\",\"roots\":[{\"type\":\"object\",\"name\":\"Row\",\"id\":\"p1610\",\"attributes\":{\"name\":\"Row04513\",\"tags\":[\"embedded\"],\"stylesheets\":[\"\\n:host(.pn-loading.pn-arc):before, .pn-loading.pn-arc:before {\\n  background-image: url(\\\"data:image/svg+xml;base64,PHN2ZyB4bWxucz0iaHR0cDovL3d3dy53My5vcmcvMjAwMC9zdmciIHN0eWxlPSJtYXJnaW46IGF1dG87IGJhY2tncm91bmQ6IG5vbmU7IGRpc3BsYXk6IGJsb2NrOyBzaGFwZS1yZW5kZXJpbmc6IGF1dG87IiB2aWV3Qm94PSIwIDAgMTAwIDEwMCIgcHJlc2VydmVBc3BlY3RSYXRpbz0ieE1pZFlNaWQiPiAgPGNpcmNsZSBjeD0iNTAiIGN5PSI1MCIgZmlsbD0ibm9uZSIgc3Ryb2tlPSIjYzNjM2MzIiBzdHJva2Utd2lkdGg9IjEwIiByPSIzNSIgc3Ryb2tlLWRhc2hhcnJheT0iMTY0LjkzMzYxNDMxMzQ2NDE1IDU2Ljk3Nzg3MTQzNzgyMTM4Ij4gICAgPGFuaW1hdGVUcmFuc2Zvcm0gYXR0cmlidXRlTmFtZT0idHJhbnNmb3JtIiB0eXBlPSJyb3RhdGUiIHJlcGVhdENvdW50PSJpbmRlZmluaXRlIiBkdXI9IjFzIiB2YWx1ZXM9IjAgNTAgNTA7MzYwIDUwIDUwIiBrZXlUaW1lcz0iMDsxIj48L2FuaW1hdGVUcmFuc2Zvcm0+ICA8L2NpcmNsZT48L3N2Zz4=\\\");\\n  background-size: auto calc(min(50%, 400px));\\n}\",{\"type\":\"object\",\"name\":\"ImportedStyleSheet\",\"id\":\"p1613\",\"attributes\":{\"url\":\"https://cdn.holoviz.org/panel/1.2.3/dist/css/loading.css\"}},{\"type\":\"object\",\"name\":\"ImportedStyleSheet\",\"id\":\"p1666\",\"attributes\":{\"url\":\"https://cdn.holoviz.org/panel/1.2.3/dist/css/listpanel.css\"}},{\"type\":\"object\",\"name\":\"ImportedStyleSheet\",\"id\":\"p1611\",\"attributes\":{\"url\":\"https://cdn.holoviz.org/panel/1.2.3/dist/bundled/theme/default.css\"}},{\"type\":\"object\",\"name\":\"ImportedStyleSheet\",\"id\":\"p1612\",\"attributes\":{\"url\":\"https://cdn.holoviz.org/panel/1.2.3/dist/bundled/theme/native.css\"}}],\"min_width\":700,\"margin\":0,\"sizing_mode\":\"stretch_width\",\"align\":\"start\",\"children\":[{\"type\":\"object\",\"name\":\"Spacer\",\"id\":\"p1614\",\"attributes\":{\"name\":\"HSpacer04524\",\"stylesheets\":[\"\\n:host(.pn-loading.pn-arc):before, .pn-loading.pn-arc:before {\\n  background-image: url(\\\"data:image/svg+xml;base64,PHN2ZyB4bWxucz0iaHR0cDovL3d3dy53My5vcmcvMjAwMC9zdmciIHN0eWxlPSJtYXJnaW46IGF1dG87IGJhY2tncm91bmQ6IG5vbmU7IGRpc3BsYXk6IGJsb2NrOyBzaGFwZS1yZW5kZXJpbmc6IGF1dG87IiB2aWV3Qm94PSIwIDAgMTAwIDEwMCIgcHJlc2VydmVBc3BlY3RSYXRpbz0ieE1pZFlNaWQiPiAgPGNpcmNsZSBjeD0iNTAiIGN5PSI1MCIgZmlsbD0ibm9uZSIgc3Ryb2tlPSIjYzNjM2MzIiBzdHJva2Utd2lkdGg9IjEwIiByPSIzNSIgc3Ryb2tlLWRhc2hhcnJheT0iMTY0LjkzMzYxNDMxMzQ2NDE1IDU2Ljk3Nzg3MTQzNzgyMTM4Ij4gICAgPGFuaW1hdGVUcmFuc2Zvcm0gYXR0cmlidXRlTmFtZT0idHJhbnNmb3JtIiB0eXBlPSJyb3RhdGUiIHJlcGVhdENvdW50PSJpbmRlZmluaXRlIiBkdXI9IjFzIiB2YWx1ZXM9IjAgNTAgNTA7MzYwIDUwIDUwIiBrZXlUaW1lcz0iMDsxIj48L2FuaW1hdGVUcmFuc2Zvcm0+ICA8L2NpcmNsZT48L3N2Zz4=\\\");\\n  background-size: auto calc(min(50%, 400px));\\n}\",{\"id\":\"p1613\"},{\"id\":\"p1611\"},{\"id\":\"p1612\"}],\"margin\":0,\"sizing_mode\":\"stretch_width\",\"align\":\"start\"}},{\"type\":\"object\",\"name\":\"Figure\",\"id\":\"p1622\",\"attributes\":{\"width\":700,\"height\":300,\"margin\":[5,10],\"sizing_mode\":\"fixed\",\"align\":\"start\",\"x_range\":{\"type\":\"object\",\"name\":\"FactorRange\",\"id\":\"p1615\",\"attributes\":{\"tags\":[[[\"index\",\"index\",null],[\"Variable\",\"Variable\",null]],[]],\"factors\":[[\"2023-01-08 00:00:00\",\"AAPL\"],[\"2023-01-08 00:00:00\",\"GOOG\"],[\"2023-01-08 00:00:00\",\"MSFT\"],[\"2023-01-08 00:00:00\",\"Meta\"],[\"2023-01-15 00:00:00\",\"AAPL\"],[\"2023-01-15 00:00:00\",\"GOOG\"],[\"2023-01-15 00:00:00\",\"MSFT\"],[\"2023-01-15 00:00:00\",\"Meta\"],[\"2023-01-22 00:00:00\",\"AAPL\"],[\"2023-01-22 00:00:00\",\"GOOG\"],[\"2023-01-22 00:00:00\",\"MSFT\"],[\"2023-01-22 00:00:00\",\"Meta\"],[\"2023-01-29 00:00:00\",\"AAPL\"],[\"2023-01-29 00:00:00\",\"GOOG\"],[\"2023-01-29 00:00:00\",\"MSFT\"],[\"2023-01-29 00:00:00\",\"Meta\"],[\"2023-02-05 00:00:00\",\"AAPL\"],[\"2023-02-05 00:00:00\",\"GOOG\"],[\"2023-02-05 00:00:00\",\"MSFT\"],[\"2023-02-05 00:00:00\",\"Meta\"],[\"2023-02-12 00:00:00\",\"AAPL\"],[\"2023-02-12 00:00:00\",\"GOOG\"],[\"2023-02-12 00:00:00\",\"MSFT\"],[\"2023-02-12 00:00:00\",\"Meta\"],[\"2023-02-19 00:00:00\",\"AAPL\"],[\"2023-02-19 00:00:00\",\"GOOG\"],[\"2023-02-19 00:00:00\",\"MSFT\"],[\"2023-02-19 00:00:00\",\"Meta\"],[\"2023-02-26 00:00:00\",\"AAPL\"],[\"2023-02-26 00:00:00\",\"GOOG\"],[\"2023-02-26 00:00:00\",\"MSFT\"],[\"2023-02-26 00:00:00\",\"Meta\"],[\"2023-03-05 00:00:00\",\"AAPL\"],[\"2023-03-05 00:00:00\",\"GOOG\"],[\"2023-03-05 00:00:00\",\"MSFT\"],[\"2023-03-05 00:00:00\",\"Meta\"],[\"2023-03-12 00:00:00\",\"AAPL\"],[\"2023-03-12 00:00:00\",\"GOOG\"],[\"2023-03-12 00:00:00\",\"MSFT\"],[\"2023-03-12 00:00:00\",\"Meta\"],[\"2023-03-19 00:00:00\",\"AAPL\"],[\"2023-03-19 00:00:00\",\"GOOG\"],[\"2023-03-19 00:00:00\",\"MSFT\"],[\"2023-03-19 00:00:00\",\"Meta\"],[\"2023-03-26 00:00:00\",\"AAPL\"],[\"2023-03-26 00:00:00\",\"GOOG\"],[\"2023-03-26 00:00:00\",\"MSFT\"],[\"2023-03-26 00:00:00\",\"Meta\"],[\"2023-04-02 00:00:00\",\"AAPL\"],[\"2023-04-02 00:00:00\",\"GOOG\"],[\"2023-04-02 00:00:00\",\"MSFT\"],[\"2023-04-02 00:00:00\",\"Meta\"],[\"2023-04-09 00:00:00\",\"AAPL\"],[\"2023-04-09 00:00:00\",\"GOOG\"],[\"2023-04-09 00:00:00\",\"MSFT\"],[\"2023-04-09 00:00:00\",\"Meta\"],[\"2023-04-16 00:00:00\",\"AAPL\"],[\"2023-04-16 00:00:00\",\"GOOG\"],[\"2023-04-16 00:00:00\",\"MSFT\"],[\"2023-04-16 00:00:00\",\"Meta\"],[\"2023-04-23 00:00:00\",\"AAPL\"],[\"2023-04-23 00:00:00\",\"GOOG\"],[\"2023-04-23 00:00:00\",\"MSFT\"],[\"2023-04-23 00:00:00\",\"Meta\"],[\"2023-04-30 00:00:00\",\"AAPL\"],[\"2023-04-30 00:00:00\",\"GOOG\"],[\"2023-04-30 00:00:00\",\"MSFT\"],[\"2023-04-30 00:00:00\",\"Meta\"],[\"2023-05-07 00:00:00\",\"AAPL\"],[\"2023-05-07 00:00:00\",\"GOOG\"],[\"2023-05-07 00:00:00\",\"MSFT\"],[\"2023-05-07 00:00:00\",\"Meta\"],[\"2023-05-14 00:00:00\",\"AAPL\"],[\"2023-05-14 00:00:00\",\"GOOG\"],[\"2023-05-14 00:00:00\",\"MSFT\"],[\"2023-05-14 00:00:00\",\"Meta\"],[\"2023-05-21 00:00:00\",\"AAPL\"],[\"2023-05-21 00:00:00\",\"GOOG\"],[\"2023-05-21 00:00:00\",\"MSFT\"],[\"2023-05-21 00:00:00\",\"Meta\"],[\"2023-05-28 00:00:00\",\"AAPL\"],[\"2023-05-28 00:00:00\",\"GOOG\"],[\"2023-05-28 00:00:00\",\"MSFT\"],[\"2023-05-28 00:00:00\",\"Meta\"],[\"2023-06-04 00:00:00\",\"AAPL\"],[\"2023-06-04 00:00:00\",\"GOOG\"],[\"2023-06-04 00:00:00\",\"MSFT\"],[\"2023-06-04 00:00:00\",\"Meta\"],[\"2023-06-11 00:00:00\",\"AAPL\"],[\"2023-06-11 00:00:00\",\"GOOG\"],[\"2023-06-11 00:00:00\",\"MSFT\"],[\"2023-06-11 00:00:00\",\"Meta\"],[\"2023-06-18 00:00:00\",\"AAPL\"],[\"2023-06-18 00:00:00\",\"GOOG\"],[\"2023-06-18 00:00:00\",\"MSFT\"],[\"2023-06-18 00:00:00\",\"Meta\"],[\"2023-06-25 00:00:00\",\"AAPL\"],[\"2023-06-25 00:00:00\",\"GOOG\"],[\"2023-06-25 00:00:00\",\"MSFT\"],[\"2023-06-25 00:00:00\",\"Meta\"],[\"2023-07-02 00:00:00\",\"AAPL\"],[\"2023-07-02 00:00:00\",\"GOOG\"],[\"2023-07-02 00:00:00\",\"MSFT\"],[\"2023-07-02 00:00:00\",\"Meta\"],[\"2023-07-09 00:00:00\",\"AAPL\"],[\"2023-07-09 00:00:00\",\"GOOG\"],[\"2023-07-09 00:00:00\",\"MSFT\"],[\"2023-07-09 00:00:00\",\"Meta\"],[\"2023-07-16 00:00:00\",\"AAPL\"],[\"2023-07-16 00:00:00\",\"GOOG\"],[\"2023-07-16 00:00:00\",\"MSFT\"],[\"2023-07-16 00:00:00\",\"Meta\"],[\"2023-07-23 00:00:00\",\"AAPL\"],[\"2023-07-23 00:00:00\",\"GOOG\"],[\"2023-07-23 00:00:00\",\"MSFT\"],[\"2023-07-23 00:00:00\",\"Meta\"],[\"2023-07-30 00:00:00\",\"AAPL\"],[\"2023-07-30 00:00:00\",\"GOOG\"],[\"2023-07-30 00:00:00\",\"MSFT\"],[\"2023-07-30 00:00:00\",\"Meta\"],[\"2023-08-06 00:00:00\",\"AAPL\"],[\"2023-08-06 00:00:00\",\"GOOG\"],[\"2023-08-06 00:00:00\",\"MSFT\"],[\"2023-08-06 00:00:00\",\"Meta\"],[\"2023-08-13 00:00:00\",\"AAPL\"],[\"2023-08-13 00:00:00\",\"GOOG\"],[\"2023-08-13 00:00:00\",\"MSFT\"],[\"2023-08-13 00:00:00\",\"Meta\"],[\"2023-08-20 00:00:00\",\"AAPL\"],[\"2023-08-20 00:00:00\",\"GOOG\"],[\"2023-08-20 00:00:00\",\"MSFT\"],[\"2023-08-20 00:00:00\",\"Meta\"],[\"2023-08-27 00:00:00\",\"AAPL\"],[\"2023-08-27 00:00:00\",\"GOOG\"],[\"2023-08-27 00:00:00\",\"MSFT\"],[\"2023-08-27 00:00:00\",\"Meta\"],[\"2023-09-03 00:00:00\",\"AAPL\"],[\"2023-09-03 00:00:00\",\"GOOG\"],[\"2023-09-03 00:00:00\",\"MSFT\"],[\"2023-09-03 00:00:00\",\"Meta\"],[\"2023-09-10 00:00:00\",\"AAPL\"],[\"2023-09-10 00:00:00\",\"GOOG\"],[\"2023-09-10 00:00:00\",\"MSFT\"],[\"2023-09-10 00:00:00\",\"Meta\"],[\"2023-09-17 00:00:00\",\"AAPL\"],[\"2023-09-17 00:00:00\",\"GOOG\"],[\"2023-09-17 00:00:00\",\"MSFT\"],[\"2023-09-17 00:00:00\",\"Meta\"],[\"2023-09-24 00:00:00\",\"AAPL\"],[\"2023-09-24 00:00:00\",\"GOOG\"],[\"2023-09-24 00:00:00\",\"MSFT\"],[\"2023-09-24 00:00:00\",\"Meta\"],[\"2023-10-01 00:00:00\",\"AAPL\"],[\"2023-10-01 00:00:00\",\"GOOG\"],[\"2023-10-01 00:00:00\",\"MSFT\"],[\"2023-10-01 00:00:00\",\"Meta\"],[\"2023-10-08 00:00:00\",\"AAPL\"],[\"2023-10-08 00:00:00\",\"GOOG\"],[\"2023-10-08 00:00:00\",\"MSFT\"],[\"2023-10-08 00:00:00\",\"Meta\"],[\"2023-10-15 00:00:00\",\"AAPL\"],[\"2023-10-15 00:00:00\",\"GOOG\"],[\"2023-10-15 00:00:00\",\"MSFT\"],[\"2023-10-15 00:00:00\",\"Meta\"],[\"2023-10-22 00:00:00\",\"AAPL\"],[\"2023-10-22 00:00:00\",\"GOOG\"],[\"2023-10-22 00:00:00\",\"MSFT\"],[\"2023-10-22 00:00:00\",\"Meta\"],[\"2023-10-29 00:00:00\",\"AAPL\"],[\"2023-10-29 00:00:00\",\"GOOG\"],[\"2023-10-29 00:00:00\",\"MSFT\"],[\"2023-10-29 00:00:00\",\"Meta\"],[\"2023-11-05 00:00:00\",\"AAPL\"],[\"2023-11-05 00:00:00\",\"GOOG\"],[\"2023-11-05 00:00:00\",\"MSFT\"],[\"2023-11-05 00:00:00\",\"Meta\"],[\"2023-11-12 00:00:00\",\"AAPL\"],[\"2023-11-12 00:00:00\",\"GOOG\"],[\"2023-11-12 00:00:00\",\"MSFT\"],[\"2023-11-12 00:00:00\",\"Meta\"],[\"2023-11-19 00:00:00\",\"AAPL\"],[\"2023-11-19 00:00:00\",\"GOOG\"],[\"2023-11-19 00:00:00\",\"MSFT\"],[\"2023-11-19 00:00:00\",\"Meta\"],[\"2023-11-26 00:00:00\",\"AAPL\"],[\"2023-11-26 00:00:00\",\"GOOG\"],[\"2023-11-26 00:00:00\",\"MSFT\"],[\"2023-11-26 00:00:00\",\"Meta\"],[\"2023-12-03 00:00:00\",\"AAPL\"],[\"2023-12-03 00:00:00\",\"GOOG\"],[\"2023-12-03 00:00:00\",\"MSFT\"],[\"2023-12-03 00:00:00\",\"Meta\"],[\"2023-12-10 00:00:00\",\"AAPL\"],[\"2023-12-10 00:00:00\",\"GOOG\"],[\"2023-12-10 00:00:00\",\"MSFT\"],[\"2023-12-10 00:00:00\",\"Meta\"],[\"2023-12-17 00:00:00\",\"AAPL\"],[\"2023-12-17 00:00:00\",\"GOOG\"],[\"2023-12-17 00:00:00\",\"MSFT\"],[\"2023-12-17 00:00:00\",\"Meta\"],[\"2023-12-24 00:00:00\",\"AAPL\"],[\"2023-12-24 00:00:00\",\"GOOG\"],[\"2023-12-24 00:00:00\",\"MSFT\"],[\"2023-12-24 00:00:00\",\"Meta\"]]}},\"y_range\":{\"type\":\"object\",\"name\":\"Range1d\",\"id\":\"p1616\",\"attributes\":{\"tags\":[[[\"value\",\"value\",null]],{\"type\":\"map\",\"entries\":[[\"invert_yaxis\",false],[\"autorange\",false]]}],\"start\":-0.8778552437018647,\"end\":1.746881058276905,\"reset_start\":-0.8778552437018647,\"reset_end\":1.746881058276905}},\"x_scale\":{\"type\":\"object\",\"name\":\"CategoricalScale\",\"id\":\"p1632\"},\"y_scale\":{\"type\":\"object\",\"name\":\"LinearScale\",\"id\":\"p1633\"},\"title\":{\"type\":\"object\",\"name\":\"Title\",\"id\":\"p1625\",\"attributes\":{\"text_color\":\"black\",\"text_font_size\":\"12pt\"}},\"renderers\":[{\"type\":\"object\",\"name\":\"GlyphRenderer\",\"id\":\"p1659\",\"attributes\":{\"data_source\":{\"type\":\"object\",\"name\":\"ColumnDataSource\",\"id\":\"p1650\",\"attributes\":{\"selected\":{\"type\":\"object\",\"name\":\"Selection\",\"id\":\"p1651\",\"attributes\":{\"indices\":[],\"line_indices\":[]}},\"selection_policy\":{\"type\":\"object\",\"name\":\"UnionRenderers\",\"id\":\"p1652\"},\"data\":{\"type\":\"map\",\"entries\":[[\"xoffsets\",[[\"2023-01-08 00:00:00\",\"AAPL\"],[\"2023-01-15 00:00:00\",\"AAPL\"],[\"2023-01-22 00:00:00\",\"AAPL\"],[\"2023-01-29 00:00:00\",\"AAPL\"],[\"2023-02-05 00:00:00\",\"AAPL\"],[\"2023-02-12 00:00:00\",\"AAPL\"],[\"2023-02-19 00:00:00\",\"AAPL\"],[\"2023-02-26 00:00:00\",\"AAPL\"],[\"2023-03-05 00:00:00\",\"AAPL\"],[\"2023-03-12 00:00:00\",\"AAPL\"],[\"2023-03-19 00:00:00\",\"AAPL\"],[\"2023-03-26 00:00:00\",\"AAPL\"],[\"2023-04-02 00:00:00\",\"AAPL\"],[\"2023-04-09 00:00:00\",\"AAPL\"],[\"2023-04-16 00:00:00\",\"AAPL\"],[\"2023-04-23 00:00:00\",\"AAPL\"],[\"2023-04-30 00:00:00\",\"AAPL\"],[\"2023-05-07 00:00:00\",\"AAPL\"],[\"2023-05-14 00:00:00\",\"AAPL\"],[\"2023-05-21 00:00:00\",\"AAPL\"],[\"2023-05-28 00:00:00\",\"AAPL\"],[\"2023-06-04 00:00:00\",\"AAPL\"],[\"2023-06-11 00:00:00\",\"AAPL\"],[\"2023-06-18 00:00:00\",\"AAPL\"],[\"2023-06-25 00:00:00\",\"AAPL\"],[\"2023-07-02 00:00:00\",\"AAPL\"],[\"2023-07-09 00:00:00\",\"AAPL\"],[\"2023-07-16 00:00:00\",\"AAPL\"],[\"2023-07-23 00:00:00\",\"AAPL\"],[\"2023-07-30 00:00:00\",\"AAPL\"],[\"2023-08-06 00:00:00\",\"AAPL\"],[\"2023-08-13 00:00:00\",\"AAPL\"],[\"2023-08-20 00:00:00\",\"AAPL\"],[\"2023-08-27 00:00:00\",\"AAPL\"],[\"2023-09-03 00:00:00\",\"AAPL\"],[\"2023-09-10 00:00:00\",\"AAPL\"],[\"2023-09-17 00:00:00\",\"AAPL\"],[\"2023-09-24 00:00:00\",\"AAPL\"],[\"2023-10-01 00:00:00\",\"AAPL\"],[\"2023-10-08 00:00:00\",\"AAPL\"],[\"2023-10-15 00:00:00\",\"AAPL\"],[\"2023-10-22 00:00:00\",\"AAPL\"],[\"2023-10-29 00:00:00\",\"AAPL\"],[\"2023-11-05 00:00:00\",\"AAPL\"],[\"2023-11-12 00:00:00\",\"AAPL\"],[\"2023-11-19 00:00:00\",\"AAPL\"],[\"2023-11-26 00:00:00\",\"AAPL\"],[\"2023-12-03 00:00:00\",\"AAPL\"],[\"2023-12-10 00:00:00\",\"AAPL\"],[\"2023-12-17 00:00:00\",\"AAPL\"],[\"2023-12-24 00:00:00\",\"AAPL\"],[\"2023-01-08 00:00:00\",\"GOOG\"],[\"2023-01-15 00:00:00\",\"GOOG\"],[\"2023-01-22 00:00:00\",\"GOOG\"],[\"2023-01-29 00:00:00\",\"GOOG\"],[\"2023-02-05 00:00:00\",\"GOOG\"],[\"2023-02-12 00:00:00\",\"GOOG\"],[\"2023-02-19 00:00:00\",\"GOOG\"],[\"2023-02-26 00:00:00\",\"GOOG\"],[\"2023-03-05 00:00:00\",\"GOOG\"],[\"2023-03-12 00:00:00\",\"GOOG\"],[\"2023-03-19 00:00:00\",\"GOOG\"],[\"2023-03-26 00:00:00\",\"GOOG\"],[\"2023-04-02 00:00:00\",\"GOOG\"],[\"2023-04-09 00:00:00\",\"GOOG\"],[\"2023-04-16 00:00:00\",\"GOOG\"],[\"2023-04-23 00:00:00\",\"GOOG\"],[\"2023-04-30 00:00:00\",\"GOOG\"],[\"2023-05-07 00:00:00\",\"GOOG\"],[\"2023-05-14 00:00:00\",\"GOOG\"],[\"2023-05-21 00:00:00\",\"GOOG\"],[\"2023-05-28 00:00:00\",\"GOOG\"],[\"2023-06-04 00:00:00\",\"GOOG\"],[\"2023-06-11 00:00:00\",\"GOOG\"],[\"2023-06-18 00:00:00\",\"GOOG\"],[\"2023-06-25 00:00:00\",\"GOOG\"],[\"2023-07-02 00:00:00\",\"GOOG\"],[\"2023-07-09 00:00:00\",\"GOOG\"],[\"2023-07-16 00:00:00\",\"GOOG\"],[\"2023-07-23 00:00:00\",\"GOOG\"],[\"2023-07-30 00:00:00\",\"GOOG\"],[\"2023-08-06 00:00:00\",\"GOOG\"],[\"2023-08-13 00:00:00\",\"GOOG\"],[\"2023-08-20 00:00:00\",\"GOOG\"],[\"2023-08-27 00:00:00\",\"GOOG\"],[\"2023-09-03 00:00:00\",\"GOOG\"],[\"2023-09-10 00:00:00\",\"GOOG\"],[\"2023-09-17 00:00:00\",\"GOOG\"],[\"2023-09-24 00:00:00\",\"GOOG\"],[\"2023-10-01 00:00:00\",\"GOOG\"],[\"2023-10-08 00:00:00\",\"GOOG\"],[\"2023-10-15 00:00:00\",\"GOOG\"],[\"2023-10-22 00:00:00\",\"GOOG\"],[\"2023-10-29 00:00:00\",\"GOOG\"],[\"2023-11-05 00:00:00\",\"GOOG\"],[\"2023-11-12 00:00:00\",\"GOOG\"],[\"2023-11-19 00:00:00\",\"GOOG\"],[\"2023-11-26 00:00:00\",\"GOOG\"],[\"2023-12-03 00:00:00\",\"GOOG\"],[\"2023-12-10 00:00:00\",\"GOOG\"],[\"2023-12-17 00:00:00\",\"GOOG\"],[\"2023-12-24 00:00:00\",\"GOOG\"],[\"2023-01-08 00:00:00\",\"MSFT\"],[\"2023-01-15 00:00:00\",\"MSFT\"],[\"2023-01-22 00:00:00\",\"MSFT\"],[\"2023-01-29 00:00:00\",\"MSFT\"],[\"2023-02-05 00:00:00\",\"MSFT\"],[\"2023-02-12 00:00:00\",\"MSFT\"],[\"2023-02-19 00:00:00\",\"MSFT\"],[\"2023-02-26 00:00:00\",\"MSFT\"],[\"2023-03-05 00:00:00\",\"MSFT\"],[\"2023-03-12 00:00:00\",\"MSFT\"],[\"2023-03-19 00:00:00\",\"MSFT\"],[\"2023-03-26 00:00:00\",\"MSFT\"],[\"2023-04-02 00:00:00\",\"MSFT\"],[\"2023-04-09 00:00:00\",\"MSFT\"],[\"2023-04-16 00:00:00\",\"MSFT\"],[\"2023-04-23 00:00:00\",\"MSFT\"],[\"2023-04-30 00:00:00\",\"MSFT\"],[\"2023-05-07 00:00:00\",\"MSFT\"],[\"2023-05-14 00:00:00\",\"MSFT\"],[\"2023-05-21 00:00:00\",\"MSFT\"],[\"2023-05-28 00:00:00\",\"MSFT\"],[\"2023-06-04 00:00:00\",\"MSFT\"],[\"2023-06-11 00:00:00\",\"MSFT\"],[\"2023-06-18 00:00:00\",\"MSFT\"],[\"2023-06-25 00:00:00\",\"MSFT\"],[\"2023-07-02 00:00:00\",\"MSFT\"],[\"2023-07-09 00:00:00\",\"MSFT\"],[\"2023-07-16 00:00:00\",\"MSFT\"],[\"2023-07-23 00:00:00\",\"MSFT\"],[\"2023-07-30 00:00:00\",\"MSFT\"],[\"2023-08-06 00:00:00\",\"MSFT\"],[\"2023-08-13 00:00:00\",\"MSFT\"],[\"2023-08-20 00:00:00\",\"MSFT\"],[\"2023-08-27 00:00:00\",\"MSFT\"],[\"2023-09-03 00:00:00\",\"MSFT\"],[\"2023-09-10 00:00:00\",\"MSFT\"],[\"2023-09-17 00:00:00\",\"MSFT\"],[\"2023-09-24 00:00:00\",\"MSFT\"],[\"2023-10-01 00:00:00\",\"MSFT\"],[\"2023-10-08 00:00:00\",\"MSFT\"],[\"2023-10-15 00:00:00\",\"MSFT\"],[\"2023-10-22 00:00:00\",\"MSFT\"],[\"2023-10-29 00:00:00\",\"MSFT\"],[\"2023-11-05 00:00:00\",\"MSFT\"],[\"2023-11-12 00:00:00\",\"MSFT\"],[\"2023-11-19 00:00:00\",\"MSFT\"],[\"2023-11-26 00:00:00\",\"MSFT\"],[\"2023-12-03 00:00:00\",\"MSFT\"],[\"2023-12-10 00:00:00\",\"MSFT\"],[\"2023-12-17 00:00:00\",\"MSFT\"],[\"2023-12-24 00:00:00\",\"MSFT\"],[\"2023-01-08 00:00:00\",\"Meta\"],[\"2023-01-15 00:00:00\",\"Meta\"],[\"2023-01-22 00:00:00\",\"Meta\"],[\"2023-01-29 00:00:00\",\"Meta\"],[\"2023-02-05 00:00:00\",\"Meta\"],[\"2023-02-12 00:00:00\",\"Meta\"],[\"2023-02-19 00:00:00\",\"Meta\"],[\"2023-02-26 00:00:00\",\"Meta\"],[\"2023-03-05 00:00:00\",\"Meta\"],[\"2023-03-12 00:00:00\",\"Meta\"],[\"2023-03-19 00:00:00\",\"Meta\"],[\"2023-03-26 00:00:00\",\"Meta\"],[\"2023-04-02 00:00:00\",\"Meta\"],[\"2023-04-09 00:00:00\",\"Meta\"],[\"2023-04-16 00:00:00\",\"Meta\"],[\"2023-04-23 00:00:00\",\"Meta\"],[\"2023-04-30 00:00:00\",\"Meta\"],[\"2023-05-07 00:00:00\",\"Meta\"],[\"2023-05-14 00:00:00\",\"Meta\"],[\"2023-05-21 00:00:00\",\"Meta\"],[\"2023-05-28 00:00:00\",\"Meta\"],[\"2023-06-04 00:00:00\",\"Meta\"],[\"2023-06-11 00:00:00\",\"Meta\"],[\"2023-06-18 00:00:00\",\"Meta\"],[\"2023-06-25 00:00:00\",\"Meta\"],[\"2023-07-02 00:00:00\",\"Meta\"],[\"2023-07-09 00:00:00\",\"Meta\"],[\"2023-07-16 00:00:00\",\"Meta\"],[\"2023-07-23 00:00:00\",\"Meta\"],[\"2023-07-30 00:00:00\",\"Meta\"],[\"2023-08-06 00:00:00\",\"Meta\"],[\"2023-08-13 00:00:00\",\"Meta\"],[\"2023-08-20 00:00:00\",\"Meta\"],[\"2023-08-27 00:00:00\",\"Meta\"],[\"2023-09-03 00:00:00\",\"Meta\"],[\"2023-09-10 00:00:00\",\"Meta\"],[\"2023-09-17 00:00:00\",\"Meta\"],[\"2023-09-24 00:00:00\",\"Meta\"],[\"2023-10-01 00:00:00\",\"Meta\"],[\"2023-10-08 00:00:00\",\"Meta\"],[\"2023-10-15 00:00:00\",\"Meta\"],[\"2023-10-22 00:00:00\",\"Meta\"],[\"2023-10-29 00:00:00\",\"Meta\"],[\"2023-11-05 00:00:00\",\"Meta\"],[\"2023-11-12 00:00:00\",\"Meta\"],[\"2023-11-19 00:00:00\",\"Meta\"],[\"2023-11-26 00:00:00\",\"Meta\"],[\"2023-12-03 00:00:00\",\"Meta\"],[\"2023-12-10 00:00:00\",\"Meta\"],[\"2023-12-17 00:00:00\",\"Meta\"],[\"2023-12-24 00:00:00\",\"Meta\"]]],[\"value\",{\"type\":\"ndarray\",\"array\":{\"type\":\"bytes\",\"data\":\"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\"},\"shape\":[204],\"dtype\":\"float64\",\"order\":\"little\"}],[\"index\",[\"2023-01-08 00:00:00\",\"2023-01-15 00:00:00\",\"2023-01-22 00:00:00\",\"2023-01-29 00:00:00\",\"2023-02-05 00:00:00\",\"2023-02-12 00:00:00\",\"2023-02-19 00:00:00\",\"2023-02-26 00:00:00\",\"2023-03-05 00:00:00\",\"2023-03-12 00:00:00\",\"2023-03-19 00:00:00\",\"2023-03-26 00:00:00\",\"2023-04-02 00:00:00\",\"2023-04-09 00:00:00\",\"2023-04-16 00:00:00\",\"2023-04-23 00:00:00\",\"2023-04-30 00:00:00\",\"2023-05-07 00:00:00\",\"2023-05-14 00:00:00\",\"2023-05-21 00:00:00\",\"2023-05-28 00:00:00\",\"2023-06-04 00:00:00\",\"2023-06-11 00:00:00\",\"2023-06-18 00:00:00\",\"2023-06-25 00:00:00\",\"2023-07-02 00:00:00\",\"2023-07-09 00:00:00\",\"2023-07-16 00:00:00\",\"2023-07-23 00:00:00\",\"2023-07-30 00:00:00\",\"2023-08-06 00:00:00\",\"2023-08-13 00:00:00\",\"2023-08-20 00:00:00\",\"2023-08-27 00:00:00\",\"2023-09-03 00:00:00\",\"2023-09-10 00:00:00\",\"2023-09-17 00:00:00\",\"2023-09-24 00:00:00\",\"2023-10-01 00:00:00\",\"2023-10-08 00:00:00\",\"2023-10-15 00:00:00\",\"2023-10-22 00:00:00\",\"2023-10-29 00:00:00\",\"2023-11-05 00:00:00\",\"2023-11-12 00:00:00\",\"2023-11-19 00:00:00\",\"2023-11-26 00:00:00\",\"2023-12-03 00:00:00\",\"2023-12-10 00:00:00\",\"2023-12-17 00:00:00\",\"2023-12-24 00:00:00\",\"2023-01-08 00:00:00\",\"2023-01-15 00:00:00\",\"2023-01-22 00:00:00\",\"2023-01-29 00:00:00\",\"2023-02-05 00:00:00\",\"2023-02-12 00:00:00\",\"2023-02-19 00:00:00\",\"2023-02-26 00:00:00\",\"2023-03-05 00:00:00\",\"2023-03-12 00:00:00\",\"2023-03-19 00:00:00\",\"2023-03-26 00:00:00\",\"2023-04-02 00:00:00\",\"2023-04-09 00:00:00\",\"2023-04-16 00:00:00\",\"2023-04-23 00:00:00\",\"2023-04-30 00:00:00\",\"2023-05-07 00:00:00\",\"2023-05-14 00:00:00\",\"2023-05-21 00:00:00\",\"2023-05-28 00:00:00\",\"2023-06-04 00:00:00\",\"2023-06-11 00:00:00\",\"2023-06-18 00:00:00\",\"2023-06-25 00:00:00\",\"2023-07-02 00:00:00\",\"2023-07-09 00:00:00\",\"2023-07-16 00:00:00\",\"2023-07-23 00:00:00\",\"2023-07-30 00:00:00\",\"2023-08-06 00:00:00\",\"2023-08-13 00:00:00\",\"2023-08-20 00:00:00\",\"2023-08-27 00:00:00\",\"2023-09-03 00:00:00\",\"2023-09-10 00:00:00\",\"2023-09-17 00:00:00\",\"2023-09-24 00:00:00\",\"2023-10-01 00:00:00\",\"2023-10-08 00:00:00\",\"2023-10-15 00:00:00\",\"2023-10-22 00:00:00\",\"2023-10-29 00:00:00\",\"2023-11-05 00:00:00\",\"2023-11-12 00:00:00\",\"2023-11-19 00:00:00\",\"2023-11-26 00:00:00\",\"2023-12-03 00:00:00\",\"2023-12-10 00:00:00\",\"2023-12-17 00:00:00\",\"2023-12-24 00:00:00\",\"2023-01-08 00:00:00\",\"2023-01-15 00:00:00\",\"2023-01-22 00:00:00\",\"2023-01-29 00:00:00\",\"2023-02-05 00:00:00\",\"2023-02-12 00:00:00\",\"2023-02-19 00:00:00\",\"2023-02-26 00:00:00\",\"2023-03-05 00:00:00\",\"2023-03-12 00:00:00\",\"2023-03-19 00:00:00\",\"2023-03-26 00:00:00\",\"2023-04-02 00:00:00\",\"2023-04-09 00:00:00\",\"2023-04-16 00:00:00\",\"2023-04-23 00:00:00\",\"2023-04-30 00:00:00\",\"2023-05-07 00:00:00\",\"2023-05-14 00:00:00\",\"2023-05-21 00:00:00\",\"2023-05-28 00:00:00\",\"2023-06-04 00:00:00\",\"2023-06-11 00:00:00\",\"2023-06-18 00:00:00\",\"2023-06-25 00:00:00\",\"2023-07-02 00:00:00\",\"2023-07-09 00:00:00\",\"2023-07-16 00:00:00\",\"2023-07-23 00:00:00\",\"2023-07-30 00:00:00\",\"2023-08-06 00:00:00\",\"2023-08-13 00:00:00\",\"2023-08-20 00:00:00\",\"2023-08-27 00:00:00\",\"2023-09-03 00:00:00\",\"2023-09-10 00:00:00\",\"2023-09-17 00:00:00\",\"2023-09-24 00:00:00\",\"2023-10-01 00:00:00\",\"2023-10-08 00:00:00\",\"2023-10-15 00:00:00\",\"2023-10-22 00:00:00\",\"2023-10-29 00:00:00\",\"2023-11-05 00:00:00\",\"2023-11-12 00:00:00\",\"2023-11-19 00:00:00\",\"2023-11-26 00:00:00\",\"2023-12-03 00:00:00\",\"2023-12-10 00:00:00\",\"2023-12-17 00:00:00\",\"2023-12-24 00:00:00\",\"2023-01-08 00:00:00\",\"2023-01-15 00:00:00\",\"2023-01-22 00:00:00\",\"2023-01-29 00:00:00\",\"2023-02-05 00:00:00\",\"2023-02-12 00:00:00\",\"2023-02-19 00:00:00\",\"2023-02-26 00:00:00\",\"2023-03-05 00:00:00\",\"2023-03-12 00:00:00\",\"2023-03-19 00:00:00\",\"2023-03-26 00:00:00\",\"2023-04-02 00:00:00\",\"2023-04-09 00:00:00\",\"2023-04-16 00:00:00\",\"2023-04-23 00:00:00\",\"2023-04-30 00:00:00\",\"2023-05-07 00:00:00\",\"2023-05-14 00:00:00\",\"2023-05-21 00:00:00\",\"2023-05-28 00:00:00\",\"2023-06-04 00:00:00\",\"2023-06-11 00:00:00\",\"2023-06-18 00:00:00\",\"2023-06-25 00:00:00\",\"2023-07-02 00:00:00\",\"2023-07-09 00:00:00\",\"2023-07-16 00:00:00\",\"2023-07-23 00:00:00\",\"2023-07-30 00:00:00\",\"2023-08-06 00:00:00\",\"2023-08-13 00:00:00\",\"2023-08-20 00:00:00\",\"2023-08-27 00:00:00\",\"2023-09-03 00:00:00\",\"2023-09-10 00:00:00\",\"2023-09-17 00:00:00\",\"2023-09-24 00:00:00\",\"2023-10-01 00:00:00\",\"2023-10-08 00:00:00\",\"2023-10-15 00:00:00\",\"2023-10-22 00:00:00\",\"2023-10-29 00:00:00\",\"2023-11-05 00:00:00\",\"2023-11-12 00:00:00\",\"2023-11-19 00:00:00\",\"2023-11-26 00:00:00\",\"2023-12-03 00:00:00\",\"2023-12-10 00:00:00\",\"2023-12-17 00:00:00\",\"2023-12-24 00:00:00\"]],[\"Variable\",[\"AAPL\",\"AAPL\",\"AAPL\",\"AAPL\",\"AAPL\",\"AAPL\",\"AAPL\",\"AAPL\",\"AAPL\",\"AAPL\",\"AAPL\",\"AAPL\",\"AAPL\",\"AAPL\",\"AAPL\",\"AAPL\",\"AAPL\",\"AAPL\",\"AAPL\",\"AAPL\",\"AAPL\",\"AAPL\",\"AAPL\",\"AAPL\",\"AAPL\",\"AAPL\",\"AAPL\",\"AAPL\",\"AAPL\",\"AAPL\",\"AAPL\",\"AAPL\",\"AAPL\",\"AAPL\",\"AAPL\",\"AAPL\",\"AAPL\",\"AAPL\",\"AAPL\",\"AAPL\",\"AAPL\",\"AAPL\",\"AAPL\",\"AAPL\",\"AAPL\",\"AAPL\",\"AAPL\",\"AAPL\",\"AAPL\",\"AAPL\",\"AAPL\",\"GOOG\",\"GOOG\",\"GOOG\",\"GOOG\",\"GOOG\",\"GOOG\",\"GOOG\",\"GOOG\",\"GOOG\",\"GOOG\",\"GOOG\",\"GOOG\",\"GOOG\",\"GOOG\",\"GOOG\",\"GOOG\",\"GOOG\",\"GOOG\",\"GOOG\",\"GOOG\",\"GOOG\",\"GOOG\",\"GOOG\",\"GOOG\",\"GOOG\",\"GOOG\",\"GOOG\",\"GOOG\",\"GOOG\",\"GOOG\",\"GOOG\",\"GOOG\",\"GOOG\",\"GOOG\",\"GOOG\",\"GOOG\",\"GOOG\",\"GOOG\",\"GOOG\",\"GOOG\",\"GOOG\",\"GOOG\",\"GOOG\",\"GOOG\",\"GOOG\",\"GOOG\",\"GOOG\",\"GOOG\",\"GOOG\",\"GOOG\",\"GOOG\",\"MSFT\",\"MSFT\",\"MSFT\",\"MSFT\",\"MSFT\",\"MSFT\",\"MSFT\",\"MSFT\",\"MSFT\",\"MSFT\",\"MSFT\",\"MSFT\",\"MSFT\",\"MSFT\",\"MSFT\",\"MSFT\",\"MSFT\",\"MSFT\",\"MSFT\",\"MSFT\",\"MSFT\",\"MSFT\",\"MSFT\",\"MSFT\",\"MSFT\",\"MSFT\",\"MSFT\",\"MSFT\",\"MSFT\",\"MSFT\",\"MSFT\",\"MSFT\",\"MSFT\",\"MSFT\",\"MSFT\",\"MSFT\",\"MSFT\",\"MSFT\",\"MSFT\",\"MSFT\",\"MSFT\",\"MSFT\",\"MSFT\",\"MSFT\",\"MSFT\",\"MSFT\",\"MSFT\",\"MSFT\",\"MSFT\",\"MSFT\",\"MSFT\",\"Meta\",\"Meta\",\"Meta\",\"Meta\",\"Meta\",\"Meta\",\"Meta\",\"Meta\",\"Meta\",\"Meta\",\"Meta\",\"Meta\",\"Meta\",\"Meta\",\"Meta\",\"Meta\",\"Meta\",\"Meta\",\"Meta\",\"Meta\",\"Meta\",\"Meta\",\"Meta\",\"Meta\",\"Meta\",\"Meta\",\"Meta\",\"Meta\",\"Meta\",\"Meta\",\"Meta\",\"Meta\",\"Meta\",\"Meta\",\"Meta\",\"Meta\",\"Meta\",\"Meta\",\"Meta\",\"Meta\",\"Meta\",\"Meta\",\"Meta\",\"Meta\",\"Meta\",\"Meta\",\"Meta\",\"Meta\",\"Meta\",\"Meta\",\"Meta\"]]]}}},\"view\":{\"type\":\"object\",\"name\":\"CDSView\",\"id\":\"p1660\",\"attributes\":{\"filter\":{\"type\":\"object\",\"name\":\"AllIndices\",\"id\":\"p1661\"}}},\"glyph\":{\"type\":\"object\",\"name\":\"VBar\",\"id\":\"p1656\",\"attributes\":{\"tags\":[\"apply_ranges\"],\"x\":{\"type\":\"field\",\"field\":\"xoffsets\"},\"width\":{\"type\":\"value\",\"value\":0.8},\"top\":{\"type\":\"field\",\"field\":\"value\"},\"fill_color\":{\"type\":\"field\",\"field\":\"Variable\",\"transform\":{\"type\":\"object\",\"name\":\"CategoricalColorMapper\",\"id\":\"p1649\",\"attributes\":{\"palette\":[\"#30a2da\",\"#fc4f30\",\"#e5ae38\",\"#6d904f\"],\"factors\":[\"AAPL\",\"GOOG\",\"MSFT\",\"Meta\"]}}},\"hatch_color\":{\"type\":\"field\",\"field\":\"Variable\",\"transform\":{\"id\":\"p1649\"}}}},\"selection_glyph\":{\"type\":\"object\",\"name\":\"VBar\",\"id\":\"p1662\",\"attributes\":{\"tags\":[\"apply_ranges\"],\"x\":{\"type\":\"field\",\"field\":\"xoffsets\"},\"width\":{\"type\":\"value\",\"value\":0.8},\"bottom\":{\"type\":\"value\",\"value\":0},\"top\":{\"type\":\"field\",\"field\":\"value\"},\"line_color\":{\"type\":\"value\",\"value\":\"black\"},\"line_alpha\":{\"type\":\"value\",\"value\":1.0},\"line_width\":{\"type\":\"value\",\"value\":1},\"line_join\":{\"type\":\"value\",\"value\":\"bevel\"},\"line_cap\":{\"type\":\"value\",\"value\":\"butt\"},\"line_dash\":{\"type\":\"value\",\"value\":[]},\"line_dash_offset\":{\"type\":\"value\",\"value\":0},\"fill_color\":{\"type\":\"field\",\"field\":\"Variable\",\"transform\":{\"id\":\"p1649\"}},\"fill_alpha\":{\"type\":\"value\",\"value\":1.0},\"hatch_color\":{\"type\":\"field\",\"field\":\"Variable\",\"transform\":{\"id\":\"p1649\"}},\"hatch_alpha\":{\"type\":\"value\",\"value\":1.0},\"hatch_scale\":{\"type\":\"value\",\"value\":12.0},\"hatch_pattern\":{\"type\":\"value\",\"value\":null},\"hatch_weight\":{\"type\":\"value\",\"value\":1.0}}},\"nonselection_glyph\":{\"type\":\"object\",\"name\":\"VBar\",\"id\":\"p1657\",\"attributes\":{\"tags\":[\"apply_ranges\"],\"x\":{\"type\":\"field\",\"field\":\"xoffsets\"},\"width\":{\"type\":\"value\",\"value\":0.8},\"top\":{\"type\":\"field\",\"field\":\"value\"},\"line_alpha\":{\"type\":\"value\",\"value\":0.1},\"fill_color\":{\"type\":\"field\",\"field\":\"Variable\",\"transform\":{\"id\":\"p1649\"}},\"fill_alpha\":{\"type\":\"value\",\"value\":0.1},\"hatch_color\":{\"type\":\"field\",\"field\":\"Variable\",\"transform\":{\"id\":\"p1649\"}},\"hatch_alpha\":{\"type\":\"value\",\"value\":0.1}}},\"muted_glyph\":{\"type\":\"object\",\"name\":\"VBar\",\"id\":\"p1658\",\"attributes\":{\"tags\":[\"apply_ranges\"],\"x\":{\"type\":\"field\",\"field\":\"xoffsets\"},\"width\":{\"type\":\"value\",\"value\":0.8},\"top\":{\"type\":\"field\",\"field\":\"value\"},\"line_alpha\":{\"type\":\"value\",\"value\":0.2},\"fill_color\":{\"type\":\"field\",\"field\":\"Variable\",\"transform\":{\"id\":\"p1649\"}},\"fill_alpha\":{\"type\":\"value\",\"value\":0.2},\"hatch_color\":{\"type\":\"field\",\"field\":\"Variable\",\"transform\":{\"id\":\"p1649\"}},\"hatch_alpha\":{\"type\":\"value\",\"value\":0.2}}}}}],\"toolbar\":{\"type\":\"object\",\"name\":\"Toolbar\",\"id\":\"p1631\",\"attributes\":{\"tools\":[{\"type\":\"object\",\"name\":\"WheelZoomTool\",\"id\":\"p1620\",\"attributes\":{\"tags\":[\"hv_created\"],\"zoom_together\":\"none\"}},{\"type\":\"object\",\"name\":\"HoverTool\",\"id\":\"p1621\",\"attributes\":{\"tags\":[\"hv_created\"],\"renderers\":[{\"id\":\"p1659\"}],\"tooltips\":[[\"index\",\"@{index}\"],[\"Variable\",\"@{Variable}\"],[\"value\",\"@{value}\"]]}},{\"type\":\"object\",\"name\":\"SaveTool\",\"id\":\"p1644\"},{\"type\":\"object\",\"name\":\"PanTool\",\"id\":\"p1645\"},{\"type\":\"object\",\"name\":\"BoxZoomTool\",\"id\":\"p1646\",\"attributes\":{\"overlay\":{\"type\":\"object\",\"name\":\"BoxAnnotation\",\"id\":\"p1647\",\"attributes\":{\"syncable\":false,\"level\":\"overlay\",\"visible\":false,\"left_units\":\"canvas\",\"right_units\":\"canvas\",\"bottom_units\":\"canvas\",\"top_units\":\"canvas\",\"line_color\":\"black\",\"line_alpha\":1.0,\"line_width\":2,\"line_dash\":[4,4],\"fill_color\":\"lightgrey\",\"fill_alpha\":0.5}}}},{\"type\":\"object\",\"name\":\"ResetTool\",\"id\":\"p1648\"}],\"active_drag\":{\"id\":\"p1645\"},\"active_scroll\":{\"id\":\"p1620\"}}},\"left\":[{\"type\":\"object\",\"name\":\"LinearAxis\",\"id\":\"p1639\",\"attributes\":{\"ticker\":{\"type\":\"object\",\"name\":\"BasicTicker\",\"id\":\"p1640\",\"attributes\":{\"mantissas\":[1,2,5]}},\"formatter\":{\"type\":\"object\",\"name\":\"BasicTickFormatter\",\"id\":\"p1641\"},\"axis_label\":\"daily return\",\"major_label_policy\":{\"type\":\"object\",\"name\":\"AllLabels\",\"id\":\"p1642\"}}}],\"below\":[{\"type\":\"object\",\"name\":\"CategoricalAxis\",\"id\":\"p1634\",\"attributes\":{\"ticker\":{\"type\":\"object\",\"name\":\"CategoricalTicker\",\"id\":\"p1635\"},\"formatter\":{\"type\":\"object\",\"name\":\"CategoricalTickFormatter\",\"id\":\"p1636\"},\"axis_label\":\"year\",\"major_label_policy\":{\"type\":\"object\",\"name\":\"AllLabels\",\"id\":\"p1637\"}}}],\"center\":[{\"type\":\"object\",\"name\":\"Grid\",\"id\":\"p1638\",\"attributes\":{\"axis\":{\"id\":\"p1634\"},\"grid_line_color\":null}},{\"type\":\"object\",\"name\":\"Grid\",\"id\":\"p1643\",\"attributes\":{\"dimension\":1,\"axis\":{\"id\":\"p1639\"},\"grid_line_color\":null}}],\"min_border_top\":10,\"min_border_bottom\":10,\"min_border_left\":10,\"min_border_right\":10,\"output_backend\":\"webgl\"}},{\"type\":\"object\",\"name\":\"Spacer\",\"id\":\"p1664\",\"attributes\":{\"name\":\"HSpacer04527\",\"stylesheets\":[\"\\n:host(.pn-loading.pn-arc):before, .pn-loading.pn-arc:before {\\n  background-image: url(\\\"data:image/svg+xml;base64,PHN2ZyB4bWxucz0iaHR0cDovL3d3dy53My5vcmcvMjAwMC9zdmciIHN0eWxlPSJtYXJnaW46IGF1dG87IGJhY2tncm91bmQ6IG5vbmU7IGRpc3BsYXk6IGJsb2NrOyBzaGFwZS1yZW5kZXJpbmc6IGF1dG87IiB2aWV3Qm94PSIwIDAgMTAwIDEwMCIgcHJlc2VydmVBc3BlY3RSYXRpbz0ieE1pZFlNaWQiPiAgPGNpcmNsZSBjeD0iNTAiIGN5PSI1MCIgZmlsbD0ibm9uZSIgc3Ryb2tlPSIjYzNjM2MzIiBzdHJva2Utd2lkdGg9IjEwIiByPSIzNSIgc3Ryb2tlLWRhc2hhcnJheT0iMTY0LjkzMzYxNDMxMzQ2NDE1IDU2Ljk3Nzg3MTQzNzgyMTM4Ij4gICAgPGFuaW1hdGVUcmFuc2Zvcm0gYXR0cmlidXRlTmFtZT0idHJhbnNmb3JtIiB0eXBlPSJyb3RhdGUiIHJlcGVhdENvdW50PSJpbmRlZmluaXRlIiBkdXI9IjFzIiB2YWx1ZXM9IjAgNTAgNTA7MzYwIDUwIDUwIiBrZXlUaW1lcz0iMDsxIj48L2FuaW1hdGVUcmFuc2Zvcm0+ICA8L2NpcmNsZT48L3N2Zz4=\\\");\\n  background-size: auto calc(min(50%, 400px));\\n}\",{\"id\":\"p1613\"},{\"id\":\"p1611\"},{\"id\":\"p1612\"}],\"margin\":0,\"sizing_mode\":\"stretch_width\",\"align\":\"start\"}}]}}],\"defs\":[{\"type\":\"model\",\"name\":\"ReactiveHTML1\"},{\"type\":\"model\",\"name\":\"FlexBox1\",\"properties\":[{\"name\":\"align_content\",\"kind\":\"Any\",\"default\":\"flex-start\"},{\"name\":\"align_items\",\"kind\":\"Any\",\"default\":\"flex-start\"},{\"name\":\"flex_direction\",\"kind\":\"Any\",\"default\":\"row\"},{\"name\":\"flex_wrap\",\"kind\":\"Any\",\"default\":\"wrap\"},{\"name\":\"justify_content\",\"kind\":\"Any\",\"default\":\"flex-start\"}]},{\"type\":\"model\",\"name\":\"FloatPanel1\",\"properties\":[{\"name\":\"config\",\"kind\":\"Any\",\"default\":{\"type\":\"map\"}},{\"name\":\"contained\",\"kind\":\"Any\",\"default\":true},{\"name\":\"position\",\"kind\":\"Any\",\"default\":\"right-top\"},{\"name\":\"offsetx\",\"kind\":\"Any\",\"default\":null},{\"name\":\"offsety\",\"kind\":\"Any\",\"default\":null},{\"name\":\"theme\",\"kind\":\"Any\",\"default\":\"primary\"},{\"name\":\"status\",\"kind\":\"Any\",\"default\":\"normalized\"}]},{\"type\":\"model\",\"name\":\"GridStack1\",\"properties\":[{\"name\":\"mode\",\"kind\":\"Any\",\"default\":\"warn\"},{\"name\":\"ncols\",\"kind\":\"Any\",\"default\":null},{\"name\":\"nrows\",\"kind\":\"Any\",\"default\":null},{\"name\":\"allow_resize\",\"kind\":\"Any\",\"default\":true},{\"name\":\"allow_drag\",\"kind\":\"Any\",\"default\":true},{\"name\":\"state\",\"kind\":\"Any\",\"default\":[]}]},{\"type\":\"model\",\"name\":\"drag1\",\"properties\":[{\"name\":\"slider_width\",\"kind\":\"Any\",\"default\":5},{\"name\":\"slider_color\",\"kind\":\"Any\",\"default\":\"black\"},{\"name\":\"value\",\"kind\":\"Any\",\"default\":50}]},{\"type\":\"model\",\"name\":\"click1\",\"properties\":[{\"name\":\"terminal_output\",\"kind\":\"Any\",\"default\":\"\"},{\"name\":\"debug_name\",\"kind\":\"Any\",\"default\":\"\"},{\"name\":\"clears\",\"kind\":\"Any\",\"default\":0}]},{\"type\":\"model\",\"name\":\"FastWrapper1\",\"properties\":[{\"name\":\"object\",\"kind\":\"Any\",\"default\":null},{\"name\":\"style\",\"kind\":\"Any\",\"default\":null}]},{\"type\":\"model\",\"name\":\"NotificationAreaBase1\",\"properties\":[{\"name\":\"js_events\",\"kind\":\"Any\",\"default\":{\"type\":\"map\"}},{\"name\":\"position\",\"kind\":\"Any\",\"default\":\"bottom-right\"},{\"name\":\"_clear\",\"kind\":\"Any\",\"default\":0}]},{\"type\":\"model\",\"name\":\"NotificationArea1\",\"properties\":[{\"name\":\"js_events\",\"kind\":\"Any\",\"default\":{\"type\":\"map\"}},{\"name\":\"notifications\",\"kind\":\"Any\",\"default\":[]},{\"name\":\"position\",\"kind\":\"Any\",\"default\":\"bottom-right\"},{\"name\":\"_clear\",\"kind\":\"Any\",\"default\":0},{\"name\":\"types\",\"kind\":\"Any\",\"default\":[{\"type\":\"map\",\"entries\":[[\"type\",\"warning\"],[\"background\",\"#ffc107\"],[\"icon\",{\"type\":\"map\",\"entries\":[[\"className\",\"fas fa-exclamation-triangle\"],[\"tagName\",\"i\"],[\"color\",\"white\"]]}]]},{\"type\":\"map\",\"entries\":[[\"type\",\"info\"],[\"background\",\"#007bff\"],[\"icon\",{\"type\":\"map\",\"entries\":[[\"className\",\"fas fa-info-circle\"],[\"tagName\",\"i\"],[\"color\",\"white\"]]}]]}]}]},{\"type\":\"model\",\"name\":\"Notification\",\"properties\":[{\"name\":\"background\",\"kind\":\"Any\",\"default\":null},{\"name\":\"duration\",\"kind\":\"Any\",\"default\":3000},{\"name\":\"icon\",\"kind\":\"Any\",\"default\":null},{\"name\":\"message\",\"kind\":\"Any\",\"default\":\"\"},{\"name\":\"notification_type\",\"kind\":\"Any\",\"default\":null},{\"name\":\"_destroyed\",\"kind\":\"Any\",\"default\":false}]},{\"type\":\"model\",\"name\":\"TemplateActions1\",\"properties\":[{\"name\":\"open_modal\",\"kind\":\"Any\",\"default\":0},{\"name\":\"close_modal\",\"kind\":\"Any\",\"default\":0}]},{\"type\":\"model\",\"name\":\"BootstrapTemplateActions1\",\"properties\":[{\"name\":\"open_modal\",\"kind\":\"Any\",\"default\":0},{\"name\":\"close_modal\",\"kind\":\"Any\",\"default\":0}]},{\"type\":\"model\",\"name\":\"MaterialTemplateActions1\",\"properties\":[{\"name\":\"open_modal\",\"kind\":\"Any\",\"default\":0},{\"name\":\"close_modal\",\"kind\":\"Any\",\"default\":0}]}]}};\n",
       "  var render_items = [{\"docid\":\"b8a08b06-cd38-4ecd-90e6-0e0ef7c9d610\",\"roots\":{\"p1610\":\"ed0e6cce-4af5-42f1-a4c6-fffd82de0518\"},\"root_ids\":[\"p1610\"]}];\n",
       "  var docs = Object.values(docs_json)\n",
       "  if (!docs) {\n",
       "    return\n",
       "  }\n",
       "  const py_version = docs[0].version.replace('rc', '-rc.').replace('.dev', '-dev.')\n",
       "  const is_dev = py_version.indexOf(\"+\") !== -1 || py_version.indexOf(\"-\") !== -1\n",
       "  function embed_document(root) {\n",
       "    var Bokeh = get_bokeh(root)\n",
       "    Bokeh.embed.embed_items_notebook(docs_json, render_items);\n",
       "    for (const render_item of render_items) {\n",
       "      for (const root_id of render_item.root_ids) {\n",
       "\tconst id_el = document.getElementById(root_id)\n",
       "\tif (id_el.children.length && (id_el.children[0].className === 'bk-root')) {\n",
       "\t  const root_el = id_el.children[0]\n",
       "\t  root_el.id = root_el.id + '-rendered'\n",
       "\t}\n",
       "      }\n",
       "    }\n",
       "  }\n",
       "  function get_bokeh(root) {\n",
       "    if (root.Bokeh === undefined) {\n",
       "      return null\n",
       "    } else if (root.Bokeh.version !== py_version && !is_dev) {\n",
       "      if (root.Bokeh.versions === undefined || !root.Bokeh.versions.has(py_version)) {\n",
       "\treturn null\n",
       "      }\n",
       "      return root.Bokeh.versions.get(py_version);\n",
       "    } else if (root.Bokeh.version === py_version) {\n",
       "      return root.Bokeh\n",
       "    }\n",
       "    return null\n",
       "  }\n",
       "  function is_loaded(root) {\n",
       "    var Bokeh = get_bokeh(root)\n",
       "    return (Bokeh != null && Bokeh.Panel !== undefined && ( root['Plotly'] !== undefined))\n",
       "  }\n",
       "  if (is_loaded(root)) {\n",
       "    embed_document(root);\n",
       "  } else {\n",
       "    var attempts = 0;\n",
       "    var timer = setInterval(function(root) {\n",
       "      if (is_loaded(root)) {\n",
       "        clearInterval(timer);\n",
       "        embed_document(root);\n",
       "      } else if (document.readyState == \"complete\") {\n",
       "        attempts++;\n",
       "        if (attempts > 200) {\n",
       "          clearInterval(timer);\n",
       "\t  var Bokeh = get_bokeh(root)\n",
       "\t  if (Bokeh == null || Bokeh.Panel == null) {\n",
       "            console.warn(\"Panel: ERROR: Unable to run Panel code because Bokeh or Panel library is missing\");\n",
       "\t  } else {\n",
       "\t    console.warn(\"Panel: WARNING: Attempting to render but not all required libraries could be resolved.\")\n",
       "\t    embed_document(root)\n",
       "\t  }\n",
       "        }\n",
       "      }\n",
       "    }, 25, root)\n",
       "  }\n",
       "})(window);</script>"
      ],
      "text/plain": [
       ":Bars   [index,Variable]   (value)"
      ]
     },
     "execution_count": 30,
     "metadata": {
      "application/vnd.holoviews_exec.v0+json": {
       "id": "p1610"
      }
     },
     "output_type": "execute_result"
    }
   ],
   "source": [
    "df_pct_change.hvplot.bar(xlabel = 'year', ylabel = 'daily return')"
   ]
  },
  {
   "cell_type": "markdown",
   "id": "9c5f666d-fec9-4d96-9d12-4538514a122a",
   "metadata": {},
   "source": [
    "## Activity 3"
   ]
  },
  {
   "cell_type": "code",
   "execution_count": null,
   "id": "65d2111f-197f-468f-9639-7f7265a821f1",
   "metadata": {
    "tags": []
   },
   "outputs": [],
   "source": [
    "import pandas as pd\n",
    "from pathlib import Path\n",
    "import hvplot.pandas"
   ]
  },
  {
   "cell_type": "code",
   "execution_count": null,
   "id": "165ceb08-8845-4cba-8d20-fa8bed97975c",
   "metadata": {
    "tags": []
   },
   "outputs": [],
   "source": [
    "# Read in the CSV as a DataFrame\n",
    "sp500_df = pd.read_csv(\n",
    "    Path('Resources/sp500_companies.csv')\n",
    ")\n",
    "sp500_df"
   ]
  },
  {
   "cell_type": "markdown",
   "id": "2ef5e809-95ee-4b3d-98b7-fc585d8f7dd5",
   "metadata": {},
   "source": [
    "### Activity 4"
   ]
  },
  {
   "cell_type": "code",
   "execution_count": null,
   "id": "a6fd6b30-2f48-449e-96da-d29e9329c1a1",
   "metadata": {
    "tags": []
   },
   "outputs": [],
   "source": [
    "import pandas as pd\n",
    "import numpy as np\n",
    "import hvplot.pandas"
   ]
  },
  {
   "cell_type": "markdown",
   "id": "d9afafe4-c420-47db-b69d-c86b5814e09b",
   "metadata": {},
   "source": [
    "#### hvplot Rendering issues\n",
    "\n",
    "1. Restart Kernel and Clear All Outputs\n",
    "\n",
    "#### Clear the Cache from the Chrome Browser\n",
    "\n",
    "\n",
    "1.  Option+Command+I (for macOS users) or Ctrl+Shift+I (for Windows users). The developer tools pane opens.\n",
    "\n",
    "2. click and hold the browser reload button. This forces a dropdown menu to appear. On this menu, click “Empty Cache and Hard Reload”\n"
   ]
  },
  {
   "cell_type": "markdown",
   "id": "74834629-6869-4b4a-bb01-6d50fbfebf88",
   "metadata": {},
   "source": [
    "### Activity 6 composition"
   ]
  },
  {
   "cell_type": "code",
   "execution_count": null,
   "id": "87b5151a-6ec5-419e-95cc-5357512cf2e8",
   "metadata": {
    "tags": []
   },
   "outputs": [],
   "source": [
    "import pandas as pd\n",
    "import hvplot.pandas\n",
    "from pathlib import Path"
   ]
  }
 ],
 "metadata": {
  "kernelspec": {
   "display_name": "Python 3 (ipykernel)",
   "language": "python",
   "name": "python3"
  },
  "language_info": {
   "codemirror_mode": {
    "name": "ipython",
    "version": 3
   },
   "file_extension": ".py",
   "mimetype": "text/x-python",
   "name": "python",
   "nbconvert_exporter": "python",
   "pygments_lexer": "ipython3",
   "version": "3.11.5"
  }
 },
 "nbformat": 4,
 "nbformat_minor": 5
}
