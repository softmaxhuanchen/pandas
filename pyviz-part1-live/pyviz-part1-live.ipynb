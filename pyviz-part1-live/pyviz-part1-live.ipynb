{
 "cells": [
  {
   "cell_type": "markdown",
   "id": "e173dc7b-48c5-4b97-8a2b-132f4b8a1f8d",
   "metadata": {},
   "source": [
    "## conda virtual env\n",
    "1. why create virtual env? \n",
    "2. commands\n",
    "- conda env list\n",
    "- conda deactivate \n",
    "- conda create -n pyviz anaconda\n",
    "- conda activate pyviz\n",
    "3. [reference link](https://github.com/softmaxhuanchen/Python-Dependency-Troubleshooting/blob/main/README.md)\n",
    "4. install pyviz lib\n",
    "- conda activate pyviz\n",
    "- conda install -c pyviz hvplot geoviews"
   ]
  },
  {
   "cell_type": "markdown",
   "id": "a7c15605-2e65-4d8f-972b-fc7bbd16a44b",
   "metadata": {},
   "source": [
    "### Activity 1"
   ]
  },
  {
   "cell_type": "markdown",
   "id": "fa3a8094-fc2e-416e-a5fe-bfdef6263eee",
   "metadata": {},
   "source": [
    "## hvplot using synthetic data\n",
    "[hvplot doc](https://hvplot.holoviz.org/user_guide/Introduction.html)"
   ]
  },
  {
   "cell_type": "code",
   "execution_count": null,
   "id": "7d4c87a0-a6e3-4ac8-ab22-11eeb5b498ae",
   "metadata": {
    "tags": []
   },
   "outputs": [],
   "source": [
    "# Import the required libraries and dependencies\n",
    "import numpy as np\n",
    "import pandas as pd\n",
    "\n",
    "# Import the hvPlot library\n",
    "import hvplot.pandas\n",
    "\n",
    "n = np.random.randn(52,4) # 2d array. \n",
    "n.shape\n",
    "\n",
    "idx = pd.date_range('1/1/2023', periods = 52, freq=\"W\")\n",
    "\n"
   ]
  },
  {
   "cell_type": "code",
   "execution_count": null,
   "id": "3cc15118-5abf-48c7-86f1-94d35081dafe",
   "metadata": {
    "tags": []
   },
   "outputs": [],
   "source": [
    "df = pd.DataFrame(np.random.randn(52,4), index = idx, columns = (\"AAPL\",\"META\",\"TLSA\",\"Navida\"))\n",
    "df1 = df.pct_change()\n",
    "df1 = df1.iloc[1:]\n",
    "df1"
   ]
  },
  {
   "cell_type": "code",
   "execution_count": null,
   "id": "1df3944c-1ddd-4dad-8c0d-1bb3de52eff0",
   "metadata": {
    "tags": []
   },
   "outputs": [],
   "source": [
    "df1.plot()"
   ]
  },
  {
   "cell_type": "code",
   "execution_count": null,
   "id": "dc16be27-21bf-4388-8abd-53a092edbdd4",
   "metadata": {
    "tags": []
   },
   "outputs": [],
   "source": [
    "hvplot.extension('bokeh')\n",
    "df1.hvplot.scatter()"
   ]
  },
  {
   "cell_type": "markdown",
   "id": "87dc5f59-5164-4751-bc1f-4ee12baaad08",
   "metadata": {},
   "source": [
    "### story telling using pyviz\n",
    "1. preparing the dfs (story)\n",
    "2. check dfs\n",
    "3. hvplot()"
   ]
  },
  {
   "cell_type": "code",
   "execution_count": null,
   "id": "05ed1b77-8245-4e83-8759-d51dfdc41feb",
   "metadata": {},
   "outputs": [],
   "source": [
    "import numpy as np\n",
    "import pandas as pd\n",
    "\n",
    "# Import the hvPlot library\n",
    "import hvplot.pandas"
   ]
  },
  {
   "cell_type": "code",
   "execution_count": null,
   "id": "1c7a16f1-a346-4aab-a035-7ac6333c143a",
   "metadata": {
    "tags": []
   },
   "outputs": [],
   "source": [
    "idx = pd.date_range('1/1/2023', periods = 52, freq=\"W\")\n",
    "stocks = ['AAPL', 'GOOG', 'MSFT', 'Meta']\n",
    "stats_dict = {'means': [100, 130, 200, 300], 'stds': [20, 25, 15,35]}\n",
    "df_stats = pd.DataFrame(stats_dict, index = stocks)\n",
    "df_stats"
   ]
  },
  {
   "cell_type": "code",
   "execution_count": null,
   "id": "f69d22a5-debb-4eea-a36e-7e2544d83b50",
   "metadata": {
    "tags": []
   },
   "outputs": [],
   "source": [
    "snythetic_dict = {}\n",
    "for stock in df_stats.index:\n",
    "    snythetic_dict[stock] = np.random.normal(df_stats.loc[stock, 'means'],df_stats.loc[stock, 'stds'], len(idx))\n",
    "    \n",
    "snythetic_dict"
   ]
  },
  {
   "cell_type": "code",
   "execution_count": null,
   "id": "a93ec030-447b-429c-b9c2-f0d27cac9360",
   "metadata": {
    "tags": []
   },
   "outputs": [],
   "source": [
    "snythetic_df = pd.DataFrame(snythetic_dict, index=idx)\n",
    "snythetic_df\n",
    "df_pct_change = snythetic_df.pct_change()\n",
    "df_pct_change\n",
    "\n",
    "df_pct_change = df_pct_change.iloc[1:]\n",
    "df_pct_change"
   ]
  },
  {
   "cell_type": "code",
   "execution_count": null,
   "id": "2a65cea3-ca42-40d6-adce-514adf241f5c",
   "metadata": {
    "tags": []
   },
   "outputs": [],
   "source": [
    "df_pct_change.hvplot(kind='bar')"
   ]
  },
  {
   "cell_type": "markdown",
   "id": "9c5f666d-fec9-4d96-9d12-4538514a122a",
   "metadata": {},
   "source": [
    "## Activity 3"
   ]
  },
  {
   "cell_type": "code",
   "execution_count": null,
   "id": "65d2111f-197f-468f-9639-7f7265a821f1",
   "metadata": {
    "tags": []
   },
   "outputs": [],
   "source": [
    "import pandas as pd\n",
    "from pathlib import Path\n",
    "import hvplot.pandas"
   ]
  },
  {
   "cell_type": "code",
   "execution_count": null,
   "id": "165ceb08-8845-4cba-8d20-fa8bed97975c",
   "metadata": {
    "tags": []
   },
   "outputs": [],
   "source": [
    "# Read in the CSV as a DataFrame\n",
    "sp500_df = pd.read_csv(\n",
    "    Path('Resources/sp500_companies.csv')\n",
    ")\n",
    "sp500_df"
   ]
  },
  {
   "cell_type": "markdown",
   "id": "2ef5e809-95ee-4b3d-98b7-fc585d8f7dd5",
   "metadata": {},
   "source": [
    "### Activity 4"
   ]
  },
  {
   "cell_type": "code",
   "execution_count": null,
   "id": "a6fd6b30-2f48-449e-96da-d29e9329c1a1",
   "metadata": {
    "tags": []
   },
   "outputs": [],
   "source": [
    "import pandas as pd\n",
    "import numpy as np\n",
    "import hvplot.pandas\n"
   ]
  },
  {
   "cell_type": "code",
   "execution_count": null,
   "id": "4a845b7c-7cf7-44ae-bce9-64bab1edbd6d",
   "metadata": {
    "tags": []
   },
   "outputs": [],
   "source": [
    "flight_nums = np.random.randint(low = 2000, high = 7000, size = 30)\n",
    "flight_nums\n",
    "num_passengers = np.random.randint(low = 150, high = 250, size = 30)\n",
    "num_passengers"
   ]
  },
  {
   "cell_type": "code",
   "execution_count": null,
   "id": "33c79901-a22a-4c99-8a7d-d7b2c7348097",
   "metadata": {
    "tags": []
   },
   "outputs": [],
   "source": [
    "flight_data = pd.DataFrame({'Passengers': num_passengers, 'Flight_Num': flight_nums, 'Status': ['on_time', 'delayed'] * 15})\n",
    "flight_data"
   ]
  },
  {
   "cell_type": "code",
   "execution_count": null,
   "id": "ddd221de-5978-42dc-b650-172e5548c1ff",
   "metadata": {
    "tags": []
   },
   "outputs": [],
   "source": [
    "flight_data = flight_data.set_index('Flight_Num')\n",
    "flight_data"
   ]
  },
  {
   "cell_type": "code",
   "execution_count": null,
   "id": "a4eb6980-6c60-46b7-bdea-d5da95382f0c",
   "metadata": {
    "tags": []
   },
   "outputs": [],
   "source": [
    "df1 = flight_data.loc[flight_data['Status'] == 'on_time']\n",
    "df1\n",
    "df2 = flight_data.loc[flight_data['Status'] == 'delayed']\n",
    "df2\n",
    "\n",
    "plot1 = df1.hvplot.bar()\n",
    "plot1\n",
    "\n",
    "plot2 = df2.hvplot.bar()\n",
    "plot2\n",
    "\n",
    "plotoverlay = plot1 + plot2\n",
    "plotoverlay\n",
    "\n",
    "plotoverlay1 = plot1 * plot2\n",
    "plotoverlay1\n"
   ]
  },
  {
   "cell_type": "markdown",
   "id": "d9afafe4-c420-47db-b69d-c86b5814e09b",
   "metadata": {},
   "source": [
    "#### hvplot Rendering issues\n",
    "\n",
    "1. Restart Kernel and Clear All Outputs\n",
    "\n",
    "#### Clear the Cache from the Chrome Browser\n",
    "\n",
    "\n",
    "1.  Option+Command+I (for macOS users) or Ctrl+Shift+I (for Windows users). The developer tools pane opens.\n",
    "\n",
    "2. click and hold the browser reload button. This forces a dropdown menu to appear. On this menu, click “Empty Cache and Hard Reload”\n"
   ]
  },
  {
   "cell_type": "markdown",
   "id": "74834629-6869-4b4a-bb01-6d50fbfebf88",
   "metadata": {},
   "source": [
    "### Activity 6 composition"
   ]
  },
  {
   "cell_type": "code",
   "execution_count": null,
   "id": "87b5151a-6ec5-419e-95cc-5357512cf2e8",
   "metadata": {
    "tags": []
   },
   "outputs": [],
   "source": [
    "import pandas as pd\n",
    "import hvplot.pandas\n",
    "from pathlib import Path"
   ]
  },
  {
   "cell_type": "code",
   "execution_count": null,
   "id": "ce9af4ce-5041-4a14-8b90-3a985443dd70",
   "metadata": {
    "tags": []
   },
   "outputs": [],
   "source": [
    "hospital_data = pd.read_csv(Path(\"Resources/hospital_claims.csv\"))\n",
    "hospital_data.head()"
   ]
  },
  {
   "cell_type": "code",
   "execution_count": null,
   "id": "46da74db-1859-469b-9d40-a656fd76afa1",
   "metadata": {
    "tags": []
   },
   "outputs": [],
   "source": [
    "procedure_552_charges = hospital_data[\n",
    "    hospital_data[\"DRG Definition\"] == \"552 - MEDICAL BACK PROBLEMS W/O MCC\"\n",
    "]\n",
    "payments_by_state = procedure_552_charges[[\"Average Total Payments\", \"Provider State\"]]\n",
    "payments_by_state\n",
    "total_payments_by_state = payments_by_state.groupby('Provider State').sum()\n",
    "total_payments_by_state"
   ]
  },
  {
   "cell_type": "code",
   "execution_count": null,
   "id": "b4eedf76-94a7-4a04-bd99-91e6b459eecb",
   "metadata": {
    "tags": []
   },
   "outputs": [],
   "source": [
    "total_payments_by_state.hvplot.bar()\n",
    "sorted_total_payments_by_state = total_payments_by_state.sort_values(\"Average Total Payments\")\n",
    "plot1 = sorted_total_payments_by_state.hvplot.bar()\n",
    "plot1"
   ]
  },
  {
   "cell_type": "code",
   "execution_count": null,
   "id": "fb5a8bf8-e58e-4c14-8539-29e6fd91ef2e",
   "metadata": {
    "tags": []
   },
   "outputs": [],
   "source": [
    "medicare_payment_by_state = procedure_552_charges[[\"Average Medicare Payments\", \"Provider State\"]]\n",
    "total_medicare_by_state = medicare_payment_by_state.groupby('Provider State').sum()\n",
    "plot2 = total_medicare_by_state.hvplot.bar()\n",
    "plot2"
   ]
  },
  {
   "cell_type": "code",
   "execution_count": null,
   "id": "e08038af-a536-4ef8-8264-64232bab32b6",
   "metadata": {
    "tags": []
   },
   "outputs": [],
   "source": [
    "plotcombined = plot1 + plot2\n",
    "plotcombined"
   ]
  },
  {
   "cell_type": "code",
   "execution_count": null,
   "id": "d32a31b5-70f2-4d42-9e04-d69c454e0632",
   "metadata": {
    "tags": []
   },
   "outputs": [],
   "source": [
    "plotcombined1 = plot1 * plot2\n",
    "plotcombined1"
   ]
  },
  {
   "cell_type": "code",
   "execution_count": null,
   "id": "ba693e40-7743-4d32-b2c6-797ac4709338",
   "metadata": {
    "tags": []
   },
   "outputs": [],
   "source": [
    "plot1.opts(color = 'green')"
   ]
  },
  {
   "cell_type": "code",
   "execution_count": null,
   "id": "982b71c8-e158-4f67-9fa2-2429402ae288",
   "metadata": {},
   "outputs": [],
   "source": []
  }
 ],
 "metadata": {
  "kernelspec": {
   "display_name": "Python 3 (ipykernel)",
   "language": "python",
   "name": "python3"
  },
  "language_info": {
   "codemirror_mode": {
    "name": "ipython",
    "version": 3
   },
   "file_extension": ".py",
   "mimetype": "text/x-python",
   "name": "python",
   "nbconvert_exporter": "python",
   "pygments_lexer": "ipython3",
   "version": "3.11.5"
  }
 },
 "nbformat": 4,
 "nbformat_minor": 5
}
