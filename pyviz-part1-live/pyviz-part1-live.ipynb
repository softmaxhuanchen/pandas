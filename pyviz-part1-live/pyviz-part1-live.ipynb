{
 "cells": [
  {
   "cell_type": "markdown",
   "id": "e173dc7b-48c5-4b97-8a2b-132f4b8a1f8d",
   "metadata": {},
   "source": [
    "## conda virtual env\n",
    "1. why create virtual env? \n",
    "2. commands\n",
    "- conda env list\n",
    "- conda deactivate \n",
    "- conda create -n pyviz anaconda\n",
    "- conda activate pyviz\n",
    "3. [reference link](https://github.com/softmaxhuanchen/Python-Dependency-Troubleshooting/blob/main/README.md)\n",
    "4. install pyviz lib\n",
    "- conda activate pyviz\n",
    "- conda install -c pyviz hvplot geoviews"
   ]
  },
  {
   "cell_type": "markdown",
   "id": "fa3a8094-fc2e-416e-a5fe-bfdef6263eee",
   "metadata": {},
   "source": [
    "## hvplot using synthetic data\n",
    "[hvplot doc](https://hvplot.holoviz.org/user_guide/Introduction.html)"
   ]
  },
  {
   "cell_type": "code",
   "execution_count": null,
   "id": "7d4c87a0-a6e3-4ac8-ab22-11eeb5b498ae",
   "metadata": {
    "tags": []
   },
   "outputs": [],
   "source": [
    "# Import the required libraries and dependencies\n",
    "import numpy as np\n",
    "import pandas as pd\n",
    "\n",
    "# Import the hvPlot library\n",
    "import hvplot.pandas\n"
   ]
  },
  {
   "cell_type": "markdown",
   "id": "87dc5f59-5164-4751-bc1f-4ee12baaad08",
   "metadata": {},
   "source": [
    "### story telling using pyviz"
   ]
  },
  {
   "cell_type": "markdown",
   "id": "9c5f666d-fec9-4d96-9d12-4538514a122a",
   "metadata": {},
   "source": [
    "## Activity 3"
   ]
  },
  {
   "cell_type": "code",
   "execution_count": null,
   "id": "65d2111f-197f-468f-9639-7f7265a821f1",
   "metadata": {
    "tags": []
   },
   "outputs": [],
   "source": [
    "import pandas as pd\n",
    "from pathlib import Path\n",
    "import hvplot.pandas"
   ]
  },
  {
   "cell_type": "code",
   "execution_count": null,
   "id": "165ceb08-8845-4cba-8d20-fa8bed97975c",
   "metadata": {
    "tags": []
   },
   "outputs": [],
   "source": [
    "# Read in the CSV as a DataFrame\n",
    "sp500_df = pd.read_csv(\n",
    "    Path('Resources/sp500_companies.csv')\n",
    ")\n",
    "sp500_df"
   ]
  },
  {
   "cell_type": "markdown",
   "id": "2ef5e809-95ee-4b3d-98b7-fc585d8f7dd5",
   "metadata": {},
   "source": [
    "### Activity 4"
   ]
  },
  {
   "cell_type": "code",
   "execution_count": null,
   "id": "a6fd6b30-2f48-449e-96da-d29e9329c1a1",
   "metadata": {
    "tags": []
   },
   "outputs": [],
   "source": [
    "import pandas as pd\n",
    "import numpy as np\n",
    "import hvplot.pandas"
   ]
  },
  {
   "cell_type": "markdown",
   "id": "d9afafe4-c420-47db-b69d-c86b5814e09b",
   "metadata": {},
   "source": [
    "#### hvplot Rendering issues\n",
    "\n",
    "1. Restart Kernel and Clear All Outputs\n",
    "\n",
    "#### Clear the Cache from the Chrome Browser\n",
    "\n",
    "\n",
    "1.  Option+Command+I (for macOS users) or Ctrl+Shift+I (for Windows users). The developer tools pane opens.\n",
    "\n",
    "2. click and hold the browser reload button. This forces a dropdown menu to appear. On this menu, click “Empty Cache and Hard Reload”\n"
   ]
  },
  {
   "cell_type": "markdown",
   "id": "74834629-6869-4b4a-bb01-6d50fbfebf88",
   "metadata": {},
   "source": [
    "### Activity 6 composition"
   ]
  },
  {
   "cell_type": "code",
   "execution_count": null,
   "id": "87b5151a-6ec5-419e-95cc-5357512cf2e8",
   "metadata": {
    "tags": []
   },
   "outputs": [],
   "source": [
    "import pandas as pd\n",
    "import hvplot.pandas\n",
    "from pathlib import Path"
   ]
  }
 ],
 "metadata": {
  "kernelspec": {
   "display_name": "Python 3 (ipykernel)",
   "language": "python",
   "name": "python3"
  },
  "language_info": {
   "codemirror_mode": {
    "name": "ipython",
    "version": 3
   },
   "file_extension": ".py",
   "mimetype": "text/x-python",
   "name": "python",
   "nbconvert_exporter": "python",
   "pygments_lexer": "ipython3",
   "version": "3.11.5"
  }
 },
 "nbformat": 4,
 "nbformat_minor": 5
}
