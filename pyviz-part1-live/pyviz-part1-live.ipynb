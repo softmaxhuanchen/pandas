{
 "cells": [
  {
   "cell_type": "markdown",
   "id": "e173dc7b-48c5-4b97-8a2b-132f4b8a1f8d",
   "metadata": {},
   "source": [
    "## conda virtual env\n",
    "1. why create virtual env? \n",
    "2. commands\n",
    "- conda env list\n",
    "- conda deactivate \n",
    "- conda create -n pyviz anaconda\n",
    "- conda activate pyviz\n",
    "3. [reference link](https://github.com/softmaxhuanchen/Python-Dependency-Troubleshooting/blob/main/README.md)\n",
    "4. install pyviz lib\n",
    "- conda activate pyviz\n",
    "- conda install -c pyviz hvplot geoviews"
   ]
  },
  {
   "cell_type": "markdown",
   "id": "a7c15605-2e65-4d8f-972b-fc7bbd16a44b",
   "metadata": {},
   "source": [
    "### Activity 1"
   ]
  },
  {
   "cell_type": "markdown",
   "id": "fa3a8094-fc2e-416e-a5fe-bfdef6263eee",
   "metadata": {},
   "source": [
    "## hvplot using synthetic data\n",
    "[hvplot doc](https://hvplot.holoviz.org/user_guide/Introduction.html)"
   ]
  },
  {
   "cell_type": "code",
   "execution_count": null,
   "id": "7d4c87a0-a6e3-4ac8-ab22-11eeb5b498ae",
   "metadata": {
    "tags": []
   },
   "outputs": [],
   "source": [
    "# Import the required libraries and dependencies\n",
    "import numpy as np\n",
    "import pandas as pd\n",
    "\n",
    "# Import the hvPlot library\n",
    "import hvplot.pandas\n",
    "\n",
    "n = np.random.randn(52,4) # 2d array. \n",
    "n.shape\n",
    "\n",
    "idx = pd.date_range('1/1/2023', periods = 52, freq=\"W\")\n",
    "\n"
   ]
  },
  {
   "cell_type": "code",
   "execution_count": null,
   "id": "3cc15118-5abf-48c7-86f1-94d35081dafe",
   "metadata": {
    "tags": []
   },
   "outputs": [],
   "source": [
    "df = pd.DataFrame(np.random.randn(52,4), index = idx, columns = (\"AAPL\",\"META\",\"TLSA\",\"Navida\"))\n",
    "df1 = df.pct_change()\n",
    "df1 = df1.iloc[1:]\n",
    "df1"
   ]
  },
  {
   "cell_type": "code",
   "execution_count": null,
   "id": "1df3944c-1ddd-4dad-8c0d-1bb3de52eff0",
   "metadata": {
    "tags": []
   },
   "outputs": [],
   "source": [
    "df1.plot()"
   ]
  },
  {
   "cell_type": "code",
   "execution_count": null,
   "id": "dc16be27-21bf-4388-8abd-53a092edbdd4",
   "metadata": {
    "tags": []
   },
   "outputs": [],
   "source": [
    "hvplot.extension('bokeh')\n",
    "df1.hvplot.scatter()"
   ]
  },
  {
   "cell_type": "markdown",
   "id": "87dc5f59-5164-4751-bc1f-4ee12baaad08",
   "metadata": {},
   "source": [
    "### story telling using pyviz\n",
    "1. preparing the dfs (story)\n",
    "2. check dfs\n",
    "3. hvplot()"
   ]
  },
  {
   "cell_type": "code",
   "execution_count": null,
   "id": "05ed1b77-8245-4e83-8759-d51dfdc41feb",
   "metadata": {},
   "outputs": [],
   "source": [
    "import numpy as np\n",
    "import pandas as pd\n",
    "\n",
    "# Import the hvPlot library\n",
    "import hvplot.pandas"
   ]
  },
  {
   "cell_type": "code",
   "execution_count": null,
   "id": "1c7a16f1-a346-4aab-a035-7ac6333c143a",
   "metadata": {
    "tags": []
   },
   "outputs": [],
   "source": [
    "idx = pd.date_range('1/1/2023', periods = 52, freq=\"W\")\n",
    "stocks = ['AAPL', 'GOOG', 'MSFT', 'Meta']\n",
    "stats_dict = {'means': [100, 130, 200, 300], 'stds': [20, 25, 15,35]}\n",
    "df_stats = pd.DataFrame(stats_dict, index = stocks)\n",
    "df_stats"
   ]
  },
  {
   "cell_type": "code",
   "execution_count": null,
   "id": "f69d22a5-debb-4eea-a36e-7e2544d83b50",
   "metadata": {
    "tags": []
   },
   "outputs": [],
   "source": [
    "snythetic_dict = {}\n",
    "for stock in df_stats.index:\n",
    "    snythetic_dict[stock] = np.random.normal(df_stats.loc[stock, 'means'],df_stats.loc[stock, 'stds'], len(idx))\n",
    "    \n",
    "snythetic_dict"
   ]
  },
  {
   "cell_type": "code",
   "execution_count": null,
   "id": "a93ec030-447b-429c-b9c2-f0d27cac9360",
   "metadata": {
    "tags": []
   },
   "outputs": [],
   "source": [
    "snythetic_df = pd.DataFrame(snythetic_dict, index=idx)\n",
    "snythetic_df\n",
    "df_pct_change = snythetic_df.pct_change()\n",
    "df_pct_change\n",
    "\n",
    "df_pct_change = df_pct_change.iloc[1:]\n",
    "df_pct_change"
   ]
  },
  {
   "cell_type": "code",
   "execution_count": null,
   "id": "2a65cea3-ca42-40d6-adce-514adf241f5c",
   "metadata": {
    "tags": []
   },
   "outputs": [],
   "source": [
    "df_pct_change.hvplot(kind='bar')"
   ]
  },
  {
   "cell_type": "markdown",
   "id": "9c5f666d-fec9-4d96-9d12-4538514a122a",
   "metadata": {},
   "source": [
    "## Activity 3"
   ]
  },
  {
   "cell_type": "code",
   "execution_count": null,
   "id": "65d2111f-197f-468f-9639-7f7265a821f1",
   "metadata": {
    "tags": []
   },
   "outputs": [],
   "source": [
    "import pandas as pd\n",
    "from pathlib import Path\n",
    "import hvplot.pandas"
   ]
  },
  {
   "cell_type": "code",
   "execution_count": null,
   "id": "165ceb08-8845-4cba-8d20-fa8bed97975c",
   "metadata": {
    "tags": []
   },
   "outputs": [],
   "source": [
    "# Read in the CSV as a DataFrame\n",
    "sp500_df = pd.read_csv(\n",
    "    Path('Resources/sp500_companies.csv')\n",
    ")\n",
    "sp500_df"
   ]
  },
  {
   "cell_type": "markdown",
   "id": "2ef5e809-95ee-4b3d-98b7-fc585d8f7dd5",
   "metadata": {},
   "source": [
    "### Activity 4"
   ]
  },
  {
   "cell_type": "code",
   "execution_count": null,
   "id": "a6fd6b30-2f48-449e-96da-d29e9329c1a1",
   "metadata": {
    "tags": []
   },
   "outputs": [],
   "source": [
    "import pandas as pd\n",
    "import numpy as np\n",
    "import hvplot.pandas\n"
   ]
  },
  {
   "cell_type": "code",
   "execution_count": null,
   "id": "4a845b7c-7cf7-44ae-bce9-64bab1edbd6d",
   "metadata": {
    "tags": []
   },
   "outputs": [],
   "source": [
    "flight_nums = np.random.randint(low = 2000, high = 7000, size = 30)\n",
    "flight_nums\n",
    "num_passengers = np.random.randint(low = 150, high = 250, size = 30)\n",
    "num_passengers"
   ]
  },
  {
   "cell_type": "code",
   "execution_count": null,
   "id": "33c79901-a22a-4c99-8a7d-d7b2c7348097",
   "metadata": {
    "tags": []
   },
   "outputs": [],
   "source": [
    "flight_data = pd.DataFrame({'Passengers': num_passengers, 'Flight_Num': flight_nums, 'Status': ['on_time', 'delayed'] * 15})\n",
    "flight_data"
   ]
  },
  {
   "cell_type": "code",
   "execution_count": null,
   "id": "ddd221de-5978-42dc-b650-172e5548c1ff",
   "metadata": {
    "tags": []
   },
   "outputs": [],
   "source": [
    "flight_data = flight_data.set_index('Flight_Num')\n",
    "flight_data"
   ]
  },
  {
   "cell_type": "code",
   "execution_count": null,
   "id": "a4eb6980-6c60-46b7-bdea-d5da95382f0c",
   "metadata": {
    "tags": []
   },
   "outputs": [],
   "source": [
    "df1 = flight_data.loc[flight_data['Status'] == 'on_time']\n",
    "df1\n",
    "df2 = flight_data.loc[flight_data['Status'] == 'delayed']\n",
    "df2\n",
    "\n",
    "plot1 = df1.hvplot.bar()\n",
    "plot1\n",
    "\n",
    "plot2 = df2.hvplot.bar()\n",
    "plot2\n",
    "\n",
    "plotoverlay = plot1 + plot2\n",
    "plotoverlay\n",
    "\n",
    "plotoverlay1 = plot1 * plot2\n",
    "plotoverlay1\n"
   ]
  },
  {
   "cell_type": "markdown",
   "id": "d9afafe4-c420-47db-b69d-c86b5814e09b",
   "metadata": {},
   "source": [
    "#### hvplot Rendering issues\n",
    "\n",
    "1. Restart Kernel and Clear All Outputs\n",
    "\n",
    "#### Clear the Cache from the Chrome Browser\n",
    "\n",
    "\n",
    "1.  Option+Command+I (for macOS users) or Ctrl+Shift+I (for Windows users). The developer tools pane opens.\n",
    "\n",
    "2. click and hold the browser reload button. This forces a dropdown menu to appear. On this menu, click “Empty Cache and Hard Reload”\n"
   ]
  },
  {
   "cell_type": "markdown",
   "id": "74834629-6869-4b4a-bb01-6d50fbfebf88",
   "metadata": {},
   "source": [
    "### Activity 6 composition"
   ]
  },
  {
   "cell_type": "code",
   "execution_count": null,
   "id": "87b5151a-6ec5-419e-95cc-5357512cf2e8",
   "metadata": {
    "tags": []
   },
   "outputs": [],
   "source": [
    "import pandas as pd\n",
    "import hvplot.pandas\n",
    "from pathlib import Path"
   ]
  },
  {
   "cell_type": "code",
   "execution_count": null,
   "id": "ce9af4ce-5041-4a14-8b90-3a985443dd70",
   "metadata": {
    "tags": []
   },
   "outputs": [],
   "source": [
    "hospital_data = pd.read_csv(Path(\"Resources/hospital_claims.csv\"))\n",
    "hospital_data.head()"
   ]
  },
  {
   "cell_type": "code",
   "execution_count": null,
   "id": "46da74db-1859-469b-9d40-a656fd76afa1",
   "metadata": {
    "tags": []
   },
   "outputs": [],
   "source": [
    "procedure_552_charges = hospital_data[\n",
    "    hospital_data[\"DRG Definition\"] == \"552 - MEDICAL BACK PROBLEMS W/O MCC\"\n",
    "]\n",
    "payments_by_state = procedure_552_charges[[\"Average Total Payments\", \"Provider State\"]]\n",
    "payments_by_state\n",
    "total_payments_by_state = payments_by_state.groupby('Provider State').sum()\n",
    "total_payments_by_state"
   ]
  },
  {
   "cell_type": "code",
   "execution_count": null,
   "id": "b4eedf76-94a7-4a04-bd99-91e6b459eecb",
   "metadata": {
    "tags": []
   },
   "outputs": [],
   "source": [
    "total_payments_by_state.hvplot.bar()\n",
    "sorted_total_payments_by_state = total_payments_by_state.sort_values(\"Average Total Payments\")\n",
    "plot1 = sorted_total_payments_by_state.hvplot.bar()\n",
    "plot1"
   ]
  },
  {
   "cell_type": "code",
   "execution_count": null,
   "id": "fb5a8bf8-e58e-4c14-8539-29e6fd91ef2e",
   "metadata": {
    "tags": []
   },
   "outputs": [],
   "source": [
    "medicare_payment_by_state = procedure_552_charges[[\"Average Medicare Payments\", \"Provider State\"]]\n",
    "total_medicare_by_state = medicare_payment_by_state.groupby('Provider State').sum()\n",
    "plot2 = total_medicare_by_state.hvplot.bar()\n",
    "plot2"
   ]
  },
  {
   "cell_type": "code",
   "execution_count": null,
   "id": "e08038af-a536-4ef8-8264-64232bab32b6",
   "metadata": {
    "tags": []
   },
   "outputs": [],
   "source": [
    "plotcombined = plot1 + plot2\n",
    "plotcombined"
   ]
  },
  {
   "cell_type": "code",
   "execution_count": null,
   "id": "d32a31b5-70f2-4d42-9e04-d69c454e0632",
   "metadata": {
    "tags": []
   },
   "outputs": [],
   "source": [
    "plotcombined1 = plot1 * plot2\n",
    "plotcombined1"
   ]
  },
  {
   "cell_type": "code",
   "execution_count": 80,
   "id": "ba693e40-7743-4d32-b2c6-797ac4709338",
   "metadata": {
    "tags": []
   },
   "outputs": [
    {
     "data": {},
     "metadata": {},
     "output_type": "display_data"
    },
    {
     "data": {
      "application/vnd.holoviews_exec.v0+json": "",
      "text/html": [
       "<div id='p3409'>\n",
       "  <div id=\"ac2d2646-d58a-4936-882e-84bc7cea09f6\" data-root-id=\"p3409\" style=\"display: contents;\"></div>\n",
       "</div>\n",
       "<script type=\"application/javascript\">(function(root) {\n",
       "  var docs_json = {\"a31c779e-3a21-4d44-8228-f75f1dc5b477\":{\"version\":\"3.2.1\",\"title\":\"Bokeh Application\",\"roots\":[{\"type\":\"object\",\"name\":\"Row\",\"id\":\"p3409\",\"attributes\":{\"name\":\"Row09919\",\"tags\":[\"embedded\"],\"stylesheets\":[\"\\n:host(.pn-loading.pn-arc):before, .pn-loading.pn-arc:before {\\n  background-image: url(\\\"data:image/svg+xml;base64,PHN2ZyB4bWxucz0iaHR0cDovL3d3dy53My5vcmcvMjAwMC9zdmciIHN0eWxlPSJtYXJnaW46IGF1dG87IGJhY2tncm91bmQ6IG5vbmU7IGRpc3BsYXk6IGJsb2NrOyBzaGFwZS1yZW5kZXJpbmc6IGF1dG87IiB2aWV3Qm94PSIwIDAgMTAwIDEwMCIgcHJlc2VydmVBc3BlY3RSYXRpbz0ieE1pZFlNaWQiPiAgPGNpcmNsZSBjeD0iNTAiIGN5PSI1MCIgZmlsbD0ibm9uZSIgc3Ryb2tlPSIjYzNjM2MzIiBzdHJva2Utd2lkdGg9IjEwIiByPSIzNSIgc3Ryb2tlLWRhc2hhcnJheT0iMTY0LjkzMzYxNDMxMzQ2NDE1IDU2Ljk3Nzg3MTQzNzgyMTM4Ij4gICAgPGFuaW1hdGVUcmFuc2Zvcm0gYXR0cmlidXRlTmFtZT0idHJhbnNmb3JtIiB0eXBlPSJyb3RhdGUiIHJlcGVhdENvdW50PSJpbmRlZmluaXRlIiBkdXI9IjFzIiB2YWx1ZXM9IjAgNTAgNTA7MzYwIDUwIDUwIiBrZXlUaW1lcz0iMDsxIj48L2FuaW1hdGVUcmFuc2Zvcm0+ICA8L2NpcmNsZT48L3N2Zz4=\\\");\\n  background-size: auto calc(min(50%, 400px));\\n}\",{\"type\":\"object\",\"name\":\"ImportedStyleSheet\",\"id\":\"p3412\",\"attributes\":{\"url\":\"https://cdn.holoviz.org/panel/1.2.3/dist/css/loading.css\"}},{\"type\":\"object\",\"name\":\"ImportedStyleSheet\",\"id\":\"p3464\",\"attributes\":{\"url\":\"https://cdn.holoviz.org/panel/1.2.3/dist/css/listpanel.css\"}},{\"type\":\"object\",\"name\":\"ImportedStyleSheet\",\"id\":\"p3410\",\"attributes\":{\"url\":\"https://cdn.holoviz.org/panel/1.2.3/dist/bundled/theme/default.css\"}},{\"type\":\"object\",\"name\":\"ImportedStyleSheet\",\"id\":\"p3411\",\"attributes\":{\"url\":\"https://cdn.holoviz.org/panel/1.2.3/dist/bundled/theme/native.css\"}}],\"min_width\":700,\"margin\":0,\"sizing_mode\":\"stretch_width\",\"align\":\"start\",\"children\":[{\"type\":\"object\",\"name\":\"Spacer\",\"id\":\"p3413\",\"attributes\":{\"name\":\"HSpacer09930\",\"stylesheets\":[\"\\n:host(.pn-loading.pn-arc):before, .pn-loading.pn-arc:before {\\n  background-image: url(\\\"data:image/svg+xml;base64,PHN2ZyB4bWxucz0iaHR0cDovL3d3dy53My5vcmcvMjAwMC9zdmciIHN0eWxlPSJtYXJnaW46IGF1dG87IGJhY2tncm91bmQ6IG5vbmU7IGRpc3BsYXk6IGJsb2NrOyBzaGFwZS1yZW5kZXJpbmc6IGF1dG87IiB2aWV3Qm94PSIwIDAgMTAwIDEwMCIgcHJlc2VydmVBc3BlY3RSYXRpbz0ieE1pZFlNaWQiPiAgPGNpcmNsZSBjeD0iNTAiIGN5PSI1MCIgZmlsbD0ibm9uZSIgc3Ryb2tlPSIjYzNjM2MzIiBzdHJva2Utd2lkdGg9IjEwIiByPSIzNSIgc3Ryb2tlLWRhc2hhcnJheT0iMTY0LjkzMzYxNDMxMzQ2NDE1IDU2Ljk3Nzg3MTQzNzgyMTM4Ij4gICAgPGFuaW1hdGVUcmFuc2Zvcm0gYXR0cmlidXRlTmFtZT0idHJhbnNmb3JtIiB0eXBlPSJyb3RhdGUiIHJlcGVhdENvdW50PSJpbmRlZmluaXRlIiBkdXI9IjFzIiB2YWx1ZXM9IjAgNTAgNTA7MzYwIDUwIDUwIiBrZXlUaW1lcz0iMDsxIj48L2FuaW1hdGVUcmFuc2Zvcm0+ICA8L2NpcmNsZT48L3N2Zz4=\\\");\\n  background-size: auto calc(min(50%, 400px));\\n}\",{\"id\":\"p3412\"},{\"id\":\"p3410\"},{\"id\":\"p3411\"}],\"margin\":0,\"sizing_mode\":\"stretch_width\",\"align\":\"start\"}},{\"type\":\"object\",\"name\":\"Figure\",\"id\":\"p3421\",\"attributes\":{\"width\":700,\"height\":300,\"margin\":[5,10],\"sizing_mode\":\"fixed\",\"align\":\"start\",\"x_range\":{\"type\":\"object\",\"name\":\"FactorRange\",\"id\":\"p3414\",\"attributes\":{\"tags\":[[[\"Provider State\",\"Provider State\",null]],[]],\"factors\":[\"AK\",\"VT\",\"ND\",\"DE\",\"WY\",\"ID\",\"MT\",\"RI\",\"SD\",\"HI\",\"DC\",\"UT\",\"NM\",\"NH\",\"ME\",\"OR\",\"NV\",\"KS\",\"NE\",\"WV\",\"MS\",\"IA\",\"OK\",\"LA\",\"AR\",\"CT\",\"CO\",\"SC\",\"AL\",\"AZ\",\"KY\",\"TN\",\"MN\",\"WI\",\"WA\",\"GA\",\"VA\",\"MO\",\"IN\",\"NC\",\"MD\",\"MA\",\"MI\",\"NJ\",\"OH\",\"PA\",\"IL\",\"TX\",\"FL\",\"NY\",\"CA\"]}},\"y_range\":{\"type\":\"object\",\"name\":\"Range1d\",\"id\":\"p3415\",\"attributes\":{\"tags\":[[[\"Average Total Payments\",\"Average Total Payments\",null]],{\"type\":\"map\",\"entries\":[[\"invert_yaxis\",false],[\"autorange\",false]]}],\"end\":1174247.446,\"reset_start\":0.0,\"reset_end\":1174247.446}},\"x_scale\":{\"type\":\"object\",\"name\":\"CategoricalScale\",\"id\":\"p3431\"},\"y_scale\":{\"type\":\"object\",\"name\":\"LinearScale\",\"id\":\"p3432\"},\"title\":{\"type\":\"object\",\"name\":\"Title\",\"id\":\"p3424\",\"attributes\":{\"text_color\":\"black\",\"text_font_size\":\"12pt\"}},\"renderers\":[{\"type\":\"object\",\"name\":\"GlyphRenderer\",\"id\":\"p3457\",\"attributes\":{\"data_source\":{\"type\":\"object\",\"name\":\"ColumnDataSource\",\"id\":\"p3448\",\"attributes\":{\"selected\":{\"type\":\"object\",\"name\":\"Selection\",\"id\":\"p3449\",\"attributes\":{\"indices\":[],\"line_indices\":[]}},\"selection_policy\":{\"type\":\"object\",\"name\":\"UnionRenderers\",\"id\":\"p3450\"},\"data\":{\"type\":\"map\",\"entries\":[[\"Provider_State\",[\"AK\",\"VT\",\"ND\",\"DE\",\"WY\",\"ID\",\"MT\",\"RI\",\"SD\",\"HI\",\"DC\",\"UT\",\"NM\",\"NH\",\"ME\",\"OR\",\"NV\",\"KS\",\"NE\",\"WV\",\"MS\",\"IA\",\"OK\",\"LA\",\"AR\",\"CT\",\"CO\",\"SC\",\"AL\",\"AZ\",\"KY\",\"TN\",\"MN\",\"WI\",\"WA\",\"GA\",\"VA\",\"MO\",\"IN\",\"NC\",\"MD\",\"MA\",\"MI\",\"NJ\",\"OH\",\"PA\",\"IL\",\"TX\",\"FL\",\"NY\",\"CA\"]],[\"Average_Total_Payments\",{\"type\":\"ndarray\",\"array\":{\"type\":\"bytes\",\"data\":\"ZmZmZmbeu0DsUbgeRbrSQHE9CtfjFNVAUrgehUtq1kCkcD0Kd5vYQJmZmZkZ395AexSuR+FH30A+CtejaIzgQOF6FK737+JA9ihcjxIH40AK16Nw1eTlQD4K16OwiOZAzczMzMys6kBI4XoUhgLsQK5H4XqgGfJAmpmZmdmD8kCuR+F6tEj0QFyPwvWUU/RAKVyPwnV09ED2KFyP3v71QKRwPQo/fPlAmpmZmcEA+0CF61G4+jn7QKRwPQr/UvxAMzMzMz9b/EAAAAAA8rEAQa5H4Xqk7ABBKVyPwsUDAkEfhetRakMCQQrXo3DjiQJBw/UoXFlhA0EK16NwGbYDQR+F61GKAgRBFa5H4Z4LB0EAAAAAPhQHQXsUrkfjKgtBZmZmZiiGDEGPwvUoNK0MQXE9CtdhvwxBexSuRwyXEEE9CtejKIgRQRWuR+GWVxJBw/UoXCN1FEHsUbge57sXQVyPwvVHthtBmpmZmTwXH0EzMzMz5XshQQAAAAC8eyJB4XoULmPMJUEpXI/CW24nQSlcj0JyTDBB\"},\"shape\":[51],\"dtype\":\"float64\",\"order\":\"little\"}]]}}},\"view\":{\"type\":\"object\",\"name\":\"CDSView\",\"id\":\"p3458\",\"attributes\":{\"filter\":{\"type\":\"object\",\"name\":\"AllIndices\",\"id\":\"p3459\"}}},\"glyph\":{\"type\":\"object\",\"name\":\"VBar\",\"id\":\"p3454\",\"attributes\":{\"tags\":[\"apply_ranges\"],\"x\":{\"type\":\"field\",\"field\":\"Provider_State\"},\"width\":{\"type\":\"value\",\"value\":0.8},\"top\":{\"type\":\"field\",\"field\":\"Average_Total_Payments\"},\"fill_color\":{\"type\":\"value\",\"value\":\"green\"},\"hatch_color\":{\"type\":\"value\",\"value\":\"green\"}}},\"selection_glyph\":{\"type\":\"object\",\"name\":\"VBar\",\"id\":\"p3460\",\"attributes\":{\"tags\":[\"apply_ranges\"],\"x\":{\"type\":\"field\",\"field\":\"Provider_State\"},\"width\":{\"type\":\"value\",\"value\":0.8},\"bottom\":{\"type\":\"value\",\"value\":0},\"top\":{\"type\":\"field\",\"field\":\"Average_Total_Payments\"},\"line_color\":{\"type\":\"value\",\"value\":\"black\"},\"line_alpha\":{\"type\":\"value\",\"value\":1.0},\"line_width\":{\"type\":\"value\",\"value\":1},\"line_join\":{\"type\":\"value\",\"value\":\"bevel\"},\"line_cap\":{\"type\":\"value\",\"value\":\"butt\"},\"line_dash\":{\"type\":\"value\",\"value\":[]},\"line_dash_offset\":{\"type\":\"value\",\"value\":0},\"fill_color\":{\"type\":\"value\",\"value\":\"green\"},\"fill_alpha\":{\"type\":\"value\",\"value\":1.0},\"hatch_color\":{\"type\":\"value\",\"value\":\"green\"},\"hatch_alpha\":{\"type\":\"value\",\"value\":1.0},\"hatch_scale\":{\"type\":\"value\",\"value\":12.0},\"hatch_pattern\":{\"type\":\"value\",\"value\":null},\"hatch_weight\":{\"type\":\"value\",\"value\":1.0}}},\"nonselection_glyph\":{\"type\":\"object\",\"name\":\"VBar\",\"id\":\"p3455\",\"attributes\":{\"tags\":[\"apply_ranges\"],\"x\":{\"type\":\"field\",\"field\":\"Provider_State\"},\"width\":{\"type\":\"value\",\"value\":0.8},\"top\":{\"type\":\"field\",\"field\":\"Average_Total_Payments\"},\"line_alpha\":{\"type\":\"value\",\"value\":0.1},\"fill_color\":{\"type\":\"value\",\"value\":\"green\"},\"fill_alpha\":{\"type\":\"value\",\"value\":0.1},\"hatch_color\":{\"type\":\"value\",\"value\":\"green\"},\"hatch_alpha\":{\"type\":\"value\",\"value\":0.1}}},\"muted_glyph\":{\"type\":\"object\",\"name\":\"VBar\",\"id\":\"p3456\",\"attributes\":{\"tags\":[\"apply_ranges\"],\"x\":{\"type\":\"field\",\"field\":\"Provider_State\"},\"width\":{\"type\":\"value\",\"value\":0.8},\"top\":{\"type\":\"field\",\"field\":\"Average_Total_Payments\"},\"line_alpha\":{\"type\":\"value\",\"value\":0.2},\"fill_color\":{\"type\":\"value\",\"value\":\"green\"},\"fill_alpha\":{\"type\":\"value\",\"value\":0.2},\"hatch_color\":{\"type\":\"value\",\"value\":\"green\"},\"hatch_alpha\":{\"type\":\"value\",\"value\":0.2}}}}}],\"toolbar\":{\"type\":\"object\",\"name\":\"Toolbar\",\"id\":\"p3430\",\"attributes\":{\"tools\":[{\"type\":\"object\",\"name\":\"WheelZoomTool\",\"id\":\"p3419\",\"attributes\":{\"tags\":[\"hv_created\"],\"zoom_together\":\"none\"}},{\"type\":\"object\",\"name\":\"HoverTool\",\"id\":\"p3420\",\"attributes\":{\"tags\":[\"hv_created\"],\"renderers\":[{\"id\":\"p3457\"}],\"tooltips\":[[\"Provider State\",\"@{Provider_State}\"],[\"Average Total Payments\",\"@{Average_Total_Payments}\"]]}},{\"type\":\"object\",\"name\":\"SaveTool\",\"id\":\"p3443\"},{\"type\":\"object\",\"name\":\"PanTool\",\"id\":\"p3444\"},{\"type\":\"object\",\"name\":\"BoxZoomTool\",\"id\":\"p3445\",\"attributes\":{\"overlay\":{\"type\":\"object\",\"name\":\"BoxAnnotation\",\"id\":\"p3446\",\"attributes\":{\"syncable\":false,\"level\":\"overlay\",\"visible\":false,\"left_units\":\"canvas\",\"right_units\":\"canvas\",\"bottom_units\":\"canvas\",\"top_units\":\"canvas\",\"line_color\":\"black\",\"line_alpha\":1.0,\"line_width\":2,\"line_dash\":[4,4],\"fill_color\":\"lightgrey\",\"fill_alpha\":0.5}}}},{\"type\":\"object\",\"name\":\"ResetTool\",\"id\":\"p3447\"}],\"active_drag\":{\"id\":\"p3444\"},\"active_scroll\":{\"id\":\"p3419\"}}},\"left\":[{\"type\":\"object\",\"name\":\"LinearAxis\",\"id\":\"p3438\",\"attributes\":{\"ticker\":{\"type\":\"object\",\"name\":\"BasicTicker\",\"id\":\"p3439\",\"attributes\":{\"mantissas\":[1,2,5]}},\"formatter\":{\"type\":\"object\",\"name\":\"BasicTickFormatter\",\"id\":\"p3440\"},\"axis_label\":\"Average Total Payments\",\"major_label_policy\":{\"type\":\"object\",\"name\":\"AllLabels\",\"id\":\"p3441\"}}}],\"below\":[{\"type\":\"object\",\"name\":\"CategoricalAxis\",\"id\":\"p3433\",\"attributes\":{\"ticker\":{\"type\":\"object\",\"name\":\"CategoricalTicker\",\"id\":\"p3434\"},\"formatter\":{\"type\":\"object\",\"name\":\"CategoricalTickFormatter\",\"id\":\"p3435\"},\"axis_label\":\"Provider State\",\"major_label_policy\":{\"type\":\"object\",\"name\":\"AllLabels\",\"id\":\"p3436\"}}}],\"center\":[{\"type\":\"object\",\"name\":\"Grid\",\"id\":\"p3437\",\"attributes\":{\"axis\":{\"id\":\"p3433\"},\"grid_line_color\":null}},{\"type\":\"object\",\"name\":\"Grid\",\"id\":\"p3442\",\"attributes\":{\"dimension\":1,\"axis\":{\"id\":\"p3438\"},\"grid_line_color\":null}}],\"min_border_top\":10,\"min_border_bottom\":10,\"min_border_left\":10,\"min_border_right\":10,\"output_backend\":\"webgl\"}},{\"type\":\"object\",\"name\":\"Spacer\",\"id\":\"p3462\",\"attributes\":{\"name\":\"HSpacer09933\",\"stylesheets\":[\"\\n:host(.pn-loading.pn-arc):before, .pn-loading.pn-arc:before {\\n  background-image: url(\\\"data:image/svg+xml;base64,PHN2ZyB4bWxucz0iaHR0cDovL3d3dy53My5vcmcvMjAwMC9zdmciIHN0eWxlPSJtYXJnaW46IGF1dG87IGJhY2tncm91bmQ6IG5vbmU7IGRpc3BsYXk6IGJsb2NrOyBzaGFwZS1yZW5kZXJpbmc6IGF1dG87IiB2aWV3Qm94PSIwIDAgMTAwIDEwMCIgcHJlc2VydmVBc3BlY3RSYXRpbz0ieE1pZFlNaWQiPiAgPGNpcmNsZSBjeD0iNTAiIGN5PSI1MCIgZmlsbD0ibm9uZSIgc3Ryb2tlPSIjYzNjM2MzIiBzdHJva2Utd2lkdGg9IjEwIiByPSIzNSIgc3Ryb2tlLWRhc2hhcnJheT0iMTY0LjkzMzYxNDMxMzQ2NDE1IDU2Ljk3Nzg3MTQzNzgyMTM4Ij4gICAgPGFuaW1hdGVUcmFuc2Zvcm0gYXR0cmlidXRlTmFtZT0idHJhbnNmb3JtIiB0eXBlPSJyb3RhdGUiIHJlcGVhdENvdW50PSJpbmRlZmluaXRlIiBkdXI9IjFzIiB2YWx1ZXM9IjAgNTAgNTA7MzYwIDUwIDUwIiBrZXlUaW1lcz0iMDsxIj48L2FuaW1hdGVUcmFuc2Zvcm0+ICA8L2NpcmNsZT48L3N2Zz4=\\\");\\n  background-size: auto calc(min(50%, 400px));\\n}\",{\"id\":\"p3412\"},{\"id\":\"p3410\"},{\"id\":\"p3411\"}],\"margin\":0,\"sizing_mode\":\"stretch_width\",\"align\":\"start\"}}]}}],\"defs\":[{\"type\":\"model\",\"name\":\"ReactiveHTML1\"},{\"type\":\"model\",\"name\":\"FlexBox1\",\"properties\":[{\"name\":\"align_content\",\"kind\":\"Any\",\"default\":\"flex-start\"},{\"name\":\"align_items\",\"kind\":\"Any\",\"default\":\"flex-start\"},{\"name\":\"flex_direction\",\"kind\":\"Any\",\"default\":\"row\"},{\"name\":\"flex_wrap\",\"kind\":\"Any\",\"default\":\"wrap\"},{\"name\":\"justify_content\",\"kind\":\"Any\",\"default\":\"flex-start\"}]},{\"type\":\"model\",\"name\":\"FloatPanel1\",\"properties\":[{\"name\":\"config\",\"kind\":\"Any\",\"default\":{\"type\":\"map\"}},{\"name\":\"contained\",\"kind\":\"Any\",\"default\":true},{\"name\":\"position\",\"kind\":\"Any\",\"default\":\"right-top\"},{\"name\":\"offsetx\",\"kind\":\"Any\",\"default\":null},{\"name\":\"offsety\",\"kind\":\"Any\",\"default\":null},{\"name\":\"theme\",\"kind\":\"Any\",\"default\":\"primary\"},{\"name\":\"status\",\"kind\":\"Any\",\"default\":\"normalized\"}]},{\"type\":\"model\",\"name\":\"GridStack1\",\"properties\":[{\"name\":\"mode\",\"kind\":\"Any\",\"default\":\"warn\"},{\"name\":\"ncols\",\"kind\":\"Any\",\"default\":null},{\"name\":\"nrows\",\"kind\":\"Any\",\"default\":null},{\"name\":\"allow_resize\",\"kind\":\"Any\",\"default\":true},{\"name\":\"allow_drag\",\"kind\":\"Any\",\"default\":true},{\"name\":\"state\",\"kind\":\"Any\",\"default\":[]}]},{\"type\":\"model\",\"name\":\"drag1\",\"properties\":[{\"name\":\"slider_width\",\"kind\":\"Any\",\"default\":5},{\"name\":\"slider_color\",\"kind\":\"Any\",\"default\":\"black\"},{\"name\":\"value\",\"kind\":\"Any\",\"default\":50}]},{\"type\":\"model\",\"name\":\"click1\",\"properties\":[{\"name\":\"terminal_output\",\"kind\":\"Any\",\"default\":\"\"},{\"name\":\"debug_name\",\"kind\":\"Any\",\"default\":\"\"},{\"name\":\"clears\",\"kind\":\"Any\",\"default\":0}]},{\"type\":\"model\",\"name\":\"FastWrapper1\",\"properties\":[{\"name\":\"object\",\"kind\":\"Any\",\"default\":null},{\"name\":\"style\",\"kind\":\"Any\",\"default\":null}]},{\"type\":\"model\",\"name\":\"NotificationAreaBase1\",\"properties\":[{\"name\":\"js_events\",\"kind\":\"Any\",\"default\":{\"type\":\"map\"}},{\"name\":\"position\",\"kind\":\"Any\",\"default\":\"bottom-right\"},{\"name\":\"_clear\",\"kind\":\"Any\",\"default\":0}]},{\"type\":\"model\",\"name\":\"NotificationArea1\",\"properties\":[{\"name\":\"js_events\",\"kind\":\"Any\",\"default\":{\"type\":\"map\"}},{\"name\":\"notifications\",\"kind\":\"Any\",\"default\":[]},{\"name\":\"position\",\"kind\":\"Any\",\"default\":\"bottom-right\"},{\"name\":\"_clear\",\"kind\":\"Any\",\"default\":0},{\"name\":\"types\",\"kind\":\"Any\",\"default\":[{\"type\":\"map\",\"entries\":[[\"type\",\"warning\"],[\"background\",\"#ffc107\"],[\"icon\",{\"type\":\"map\",\"entries\":[[\"className\",\"fas fa-exclamation-triangle\"],[\"tagName\",\"i\"],[\"color\",\"white\"]]}]]},{\"type\":\"map\",\"entries\":[[\"type\",\"info\"],[\"background\",\"#007bff\"],[\"icon\",{\"type\":\"map\",\"entries\":[[\"className\",\"fas fa-info-circle\"],[\"tagName\",\"i\"],[\"color\",\"white\"]]}]]}]}]},{\"type\":\"model\",\"name\":\"Notification\",\"properties\":[{\"name\":\"background\",\"kind\":\"Any\",\"default\":null},{\"name\":\"duration\",\"kind\":\"Any\",\"default\":3000},{\"name\":\"icon\",\"kind\":\"Any\",\"default\":null},{\"name\":\"message\",\"kind\":\"Any\",\"default\":\"\"},{\"name\":\"notification_type\",\"kind\":\"Any\",\"default\":null},{\"name\":\"_destroyed\",\"kind\":\"Any\",\"default\":false}]},{\"type\":\"model\",\"name\":\"TemplateActions1\",\"properties\":[{\"name\":\"open_modal\",\"kind\":\"Any\",\"default\":0},{\"name\":\"close_modal\",\"kind\":\"Any\",\"default\":0}]},{\"type\":\"model\",\"name\":\"BootstrapTemplateActions1\",\"properties\":[{\"name\":\"open_modal\",\"kind\":\"Any\",\"default\":0},{\"name\":\"close_modal\",\"kind\":\"Any\",\"default\":0}]},{\"type\":\"model\",\"name\":\"MaterialTemplateActions1\",\"properties\":[{\"name\":\"open_modal\",\"kind\":\"Any\",\"default\":0},{\"name\":\"close_modal\",\"kind\":\"Any\",\"default\":0}]}]}};\n",
       "  var render_items = [{\"docid\":\"a31c779e-3a21-4d44-8228-f75f1dc5b477\",\"roots\":{\"p3409\":\"ac2d2646-d58a-4936-882e-84bc7cea09f6\"},\"root_ids\":[\"p3409\"]}];\n",
       "  var docs = Object.values(docs_json)\n",
       "  if (!docs) {\n",
       "    return\n",
       "  }\n",
       "  const py_version = docs[0].version.replace('rc', '-rc.').replace('.dev', '-dev.')\n",
       "  const is_dev = py_version.indexOf(\"+\") !== -1 || py_version.indexOf(\"-\") !== -1\n",
       "  function embed_document(root) {\n",
       "    var Bokeh = get_bokeh(root)\n",
       "    Bokeh.embed.embed_items_notebook(docs_json, render_items);\n",
       "    for (const render_item of render_items) {\n",
       "      for (const root_id of render_item.root_ids) {\n",
       "\tconst id_el = document.getElementById(root_id)\n",
       "\tif (id_el.children.length && (id_el.children[0].className === 'bk-root')) {\n",
       "\t  const root_el = id_el.children[0]\n",
       "\t  root_el.id = root_el.id + '-rendered'\n",
       "\t}\n",
       "      }\n",
       "    }\n",
       "  }\n",
       "  function get_bokeh(root) {\n",
       "    if (root.Bokeh === undefined) {\n",
       "      return null\n",
       "    } else if (root.Bokeh.version !== py_version && !is_dev) {\n",
       "      if (root.Bokeh.versions === undefined || !root.Bokeh.versions.has(py_version)) {\n",
       "\treturn null\n",
       "      }\n",
       "      return root.Bokeh.versions.get(py_version);\n",
       "    } else if (root.Bokeh.version === py_version) {\n",
       "      return root.Bokeh\n",
       "    }\n",
       "    return null\n",
       "  }\n",
       "  function is_loaded(root) {\n",
       "    var Bokeh = get_bokeh(root)\n",
       "    return (Bokeh != null && Bokeh.Panel !== undefined && ( root['Plotly'] !== undefined))\n",
       "  }\n",
       "  if (is_loaded(root)) {\n",
       "    embed_document(root);\n",
       "  } else {\n",
       "    var attempts = 0;\n",
       "    var timer = setInterval(function(root) {\n",
       "      if (is_loaded(root)) {\n",
       "        clearInterval(timer);\n",
       "        embed_document(root);\n",
       "      } else if (document.readyState == \"complete\") {\n",
       "        attempts++;\n",
       "        if (attempts > 200) {\n",
       "          clearInterval(timer);\n",
       "\t  var Bokeh = get_bokeh(root)\n",
       "\t  if (Bokeh == null || Bokeh.Panel == null) {\n",
       "            console.warn(\"Panel: ERROR: Unable to run Panel code because Bokeh or Panel library is missing\");\n",
       "\t  } else {\n",
       "\t    console.warn(\"Panel: WARNING: Attempting to render but not all required libraries could be resolved.\")\n",
       "\t    embed_document(root)\n",
       "\t  }\n",
       "        }\n",
       "      }\n",
       "    }, 25, root)\n",
       "  }\n",
       "})(window);</script>"
      ],
      "text/plain": [
       ":Bars   [Provider State]   (Average Total Payments)"
      ]
     },
     "execution_count": 80,
     "metadata": {
      "application/vnd.holoviews_exec.v0+json": {
       "id": "p3409"
      }
     },
     "output_type": "execute_result"
    }
   ],
   "source": [
    "plot1.opts(color = 'green')"
   ]
  },
  {
   "cell_type": "code",
   "execution_count": null,
   "id": "982b71c8-e158-4f67-9fa2-2429402ae288",
   "metadata": {},
   "outputs": [],
   "source": []
  }
 ],
 "metadata": {
  "kernelspec": {
   "display_name": "Python 3 (ipykernel)",
   "language": "python",
   "name": "python3"
  },
  "language_info": {
   "codemirror_mode": {
    "name": "ipython",
    "version": 3
   },
   "file_extension": ".py",
   "mimetype": "text/x-python",
   "name": "python",
   "nbconvert_exporter": "python",
   "pygments_lexer": "ipython3",
   "version": "3.11.5"
  }
 },
 "nbformat": 4,
 "nbformat_minor": 5
}
