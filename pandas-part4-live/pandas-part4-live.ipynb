{
 "cells": [
  {
   "cell_type": "markdown",
   "id": "f5da174f-4b8d-4c7b-9f5a-858b468e7822",
   "metadata": {},
   "source": [
    "### Review\n",
    "- what is weighted average\n",
    "- what is portfolio return \n",
    "- what is portfolio std"
   ]
  },
  {
   "cell_type": "code",
   "execution_count": null,
   "id": "59b7e515-a13a-4155-8877-c60bfeab3351",
   "metadata": {},
   "outputs": [],
   "source": [
    "# Import required libraries\n",
    "import pandas as pd\n",
    "from pathlib import Path\n",
    "import random\n",
    "import numpy as np\n",
    "import matplotlib.pyplot as plt\n"
   ]
  },
  {
   "cell_type": "markdown",
   "id": "97c30b42-dd32-453c-8dde-65ddd810eb2c",
   "metadata": {},
   "source": [
    "### code drill 30 minutes"
   ]
  },
  {
   "cell_type": "markdown",
   "id": "4e238e58-e2ee-4f1e-bb58-be7777c90966",
   "metadata": {},
   "source": [
    "### Challenge 1 write a func to read and concat all the csv files in to one df, and calculate the correlation matrix"
   ]
  },
  {
   "cell_type": "markdown",
   "id": "6387b36b-e87b-4336-9c95-62bc2cb23bb8",
   "metadata": {},
   "source": [
    "### Challenge 2 write a func to generate a list of random weights for portfolio construction later. all weights should sum to 100%"
   ]
  },
  {
   "cell_type": "markdown",
   "id": "246b28d5-de49-4f6d-a28d-589642e9f79c",
   "metadata": {},
   "source": [
    "### Challenge 3 given initial capital of 100000, add a column to the portfolio df to show daily portfolio value."
   ]
  },
  {
   "cell_type": "markdown",
   "id": "f515f25b-a45a-43d6-90da-dfdac103f75e",
   "metadata": {},
   "source": [
    "### code drill for the remaining time"
   ]
  },
  {
   "cell_type": "code",
   "execution_count": null,
   "id": "d4330509-4c6a-4072-97df-3d8ad435afbd",
   "metadata": {},
   "outputs": [],
   "source": []
  }
 ],
 "metadata": {
  "kernelspec": {
   "display_name": "Python 3 (ipykernel)",
   "language": "python",
   "name": "python3"
  },
  "language_info": {
   "codemirror_mode": {
    "name": "ipython",
    "version": 3
   },
   "file_extension": ".py",
   "mimetype": "text/x-python",
   "name": "python",
   "nbconvert_exporter": "python",
   "pygments_lexer": "ipython3",
   "version": "3.11.5"
  }
 },
 "nbformat": 4,
 "nbformat_minor": 5
}
