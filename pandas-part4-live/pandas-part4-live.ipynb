{
 "cells": [
  {
   "cell_type": "code",
   "execution_count": null,
   "id": "59b7e515-a13a-4155-8877-c60bfeab3351",
   "metadata": {},
   "outputs": [],
   "source": [
    "# Import required libraries\n",
    "import pandas as pd\n",
    "from pathlib import Path\n",
    "import random\n",
    "import numpy as np\n",
    "import matplotlib.pyplot as plt\n"
   ]
  },
  {
   "cell_type": "code",
   "execution_count": null,
   "id": "a7bb0823-3888-4d4b-ae54-8bc857bdf642",
   "metadata": {},
   "outputs": [],
   "source": [
    "# read all the stocks files into one df\n",
    "def read_files_into_onedf():\n",
    "    stocks = ['AAPL', 'DPZ', 'GOOG', 'IBM', 'ISRG', 'MNST', 'TSCO', 'TSLA', 'V']\n",
    "    dfs = []\n",
    "    for stock in stocks:\n",
    "        file_path = Path('./Resources/' + stock + '.csv')\n",
    "        df = pd.read_csv(file_path)\n",
    "        df = df.set_index('Date') # align the rows, also avoiding extra 'Date' columns\n",
    "        dfs.append(df)\n",
    "    portfolio_df = pd.concat(dfs, axis='columns', join='inner')\n",
    "    return portfolio_df\n",
    "\n",
    "portfolio_df = read_files_into_onedf()\n",
    "portfolio_df.corr()"
   ]
  },
  {
   "cell_type": "code",
   "execution_count": null,
   "id": "8b6e34fe-f4a5-4967-808a-2077db5c2d48",
   "metadata": {
    "tags": []
   },
   "outputs": [],
   "source": [
    "# generate random weights, all weights should sum to 100%, input number of weights, output a list of weights.\n",
    "def gen_weights_random(num_weights):\n",
    "    weights = [random.random() for _ in range(num_weights)] \n",
    "    total = sum(weights)\n",
    "    normalized_weights = [round(w/total,2) for w in weights]\n",
    "    return normalized_weights\n",
    "\n",
    "print(gen_weights_random(8))\n",
    "weights = gen_weights_random(9)\n",
    "        "
   ]
  },
  {
   "cell_type": "code",
   "execution_count": null,
   "id": "4b840936-8f16-428d-b2cd-e96ded5b540d",
   "metadata": {},
   "outputs": [],
   "source": [
    "\n",
    "capital = 100000\n",
    "portfolio_daily_return_df = portfolio_df.pct_change()\n",
    "portfolio_daily_return_df['Portfolio Daily Returns'] = portfolio_daily_return_df.dot(weights)\n",
    "portfolio_daily_return_df['Portfolio Cumulative Returns'] = (1 + portfolio_daily_return_df['Portfolio Daily Returns']).cumprod()\n",
    "portfolio_daily_return_df['Portfolio Value'] = capital * portfolio_daily_return_df['Portfolio Cumulative Returns']\n",
    "portfolio_daily_return_df.tail()"
   ]
  },
  {
   "cell_type": "code",
   "execution_count": null,
   "id": "1f9c81cc-0c9f-48af-a522-5d188e2b6b89",
   "metadata": {},
   "outputs": [],
   "source": [
    "# Plot the portfolio values\n",
    "plt.figure(figsize=(14,7))\n",
    "portfolio_daily_return_df['Portfolio Value'].plot()\n",
    "plt.title('Portfolio Value Over Time')\n",
    "plt.xlabel('Date')\n",
    "plt.ylabel('Portfolio Value in $')\n",
    "plt.show()"
   ]
  }
 ],
 "metadata": {
  "kernelspec": {
   "display_name": "Python 3 (ipykernel)",
   "language": "python",
   "name": "python3"
  },
  "language_info": {
   "codemirror_mode": {
    "name": "ipython",
    "version": 3
   },
   "file_extension": ".py",
   "mimetype": "text/x-python",
   "name": "python",
   "nbconvert_exporter": "python",
   "pygments_lexer": "ipython3",
   "version": "3.11.5"
  }
 },
 "nbformat": 4,
 "nbformat_minor": 5
}
