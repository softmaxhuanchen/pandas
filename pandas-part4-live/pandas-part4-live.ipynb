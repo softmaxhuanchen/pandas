{
 "cells": [
  {
   "cell_type": "markdown",
   "id": "f5da174f-4b8d-4c7b-9f5a-858b468e7822",
   "metadata": {},
   "source": [
    "### Review\n",
    "- what is weighted average stock1 return 10%, stock2 return 8%, stock 3 return 15%. (10% x 1% + 8% x 99%+ 15% x 0), given 25%, 30%, 45% weights, 1%, 99%, 0%\n",
    "- what is portfolio return is =  weighted average of each stock's return\n",
    "- what is portfolio std is weighted average of each stock's std only if the correlation between all the stocks is 1. correclation (-1, 1)\n",
    "- portfolio std < weighted average of each stock's std if the correlation between all the stocks < 1"
   ]
  },
  {
   "cell_type": "code",
   "execution_count": 6,
   "id": "59b7e515-a13a-4155-8877-c60bfeab3351",
   "metadata": {},
   "outputs": [],
   "source": [
    "# Import required libraries\n",
    "import pandas as pd\n",
    "from pathlib import Path\n",
    "import random\n",
    "import numpy as np\n",
    "import matplotlib.pyplot as plt\n"
   ]
  },
  {
   "cell_type": "markdown",
   "id": "97c30b42-dd32-453c-8dde-65ddd810eb2c",
   "metadata": {},
   "source": [
    "### code drill 30 minutes"
   ]
  },
  {
   "cell_type": "markdown",
   "id": "4e238e58-e2ee-4f1e-bb58-be7777c90966",
   "metadata": {},
   "source": [
    "### Challenge 1 write a func to read and concat all the csv files in to one df, and calculate the correlation matrix"
   ]
  },
  {
   "cell_type": "code",
   "execution_count": null,
   "id": "ed1a8239-c1e7-42fa-ac6d-318a00b176cd",
   "metadata": {
    "tags": []
   },
   "outputs": [],
   "source": [
    "def read_files_into_onedf():\n",
    "    stocks = ['AAPL', 'DPZ', 'GOOG', 'IBM', 'ISRG', 'MNST', 'TSCO', 'TSLA', 'V']\n",
    "    dfs = []\n",
    "    for stock in stocks:\n",
    "        file_path = Path('./Resources/' + stock + '.csv')\n",
    "        df = pd.read_csv(file_path, index_col='Date')\n",
    "        dfs.append(df)\n",
    "    portfolio_df = pd.concat(dfs, axis = 'columns', join='inner')\n",
    "    return portfolio_df\n",
    "\n",
    "portfolio_df = read_files_into_onedf()        \n",
    "\n",
    "portfolio_df.corr()\n",
    "    "
   ]
  },
  {
   "cell_type": "markdown",
   "id": "6387b36b-e87b-4336-9c95-62bc2cb23bb8",
   "metadata": {
    "tags": []
   },
   "source": [
    "### Challenge 2 write a func to generate a list of random weights for portfolio construction later. all weights should sum to 100%\n"
   ]
  },
  {
   "cell_type": "code",
   "execution_count": 28,
   "id": "c522689c-63bc-4636-b760-55a40630ee11",
   "metadata": {
    "tags": []
   },
   "outputs": [
    {
     "name": "stdout",
     "output_type": "stream",
     "text": [
      "[0.2, 0.21, 0.2, 0.08, 0.03, 0.01, 0.07, 0.04, 0.17]\n"
     ]
    }
   ],
   "source": [
    "def gen_weights_random(num_weights): \n",
    "    weights = [random.random() for _ in range(num_weights)]\n",
    "    total = sum(weights)\n",
    "    normalized_weights = [round(w/total,2) for w in weights]\n",
    "    return normalized_weights\n",
    "\n",
    "port_weights = gen_weights_random(9)\n",
    "print(port_weights)\n"
   ]
  },
  {
   "cell_type": "markdown",
   "id": "246b28d5-de49-4f6d-a28d-589642e9f79c",
   "metadata": {},
   "source": [
    "### Challenge 3 given initial capital of 100000, add a column to the portfolio_df to show daily portfolio value. \n",
    "### Also come up with portfolio allocation (weights) to have the highest portfolio ending value "
   ]
  },
  {
   "cell_type": "code",
   "execution_count": 31,
   "id": "b1aa683e-29d3-4b93-b72e-3a079b74ab16",
   "metadata": {
    "tags": []
   },
   "outputs": [
    {
     "data": {
      "text/html": [
       "<div>\n",
       "<style scoped>\n",
       "    .dataframe tbody tr th:only-of-type {\n",
       "        vertical-align: middle;\n",
       "    }\n",
       "\n",
       "    .dataframe tbody tr th {\n",
       "        vertical-align: top;\n",
       "    }\n",
       "\n",
       "    .dataframe thead th {\n",
       "        text-align: right;\n",
       "    }\n",
       "</style>\n",
       "<table border=\"1\" class=\"dataframe\">\n",
       "  <thead>\n",
       "    <tr style=\"text-align: right;\">\n",
       "      <th></th>\n",
       "      <th>AAPL</th>\n",
       "      <th>DPZ</th>\n",
       "      <th>GOOG</th>\n",
       "      <th>IBM</th>\n",
       "      <th>ISRG</th>\n",
       "      <th>MNST</th>\n",
       "      <th>TSCO</th>\n",
       "      <th>TSLA</th>\n",
       "      <th>V</th>\n",
       "      <th>Portfolio Daily Returns</th>\n",
       "      <th>Portfolio Cumulative Returns</th>\n",
       "      <th>Portfolio daily value</th>\n",
       "    </tr>\n",
       "    <tr>\n",
       "      <th>Date</th>\n",
       "      <th></th>\n",
       "      <th></th>\n",
       "      <th></th>\n",
       "      <th></th>\n",
       "      <th></th>\n",
       "      <th></th>\n",
       "      <th></th>\n",
       "      <th></th>\n",
       "      <th></th>\n",
       "      <th></th>\n",
       "      <th></th>\n",
       "      <th></th>\n",
       "    </tr>\n",
       "  </thead>\n",
       "  <tbody>\n",
       "    <tr>\n",
       "      <th>2023-05-23</th>\n",
       "      <td>-0.015155</td>\n",
       "      <td>-0.014956</td>\n",
       "      <td>-0.020497</td>\n",
       "      <td>0.005333</td>\n",
       "      <td>-0.038837</td>\n",
       "      <td>-0.019959</td>\n",
       "      <td>-0.019032</td>\n",
       "      <td>-0.016413</td>\n",
       "      <td>-0.028969</td>\n",
       "      <td>-0.016822</td>\n",
       "      <td>29.346098</td>\n",
       "      <td>2934609.80</td>\n",
       "    </tr>\n",
       "    <tr>\n",
       "      <th>2023-05-24</th>\n",
       "      <td>0.001632</td>\n",
       "      <td>0.008249</td>\n",
       "      <td>-0.013383</td>\n",
       "      <td>-0.019504</td>\n",
       "      <td>0.003450</td>\n",
       "      <td>-0.006386</td>\n",
       "      <td>-0.000229</td>\n",
       "      <td>-0.015449</td>\n",
       "      <td>-0.010375</td>\n",
       "      <td>-0.005759</td>\n",
       "      <td>29.177103</td>\n",
       "      <td>2917710.26</td>\n",
       "    </tr>\n",
       "    <tr>\n",
       "      <th>2023-05-25</th>\n",
       "      <td>0.006692</td>\n",
       "      <td>-0.007497</td>\n",
       "      <td>0.022279</td>\n",
       "      <td>0.008593</td>\n",
       "      <td>0.004265</td>\n",
       "      <td>-0.004169</td>\n",
       "      <td>-0.021191</td>\n",
       "      <td>0.008584</td>\n",
       "      <td>0.005084</td>\n",
       "      <td>-0.000916</td>\n",
       "      <td>29.150376</td>\n",
       "      <td>2915037.63</td>\n",
       "    </tr>\n",
       "    <tr>\n",
       "      <th>2023-05-26</th>\n",
       "      <td>0.014105</td>\n",
       "      <td>-0.015337</td>\n",
       "      <td>0.008685</td>\n",
       "      <td>0.016803</td>\n",
       "      <td>0.010304</td>\n",
       "      <td>0.004884</td>\n",
       "      <td>-0.006249</td>\n",
       "      <td>0.047162</td>\n",
       "      <td>0.007297</td>\n",
       "      <td>0.021222</td>\n",
       "      <td>29.768992</td>\n",
       "      <td>2976899.24</td>\n",
       "    </tr>\n",
       "    <tr>\n",
       "      <th>2023-05-30</th>\n",
       "      <td>0.010660</td>\n",
       "      <td>-0.028149</td>\n",
       "      <td>-0.006298</td>\n",
       "      <td>0.004578</td>\n",
       "      <td>0.000554</td>\n",
       "      <td>0.002430</td>\n",
       "      <td>0.018203</td>\n",
       "      <td>0.041363</td>\n",
       "      <td>-0.014977</td>\n",
       "      <td>0.025204</td>\n",
       "      <td>30.519287</td>\n",
       "      <td>3051928.71</td>\n",
       "    </tr>\n",
       "  </tbody>\n",
       "</table>\n",
       "</div>"
      ],
      "text/plain": [
       "                AAPL       DPZ      GOOG       IBM      ISRG      MNST  \\\n",
       "Date                                                                     \n",
       "2023-05-23 -0.015155 -0.014956 -0.020497  0.005333 -0.038837 -0.019959   \n",
       "2023-05-24  0.001632  0.008249 -0.013383 -0.019504  0.003450 -0.006386   \n",
       "2023-05-25  0.006692 -0.007497  0.022279  0.008593  0.004265 -0.004169   \n",
       "2023-05-26  0.014105 -0.015337  0.008685  0.016803  0.010304  0.004884   \n",
       "2023-05-30  0.010660 -0.028149 -0.006298  0.004578  0.000554  0.002430   \n",
       "\n",
       "                TSCO      TSLA         V  Portfolio Daily Returns  \\\n",
       "Date                                                                \n",
       "2023-05-23 -0.019032 -0.016413 -0.028969                -0.016822   \n",
       "2023-05-24 -0.000229 -0.015449 -0.010375                -0.005759   \n",
       "2023-05-25 -0.021191  0.008584  0.005084                -0.000916   \n",
       "2023-05-26 -0.006249  0.047162  0.007297                 0.021222   \n",
       "2023-05-30  0.018203  0.041363 -0.014977                 0.025204   \n",
       "\n",
       "            Portfolio Cumulative Returns  Portfolio daily value  \n",
       "Date                                                             \n",
       "2023-05-23                     29.346098             2934609.80  \n",
       "2023-05-24                     29.177103             2917710.26  \n",
       "2023-05-25                     29.150376             2915037.63  \n",
       "2023-05-26                     29.768992             2976899.24  \n",
       "2023-05-30                     30.519287             3051928.71  "
      ]
     },
     "execution_count": 31,
     "metadata": {},
     "output_type": "execute_result"
    }
   ],
   "source": [
    "port_weights = [0.30, 0, 0, 0, 0, 0, 0.30, 0.40, 0]\n",
    "init_capital = 100000\n",
    "portfolio_daily_return_df = portfolio_df.pct_change()\n",
    "portfolio_daily_return_df['Portfolio Daily Returns'] = portfolio_daily_return_df.dot(port_weights)\n",
    "portfolio_daily_return_df['Portfolio Cumulative Returns'] = (1 + portfolio_daily_return_df['Portfolio Daily Returns']).cumprod() \n",
    "portfolio_daily_return_df['Portfolio daily value'] = round(portfolio_daily_return_df['Portfolio Cumulative Returns'] * init_capital, 2)\n",
    "portfolio_daily_return_df.tail()\n",
    "# portfolio_daily_return_df.plot()"
   ]
  },
  {
   "cell_type": "markdown",
   "id": "f515f25b-a45a-43d6-90da-dfdac103f75e",
   "metadata": {},
   "source": [
    "### code drill for the remaining time"
   ]
  },
  {
   "cell_type": "code",
   "execution_count": null,
   "id": "d4330509-4c6a-4072-97df-3d8ad435afbd",
   "metadata": {},
   "outputs": [],
   "source": []
  }
 ],
 "metadata": {
  "kernelspec": {
   "display_name": "Python 3 (ipykernel)",
   "language": "python",
   "name": "python3"
  },
  "language_info": {
   "codemirror_mode": {
    "name": "ipython",
    "version": 3
   },
   "file_extension": ".py",
   "mimetype": "text/x-python",
   "name": "python",
   "nbconvert_exporter": "python",
   "pygments_lexer": "ipython3",
   "version": "3.11.5"
  }
 },
 "nbformat": 4,
 "nbformat_minor": 5
}
