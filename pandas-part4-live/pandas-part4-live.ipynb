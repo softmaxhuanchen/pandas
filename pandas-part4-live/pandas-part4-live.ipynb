{
 "cells": [
  {
   "cell_type": "markdown",
   "id": "f5da174f-4b8d-4c7b-9f5a-858b468e7822",
   "metadata": {},
   "source": [
    "### Review\n",
    "- what is weighted average stock1 return 10%, stock2 return 8%, stock 3 return 15%. (10% x 1% + 8% x 99%+ 15% x 0), given 25%, 30%, 45% weights, 1%, 99%, 0%\n",
    "- what is portfolio return is =  weighted average of each stock's return\n",
    "- what is portfolio std is weighted average of each stock's std only if the correlation between all the stocks is 1. correclation (-1, 1)\n",
    "- portfolio std < weighted average of each stock's std if the correlation between all the stocks < 1"
   ]
  },
  {
   "cell_type": "code",
   "execution_count": 6,
   "id": "59b7e515-a13a-4155-8877-c60bfeab3351",
   "metadata": {},
   "outputs": [],
   "source": [
    "# Import required libraries\n",
    "import pandas as pd\n",
    "from pathlib import Path\n",
    "import random\n",
    "import numpy as np\n",
    "import matplotlib.pyplot as plt\n"
   ]
  },
  {
   "cell_type": "markdown",
   "id": "97c30b42-dd32-453c-8dde-65ddd810eb2c",
   "metadata": {},
   "source": [
    "### code drill 30 minutes"
   ]
  },
  {
   "cell_type": "markdown",
   "id": "4e238e58-e2ee-4f1e-bb58-be7777c90966",
   "metadata": {},
   "source": [
    "### Challenge 1 write a func to read and concat all the csv files in to one df, and calculate the correlation matrix"
   ]
  },
  {
   "cell_type": "code",
   "execution_count": 12,
   "id": "ed1a8239-c1e7-42fa-ac6d-318a00b176cd",
   "metadata": {
    "tags": []
   },
   "outputs": [
    {
     "data": {
      "text/html": [
       "<div>\n",
       "<style scoped>\n",
       "    .dataframe tbody tr th:only-of-type {\n",
       "        vertical-align: middle;\n",
       "    }\n",
       "\n",
       "    .dataframe tbody tr th {\n",
       "        vertical-align: top;\n",
       "    }\n",
       "\n",
       "    .dataframe thead th {\n",
       "        text-align: right;\n",
       "    }\n",
       "</style>\n",
       "<table border=\"1\" class=\"dataframe\">\n",
       "  <thead>\n",
       "    <tr style=\"text-align: right;\">\n",
       "      <th></th>\n",
       "      <th>AAPL</th>\n",
       "      <th>DPZ</th>\n",
       "      <th>GOOG</th>\n",
       "      <th>IBM</th>\n",
       "      <th>ISRG</th>\n",
       "      <th>MNST</th>\n",
       "      <th>TSCO</th>\n",
       "      <th>TSLA</th>\n",
       "      <th>V</th>\n",
       "    </tr>\n",
       "  </thead>\n",
       "  <tbody>\n",
       "    <tr>\n",
       "      <th>AAPL</th>\n",
       "      <td>1.000000</td>\n",
       "      <td>0.898281</td>\n",
       "      <td>0.959231</td>\n",
       "      <td>0.307331</td>\n",
       "      <td>0.919718</td>\n",
       "      <td>0.913831</td>\n",
       "      <td>0.961824</td>\n",
       "      <td>0.940638</td>\n",
       "      <td>0.912238</td>\n",
       "    </tr>\n",
       "    <tr>\n",
       "      <th>DPZ</th>\n",
       "      <td>0.898281</td>\n",
       "      <td>1.000000</td>\n",
       "      <td>0.940522</td>\n",
       "      <td>0.090248</td>\n",
       "      <td>0.965997</td>\n",
       "      <td>0.901014</td>\n",
       "      <td>0.820324</td>\n",
       "      <td>0.813839</td>\n",
       "      <td>0.956122</td>\n",
       "    </tr>\n",
       "    <tr>\n",
       "      <th>GOOG</th>\n",
       "      <td>0.959231</td>\n",
       "      <td>0.940522</td>\n",
       "      <td>1.000000</td>\n",
       "      <td>0.255007</td>\n",
       "      <td>0.955258</td>\n",
       "      <td>0.899180</td>\n",
       "      <td>0.912986</td>\n",
       "      <td>0.924362</td>\n",
       "      <td>0.921369</td>\n",
       "    </tr>\n",
       "    <tr>\n",
       "      <th>IBM</th>\n",
       "      <td>0.307331</td>\n",
       "      <td>0.090248</td>\n",
       "      <td>0.255007</td>\n",
       "      <td>1.000000</td>\n",
       "      <td>0.176896</td>\n",
       "      <td>0.129905</td>\n",
       "      <td>0.340718</td>\n",
       "      <td>0.319890</td>\n",
       "      <td>0.130631</td>\n",
       "    </tr>\n",
       "    <tr>\n",
       "      <th>ISRG</th>\n",
       "      <td>0.919718</td>\n",
       "      <td>0.965997</td>\n",
       "      <td>0.955258</td>\n",
       "      <td>0.176896</td>\n",
       "      <td>1.000000</td>\n",
       "      <td>0.906113</td>\n",
       "      <td>0.858026</td>\n",
       "      <td>0.830504</td>\n",
       "      <td>0.962309</td>\n",
       "    </tr>\n",
       "    <tr>\n",
       "      <th>MNST</th>\n",
       "      <td>0.913831</td>\n",
       "      <td>0.901014</td>\n",
       "      <td>0.899180</td>\n",
       "      <td>0.129905</td>\n",
       "      <td>0.906113</td>\n",
       "      <td>1.000000</td>\n",
       "      <td>0.883099</td>\n",
       "      <td>0.792710</td>\n",
       "      <td>0.935921</td>\n",
       "    </tr>\n",
       "    <tr>\n",
       "      <th>TSCO</th>\n",
       "      <td>0.961824</td>\n",
       "      <td>0.820324</td>\n",
       "      <td>0.912986</td>\n",
       "      <td>0.340718</td>\n",
       "      <td>0.858026</td>\n",
       "      <td>0.883099</td>\n",
       "      <td>1.000000</td>\n",
       "      <td>0.909310</td>\n",
       "      <td>0.850023</td>\n",
       "    </tr>\n",
       "    <tr>\n",
       "      <th>TSLA</th>\n",
       "      <td>0.940638</td>\n",
       "      <td>0.813839</td>\n",
       "      <td>0.924362</td>\n",
       "      <td>0.319890</td>\n",
       "      <td>0.830504</td>\n",
       "      <td>0.792710</td>\n",
       "      <td>0.909310</td>\n",
       "      <td>1.000000</td>\n",
       "      <td>0.777678</td>\n",
       "    </tr>\n",
       "    <tr>\n",
       "      <th>V</th>\n",
       "      <td>0.912238</td>\n",
       "      <td>0.956122</td>\n",
       "      <td>0.921369</td>\n",
       "      <td>0.130631</td>\n",
       "      <td>0.962309</td>\n",
       "      <td>0.935921</td>\n",
       "      <td>0.850023</td>\n",
       "      <td>0.777678</td>\n",
       "      <td>1.000000</td>\n",
       "    </tr>\n",
       "  </tbody>\n",
       "</table>\n",
       "</div>"
      ],
      "text/plain": [
       "          AAPL       DPZ      GOOG       IBM      ISRG      MNST      TSCO  \\\n",
       "AAPL  1.000000  0.898281  0.959231  0.307331  0.919718  0.913831  0.961824   \n",
       "DPZ   0.898281  1.000000  0.940522  0.090248  0.965997  0.901014  0.820324   \n",
       "GOOG  0.959231  0.940522  1.000000  0.255007  0.955258  0.899180  0.912986   \n",
       "IBM   0.307331  0.090248  0.255007  1.000000  0.176896  0.129905  0.340718   \n",
       "ISRG  0.919718  0.965997  0.955258  0.176896  1.000000  0.906113  0.858026   \n",
       "MNST  0.913831  0.901014  0.899180  0.129905  0.906113  1.000000  0.883099   \n",
       "TSCO  0.961824  0.820324  0.912986  0.340718  0.858026  0.883099  1.000000   \n",
       "TSLA  0.940638  0.813839  0.924362  0.319890  0.830504  0.792710  0.909310   \n",
       "V     0.912238  0.956122  0.921369  0.130631  0.962309  0.935921  0.850023   \n",
       "\n",
       "          TSLA         V  \n",
       "AAPL  0.940638  0.912238  \n",
       "DPZ   0.813839  0.956122  \n",
       "GOOG  0.924362  0.921369  \n",
       "IBM   0.319890  0.130631  \n",
       "ISRG  0.830504  0.962309  \n",
       "MNST  0.792710  0.935921  \n",
       "TSCO  0.909310  0.850023  \n",
       "TSLA  1.000000  0.777678  \n",
       "V     0.777678  1.000000  "
      ]
     },
     "execution_count": 12,
     "metadata": {},
     "output_type": "execute_result"
    }
   ],
   "source": [
    "def read_files_into_onedf():\n",
    "    stocks = ['AAPL', 'DPZ', 'GOOG', 'IBM', 'ISRG', 'MNST', 'TSCO', 'TSLA', 'V']\n",
    "    dfs = []\n",
    "    for stock in stocks:\n",
    "        file_path = Path('./Resources/' + stock + '.csv')\n",
    "        df = pd.read_csv(file_path, index_col='Date')\n",
    "        dfs.append(df)\n",
    "    portfolio_df = pd.concat(dfs, axis = 'columns', join='inner')\n",
    "    return portfolio_df\n",
    "\n",
    "portfolio_df = read_files_into_onedf()        \n",
    "\n",
    "portfolio_df.corr()\n",
    "    "
   ]
  },
  {
   "cell_type": "markdown",
   "id": "6387b36b-e87b-4336-9c95-62bc2cb23bb8",
   "metadata": {
    "tags": []
   },
   "source": [
    "### Challenge 2 write a func to generate a list of random weights for portfolio construction later. all weights should sum to 100%\n"
   ]
  },
  {
   "cell_type": "code",
   "execution_count": 20,
   "id": "c522689c-63bc-4636-b760-55a40630ee11",
   "metadata": {
    "tags": []
   },
   "outputs": [
    {
     "name": "stdout",
     "output_type": "stream",
     "text": [
      "[0.23, 0.06, 0.1, 0.01, 0.03, 0.05, 0.23, 0.18, 0.11]\n"
     ]
    }
   ],
   "source": [
    "def gen_weights_random(num_weights): \n",
    "    weights = [random.random() for _ in range(num_weights)]\n",
    "    total = sum(weights)\n",
    "    normalized_weights = [round(w/total,2) for w in weights]\n",
    "    return normalized_weights\n",
    "\n",
    "port_weights = gen_weights_random(9)\n",
    "print(port_weights)\n"
   ]
  },
  {
   "cell_type": "markdown",
   "id": "246b28d5-de49-4f6d-a28d-589642e9f79c",
   "metadata": {},
   "source": [
    "### Challenge 3 given initial capital of 100000, add a column to the portfolio_df to show daily portfolio value. \n",
    "### Also come up with portfolio allocation (weights) to have the highest portfolio ending value "
   ]
  },
  {
   "cell_type": "markdown",
   "id": "f515f25b-a45a-43d6-90da-dfdac103f75e",
   "metadata": {},
   "source": [
    "### code drill for the remaining time"
   ]
  },
  {
   "cell_type": "code",
   "execution_count": null,
   "id": "d4330509-4c6a-4072-97df-3d8ad435afbd",
   "metadata": {},
   "outputs": [],
   "source": []
  }
 ],
 "metadata": {
  "kernelspec": {
   "display_name": "Python 3 (ipykernel)",
   "language": "python",
   "name": "python3"
  },
  "language_info": {
   "codemirror_mode": {
    "name": "ipython",
    "version": 3
   },
   "file_extension": ".py",
   "mimetype": "text/x-python",
   "name": "python",
   "nbconvert_exporter": "python",
   "pygments_lexer": "ipython3",
   "version": "3.11.5"
  }
 },
 "nbformat": 4,
 "nbformat_minor": 5
}
