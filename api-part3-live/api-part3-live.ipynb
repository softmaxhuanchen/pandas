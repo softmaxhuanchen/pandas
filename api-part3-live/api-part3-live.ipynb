{
 "cells": [
  {
   "cell_type": "markdown",
   "id": "9f256d2e-5411-49c5-ab64-1aacfd2806c4",
   "metadata": {
    "jp-MarkdownHeadingCollapsed": true,
    "tags": []
   },
   "source": [
    "### review random variable and distribution\n",
    "- what's a random variable? discrete, continious. stock price. \n",
    "- what's the distribution of the random variable? normal distribution\n",
    "- how to know the value of a random variable? if we know the distributioin (normal distribution) "
   ]
  },
  {
   "cell_type": "markdown",
   "id": "77c15200-6399-4ff7-b2d1-16a15101bef3",
   "metadata": {},
   "source": [
    "### two sides of randomness\n",
    "- randomness bad. if you want to tame randomness, you will fail. \n",
    "- randomness is probably the most powerful algo in the universe. huge implication. \n",
    "- how to use the randomnness algo. first, you need to know distribution of the ramndom variable. normal distribution\n",
    "- sample from the normal distribution"
   ]
  },
  {
   "cell_type": "markdown",
   "id": "ad65c636-69f7-47ec-8a8e-e3b5d74d5dd2",
   "metadata": {
    "tags": []
   },
   "source": [
    "### some insights\n",
    "- select the right random variable. stock price (trend + randomness). -> daily return is better choice for randomn varible. \n",
    "- sample from the normal distribution. \n",
    "- "
   ]
  },
  {
   "cell_type": "markdown",
   "id": "a3a9afb9-5fa9-4e0e-bf90-cb20655b09ac",
   "metadata": {},
   "source": [
    "### simulation is the way to understand fututure"
   ]
  },
  {
   "cell_type": "markdown",
   "id": "961fe5be-a28a-4911-8f15-f6eebbf385a5",
   "metadata": {
    "tags": []
   },
   "source": [
    "### Monte Carlo simulation \n",
    "- ask the quesition. what is my random variable. daily return \n",
    "- get the statistics description mean  0.001 std.  0.018\n",
    "- flipping the coin"
   ]
  },
  {
   "cell_type": "markdown",
   "id": "04c5d9ac-37d8-4629-b2a4-870b445e02bc",
   "metadata": {},
   "source": [
    "### Let's implement MC for stock"
   ]
  },
  {
   "cell_type": "code",
   "execution_count": null,
   "id": "2de4bc98-d4f0-4cca-9d1a-f30933267a1f",
   "metadata": {
    "tags": []
   },
   "outputs": [],
   "source": [
    "import numpy as np\n",
    "import pandas as pd\n",
    "import alpaca_trade_api as tradeapi\n",
    "from dotenv import load_dotenv\n",
    "import os\n",
    "\n",
    "class Stock:\n",
    "    def __init__(self, symbol, start_date, end_date):\n",
    "        self.symbol = symbol\n",
    "        self.start_date = start_date\n",
    "        self.end_date = end_date\n",
    "        self._setup_df()\n",
    "    \n",
    "    def _setup_df(self):\n",
    "        \n",
    "        if(load_dotenv() == False):\n",
    "            raise Exception('problem loading .env')\n",
    "        alpaca_api_key = os.getenv(\"ALPACA_API_KEY\")\n",
    "        alpaca_secret_key = os.getenv(\"ALPACA_SECRET_KEY\")\n",
    "        api = tradeapi.REST(\n",
    "            alpaca_api_key,\n",
    "            alpaca_secret_key,\n",
    "            api_version = \"v2\"\n",
    "        )\n",
    "\n",
    "        self.df_stock = api.get_bars(\n",
    "            self.symbol,\n",
    "            \"1Day\",\n",
    "            start=pd.Timestamp(self.start_date, tz=\"America/New_York\").isoformat(),\n",
    "            end=pd.Timestamp(self.end_date, tz=\"America/New_York\").isoformat()\n",
    "        ).df\n",
    "        \n",
    "        self.price_start = self.df_stock['close'].iloc[0]\n",
    "        self.price_end = self.df_stock['close'].iloc[-1]\n",
    "        self.df_stock['daily_return'] = self.df_stock['close'].pct_change()\n",
    "        self.daily_mean_return = self.df_stock['daily_return'].mean()\n",
    "        self.daily_std = self.df_stock['daily_return'].std()\n",
    "        \n",
    "    def get_stock_return_stats(self):\n",
    "        return self.daily_mean_return, self.daily_std\n",
    "        \n",
    "symbol = \"MSFT\"\n",
    "start_date = \"2017-05-01\"\n",
    "end_date = \"2023-12-14\"\n",
    "\n",
    "stock = Stock(symbol, start_date, end_date)\n",
    "\n",
    "daily_mean_return, daily_std = stock.get_stock_return_stats()\n",
    "print(f\"Daily Mean Return: {daily_mean_return}, Daily Standard Deviation: {daily_std}\")\n",
    "print(f\"Start Price: {stock.price_start}, End Price: {stock.price_end}\")"
   ]
  },
  {
   "cell_type": "code",
   "execution_count": null,
   "id": "aac3608c-32ad-4a3d-bb18-339bfdd59c88",
   "metadata": {
    "tags": []
   },
   "outputs": [],
   "source": [
    "import matplotlib.pyplot as plt\n",
    "import numpy as np\n",
    "\n",
    "def stock_MC_oneyear(symbol, start_date, end_date, num_sims):\n",
    "    # Fetch stock data and calculate return statistics\n",
    "    stock = Stock(symbol, start_date, end_date)\n",
    "    daily_mean, daily_std = stock.get_stock_return_stats()\n",
    "\n",
    "    # Generate a matrix of random samples\n",
    "    random_samples = np.random.normal(daily_mean, daily_std, (num_sims, 252))\n",
    "    # Simulating future prices\n",
    "    last_price = stock.price_end\n",
    "    simulations = pd.DataFrame()\n",
    "\n",
    "    for sim in range(num_sims):\n",
    "        price_series = [last_price]\n",
    "        for day in range(252):  # Assuming 252 trading days in a year\n",
    "            price_series.append(price_series[-1] * (1 + random_samples[sim, day]))\n",
    "        simulations[sim] = price_series\n",
    "\n",
    "    # Plotting the simulations\n",
    "    plt.figure(figsize=(10, 6))\n",
    "    plt.plot(simulations)\n",
    "    plt.title(f\"{num_sims} Monte Carlo Simulations for {symbol}\")\n",
    "    plt.xlabel(\"Days\")\n",
    "    plt.ylabel(\"Price\")\n",
    "    plt.show()\n",
    "\n",
    "# Example usage\n",
    "stock_MC_oneyear('MSFT', '2017-05-01', '2023-12-04', 100)"
   ]
  },
  {
   "cell_type": "markdown",
   "id": "f5bd7019-c240-4902-b86c-177a485c02cf",
   "metadata": {},
   "source": [
    "### Activities 3,4"
   ]
  },
  {
   "cell_type": "code",
   "execution_count": null,
   "id": "b58a53e7-2af2-404b-8baa-41d4bd5c3277",
   "metadata": {},
   "outputs": [],
   "source": []
  },
  {
   "cell_type": "markdown",
   "id": "b8c59221-e59f-4e6f-aa49-3b80a1ca8f32",
   "metadata": {},
   "source": [
    "## Demo: Forcasting Stock Performance in Our Portfolio\n",
    "\n",
    "This program retrieves stock price data using the Alpaca API and then simulates future performance using Monte Carlo Simulation."
   ]
  },
  {
   "cell_type": "markdown",
   "id": "5cbbe96c-c7f1-4a93-9800-2a4e75ee53ff",
   "metadata": {},
   "source": [
    "### Import Dependencies"
   ]
  },
  {
   "cell_type": "code",
   "execution_count": null,
   "id": "1b198759-42fc-472e-84f1-29f5dfacc5ee",
   "metadata": {
    "tags": []
   },
   "outputs": [],
   "source": [
    "# Import libraries and dependencies\n",
    "import os\n",
    "import pandas as pd\n",
    "import alpaca_trade_api as tradeapi\n",
    "from MCForecastTools1 import MCSimulation"
   ]
  },
  {
   "cell_type": "code",
   "execution_count": null,
   "id": "7421ad4a-c444-470e-bdb4-adff4064477a",
   "metadata": {
    "tags": []
   },
   "outputs": [],
   "source": [
    "# Load .env enviroment variables\n",
    "from dotenv import load_dotenv\n",
    "load_dotenv()"
   ]
  },
  {
   "cell_type": "code",
   "execution_count": null,
   "id": "f0012047-1819-40e8-a7b4-0c70085e93aa",
   "metadata": {
    "tags": []
   },
   "outputs": [],
   "source": [
    "# Set Alpaca API key and secret\n",
    "alpaca_api_key = os.getenv(\"ALPACA_API_KEY\")\n",
    "alpaca_secret_key = os.getenv(\"ALPACA_SECRET_KEY\")\n",
    "\n",
    "api = tradeapi.REST(\n",
    "    alpaca_api_key,\n",
    "    alpaca_secret_key,\n",
    "    api_version = \"v2\"\n",
    ")"
   ]
  },
  {
   "cell_type": "markdown",
   "id": "0d46baf4-c59b-47e5-ae68-5a4635b5bef5",
   "metadata": {},
   "source": [
    "### Get Past 3 Year's Worth of Microsoft and Coca-Cola Stock Price Data via Alpaca API Call"
   ]
  },
  {
   "cell_type": "code",
   "execution_count": null,
   "id": "0011adb4-5bde-4039-9a62-c5c19662ef39",
   "metadata": {
    "tags": []
   },
   "outputs": [],
   "source": [
    "# Set timeframe to \"1Day\"\n",
    "timeframe = \"1Day\"\n",
    "\n",
    "# Set start and end datetimes between now and 3 years ago.\n",
    "start_date = pd.Timestamp(\"2017-05-01\", tz=\"America/New_York\").isoformat()\n",
    "end_date = pd.Timestamp(\"2020-05-01\", tz=\"America/New_York\").isoformat()\n",
    "\n",
    "# Set the ticker information\n",
    "tickers = [\"MSFT\",\"KO\"]\n",
    "\n",
    "# Get 3 year's worth of historical price data for Microsoft and Coca-Cola\n",
    "df_ticker = api.get_bars(\n",
    "    tickers,\n",
    "    timeframe,\n",
    "    start=start_date,\n",
    "    end=end_date\n",
    ").df\n",
    "\n",
    "# Display sample data\n",
    "df_ticker.head()"
   ]
  },
  {
   "cell_type": "code",
   "execution_count": null,
   "id": "b2e57b92-c5a9-48eb-8587-affdd3db1593",
   "metadata": {
    "tags": []
   },
   "outputs": [],
   "source": [
    "# Reorganize the DataFrame\n",
    "# Separate ticker data\n",
    "MSFT = df_ticker[df_ticker['symbol']=='MSFT'].drop('symbol', axis=1)\n",
    "KO = df_ticker[df_ticker['symbol']=='KO'].drop('symbol', axis=1)\n",
    "\n",
    "# Concatenate the ticker DataFrames\n",
    "df_ticker = pd.concat([MSFT, KO], axis=1, keys=[\"MSFT\", \"KO\"])\n",
    "\n",
    "# Display sample data\n",
    "df_ticker.head()"
   ]
  },
  {
   "cell_type": "markdown",
   "id": "2a24d6d4-e5a0-4566-955e-3365ebd2be7d",
   "metadata": {},
   "source": [
    "### The MCForecastTools Library at a Glance"
   ]
  },
  {
   "cell_type": "code",
   "execution_count": null,
   "id": "b5073339-9fb7-4f09-be84-4f5a02d0133b",
   "metadata": {
    "tags": []
   },
   "outputs": [],
   "source": [
    "# Print the documentation of the MCSimulation module of the MCForecastTools library\n",
    "?MCSimulation"
   ]
  },
  {
   "cell_type": "markdown",
   "id": "cd26c3f4-09b7-43f2-92b3-86139e668c29",
   "metadata": {},
   "source": [
    "### Simulate five year portfolio growth using Monte Carlo simulation"
   ]
  },
  {
   "cell_type": "code",
   "execution_count": null,
   "id": "d767def5-42ac-49b2-9a2f-c4a38be3062b",
   "metadata": {
    "tags": []
   },
   "outputs": [],
   "source": [
    "# Configuring a Monte Carlo simulation to forecast five years cumulative returns\n",
    "MC_fiveyear = MCSimulation(\n",
    "    portfolio_data = df_ticker,\n",
    "    weights = [.60,.40],\n",
    "    num_simulation = 500,\n",
    "    num_trading_days = 252*5\n",
    ")"
   ]
  },
  {
   "cell_type": "code",
   "execution_count": null,
   "id": "43bc7096-c080-47e0-8703-b5fa815082ef",
   "metadata": {
    "tags": []
   },
   "outputs": [],
   "source": [
    "# Printing the simulation input data\n",
    "MC_fiveyear.portfolio_data.head()"
   ]
  },
  {
   "cell_type": "code",
   "execution_count": null,
   "id": "34d62727-5682-42fd-b80c-106d0320e993",
   "metadata": {
    "tags": []
   },
   "outputs": [],
   "source": [
    "# Running a Monte Carlo simulation to forecast five years cumulative returns\n",
    "MC_fiveyear.calc_cumulative_return()"
   ]
  },
  {
   "cell_type": "code",
   "execution_count": null,
   "id": "ea419b7a-07e5-4e9f-9f0e-0cdbc47d13bf",
   "metadata": {
    "tags": []
   },
   "outputs": [],
   "source": [
    "# Plot simulation outcomes\n",
    "line_plot = MC_fiveyear.plot_simulation()\n",
    "\n",
    "# Save the plot for future usage\n",
    "line_plot.get_figure().savefig(\"MC_fiveyear_sim_plot.png\", bbox_inches=\"tight\")"
   ]
  },
  {
   "cell_type": "code",
   "execution_count": null,
   "id": "2f2fea1f-7e7a-405f-a400-a0ab9ca9593b",
   "metadata": {
    "tags": []
   },
   "outputs": [],
   "source": [
    "# Plot probability distribution and confidence intervals\n",
    "dist_plot = MC_fiveyear.plot_distribution()\n",
    "\n",
    "# Save the plot for future usage\n",
    "dist_plot.get_figure().savefig('MC_fiveyear_dist_plot.png',bbox_inches='tight')"
   ]
  },
  {
   "cell_type": "code",
   "execution_count": null,
   "id": "2bcdae80-27f3-449b-b6a1-3af6e071d1b6",
   "metadata": {
    "tags": []
   },
   "outputs": [],
   "source": [
    "# Fetch summary statistics from the Monte Carlo simulation results\n",
    "tbl = MC_fiveyear.summarize_cumulative_return()\n",
    "\n",
    "# Print summary statistics\n",
    "print(tbl)"
   ]
  },
  {
   "cell_type": "code",
   "execution_count": null,
   "id": "cd25b88e-d069-4dd4-bfb8-448d2b3d9a01",
   "metadata": {
    "tags": []
   },
   "outputs": [],
   "source": [
    "# Use the lower and upper `95%` confidence intervals to calculate the range of the possible outcomes of our $10,000 investments in Coca-Cola and Microsoft stocks\n",
    "ci_lower = round(tbl[8]*10000,2)\n",
    "ci_upper = round(tbl[9]*10000,2)\n",
    "\n",
    "# Print results\n",
    "print(f\"There is a 95% chance that an initial investment of $10,000 in the portfolio\"\n",
    "      f\" over the next 5 years will end within in the range of\"\n",
    "      f\" ${ci_lower} and ${ci_upper}\")"
   ]
  },
  {
   "cell_type": "markdown",
   "id": "89abe294-784c-4559-9d5b-feb9f8623079",
   "metadata": {},
   "source": [
    "### Activities 5,6"
   ]
  },
  {
   "cell_type": "code",
   "execution_count": null,
   "id": "aec70536-b1ef-4a4b-8b70-2cf19665d1b8",
   "metadata": {
    "tags": []
   },
   "outputs": [],
   "source": [
    "# Set the ticker\n",
    "ticker = \"AAPL\"\n",
    "\n",
    "# Set timeframe to \"1Day\"\n",
    "timeframe = \"1Day\"\n",
    "\n",
    "# Set start and end datetimes of 4 years from Today\n",
    "start_date = pd.Timestamp(\"2017-05-04\", tz=\"America/New_York\").isoformat()\n",
    "end_date = pd.Timestamp(\"2021-05-04\", tz=\"America/New_York\").isoformat()\n",
    "\n",
    "# Get 1 year's worth of historical data for AAPL\n",
    "ticker_data = api.get_bars(\n",
    "    ticker,\n",
    "    timeframe,\n",
    "    start=start_date,\n",
    "    end=end_date\n",
    ").df\n",
    "\n",
    "ticker_data.head()"
   ]
  },
  {
   "cell_type": "code",
   "execution_count": null,
   "id": "74a6924f-74bc-4105-a610-1ad2754024ee",
   "metadata": {},
   "outputs": [],
   "source": [
    "# Reorganize the DataFrame\n",
    "ticker_data = pd.concat([ticker_data], axis=1, keys=[\"AAPL\"])\n",
    "\n",
    "# Display sample data\n",
    "ticker_data.head()"
   ]
  },
  {
   "cell_type": "markdown",
   "id": "65ccda1e-8513-4e76-9a2d-a161154278bc",
   "metadata": {},
   "source": [
    "### Run the Monte Carlo Simulation"
   ]
  },
  {
   "cell_type": "code",
   "execution_count": null,
   "id": "9d0f61bb-d154-4ea6-ad6f-2f1c5bd260cd",
   "metadata": {},
   "outputs": [],
   "source": [
    "# Set number of simulations\n",
    "num_sims = 500\n",
    "\n",
    "# Configure a Monte Carlo simulation to forecast one year daily returns\n",
    "MC_AAPL = MCSimulation(\n",
    "    portfolio_data = ticker_data,\n",
    "    num_simulation = num_sims,\n",
    "    num_trading_days = 252\n",
    ")"
   ]
  },
  {
   "cell_type": "code",
   "execution_count": null,
   "id": "15bac339-87af-4993-a46c-001f2283926c",
   "metadata": {},
   "outputs": [],
   "source": [
    "# Run Monte Carlo simulations to forecast one year daily returns\n",
    "MC_AAPL.calc_cumulative_return()"
   ]
  },
  {
   "cell_type": "markdown",
   "id": "e0f97c62-fba3-4eba-816d-49d0e6178ab1",
   "metadata": {},
   "source": [
    "### Plot the Simulated Outcomes for the Next Year (252 Traiding Days)"
   ]
  },
  {
   "cell_type": "code",
   "execution_count": null,
   "id": "c58ce5b5-d0a6-45b0-bd5f-a7b32891212a",
   "metadata": {},
   "outputs": [],
   "source": [
    "# Plot simulation outcomes\n",
    "line_plot = MC_AAPL.plot_simulation()"
   ]
  },
  {
   "cell_type": "markdown",
   "id": "fe99ab5c-3a43-4cc5-82c0-5e0cf311b289",
   "metadata": {},
   "source": [
    "### Plot the Simulated Daily Returns Trajectory for `AAPL` over the Next Year (252 Trading Days)"
   ]
  },
  {
   "cell_type": "code",
   "execution_count": null,
   "id": "aeea97c3-f82f-4368-bbc4-a5dd679791eb",
   "metadata": {},
   "outputs": [],
   "source": [
    "# Compute summary statistics from the simulated daily returns\n",
    "simulated_returns_data = {\n",
    "    \"mean\": list(MC_AAPL.simulated_return.mean(axis=1)),\n",
    "    \"median\": list(MC_AAPL.simulated_return.median(axis=1)),\n",
    "    \"min\": list(MC_AAPL.simulated_return.min(axis=1)),\n",
    "    \"max\": list(MC_AAPL.simulated_return.max(axis=1))\n",
    "}\n",
    "\n",
    "# Create a DataFrame with the summary statistics\n",
    "df_simulated_returns = pd.DataFrame(simulated_returns_data)\n",
    "\n",
    "# Display sample data\n",
    "df_simulated_returns.head()"
   ]
  },
  {
   "cell_type": "code",
   "execution_count": null,
   "id": "5bfdc598-09ac-4eb2-a96d-df5bbad9ae43",
   "metadata": {},
   "outputs": [],
   "source": [
    "# Use the `plot` function to visually analyze the trajectory of AAPL stock daily returns on a 252 trading day simulation\n",
    "df_simulated_returns.plot(title=\"Simulated Daily Returns Behavior of AAPL Stock Over the Next Year\")"
   ]
  },
  {
   "cell_type": "markdown",
   "id": "763ce577-75c8-4d85-a0d1-b5a0b5cd3f00",
   "metadata": {},
   "source": [
    "### Calculate the Simulated Profits/Losses of $10,000 Investment in `AAPL` Over the Next `252` Trading Days"
   ]
  },
  {
   "cell_type": "code",
   "execution_count": null,
   "id": "b53a3a65-cdbf-46fd-adde-1acf5cec4ea7",
   "metadata": {},
   "outputs": [],
   "source": [
    "# Set initial investment\n",
    "initial_investment = 10000\n",
    "\n",
    "# Multiply an initial investment by the daily returns of simulative stock prices to return the progression of daily returns in terms of money\n",
    "cumulative_pnl = initial_investment * df_simulated_returns\n",
    "\n",
    "# Display sample data\n",
    "cumulative_pnl.head()"
   ]
  },
  {
   "cell_type": "markdown",
   "id": "b3c81ba0-af95-4b6d-9d96-f19d3abc9c12",
   "metadata": {},
   "source": [
    "### Plot the Simulated Profits/Losses of $10,000 Investment in `AAPL` Over the Next `252` Trading Days"
   ]
  },
  {
   "cell_type": "code",
   "execution_count": null,
   "id": "9d5e9b36-f8c1-4eb9-a584-701f93cb55c7",
   "metadata": {},
   "outputs": [],
   "source": [
    "# Use the 'plot' function to create a chart of the simulated profits/losses\n",
    "cumulative_pnl.plot(title=\"Simulated Outcomes Behavior of AAPL Stock Over the Next Year\")"
   ]
  },
  {
   "cell_type": "markdown",
   "id": "00691eb7-67a9-4652-af6f-a2a41280d2f0",
   "metadata": {},
   "source": [
    "### Calculate the range of the possible outcomes of our $10,000 investments in `AAPL` stocks"
   ]
  },
  {
   "cell_type": "code",
   "execution_count": null,
   "id": "48f5ff3b-9d0b-495a-80d8-6cc29baaae32",
   "metadata": {},
   "outputs": [],
   "source": [
    "# Fetch summary statistics from the Monte Carlo simulation results\n",
    "tbl = MC_AAPL.summarize_cumulative_return()\n",
    "\n",
    "# Print summary statistics\n",
    "print(tbl)"
   ]
  },
  {
   "cell_type": "code",
   "execution_count": null,
   "id": "db187a75-ec57-4c30-a229-9454b4112d7f",
   "metadata": {},
   "outputs": [],
   "source": [
    "# Use the lower and upper `95%` confidence intervals to calculate the range of the possible outcomes of our $10,000 investments in AAPL stocks\n",
    "ci_lower = round(tbl[8]*10000,2)\n",
    "ci_upper = round(tbl[9]*10000,2)\n",
    "\n",
    "# Print results\n",
    "print(f\"There is a 95% chance that an initial investment of $10,000 in the portfolio\"\n",
    "      f\" over the next year will end within in the range of\"\n",
    "      f\" ${ci_lower} and ${ci_upper}.\")"
   ]
  },
  {
   "cell_type": "code",
   "execution_count": null,
   "id": "26379326-198a-448e-9db5-829638129db1",
   "metadata": {},
   "outputs": [],
   "source": [
    "from alpaca.data.historical import StockHistoricalDataClient\n",
    "from alpaca.data.requests import StockBarsRequest\n",
    "from alpaca.data.timeframe import TimeFrame\n",
    "from datetime import datetime\n",
    "from alpaca.data.requests import StockLatestQuoteRequest\n",
    "\n",
    "from dotenv import load_dotenv\n",
    "load_dotenv()\n",
    "alpaca_api_key = os.getenv(\"ALPACA_API_KEY\")\n",
    "alpaca_secret_key = os.getenv(\"ALPACA_SECRET_KEY\")\n",
    "\n",
    "# Initialize the historical data client\n",
    "client = StockHistoricalDataClient(alpaca_api_key, alpaca_secret_key)\n",
    "\n",
    "# multi symbol request - single symbol is similar\n",
    "multisymbol_request_params = StockLatestQuoteRequest(symbol_or_symbols=[\"SPY\", \"GLD\", \"TLT\"])\n",
    "\n",
    "latest_multisymbol_quotes = client.get_stock_latest_quote(multisymbol_request_params)\n",
    "\n",
    "gld_latest_ask_price = latest_multisymbol_quotes[\"GLD\"].ask_price\n",
    "\n",
    "print(latest_multisymbol_quotes)"
   ]
  },
  {
   "cell_type": "code",
   "execution_count": null,
   "id": "7ae77347-f5e1-4fe0-9734-18d6d0dbb2f6",
   "metadata": {
    "tags": []
   },
   "outputs": [],
   "source": [
    "request_params = StockBarsRequest(\n",
    "                    symbol_or_symbols=[\"AAPL\"],\n",
    "                    timeframe=TimeFrame.Day,\n",
    "                    start=datetime(2022,8,1),\n",
    "                    end=datetime(2022,9,1)\n",
    "                )\n",
    "\n",
    "# Fetch the data\n",
    "apple_bars = client.get_stock_bars(request_params)\n",
    "\n",
    "print(apple_bars)\n",
    "# Print the fetched data\n",
    "# for bar in apple_bars.df.itertuples():\n",
    "#     print(f\"Date: {bar.Index}, Open: {bar.open}, High: {bar.high}, Low: {bar.low}, Close: {bar.close}, Volume: {bar.volume}\")"
   ]
  },
  {
   "cell_type": "code",
   "execution_count": null,
   "id": "15fd9838-097b-4a06-a123-9ee75ac48bc0",
   "metadata": {},
   "outputs": [],
   "source": []
  }
 ],
 "metadata": {
  "kernelspec": {
   "display_name": "Python 3 (ipykernel)",
   "language": "python",
   "name": "python3"
  },
  "language_info": {
   "codemirror_mode": {
    "name": "ipython",
    "version": 3
   },
   "file_extension": ".py",
   "mimetype": "text/x-python",
   "name": "python",
   "nbconvert_exporter": "python",
   "pygments_lexer": "ipython3",
   "version": "3.11.5"
  }
 },
 "nbformat": 4,
 "nbformat_minor": 5
}
