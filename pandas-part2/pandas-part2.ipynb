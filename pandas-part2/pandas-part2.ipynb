{
 "cells": [
  {
   "cell_type": "markdown",
   "id": "c7f5ce57-8d7a-42db-9d09-be9f87e27474",
   "metadata": {},
   "source": [
    "### 1. Basic Statistics "
   ]
  },
  {
   "cell_type": "markdown",
   "id": "647465d6-1fa9-4568-9f85-bd071b3e6a71",
   "metadata": {},
   "source": [
    "### 2. Normal Distribution"
   ]
  },
  {
   "cell_type": "markdown",
   "id": "5252bb4e-2ebc-4df3-8c85-907b03921dcc",
   "metadata": {},
   "source": [
    "### 3. std, sharp ratio - finding the best risk/reward (trade off) stock\n",
    "- activity 15"
   ]
  },
  {
   "cell_type": "markdown",
   "id": "fbac32f2-3731-471b-8189-ee367a4d147c",
   "metadata": {
    "tags": []
   },
   "source": [
    "### sharp ratio\n",
    "- activity 16"
   ]
  },
  {
   "cell_type": "markdown",
   "id": "b7e258bd-f385-4539-acd0-bb1b959e99e9",
   "metadata": {},
   "source": [
    "### 4. groupby object (the structure inside of a df, one to many)\n",
    "- activity 5"
   ]
  },
  {
   "cell_type": "markdown",
   "id": "611399ab-fe71-4c28-abee-279f887a0444",
   "metadata": {},
   "source": [
    "### 5 multi-index"
   ]
  }
 ],
 "metadata": {
  "kernelspec": {
   "display_name": "Python 3 (ipykernel)",
   "language": "python",
   "name": "python3"
  },
  "language_info": {
   "codemirror_mode": {
    "name": "ipython",
    "version": 3
   },
   "file_extension": ".py",
   "mimetype": "text/x-python",
   "name": "python",
   "nbconvert_exporter": "python",
   "pygments_lexer": "ipython3",
   "version": "3.11.5"
  }
 },
 "nbformat": 4,
 "nbformat_minor": 5
}
