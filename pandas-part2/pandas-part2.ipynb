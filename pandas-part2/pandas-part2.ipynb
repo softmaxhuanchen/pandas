{
 "cells": [
  {
   "cell_type": "markdown",
   "id": "c7f5ce57-8d7a-42db-9d09-be9f87e27474",
   "metadata": {},
   "source": [
    "### 1. Basic Statistics "
   ]
  },
  {
   "cell_type": "code",
   "execution_count": null,
   "id": "e5ff6bbf-717d-4a0d-957a-a8daba54466f",
   "metadata": {
    "tags": []
   },
   "outputs": [],
   "source": [
    "import random\n",
    "import pandas as pd\n",
    "\n",
    "# sample from some kind hidden structure\n",
    "\n",
    "def sample_from_hidden_structures(samples=100, structure='coin'):    \n",
    "    if structure == 'coin':\n",
    "        # Coin has two outcomes: 'Heads' or 'Tails'\n",
    "        outcomes = ['Heads', 'Tails']\n",
    "        data = [random.choice(outcomes) for _ in range(samples)]\n",
    "\n",
    "    elif structure == 'dice':\n",
    "        # Dice has six outcomes: 1, 2, 3, 4, 5, 6\n",
    "        outcomes = [1, 2, 3, 4, 5, 6]\n",
    "        data = [random.choice(outcomes) for _ in range(samples)]\n",
    "\n",
    "    return pd.DataFrame(data, columns=['Outcome'])\n",
    "\n",
    "\n",
    "df_samples = sample_from_hidden_structures(samples=100000, structure='dice')\n",
    "print(df_samples)"
   ]
  },
  {
   "cell_type": "code",
   "execution_count": null,
   "id": "4e92fdc6-baab-4edd-aee2-143306b84a7d",
   "metadata": {
    "tags": []
   },
   "outputs": [],
   "source": [
    "import matplotlib.pyplot as plt\n",
    "\n",
    "def plot_distribution(df, structure='coin'):\n",
    "\n",
    "    if structure == 'coin':\n",
    "        # For coin flips, use a bar plot to show the frequency of each outcome\n",
    "        counts = df['Outcome'].value_counts()\n",
    "        counts.plot(kind='bar', color=['blue', 'green'])\n",
    "        plt.title('Coin Flip Distribution')\n",
    "        plt.xlabel('Outcome')\n",
    "        plt.ylabel('Frequency')\n",
    "        plt.xticks(rotation=0)\n",
    "\n",
    "    elif structure == 'dice':\n",
    "        # For dice rolls, use a histogram to show the distribution of outcomes\n",
    "        df['Outcome'].plot(kind='hist', bins=range(1, 8), align='left', rwidth=0.5)\n",
    "        plt.title('Dice Roll Distribution')\n",
    "        plt.xlabel('Outcome')\n",
    "        plt.ylabel('Frequency')\n",
    "        plt.xticks(range(1, 7))\n",
    "\n",
    "    plt.show()\n",
    "\n",
    "\n",
    "plot_distribution(df_samples, 'dice')"
   ]
  },
  {
   "cell_type": "markdown",
   "id": "06c42cd7-3fa8-49c8-b696-55e0f0d5a37c",
   "metadata": {},
   "source": [
    "### some insights\n",
    "- statistical observations <- hidden structure + randomness (observations are samples)\n",
    "- distribution is a good way to describe random varibles\n",
    "- sometimes we know the structure, most of time we only have the samples (stock market). samples -> (infer) structure -> then (make predictions) -> new obsavtions \n",
    "- random sampling (how to lie with facts. narratives)"
   ]
  },
  {
   "cell_type": "markdown",
   "id": "647465d6-1fa9-4568-9f85-bd071b3e6a71",
   "metadata": {
    "tags": []
   },
   "source": [
    "### 2. Normal Distribution\n"
   ]
  },
  {
   "cell_type": "code",
   "execution_count": null,
   "id": "dfe1340f-ed4a-4f6d-8127-86e24e8e42e4",
   "metadata": {
    "tags": []
   },
   "outputs": [],
   "source": [
    "import random\n",
    "import pandas as pd\n",
    "\n",
    "# heights of population\n",
    "def sample_normal_distribution(samples=100000, mu=170, sigma=10):\n",
    "    data = [random.gauss(mu, sigma) for _ in range(samples)]\n",
    "    return pd.DataFrame(data, columns=['Value'])\n",
    "\n",
    "df_normal = sample_normal_distribution(samples=100000, mu=165, sigma=15)\n",
    "\n",
    "import matplotlib.pyplot as plt\n",
    "\n",
    "def plot_distribution(df, title='Data Distribution', bins=30):\n",
    "\n",
    "    plt.figure(figsize=(10, 6))\n",
    "    plt.hist(df['Value'], bins=bins, edgecolor='black', alpha=0.7)\n",
    "    plt.title(title)\n",
    "    plt.xlabel('Value')\n",
    "    plt.ylabel('Frequency')\n",
    "    plt.grid(True)\n",
    "    plt.show()\n",
    "\n",
    "plot_distribution(df_normal, title='Normal Distribution', bins=40)"
   ]
  },
  {
   "cell_type": "markdown",
   "id": "741fe14c-bf5e-4506-9118-f492fb227430",
   "metadata": {},
   "source": [
    "### some insights\n",
    "- mean, std to describe a bell curlve\n",
    "- std x 1 = 68%, std x 2 = 95%. if aaple stock, mean annual return 8%, std 8%, what's probablity if buy apple, I will lose money this year. \n",
    "- risk vs std (narrow? wide? more risky)\n",
    "- normal distribution is a dangeous assumption. black swan\n",
    "- stable structure vs unstable vs non-stationary \n",
    "- balance return and risk - sharp ratio. risk/reward trade off"
   ]
  },
  {
   "cell_type": "markdown",
   "id": "5252bb4e-2ebc-4df3-8c85-907b03921dcc",
   "metadata": {
    "tags": []
   },
   "source": [
    "### 3. std, sharp ratio - finding the best risk/reward (trade off) stock\n",
    "- activity 15"
   ]
  },
  {
   "cell_type": "code",
   "execution_count": null,
   "id": "26bde3ca-0376-4d97-b0aa-b6b6a6ae0e25",
   "metadata": {
    "tags": []
   },
   "outputs": [],
   "source": [
    "import pandas as pd\n",
    "import numpy as np\n",
    "from pathlib import Path\n",
    "%matplotlib inline"
   ]
  },
  {
   "cell_type": "code",
   "execution_count": null,
   "id": "4d6a32b0-7cda-4709-8f13-9b770a1d57f7",
   "metadata": {
    "tags": []
   },
   "outputs": [],
   "source": [
    "# activity 15 calulate daily (not annual) return std \n",
    "# stock price df -> daily return df -> daily return std df -> scale up daily return (good proxy) std to yearly std df \n",
    "file_path = Path(\"./Resources/tech_stocks_closing_value_2018.csv\")\n",
    "tech_stocks = pd.read_csv(file_path, index_col='Date', parse_dates=True)\n",
    "tech_stocks.head()"
   ]
  },
  {
   "cell_type": "code",
   "execution_count": null,
   "id": "6d6c2b96-05bc-43a6-a3ed-38db2b2effe1",
   "metadata": {
    "tags": []
   },
   "outputs": [],
   "source": [
    "# daily returns df\n",
    "daily_returns = tech_stocks.pct_change()\n",
    "daily_returns.head()"
   ]
  },
  {
   "cell_type": "code",
   "execution_count": null,
   "id": "415c4147-e381-4119-b451-72ae92d0777e",
   "metadata": {
    "tags": []
   },
   "outputs": [],
   "source": [
    "# Daily std df\n",
    "daily_std = daily_returns.std()\n",
    "daily_std.head()"
   ]
  },
  {
   "cell_type": "code",
   "execution_count": null,
   "id": "6a82daea-8e1a-4ef8-8578-6113d1fc46ab",
   "metadata": {
    "tags": []
   },
   "outputs": [],
   "source": [
    "# daily return std to annualized std (252 trading days)\n",
    "annualized_std = daily_std * np.sqrt(252)\n",
    "annualized_std.head()"
   ]
  },
  {
   "cell_type": "markdown",
   "id": "fbac32f2-3731-471b-8189-ee367a4d147c",
   "metadata": {
    "tags": []
   },
   "source": [
    "### sharp ratio\n",
    "- activity 16"
   ]
  },
  {
   "cell_type": "code",
   "execution_count": null,
   "id": "9d856c70-ad43-4b95-95d0-a121aa1288bb",
   "metadata": {},
   "outputs": [],
   "source": [
    "import pandas as pd\n",
    "import numpy as np\n",
    "from pathlib import Path\n",
    "%matplotlib inline"
   ]
  },
  {
   "cell_type": "code",
   "execution_count": null,
   "id": "02d53a3e-6509-4c7f-a919-945d6194a25b",
   "metadata": {
    "tags": []
   },
   "outputs": [],
   "source": [
    "portfolio_a_path = Path(\"./Resources/tech_stocks_2018_a.csv\")\n",
    "portfolio_b_path = Path(\"./Resources/tech_stocks_2018_b.csv\")\n",
    "risk_free_rate_path= Path(\"./Resources/risk_free_rate.csv\")\n",
    "\n",
    "portfolio_a = pd.read_csv(portfolio_a_path, index_col='Date', parse_dates=True)\n",
    "portfolio_b = pd.read_csv(portfolio_b_path, index_col='Date', parse_dates=True)\n",
    "risk_free_rate = pd.read_csv(risk_free_rate_path, index_col='Date', parse_dates=True)\n",
    "\n",
    "portfolio_a.head()"
   ]
  },
  {
   "cell_type": "code",
   "execution_count": null,
   "id": "6ae127b6-2f6f-4796-b1d2-9ccf0fdee6b2",
   "metadata": {
    "tags": []
   },
   "outputs": [],
   "source": [
    "# Calculate daily returns\n",
    "portfolio_a_returns = portfolio_a.pct_change().dropna()\n",
    "portfolio_b_returns = portfolio_b.pct_change().dropna()\n",
    "\n",
    "# Concat returns into one DataFrame\n",
    "all_portfolios_returns = pd.concat([portfolio_a_returns, portfolio_b_returns, risk_free_rate], axis='columns', join='inner')\n",
    "all_portfolios_returns.head()"
   ]
  },
  {
   "cell_type": "code",
   "execution_count": null,
   "id": "cd844379-6bcd-44e5-8000-557d4cc93135",
   "metadata": {
    "tags": []
   },
   "outputs": [],
   "source": [
    "# Calculate Sharpe Ratio\n",
    "\n",
    "sharpe_ratios = ((all_portfolios_returns.mean()-all_portfolios_returns['rf_rate'].mean()) * 252) / (all_portfolios_returns.std() * np.sqrt(252))\n",
    "sharpe_ratios"
   ]
  },
  {
   "cell_type": "code",
   "execution_count": null,
   "id": "ca0b347c-4d1b-45ed-b0ad-33538eb8e72c",
   "metadata": {
    "tags": []
   },
   "outputs": [],
   "source": [
    "# Plot sharpe ratios\n",
    "sharpe_ratios.plot(kind=\"bar\", title=\"Sharpe Ratios\")"
   ]
  },
  {
   "cell_type": "markdown",
   "id": "b7e258bd-f385-4539-acd0-bb1b959e99e9",
   "metadata": {
    "tags": []
   },
   "source": [
    "### 4. groupby object (the structure inside of a df, one to many)\n",
    "- activity 5"
   ]
  },
  {
   "cell_type": "code",
   "execution_count": 57,
   "id": "7bdbe043-edd5-43ca-8388-947fffb57e9c",
   "metadata": {
    "tags": []
   },
   "outputs": [
    {
     "data": {
      "text/html": [
       "<div>\n",
       "<style scoped>\n",
       "    .dataframe tbody tr th:only-of-type {\n",
       "        vertical-align: middle;\n",
       "    }\n",
       "\n",
       "    .dataframe tbody tr th {\n",
       "        vertical-align: top;\n",
       "    }\n",
       "\n",
       "    .dataframe thead th {\n",
       "        text-align: right;\n",
       "    }\n",
       "</style>\n",
       "<table border=\"1\" class=\"dataframe\">\n",
       "  <thead>\n",
       "    <tr style=\"text-align: right;\">\n",
       "      <th></th>\n",
       "      <th>cryptocurrency</th>\n",
       "      <th>data_priceUsd</th>\n",
       "    </tr>\n",
       "    <tr>\n",
       "      <th>data_date</th>\n",
       "      <th></th>\n",
       "      <th></th>\n",
       "    </tr>\n",
       "  </thead>\n",
       "  <tbody>\n",
       "    <tr>\n",
       "      <th>2017-05-09</th>\n",
       "      <td>litecoin</td>\n",
       "      <td>28.020288</td>\n",
       "    </tr>\n",
       "    <tr>\n",
       "      <th>2017-05-09</th>\n",
       "      <td>ripple</td>\n",
       "      <td>0.166990</td>\n",
       "    </tr>\n",
       "    <tr>\n",
       "      <th>2017-05-09</th>\n",
       "      <td>ethereum</td>\n",
       "      <td>84.915618</td>\n",
       "    </tr>\n",
       "    <tr>\n",
       "      <th>2017-05-10</th>\n",
       "      <td>litecoin</td>\n",
       "      <td>33.487730</td>\n",
       "    </tr>\n",
       "    <tr>\n",
       "      <th>2017-05-10</th>\n",
       "      <td>bitcoin</td>\n",
       "      <td>1743.723523</td>\n",
       "    </tr>\n",
       "    <tr>\n",
       "      <th>2017-05-10</th>\n",
       "      <td>ripple</td>\n",
       "      <td>0.179671</td>\n",
       "    </tr>\n",
       "    <tr>\n",
       "      <th>2017-05-10</th>\n",
       "      <td>ethereum</td>\n",
       "      <td>88.177676</td>\n",
       "    </tr>\n",
       "    <tr>\n",
       "      <th>2017-05-11</th>\n",
       "      <td>ethereum</td>\n",
       "      <td>88.432233</td>\n",
       "    </tr>\n",
       "    <tr>\n",
       "      <th>2017-05-11</th>\n",
       "      <td>litecoin</td>\n",
       "      <td>30.966247</td>\n",
       "    </tr>\n",
       "    <tr>\n",
       "      <th>2017-05-11</th>\n",
       "      <td>bitcoin</td>\n",
       "      <td>1828.678209</td>\n",
       "    </tr>\n",
       "    <tr>\n",
       "      <th>2017-05-11</th>\n",
       "      <td>ripple</td>\n",
       "      <td>0.178919</td>\n",
       "    </tr>\n",
       "    <tr>\n",
       "      <th>2017-05-12</th>\n",
       "      <td>litecoin</td>\n",
       "      <td>29.658289</td>\n",
       "    </tr>\n",
       "    <tr>\n",
       "      <th>2017-05-12</th>\n",
       "      <td>ripple</td>\n",
       "      <td>0.195019</td>\n",
       "    </tr>\n",
       "    <tr>\n",
       "      <th>2017-05-12</th>\n",
       "      <td>bitcoin</td>\n",
       "      <td>1776.443919</td>\n",
       "    </tr>\n",
       "    <tr>\n",
       "      <th>2017-05-12</th>\n",
       "      <td>ethereum</td>\n",
       "      <td>88.646770</td>\n",
       "    </tr>\n",
       "    <tr>\n",
       "      <th>2017-05-13</th>\n",
       "      <td>litecoin</td>\n",
       "      <td>27.381262</td>\n",
       "    </tr>\n",
       "    <tr>\n",
       "      <th>2017-05-13</th>\n",
       "      <td>ripple</td>\n",
       "      <td>0.210569</td>\n",
       "    </tr>\n",
       "    <tr>\n",
       "      <th>2017-05-13</th>\n",
       "      <td>ethereum</td>\n",
       "      <td>86.503299</td>\n",
       "    </tr>\n",
       "    <tr>\n",
       "      <th>2017-05-13</th>\n",
       "      <td>bitcoin</td>\n",
       "      <td>1714.964198</td>\n",
       "    </tr>\n",
       "    <tr>\n",
       "      <th>2017-05-14</th>\n",
       "      <td>ethereum</td>\n",
       "      <td>88.681372</td>\n",
       "    </tr>\n",
       "  </tbody>\n",
       "</table>\n",
       "</div>"
      ],
      "text/plain": [
       "           cryptocurrency  data_priceUsd\n",
       "data_date                               \n",
       "2017-05-09       litecoin      28.020288\n",
       "2017-05-09         ripple       0.166990\n",
       "2017-05-09       ethereum      84.915618\n",
       "2017-05-10       litecoin      33.487730\n",
       "2017-05-10        bitcoin    1743.723523\n",
       "2017-05-10         ripple       0.179671\n",
       "2017-05-10       ethereum      88.177676\n",
       "2017-05-11       ethereum      88.432233\n",
       "2017-05-11       litecoin      30.966247\n",
       "2017-05-11        bitcoin    1828.678209\n",
       "2017-05-11         ripple       0.178919\n",
       "2017-05-12       litecoin      29.658289\n",
       "2017-05-12         ripple       0.195019\n",
       "2017-05-12        bitcoin    1776.443919\n",
       "2017-05-12       ethereum      88.646770\n",
       "2017-05-13       litecoin      27.381262\n",
       "2017-05-13         ripple       0.210569\n",
       "2017-05-13       ethereum      86.503299\n",
       "2017-05-13        bitcoin    1714.964198\n",
       "2017-05-14       ethereum      88.681372"
      ]
     },
     "execution_count": 57,
     "metadata": {},
     "output_type": "execute_result"
    }
   ],
   "source": [
    "# Read CSV\n",
    "csv_path = Path('./Resources/crypto_data.csv')\n",
    "crypto_data = pd.read_csv(csv_path, index_col='data_date', parse_dates=True)\n",
    "crypto_data# Drop all columns cryptocurrency and data_priceUsd\n",
    "crypto_data = crypto_data.drop(columns=['data_time','timestamp'])\n",
    "\n",
    "# Sort the dates in ascending order\n",
    "crypto_data = crypto_data.sort_index()\n",
    "\n",
    "# Drop missing values\n",
    "crypto_data = crypto_data.dropna()\n",
    "crypto_data.head(20)"
   ]
  },
  {
   "cell_type": "code",
   "execution_count": 58,
   "id": "de9a0d9a-2964-4f5f-9a21-02963e38e16b",
   "metadata": {
    "tags": []
   },
   "outputs": [
    {
     "data": {
      "text/plain": [
       "cryptocurrency\n",
       "litecoin        728\n",
       "ripple          728\n",
       "ethereum        722\n",
       "bitcoin         722\n",
       "bitcoin-cash    639\n",
       "Name: count, dtype: int64"
      ]
     },
     "execution_count": 58,
     "metadata": {},
     "output_type": "execute_result"
    }
   ],
   "source": [
    "crypto_data['cryptocurrency'].value_counts()"
   ]
  },
  {
   "cell_type": "code",
   "execution_count": 60,
   "id": "42c8e4f3-35b1-4e93-a3a6-276c775501ca",
   "metadata": {
    "tags": []
   },
   "outputs": [
    {
     "ename": "KeyError",
     "evalue": "'Requested level (cryptocurrency) does not match index name (data_date)'",
     "output_type": "error",
     "traceback": [
      "\u001b[0;31m---------------------------------------------------------------------------\u001b[0m",
      "\u001b[0;31mKeyError\u001b[0m                                  Traceback (most recent call last)",
      "Cell \u001b[0;32mIn[60], line 5\u001b[0m\n\u001b[1;32m      3\u001b[0m crypto_data_grp \u001b[38;5;241m=\u001b[39m crypto_data\u001b[38;5;241m.\u001b[39mgroupby(\u001b[38;5;124m'\u001b[39m\u001b[38;5;124mcryptocurrency\u001b[39m\u001b[38;5;124m'\u001b[39m)\u001b[38;5;241m.\u001b[39mmean()\u001b[38;5;241m.\u001b[39mreset_index()\n\u001b[1;32m      4\u001b[0m crypto_data_grp\n\u001b[0;32m----> 5\u001b[0m grouped_cryptos \u001b[38;5;241m=\u001b[39m crypto_data\u001b[38;5;241m.\u001b[39mgroupby(\u001b[38;5;124m'\u001b[39m\u001b[38;5;124mcryptocurrency\u001b[39m\u001b[38;5;124m'\u001b[39m)[\u001b[38;5;124m'\u001b[39m\u001b[38;5;124mdata_priceUsd\u001b[39m\u001b[38;5;124m'\u001b[39m]\u001b[38;5;241m.\u001b[39mpct_change()\u001b[38;5;241m.\u001b[39mreset_index(level\u001b[38;5;241m=\u001b[39m\u001b[38;5;124m'\u001b[39m\u001b[38;5;124mcryptocurrency\u001b[39m\u001b[38;5;124m'\u001b[39m)\n\u001b[1;32m      6\u001b[0m grouped_cryptos\n",
      "File \u001b[0;32m~/anaconda3/lib/python3.11/site-packages/pandas/core/series.py:1618\u001b[0m, in \u001b[0;36mSeries.reset_index\u001b[0;34m(self, level, drop, name, inplace, allow_duplicates)\u001b[0m\n\u001b[1;32m   1615\u001b[0m             name \u001b[38;5;241m=\u001b[39m \u001b[38;5;28mself\u001b[39m\u001b[38;5;241m.\u001b[39mname\n\u001b[1;32m   1617\u001b[0m     df \u001b[38;5;241m=\u001b[39m \u001b[38;5;28mself\u001b[39m\u001b[38;5;241m.\u001b[39mto_frame(name)\n\u001b[0;32m-> 1618\u001b[0m     \u001b[38;5;28;01mreturn\u001b[39;00m df\u001b[38;5;241m.\u001b[39mreset_index(\n\u001b[1;32m   1619\u001b[0m         level\u001b[38;5;241m=\u001b[39mlevel, drop\u001b[38;5;241m=\u001b[39mdrop, allow_duplicates\u001b[38;5;241m=\u001b[39mallow_duplicates\n\u001b[1;32m   1620\u001b[0m     )\n\u001b[1;32m   1621\u001b[0m \u001b[38;5;28;01mreturn\u001b[39;00m \u001b[38;5;28;01mNone\u001b[39;00m\n",
      "File \u001b[0;32m~/anaconda3/lib/python3.11/site-packages/pandas/core/frame.py:6162\u001b[0m, in \u001b[0;36mDataFrame.reset_index\u001b[0;34m(self, level, drop, inplace, col_level, col_fill, allow_duplicates, names)\u001b[0m\n\u001b[1;32m   6160\u001b[0m \u001b[38;5;28;01mif\u001b[39;00m \u001b[38;5;129;01mnot\u001b[39;00m \u001b[38;5;28misinstance\u001b[39m(level, (\u001b[38;5;28mtuple\u001b[39m, \u001b[38;5;28mlist\u001b[39m)):\n\u001b[1;32m   6161\u001b[0m     level \u001b[38;5;241m=\u001b[39m [level]\n\u001b[0;32m-> 6162\u001b[0m level \u001b[38;5;241m=\u001b[39m [\u001b[38;5;28mself\u001b[39m\u001b[38;5;241m.\u001b[39mindex\u001b[38;5;241m.\u001b[39m_get_level_number(lev) \u001b[38;5;28;01mfor\u001b[39;00m lev \u001b[38;5;129;01min\u001b[39;00m level]\n\u001b[1;32m   6163\u001b[0m \u001b[38;5;28;01mif\u001b[39;00m \u001b[38;5;28mlen\u001b[39m(level) \u001b[38;5;241m<\u001b[39m \u001b[38;5;28mself\u001b[39m\u001b[38;5;241m.\u001b[39mindex\u001b[38;5;241m.\u001b[39mnlevels:\n\u001b[1;32m   6164\u001b[0m     new_index \u001b[38;5;241m=\u001b[39m \u001b[38;5;28mself\u001b[39m\u001b[38;5;241m.\u001b[39mindex\u001b[38;5;241m.\u001b[39mdroplevel(level)\n",
      "File \u001b[0;32m~/anaconda3/lib/python3.11/site-packages/pandas/core/frame.py:6162\u001b[0m, in \u001b[0;36m<listcomp>\u001b[0;34m(.0)\u001b[0m\n\u001b[1;32m   6160\u001b[0m \u001b[38;5;28;01mif\u001b[39;00m \u001b[38;5;129;01mnot\u001b[39;00m \u001b[38;5;28misinstance\u001b[39m(level, (\u001b[38;5;28mtuple\u001b[39m, \u001b[38;5;28mlist\u001b[39m)):\n\u001b[1;32m   6161\u001b[0m     level \u001b[38;5;241m=\u001b[39m [level]\n\u001b[0;32m-> 6162\u001b[0m level \u001b[38;5;241m=\u001b[39m [\u001b[38;5;28mself\u001b[39m\u001b[38;5;241m.\u001b[39mindex\u001b[38;5;241m.\u001b[39m_get_level_number(lev) \u001b[38;5;28;01mfor\u001b[39;00m lev \u001b[38;5;129;01min\u001b[39;00m level]\n\u001b[1;32m   6163\u001b[0m \u001b[38;5;28;01mif\u001b[39;00m \u001b[38;5;28mlen\u001b[39m(level) \u001b[38;5;241m<\u001b[39m \u001b[38;5;28mself\u001b[39m\u001b[38;5;241m.\u001b[39mindex\u001b[38;5;241m.\u001b[39mnlevels:\n\u001b[1;32m   6164\u001b[0m     new_index \u001b[38;5;241m=\u001b[39m \u001b[38;5;28mself\u001b[39m\u001b[38;5;241m.\u001b[39mindex\u001b[38;5;241m.\u001b[39mdroplevel(level)\n",
      "File \u001b[0;32m~/anaconda3/lib/python3.11/site-packages/pandas/core/indexes/base.py:1915\u001b[0m, in \u001b[0;36mIndex._get_level_number\u001b[0;34m(self, level)\u001b[0m\n\u001b[1;32m   1914\u001b[0m \u001b[38;5;28;01mdef\u001b[39;00m \u001b[38;5;21m_get_level_number\u001b[39m(\u001b[38;5;28mself\u001b[39m, level) \u001b[38;5;241m-\u001b[39m\u001b[38;5;241m>\u001b[39m \u001b[38;5;28mint\u001b[39m:\n\u001b[0;32m-> 1915\u001b[0m     \u001b[38;5;28mself\u001b[39m\u001b[38;5;241m.\u001b[39m_validate_index_level(level)\n\u001b[1;32m   1916\u001b[0m     \u001b[38;5;28;01mreturn\u001b[39;00m \u001b[38;5;241m0\u001b[39m\n",
      "File \u001b[0;32m~/anaconda3/lib/python3.11/site-packages/pandas/core/indexes/base.py:1910\u001b[0m, in \u001b[0;36mIndex._validate_index_level\u001b[0;34m(self, level)\u001b[0m\n\u001b[1;32m   1906\u001b[0m         \u001b[38;5;28;01mraise\u001b[39;00m \u001b[38;5;167;01mIndexError\u001b[39;00m(\n\u001b[1;32m   1907\u001b[0m             \u001b[38;5;124mf\u001b[39m\u001b[38;5;124m\"\u001b[39m\u001b[38;5;124mToo many levels: Index has only 1 level, not \u001b[39m\u001b[38;5;132;01m{\u001b[39;00mlevel\u001b[38;5;250m \u001b[39m\u001b[38;5;241m+\u001b[39m\u001b[38;5;250m \u001b[39m\u001b[38;5;241m1\u001b[39m\u001b[38;5;132;01m}\u001b[39;00m\u001b[38;5;124m\"\u001b[39m\n\u001b[1;32m   1908\u001b[0m         )\n\u001b[1;32m   1909\u001b[0m \u001b[38;5;28;01melif\u001b[39;00m level \u001b[38;5;241m!=\u001b[39m \u001b[38;5;28mself\u001b[39m\u001b[38;5;241m.\u001b[39mname:\n\u001b[0;32m-> 1910\u001b[0m     \u001b[38;5;28;01mraise\u001b[39;00m \u001b[38;5;167;01mKeyError\u001b[39;00m(\n\u001b[1;32m   1911\u001b[0m         \u001b[38;5;124mf\u001b[39m\u001b[38;5;124m\"\u001b[39m\u001b[38;5;124mRequested level (\u001b[39m\u001b[38;5;132;01m{\u001b[39;00mlevel\u001b[38;5;132;01m}\u001b[39;00m\u001b[38;5;124m) does not match index name (\u001b[39m\u001b[38;5;132;01m{\u001b[39;00m\u001b[38;5;28mself\u001b[39m\u001b[38;5;241m.\u001b[39mname\u001b[38;5;132;01m}\u001b[39;00m\u001b[38;5;124m)\u001b[39m\u001b[38;5;124m\"\u001b[39m\n\u001b[1;32m   1912\u001b[0m     )\n",
      "\u001b[0;31mKeyError\u001b[0m: 'Requested level (cryptocurrency) does not match index name (data_date)'"
     ]
    }
   ],
   "source": [
    "# Group by crypto data by cryptocurrency\n",
    "# Groupby object is not a df. to see it, we need to use aggregage functions mean(), sum() ect.\n",
    "crypto_data_grp = crypto_data.groupby('cryptocurrency').mean().reset_index()\n",
    "crypto_data_grp\n",
    "grouped_cryptos = crypto_data.groupby('cryptocurrency')['data_priceUsd'].pct_change().reset_index(level='cryptocurrency')\n",
    "grouped_cryptos\n"
   ]
  },
  {
   "cell_type": "code",
   "execution_count": null,
   "id": "be0ff8fc-4931-4c39-88f1-5f27009dc69b",
   "metadata": {
    "tags": []
   },
   "outputs": [],
   "source": [
    "# Plot data_priceUsd for each crypto across time\n",
    "grouped_cryptos = crypto_data.groupby('cryptocurrency')['data_priceUsd'].plot(legend=True)\n",
    "grouped_cryptos"
   ]
  },
  {
   "cell_type": "markdown",
   "id": "611399ab-fe71-4c28-abee-279f887a0444",
   "metadata": {},
   "source": [
    "### 5 multi-index"
   ]
  },
  {
   "cell_type": "code",
   "execution_count": null,
   "id": "e7e88a35-bac9-472b-823b-98f9eed8efff",
   "metadata": {
    "tags": []
   },
   "outputs": [],
   "source": [
    "# Read in data\n",
    "csv_path = Path(\"./Resources/twtr_google_finance.csv\")\n",
    "ticker_data = pd.read_csv(csv_path, parse_dates=True, index_col='Date')\n",
    "ticker_data.head()"
   ]
  },
  {
   "cell_type": "code",
   "execution_count": null,
   "id": "28a2c8b3-a923-47b4-8206-26b679672614",
   "metadata": {
    "tags": []
   },
   "outputs": [],
   "source": [
    "ticker_data.index"
   ]
  },
  {
   "cell_type": "code",
   "execution_count": null,
   "id": "2419b409-cc31-4223-8e1c-d38799a7c762",
   "metadata": {
    "tags": []
   },
   "outputs": [],
   "source": [
    "# Group by year, month, and day and grab first of each group\n",
    "ticker_data_grp = ticker_data.groupby([ticker_data.index.year, ticker_data.index.month, ticker_data.index.day]).first()\n",
    "ticker_data_grp"
   ]
  },
  {
   "cell_type": "code",
   "execution_count": null,
   "id": "decf8056-f48c-41c4-9e2c-ab753494e71d",
   "metadata": {
    "tags": []
   },
   "outputs": [],
   "source": [
    "# Slice data for 4/12/2019 from first group\n",
    "ticker_data_slice = ticker_data_grp.loc[2019,4,12]\n",
    "ticker_data_slice"
   ]
  },
  {
   "cell_type": "code",
   "execution_count": null,
   "id": "18135e4f-c7b7-40a7-8568-c2695398d978",
   "metadata": {},
   "outputs": [],
   "source": []
  }
 ],
 "metadata": {
  "kernelspec": {
   "display_name": "Python 3 (ipykernel)",
   "language": "python",
   "name": "python3"
  },
  "language_info": {
   "codemirror_mode": {
    "name": "ipython",
    "version": 3
   },
   "file_extension": ".py",
   "mimetype": "text/x-python",
   "name": "python",
   "nbconvert_exporter": "python",
   "pygments_lexer": "ipython3",
   "version": "3.11.5"
  }
 },
 "nbformat": 4,
 "nbformat_minor": 5
}
