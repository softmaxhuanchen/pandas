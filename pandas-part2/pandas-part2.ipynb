{
 "cells": [
  {
   "cell_type": "markdown",
   "id": "c7f5ce57-8d7a-42db-9d09-be9f87e27474",
   "metadata": {},
   "source": [
    "### 1. Basic Statistics "
   ]
  },
  {
   "cell_type": "code",
   "execution_count": null,
   "id": "e5ff6bbf-717d-4a0d-957a-a8daba54466f",
   "metadata": {
    "tags": []
   },
   "outputs": [],
   "source": [
    "import random\n",
    "import pandas as pd\n",
    "\n",
    "# sample from some kind hidden structure\n",
    "\n",
    "def sample_from_hidden_structures(samples=100, structure='coin'):    \n",
    "    if structure == 'coin':\n",
    "        # Coin has two outcomes: 'Heads' or 'Tails'\n",
    "        outcomes = ['Heads', 'Tails']\n",
    "        data = [random.choice(outcomes) for _ in range(samples)]\n",
    "\n",
    "    elif structure == 'dice':\n",
    "        # Dice has six outcomes: 1, 2, 3, 4, 5, 6\n",
    "        outcomes = [1, 2, 3, 4, 5, 6]\n",
    "        data = [random.choice(outcomes) for _ in range(samples)]\n",
    "\n",
    "    return pd.DataFrame(data, columns=['Outcome'])\n",
    "\n",
    "\n",
    "df_samples = sample_from_hidden_structures(samples=100000, structure='dice')\n",
    "print(df_samples)"
   ]
  },
  {
   "cell_type": "code",
   "execution_count": null,
   "id": "4e92fdc6-baab-4edd-aee2-143306b84a7d",
   "metadata": {
    "tags": []
   },
   "outputs": [],
   "source": [
    "import matplotlib.pyplot as plt\n",
    "\n",
    "def plot_distribution(df, structure='coin'):\n",
    "\n",
    "    if structure == 'coin':\n",
    "        # For coin flips, use a bar plot to show the frequency of each outcome\n",
    "        counts = df['Outcome'].value_counts()\n",
    "        counts.plot(kind='bar', color=['blue', 'green'])\n",
    "        plt.title('Coin Flip Distribution')\n",
    "        plt.xlabel('Outcome')\n",
    "        plt.ylabel('Frequency')\n",
    "        plt.xticks(rotation=0)\n",
    "\n",
    "    elif structure == 'dice':\n",
    "        # For dice rolls, use a histogram to show the distribution of outcomes\n",
    "        df['Outcome'].plot(kind='hist', bins=range(1, 8), align='left', rwidth=0.5)\n",
    "        plt.title('Dice Roll Distribution')\n",
    "        plt.xlabel('Outcome')\n",
    "        plt.ylabel('Frequency')\n",
    "        plt.xticks(range(1, 7))\n",
    "\n",
    "    plt.show()\n",
    "\n",
    "\n",
    "plot_distribution(df_samples, 'dice')"
   ]
  },
  {
   "cell_type": "markdown",
   "id": "06c42cd7-3fa8-49c8-b696-55e0f0d5a37c",
   "metadata": {},
   "source": [
    "### some insights\n",
    "- statistical observations <- hidden structure + randomness (observations are samples)\n",
    "- distribution is a good way to describe random varibles\n",
    "- sometimes we know the structure, most of time we only have the samples (stock market). samples -> (infer) structure -> then (make predictions) -> new obsavtions \n",
    "- random sampling (how to lie with facts. narratives)"
   ]
  },
  {
   "cell_type": "markdown",
   "id": "647465d6-1fa9-4568-9f85-bd071b3e6a71",
   "metadata": {
    "tags": []
   },
   "source": [
    "### 2. Normal Distribution\n"
   ]
  },
  {
   "cell_type": "code",
   "execution_count": null,
   "id": "dfe1340f-ed4a-4f6d-8127-86e24e8e42e4",
   "metadata": {
    "tags": []
   },
   "outputs": [],
   "source": [
    "import random\n",
    "import pandas as pd\n",
    "\n",
    "# heights of population\n",
    "def sample_normal_distribution(samples=100000, mu=170, sigma=10):\n",
    "    data = [random.gauss(mu, sigma) for _ in range(samples)]\n",
    "    return pd.DataFrame(data, columns=['Value'])\n",
    "\n",
    "df_normal = sample_normal_distribution(samples=100000, mu=165, sigma=15)\n",
    "\n",
    "import matplotlib.pyplot as plt\n",
    "\n",
    "def plot_distribution(df, title='Data Distribution', bins=30):\n",
    "\n",
    "    plt.figure(figsize=(10, 6))\n",
    "    plt.hist(df['Value'], bins=bins, edgecolor='black', alpha=0.7)\n",
    "    plt.title(title)\n",
    "    plt.xlabel('Value')\n",
    "    plt.ylabel('Frequency')\n",
    "    plt.grid(True)\n",
    "    plt.show()\n",
    "\n",
    "plot_distribution(df_normal, title='Normal Distribution', bins=40)"
   ]
  },
  {
   "cell_type": "markdown",
   "id": "741fe14c-bf5e-4506-9118-f492fb227430",
   "metadata": {},
   "source": [
    "### some insights\n",
    "- mean, std to describe a bell curlve\n",
    "- std x 1 = 68%, std x 2 = 95%. if aaple stock, mean annual return 8%, std 8%, what's probablity if buy apple, I will lose money this year. \n",
    "- risk vs std (narrow? wide? more risky)\n",
    "- normal distribution is a dangeous assumption. black swan\n",
    "- stable structure vs unstable vs non-stationary \n",
    "- balance return and risk - sharp ratio. risk/reward trade off"
   ]
  },
  {
   "cell_type": "markdown",
   "id": "5252bb4e-2ebc-4df3-8c85-907b03921dcc",
   "metadata": {
    "tags": []
   },
   "source": [
    "### 3. std, sharp ratio - finding the best risk/reward (trade off) stock\n",
    "- activity 15"
   ]
  },
  {
   "cell_type": "code",
   "execution_count": null,
   "id": "26bde3ca-0376-4d97-b0aa-b6b6a6ae0e25",
   "metadata": {
    "tags": []
   },
   "outputs": [],
   "source": [
    "import pandas as pd\n",
    "import numpy as np\n",
    "from pathlib import Path\n",
    "%matplotlib inline"
   ]
  },
  {
   "cell_type": "code",
   "execution_count": null,
   "id": "4d6a32b0-7cda-4709-8f13-9b770a1d57f7",
   "metadata": {
    "tags": []
   },
   "outputs": [],
   "source": [
    "# activity 15 calulate daily (not annual) return std \n",
    "# stock price df -> daily return df -> daily return std df -> scale up daily return (good proxy) std to yearly std df \n",
    "file_path = Path(\"./Resources/tech_stocks_closing_value_2018.csv\")\n",
    "tech_stocks = pd.read_csv(file_path, index_col='Date', parse_dates=True)\n",
    "tech_stocks.head()"
   ]
  },
  {
   "cell_type": "code",
   "execution_count": null,
   "id": "6d6c2b96-05bc-43a6-a3ed-38db2b2effe1",
   "metadata": {
    "tags": []
   },
   "outputs": [],
   "source": [
    "# daily returns df\n",
    "daily_returns = tech_stocks.pct_change()\n",
    "daily_returns.head()"
   ]
  },
  {
   "cell_type": "code",
   "execution_count": null,
   "id": "415c4147-e381-4119-b451-72ae92d0777e",
   "metadata": {
    "tags": []
   },
   "outputs": [],
   "source": [
    "# Daily std df\n",
    "daily_std = daily_returns.std()\n",
    "daily_std.head()"
   ]
  },
  {
   "cell_type": "code",
   "execution_count": null,
   "id": "6a82daea-8e1a-4ef8-8578-6113d1fc46ab",
   "metadata": {
    "tags": []
   },
   "outputs": [],
   "source": [
    "# daily return std to annualized std (252 trading days)\n",
    "annualized_std = daily_std * np.sqrt(252)\n",
    "annualized_std.head()"
   ]
  },
  {
   "cell_type": "markdown",
   "id": "fbac32f2-3731-471b-8189-ee367a4d147c",
   "metadata": {
    "tags": []
   },
   "source": [
    "### sharp ratio\n",
    "- activity 16"
   ]
  },
  {
   "cell_type": "code",
   "execution_count": null,
   "id": "9d856c70-ad43-4b95-95d0-a121aa1288bb",
   "metadata": {},
   "outputs": [],
   "source": [
    "import pandas as pd\n",
    "import numpy as np\n",
    "from pathlib import Path\n",
    "%matplotlib inline"
   ]
  },
  {
   "cell_type": "markdown",
   "id": "b7e258bd-f385-4539-acd0-bb1b959e99e9",
   "metadata": {},
   "source": [
    "### 4. groupby object (the structure inside of a df, one to many)\n",
    "- activity 5"
   ]
  },
  {
   "cell_type": "markdown",
   "id": "611399ab-fe71-4c28-abee-279f887a0444",
   "metadata": {},
   "source": [
    "### 5 multi-index"
   ]
  }
 ],
 "metadata": {
  "kernelspec": {
   "display_name": "Python 3 (ipykernel)",
   "language": "python",
   "name": "python3"
  },
  "language_info": {
   "codemirror_mode": {
    "name": "ipython",
    "version": 3
   },
   "file_extension": ".py",
   "mimetype": "text/x-python",
   "name": "python",
   "nbconvert_exporter": "python",
   "pygments_lexer": "ipython3",
   "version": "3.11.5"
  }
 },
 "nbformat": 4,
 "nbformat_minor": 5
}
