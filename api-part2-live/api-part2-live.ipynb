{
 "cells": [
  {
   "cell_type": "markdown",
   "id": "469b5aff-5004-4ea8-b058-6bf3b5f6ac45",
   "metadata": {},
   "source": [
    "### 1. hiden files/folders\n",
    "- mac: use 'Command + Shift + .' to toggle \n",
    "- windows: file-exploer - view - show hidden files\n"
   ]
  },
  {
   "cell_type": "markdown",
   "id": "2652eae4-6924-446a-9243-9fe9d7dd5d44",
   "metadata": {},
   "source": [
    "### 2. environmental variables "
   ]
  },
  {
   "cell_type": "code",
   "execution_count": null,
   "id": "0679c28a-f725-405e-910d-ca78de7a02a6",
   "metadata": {
    "tags": []
   },
   "outputs": [],
   "source": [
    "import os\n",
    "from dotenv import load_dotenv\n",
    "load_dotenv()"
   ]
  },
  {
   "cell_type": "code",
   "execution_count": null,
   "id": "b58435a5-2eed-4f99-8e8c-8a992cc01d43",
   "metadata": {
    "tags": []
   },
   "outputs": [],
   "source": [
    "api_key = os.getenv('ALPACA_API_KEY')\n",
    "secret_key = os.getenv('ALPACA_SECRET_KEY')\n"
   ]
  },
  {
   "cell_type": "markdown",
   "id": "7d2b1670-47f6-4238-ba8d-047f86119c3c",
   "metadata": {},
   "source": [
    "### Activity 3 create Alpaca key and secret keys "
   ]
  },
  {
   "cell_type": "markdown",
   "id": "31070c2c-99b6-4137-9805-86eb762c0aba",
   "metadata": {},
   "source": [
    "### 3. alpaca API\n",
    "- review what is api? do a function call remotely, message passing\n",
    "- most company provide lib for api calls"
   ]
  },
  {
   "cell_type": "markdown",
   "id": "5db61f3f-bcc5-483f-b92e-9d8a51d66280",
   "metadata": {},
   "source": [
    "### 4. install alpaca API\n",
    "- pip install alpaca_trade_api (this is an old version)\n",
    "- pip install alpaca-py ( new version, not needed right now)\n",
    "- restart Kernel "
   ]
  },
  {
   "cell_type": "markdown",
   "id": "ea40bbfe-6ef9-4515-b86e-dfa23026901c",
   "metadata": {},
   "source": [
    "### 5. interact with alpaca API"
   ]
  },
  {
   "cell_type": "code",
   "execution_count": null,
   "id": "eb9427ad-d09b-4ce6-a38c-8026a8c00496",
   "metadata": {
    "tags": []
   },
   "outputs": [],
   "source": [
    "# Initial imports\n",
    "import os\n",
    "import requests\n",
    "import pandas as pd\n",
    "from dotenv import load_dotenv\n",
    "import alpaca_trade_api as tradeapi\n",
    "\n",
    "%matplotlib inline"
   ]
  },
  {
   "cell_type": "markdown",
   "id": "d869f90d-5424-40e0-ab7e-7c0f8d3faf8d",
   "metadata": {},
   "source": [
    "## Create a DataFrame with the current amount of shares"
   ]
  },
  {
   "cell_type": "code",
   "execution_count": null,
   "id": "76055677-dc0a-4e81-b24c-64ff331e46ca",
   "metadata": {
    "tags": []
   },
   "outputs": [],
   "source": [
    "# msft and appl\n",
    "# shares_data = {'shares': [200, 320]}\n",
    "tickers = ['MSFT','AAPL']\n",
    "\n",
    "# # create the df\n",
    "# df_shares = pd.DataFrame(shares_data, index = tickers)\n",
    "\n",
    "# df_shares\n",
    "\n",
    "shares_data = {'tickers': ['MSFT','AAPL'], 'shares': [200, 320]}\n",
    "\n",
    "df_shares = pd.DataFrame(shares_data)\n",
    "df_shares.set_index('tickers', inplace= True)\n",
    "df_shares\n",
    "\n"
   ]
  },
  {
   "cell_type": "markdown",
   "id": "a1d2af6e-9961-4db3-8fd5-46bfaadaf447",
   "metadata": {
    "tags": []
   },
   "source": [
    "## Load and Verify Environment Variables"
   ]
  },
  {
   "cell_type": "code",
   "execution_count": null,
   "id": "02fddf80-1083-4c08-a40a-31c785b639cb",
   "metadata": {
    "tags": []
   },
   "outputs": [],
   "source": [
    "load_dotenv()"
   ]
  },
  {
   "cell_type": "code",
   "execution_count": null,
   "id": "eecf97a5-e23e-4c1d-a159-bf3d38a8a5db",
   "metadata": {
    "tags": []
   },
   "outputs": [],
   "source": [
    "api_key = os.getenv('ALPACA_API_KEY')\n",
    "secret_key = os.getenv('ALPACA_SECRET_KEY')\n",
    "print(api_key)\n",
    "print(secret_key)"
   ]
  },
  {
   "cell_type": "markdown",
   "id": "fbfa6a4d-344a-4472-a214-d15f2592d07d",
   "metadata": {
    "tags": []
   },
   "source": [
    "## Create the Alpaca API Object"
   ]
  },
  {
   "cell_type": "code",
   "execution_count": null,
   "id": "a7ee2687-232b-4308-a0fc-e50dff48a0c8",
   "metadata": {
    "tags": []
   },
   "outputs": [],
   "source": [
    "alpaca = tradeapi.REST(api_key, secret_key, api_version='v2')"
   ]
  },
  {
   "cell_type": "markdown",
   "id": "6a8a4f30-5ea5-4cf1-a118-dedbd1b0643a",
   "metadata": {},
   "source": [
    "## Set a variable `today` with current date using ISO format"
   ]
  },
  {
   "cell_type": "code",
   "execution_count": null,
   "id": "6d2f7d5a-d229-4f6c-be6a-f0e3c10a9b3d",
   "metadata": {
    "tags": []
   },
   "outputs": [],
   "source": [
    "today = pd.Timestamp('2023-12-12', tz='America/New_York').isoformat()\n",
    "today"
   ]
  },
  {
   "cell_type": "markdown",
   "id": "5d62c0d3-c4c2-491a-8da8-56d737942752",
   "metadata": {},
   "source": [
    "## Set a variable `timeframe` with value equal to `1Day`"
   ]
  },
  {
   "cell_type": "code",
   "execution_count": null,
   "id": "94950ebd-d4b8-42d5-a540-dda820668c18",
   "metadata": {
    "tags": []
   },
   "outputs": [],
   "source": [
    "timeframe = '1Day'"
   ]
  },
  {
   "cell_type": "markdown",
   "id": "6c5369b0-6044-44f9-8bf2-06d0cbce4c47",
   "metadata": {},
   "source": [
    "## Create a DataFrame with current price data for `MSFT` & `AAPL` using `alpaca.get_bars()`"
   ]
  },
  {
   "cell_type": "code",
   "execution_count": null,
   "id": "ba8b3725-0025-410e-8310-e0c87a147668",
   "metadata": {
    "tags": []
   },
   "outputs": [],
   "source": [
    "df_portfolio = alpaca.get_bars(tickers, timeframe, start = today, end = today).df\n",
    "df_portfolio"
   ]
  },
  {
   "cell_type": "markdown",
   "id": "e63d524f-8b03-4e75-9fc0-69d2d5a8d5a9",
   "metadata": {},
   "source": [
    "## Calculate the current value in dollars of the stock portfolio"
   ]
  },
  {
   "cell_type": "code",
   "execution_count": null,
   "id": "f3f9bdf2-677a-46d9-8d17-88b1719b6f66",
   "metadata": {
    "tags": []
   },
   "outputs": [],
   "source": [
    "AAPL = df_portfolio[df_portfolio['symbol'] == 'AAPL']\n",
    "AAPL = AAPL.drop('symbol', axis = 1)\n",
    "AAPL\n",
    "MSFT = df_portfolio[df_portfolio['symbol']=='MSFT'].drop('symbol', axis=1)\n",
    "MSFT"
   ]
  },
  {
   "cell_type": "code",
   "execution_count": null,
   "id": "af9a3dd4-4ae9-4755-8c50-79c3f7e2a0b9",
   "metadata": {
    "tags": []
   },
   "outputs": [],
   "source": [
    "df_portfolio = pd.concat([AAPL, MSFT], axis = 1, keys = ['AAPL', 'MSFT'])\n",
    "df_portfolio"
   ]
  },
  {
   "cell_type": "code",
   "execution_count": null,
   "id": "b182fb97-6fc2-4f73-8dab-ca1d663b24af",
   "metadata": {
    "tags": []
   },
   "outputs": [],
   "source": [
    "msft_price = df_portfolio['MSFT']['close'].iloc[0]\n",
    "msft_price\n",
    "aapl_price = df_portfolio['AAPL']['close'].iloc[0]\n",
    "aapl_price"
   ]
  },
  {
   "cell_type": "code",
   "execution_count": null,
   "id": "7147cb2b-decd-4561-abd4-260acd797415",
   "metadata": {
    "tags": []
   },
   "outputs": [],
   "source": [
    "msft_value = msft_price * df_shares.loc[\"MSFT\"][\"shares\"]\n",
    "msft_value\n",
    "aapl_value = aapl_price * df_shares.loc[\"AAPL\"][\"shares\"]\n",
    "aapl_value"
   ]
  },
  {
   "cell_type": "code",
   "execution_count": null,
   "id": "79bf50bf-0417-4182-9eed-c51e38f1ebab",
   "metadata": {
    "tags": []
   },
   "outputs": [],
   "source": [
    "value_data = {\"MSFT\": [msft_value], \"AAPL\": [aapl_value]}\n",
    "df_value = pd.DataFrame(value_data)\n",
    "df_value"
   ]
  },
  {
   "cell_type": "code",
   "execution_count": null,
   "id": "1ad29fe8-a312-4793-a8c9-0e5ae423bc87",
   "metadata": {
    "tags": []
   },
   "outputs": [],
   "source": [
    "df_shares.plot.pie(y = 'shares', title = \"stock portfolio compositioin\")"
   ]
  },
  {
   "cell_type": "markdown",
   "id": "16d50ba4-2268-4810-9227-7fdfe124e74c",
   "metadata": {
    "tags": []
   },
   "source": [
    "## Plot stock portfolio composition\n",
    "\n",
    "### Create a DataFrame with the current value of shares"
   ]
  },
  {
   "cell_type": "code",
   "execution_count": null,
   "id": "aa6fa9e5-495d-4364-ae58-296e960b17cd",
   "metadata": {
    "tags": []
   },
   "outputs": [],
   "source": [
    "df_value.plot.bar(title = 'current value in dollars of the stock portfolio')"
   ]
  },
  {
   "cell_type": "markdown",
   "id": "27c47ee0-2219-4ca8-a38b-eb1acb892dd0",
   "metadata": {},
   "source": [
    "### 5. Activities 5"
   ]
  }
 ],
 "metadata": {
  "kernelspec": {
   "display_name": "Python 3 (ipykernel)",
   "language": "python",
   "name": "python3"
  },
  "language_info": {
   "codemirror_mode": {
    "name": "ipython",
    "version": 3
   },
   "file_extension": ".py",
   "mimetype": "text/x-python",
   "name": "python",
   "nbconvert_exporter": "python",
   "pygments_lexer": "ipython3",
   "version": "3.11.5"
  },
  "toc-showtags": false
 },
 "nbformat": 4,
 "nbformat_minor": 5
}
