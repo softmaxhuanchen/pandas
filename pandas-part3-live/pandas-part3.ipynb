{
 "cells": [
  {
   "cell_type": "markdown",
   "id": "f04bfb57-c589-4413-9212-a0ef272834a0",
   "metadata": {
    "tags": []
   },
   "source": [
    "### 1. Review \n",
    "- what is random variable\n",
    "- what is distribution"
   ]
  },
  {
   "cell_type": "markdown",
   "id": "2839998c-d06f-44a7-b0f0-de95a6c2536d",
   "metadata": {
    "tags": []
   },
   "source": [
    "### 2. weighted average\n",
    "- 2 stock portfolio, winner stock stock outperforms buffett. losing stock outperforms buffett. portfolio underperform buffett. why?\n",
    "warren: KO 5%, std 10%, weight = 10%, WMT 20%, std 30%, weight = 90% in Wmt, 10 in KO. expected turn = 90% X 20% + 10% X 5% = 18.5% (20% + 5%)/2 = average \n",
    "port std < 10% x 10% + 30% x 90% only the correlation (-1, 1) between the 2 stocks is 1. \n",
    "\n",
    "Me: PEP 6%, COST 30% 90% in pep, 10 in cost. 10% x 30% + 90% x 6% = 8.4%\n",
    "\n",
    "- dot product."
   ]
  },
  {
   "cell_type": "markdown",
   "id": "c287a310-436f-4fe8-bf67-8b619375d40e",
   "metadata": {},
   "source": [
    "### 3. Correlation between random variables\n",
    "- correlation (-1, 1)"
   ]
  },
  {
   "cell_type": "markdown",
   "id": "83384cd0-d275-4c40-bcde-3e29833445f7",
   "metadata": {},
   "source": [
    "### some insights\n",
    "- good investment decisions include 2 parts: selection and allocation. allocation is more important. expected return of port is weighted average of each stock\n",
    "- diversification never increase the std of the portfolio beyond the weight average and usually reduce the std of the portfolio comparing to the weighted average of std of each stock"
   ]
  },
  {
   "cell_type": "markdown",
   "id": "29abf94d-1ac3-4b73-8925-b43c392befe0",
   "metadata": {},
   "source": [
    "### 4. portforlio management in theory and practice"
   ]
  },
  {
   "cell_type": "markdown",
   "id": "8cb976f0-bddd-4212-ab8d-ebec24cf6bbd",
   "metadata": {},
   "source": [
    "### Portfolio management in theory\n",
    "- if there is no uncertainty/risks do we still need portfolio management?\n",
    "- allocation decision -> get higher weighted return, get lower port std\n",
    "- what is beta? cov/var \n"
   ]
  },
  {
   "cell_type": "markdown",
   "id": "1555688f-11a8-4573-a069-1fd7267f8681",
   "metadata": {},
   "source": [
    "### Portfolio management in practice\n",
    "1. What is stock market? What is bond market? What are asset classes? What is a market index?\n",
    "2. Is market efficent? is chess game efficent?\n",
    "3. What's the difference between investing and trading? Investing and trading are 2 different games.\n",
    "4. How to make money by investing? By predicting market? or By understanding the rules of the game and having an edge. Value/Growth/Quant etc.\n",
    "5. What are investing decisions? investment decision and allocation decision.\n",
    "6. What is portfolio management? investment decision + allocation decision -> Higher expected return, lower risk."
   ]
  },
  {
   "cell_type": "markdown",
   "id": "f3f14b77-592b-4d0e-8a08-bdda1b2e279b",
   "metadata": {},
   "source": [
    "### Activity 1: correlation"
   ]
  },
  {
   "cell_type": "code",
   "execution_count": null,
   "id": "afd959c0-40f6-40e8-8b75-34710a5b4c84",
   "metadata": {
    "tags": []
   },
   "outputs": [],
   "source": [
    "# Import libraries and dependencies\n",
    "import pandas as pd\n",
    "from pathlib import Path\n",
    "%matplotlib inline"
   ]
  },
  {
   "cell_type": "code",
   "execution_count": null,
   "id": "cc4eba5a-5796-4216-8699-61f7bb01a867",
   "metadata": {
    "tags": []
   },
   "outputs": [],
   "source": [
    "# Read the ice cream sales data, set the `Month` as the index\n",
    "ice_cream_data = Path(\"./Resources/ice_cream.csv\")\n",
    "ice_cream = pd.read_csv(ice_cream_data, index_col=\"Month\")\n",
    "ice_cream.head()"
   ]
  },
  {
   "cell_type": "code",
   "execution_count": null,
   "id": "5b7ddd67-71e4-47e5-8e00-3a51cf8ede4d",
   "metadata": {
    "tags": []
   },
   "outputs": [],
   "source": [
    "# Read the drowning incident data, set the `Month` as the index\n",
    "drowning_data = Path(\"./Resources/drowning.csv\")\n",
    "drowning = pd.read_csv(drowning_data, index_col=\"Month\")\n",
    "drowning.head()"
   ]
  },
  {
   "cell_type": "code",
   "execution_count": null,
   "id": "0180ca31-42d7-4fef-b781-a55bb39c1a8c",
   "metadata": {
    "tags": []
   },
   "outputs": [],
   "source": [
    "# Use the `concat` function to combine the two DataFrames by matching indexes (or in this case `Month`)\n",
    "combined_df = pd.concat([ice_cream, drowning], axis=\"columns\", join=\"inner\")\n",
    "combined_df"
   ]
  },
  {
   "cell_type": "code",
   "execution_count": null,
   "id": "ce88a3f5-adf3-42ee-b7c8-f90acf23d395",
   "metadata": {
    "tags": []
   },
   "outputs": [],
   "source": [
    "# Plot the data trends of the two variables over time\n",
    "combined_df.plot()"
   ]
  },
  {
   "cell_type": "code",
   "execution_count": null,
   "id": "59639212-21d8-40e6-ac78-31d5d8380439",
   "metadata": {
    "tags": []
   },
   "outputs": [],
   "source": [
    "# Plot the relationship between the two variables\n",
    "combined_df.plot(kind=\"scatter\", x=\"Ice Cream Sales\", y=\"Drowning Incidents\")"
   ]
  },
  {
   "cell_type": "code",
   "execution_count": null,
   "id": "5b8fe9e8-f882-48c3-a8ea-9a38c90d6fa2",
   "metadata": {
    "tags": []
   },
   "outputs": [],
   "source": [
    "# Calculate the correlation between each column\n",
    "correlation = combined_df.corr()\n",
    "correlation"
   ]
  },
  {
   "cell_type": "markdown",
   "id": "992bba90-0efc-49ed-b0ff-6262c4d9e8de",
   "metadata": {},
   "source": [
    "### some insights\n",
    "- correlation is not causation\n"
   ]
  },
  {
   "cell_type": "markdown",
   "id": "8d2a8322-e2f7-4a76-9fab-0d94bafbf526",
   "metadata": {},
   "source": [
    "### Activity 2 Rolling Window Object"
   ]
  },
  {
   "cell_type": "code",
   "execution_count": null,
   "id": "c953e341-6c9c-4ed0-9e0c-df9dd15aaf10",
   "metadata": {
    "tags": []
   },
   "outputs": [],
   "source": [
    "# Read the TSLA data, set the `date` as the index\n",
    "tsla_data = Path(\"./Resources/tsla_historical.csv\")\n",
    "tsla_df = pd.read_csv(tsla_data, index_col=\"date\")\n",
    "tsla_df.index = pd.to_datetime(tsla_df.index, format='%m/%d/%y') # explicit converting the 'date' column to a datatime object\n",
    "# Sorting the date index in ascending order\n",
    "tsla_df = tsla_df.sort_index()\n",
    "# Display sample data\n",
    "tsla_df.head(20)"
   ]
  },
  {
   "cell_type": "code",
   "execution_count": null,
   "id": "31ab91ee-1376-46f2-9d0d-45cc16f3d75c",
   "metadata": {
    "tags": []
   },
   "outputs": [],
   "source": [
    "tsla_df.plot()\n",
    "tsla_df.count()"
   ]
  },
  {
   "cell_type": "code",
   "execution_count": null,
   "id": "1f220cc2-cfdc-4621-b377-2eaa6a5941aa",
   "metadata": {
    "tags": []
   },
   "outputs": [],
   "source": [
    "tsla_df.rolling(window=7).mean().plot()\n"
   ]
  },
  {
   "cell_type": "code",
   "execution_count": null,
   "id": "67007e59-326f-4ffd-9051-e908f8c23319",
   "metadata": {
    "tags": []
   },
   "outputs": [],
   "source": [
    "# Set figure of the daily closing prices of Tesla\n",
    "ax = tsla_df.plot()\n",
    "\n",
    "# Plot 180-Day Rolling Mean on the same figure\n",
    "tsla_df.rolling(window=180).mean().plot(ax=ax)\n",
    "\n",
    "# Set the legend of the figure\n",
    "ax.legend([\"TSLA\", \"TSLA 180 Day Mean\"]);"
   ]
  },
  {
   "cell_type": "markdown",
   "id": "33216673-2498-448d-9d75-c8cb48818002",
   "metadata": {},
   "source": [
    "### activity 5 beta"
   ]
  },
  {
   "cell_type": "code",
   "execution_count": null,
   "id": "6f2e32af-f991-4b48-9966-211c07e1d468",
   "metadata": {
    "tags": []
   },
   "outputs": [],
   "source": [
    "# Read the daily closing prices of AMZN, set the `date` as a datetime index\n",
    "amzn_data = Path(\"./Resources/amzn_data.csv\")\n",
    "amzn_df = pd.read_csv(amzn_data, index_col=\"date\")\n",
    "\n",
    "amzn_df.index = pd.to_datetime(amzn_df.index, format = '%m/%d/%y')\n",
    "amzn_df.head()"
   ]
  },
  {
   "cell_type": "code",
   "execution_count": null,
   "id": "9fe690cc-348a-4711-a447-857988f7a5c7",
   "metadata": {
    "tags": []
   },
   "outputs": [],
   "source": [
    "# Read the daily closing prices of S&P 500, set the `date` as a datetime index\n",
    "sp500_data = Path(\"./Resources/sp500_data.csv\")\n",
    "sp500_df = pd.read_csv(sp500_data, index_col=\"date\")\n",
    "sp500_df.index = pd.to_datetime(sp500_df.index, format = '%m/%d/%y')\n",
    "sp500_df.head()"
   ]
  },
  {
   "cell_type": "code",
   "execution_count": null,
   "id": "2837076c-dc2a-4847-ae70-bb475fec7887",
   "metadata": {
    "tags": []
   },
   "outputs": [],
   "source": [
    "combined_df = pd.concat([amzn_df, sp500_df], axis=\"columns\", join=\"inner\")\n",
    "combined_df\n",
    "# Sort datetime index in ascending order (past to present). #this is a bug.\n",
    "combined_df = combined_df.sort_index()\n",
    "combined_df\n",
    "# Set column names to 'AMZN' and 'S&P 500'\n",
    "combined_df.columns = [\"AMZN\", \"S&P 500\"]\n",
    "\n",
    "# Display a few rows\n",
    "combined_df.head()"
   ]
  },
  {
   "cell_type": "code",
   "execution_count": null,
   "id": "cadb38f1-1f23-4c07-a382-5366b7f7352c",
   "metadata": {
    "tags": []
   },
   "outputs": [],
   "source": [
    "# Use the `pct_change` function to calculate daily returns of closing prices for each column\n",
    "daily_returns = combined_df.pct_change()\n",
    "daily_returns.head()"
   ]
  },
  {
   "cell_type": "code",
   "execution_count": null,
   "id": "4c20d1a8-8cfa-449d-96d2-cfda3607cf7a",
   "metadata": {
    "tags": []
   },
   "outputs": [],
   "source": [
    "# Calculate variance of all daily returns of AMZN vs. S&P 500\n",
    "variance = daily_returns['S&P 500'].var()\n",
    "variance"
   ]
  },
  {
   "cell_type": "code",
   "execution_count": null,
   "id": "96713d11-cfc0-4b41-823a-70f89408ae1f",
   "metadata": {
    "tags": []
   },
   "outputs": [],
   "source": [
    "# Calculate 30-day rolling covariance of AMZN vs. S&P 500 and plot the data\n",
    "rolling_covariance = daily_returns['AMZN'].rolling(window=30).cov(daily_returns['S&P 500'])\n",
    "rolling_covariance.plot(figsize=(20, 10), title='Rolling 30-Day Covariance of AMZN Returns vs. S&P 500 Returns')"
   ]
  },
  {
   "cell_type": "code",
   "execution_count": null,
   "id": "20ae277d-9709-4b0c-ac07-9ce142c302e7",
   "metadata": {
    "tags": []
   },
   "outputs": [],
   "source": [
    "# Calculate 30-day rolling variance of AMZN vs. S&P 500 and plot the data\n",
    "rolling_variance = daily_returns['S&P 500'].rolling(window=30).var()\n",
    "rolling_variance.plot(figsize=(20, 10), title='Rolling 30-Day Variance of S&P 500 Returns')"
   ]
  },
  {
   "cell_type": "code",
   "execution_count": null,
   "id": "2a695917-0aa0-4560-ba82-5d1b6de95b4e",
   "metadata": {
    "tags": []
   },
   "outputs": [],
   "source": [
    "# Calculate 30-day rolling beta of AMZN and plot the data\n",
    "rolling_beta = rolling_covariance / rolling_variance\n",
    "rolling_beta.plot(figsize=(20, 10), title='Rolling 30-Day Beta of AMZN')"
   ]
  },
  {
   "cell_type": "markdown",
   "id": "7676d2a0-5671-4cae-b582-111d43fc64ba",
   "metadata": {},
   "source": [
    "### activity 7 portfolio construction"
   ]
  },
  {
   "cell_type": "code",
   "execution_count": null,
   "id": "cf53a4ed-456d-4463-aeda-c8eceb4765f3",
   "metadata": {
    "tags": []
   },
   "outputs": [],
   "source": [
    "# Read the EMB Historical Closing Prices\n",
    "enb_data = Path(\"./Resources/emb_historical.csv\")\n",
    "enb = pd.read_csv(enb_data, index_col=\"Trade DATE\")\n",
    "enb.index = pd.to_datetime(enb.index, format = '%m/%d/%Y') # Cap Y is for 2019, lower case y is for 19\n",
    "enb = enb.sort_index()\n",
    "enb.head()"
   ]
  },
  {
   "cell_type": "code",
   "execution_count": null,
   "id": "b521d165-7887-4c8b-9aba-e8a1883bb55a",
   "metadata": {
    "tags": []
   },
   "outputs": [],
   "source": [
    "# Read the IMO Historical Closing Prices\n",
    "imo_data = Path(\"./Resources/imo_historical.csv\")\n",
    "imo = pd.read_csv(imo_data, index_col=\"Trade DATE\")\n",
    "imo.index = pd.to_datetime(imo.index, format = '%m/%d/%Y')\n",
    "imo = imo.sort_index()\n",
    "imo.head()"
   ]
  },
  {
   "cell_type": "code",
   "execution_count": null,
   "id": "56bc5334-7880-4076-863e-9a9971c0ec1a",
   "metadata": {
    "tags": []
   },
   "outputs": [],
   "source": [
    "enb.rename(columns = {'NOCP':\"ENB\"}, inplace = True)\n",
    "enb.drop(columns= 'Symbol', inplace = True)\n",
    "imo.rename(columns= {'NOCP':\"IMO\"}, inplace = True)\n",
    "imo.drop(columns= 'Symbol', inplace = True)\n",
    "all_prices = pd.concat([enb, imo], axis = 'columns', join = 'inner')\n",
    "all_prices"
   ]
  },
  {
   "cell_type": "code",
   "execution_count": null,
   "id": "e3e537a3-45b8-4ca1-a84e-1d4330217752",
   "metadata": {
    "tags": []
   },
   "outputs": [],
   "source": [
    "# # Create a new pivot table where the columns are the closing prices for each ticker\n",
    "# all_prices = pd.concat([enb, imo], axis=\"rows\", join=\"inner\")\n",
    "# all_prices = all_prices.reset_index()\n",
    "# all_prices = all_prices.pivot_table(values=\"NOCP\", index=\"Trade DATE\", columns=\"Symbol\")\n",
    "# all_prices.head()"
   ]
  },
  {
   "cell_type": "code",
   "execution_count": null,
   "id": "0e40a3f4-8b6b-40d0-a989-f8313bf9cfbf",
   "metadata": {
    "tags": []
   },
   "outputs": [],
   "source": [
    "# Calculate Daily Returns\n",
    "all_returns = all_prices.pct_change()\n",
    "all_returns.head()"
   ]
  },
  {
   "cell_type": "code",
   "execution_count": null,
   "id": "8fd48939-c787-4d88-9b8c-e267e7229f44",
   "metadata": {
    "tags": []
   },
   "outputs": [],
   "source": [
    "# Calculate Portfolio Returns with an equal amount of each stock\n",
    "enb_weight = 0.8\n",
    "imo_weight = 0.2\n",
    "\n",
    "portfolio_returns = enb_weight * all_returns[\"ENB\"] + imo_weight * all_returns[\"IMO\"]\n",
    "portfolio_returns.head()"
   ]
  },
  {
   "cell_type": "code",
   "execution_count": null,
   "id": "2f1b6180-f455-48a4-90b1-1a58af56371f",
   "metadata": {
    "tags": []
   },
   "outputs": [],
   "source": [
    "# Use the `std` function and multiply by the square root of the number of trading days in a year to get annualized volatility\n",
    "import numpy as np\n",
    "volatility = all_returns.std() * np.sqrt(252)\n",
    "volatility"
   ]
  },
  {
   "cell_type": "code",
   "execution_count": null,
   "id": "725c6afd-c57c-4f86-803d-53f13ef621d9",
   "metadata": {
    "tags": []
   },
   "outputs": [],
   "source": [
    "returns = all_returns.mean() * 252\n",
    "returns"
   ]
  },
  {
   "cell_type": "code",
   "execution_count": null,
   "id": "6b240e36-8211-434e-95a4-3ea188716220",
   "metadata": {
    "tags": []
   },
   "outputs": [],
   "source": [
    "port_volatility = portfolio_returns.std() * np.sqrt(252)\n",
    "port_volatility"
   ]
  },
  {
   "cell_type": "code",
   "execution_count": null,
   "id": "1149f287-8881-469d-9fa2-e52a31ab59a1",
   "metadata": {
    "tags": []
   },
   "outputs": [],
   "source": [
    "port_return = portfolio_returns.mean()*252\n",
    "port_return"
   ]
  },
  {
   "cell_type": "code",
   "execution_count": null,
   "id": "4897eb3a-eb35-481c-8dd7-48773b6ae825",
   "metadata": {
    "tags": []
   },
   "outputs": [],
   "source": [
    "# Set initial investment\n",
    "initial_investment = 10000\n",
    "\n",
    "# Set weights\n",
    "weights = [0.8, 0.2]\n",
    "\n",
    "# Use the `dot` function to multiply the weights by each column of daily returns to calculate the daily returns of the portfolio.\n",
    "portfolio_returns = all_returns.dot(weights)\n",
    "\n",
    "# Use the `cumprod` function to calculate cumulative returns\n",
    "cumulative_returns = (1 + portfolio_returns).cumprod()\n",
    "\n",
    "# Compute cumulative returns\n",
    "cumulative_profit = initial_investment * cumulative_returns\n",
    "\n",
    "# Plot the returns of the investment\n",
    "cumulative_profit.plot()"
   ]
  },
  {
   "cell_type": "code",
   "execution_count": null,
   "id": "134f3bac-3820-4ea0-9b3b-58e89f9fb5b4",
   "metadata": {},
   "outputs": [],
   "source": []
  }
 ],
 "metadata": {
  "kernelspec": {
   "display_name": "Python 3 (ipykernel)",
   "language": "python",
   "name": "python3"
  },
  "language_info": {
   "codemirror_mode": {
    "name": "ipython",
    "version": 3
   },
   "file_extension": ".py",
   "mimetype": "text/x-python",
   "name": "python",
   "nbconvert_exporter": "python",
   "pygments_lexer": "ipython3",
   "version": "3.11.5"
  }
 },
 "nbformat": 4,
 "nbformat_minor": 5
}
