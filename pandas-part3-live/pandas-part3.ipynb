{
 "cells": [
  {
   "cell_type": "markdown",
   "id": "f04bfb57-c589-4413-9212-a0ef272834a0",
   "metadata": {
    "tags": []
   },
   "source": [
    "### 1. Review \n",
    "- what is random variable\n",
    "- what is distribution"
   ]
  },
  {
   "cell_type": "markdown",
   "id": "2839998c-d06f-44a7-b0f0-de95a6c2536d",
   "metadata": {
    "tags": []
   },
   "source": [
    "### 2. weighted average\n",
    "- 2 stock portfolio, winner stock stock outperforms buffett. losing stock outperforms buffett. portfolio underperform buffett. why?\n",
    "- dot product."
   ]
  },
  {
   "cell_type": "markdown",
   "id": "c287a310-436f-4fe8-bf67-8b619375d40e",
   "metadata": {},
   "source": [
    "### 3. Correlation between random variables"
   ]
  },
  {
   "cell_type": "markdown",
   "id": "83384cd0-d275-4c40-bcde-3e29833445f7",
   "metadata": {},
   "source": [
    "### some insights\n"
   ]
  },
  {
   "cell_type": "markdown",
   "id": "29abf94d-1ac3-4b73-8925-b43c392befe0",
   "metadata": {},
   "source": [
    "### 4. portforlio management in theory and practice"
   ]
  },
  {
   "cell_type": "markdown",
   "id": "8cb976f0-bddd-4212-ab8d-ebec24cf6bbd",
   "metadata": {},
   "source": [
    "### Portfolio management in theory\n"
   ]
  },
  {
   "cell_type": "markdown",
   "id": "1555688f-11a8-4573-a069-1fd7267f8681",
   "metadata": {},
   "source": [
    "### Portfolio management in practice\n"
   ]
  },
  {
   "cell_type": "markdown",
   "id": "f3f14b77-592b-4d0e-8a08-bdda1b2e279b",
   "metadata": {},
   "source": [
    "### Activity 1: correlation"
   ]
  },
  {
   "cell_type": "code",
   "execution_count": null,
   "id": "afd959c0-40f6-40e8-8b75-34710a5b4c84",
   "metadata": {
    "tags": []
   },
   "outputs": [],
   "source": [
    "# Import libraries and dependencies\n",
    "import pandas as pd\n",
    "from pathlib import Path\n",
    "%matplotlib inline"
   ]
  },
  {
   "cell_type": "code",
   "execution_count": null,
   "id": "cc4eba5a-5796-4216-8699-61f7bb01a867",
   "metadata": {
    "tags": []
   },
   "outputs": [],
   "source": [
    "# Read the ice cream sales data, set the `Month` as the index\n",
    "ice_cream_data = Path(\"./Resources/ice_cream.csv\")\n",
    "ice_cream = pd.read_csv(ice_cream_data, index_col=\"Month\")\n",
    "ice_cream.head()"
   ]
  },
  {
   "cell_type": "code",
   "execution_count": null,
   "id": "5b7ddd67-71e4-47e5-8e00-3a51cf8ede4d",
   "metadata": {
    "tags": []
   },
   "outputs": [],
   "source": [
    "# Read the drowning incident data, set the `Month` as the index\n",
    "drowning_data = Path(\"./Resources/drowning.csv\")\n",
    "drowning = pd.read_csv(drowning_data, index_col=\"Month\")\n",
    "drowning.head()"
   ]
  },
  {
   "cell_type": "markdown",
   "id": "992bba90-0efc-49ed-b0ff-6262c4d9e8de",
   "metadata": {},
   "source": [
    "### some insights\n",
    "\n"
   ]
  },
  {
   "cell_type": "markdown",
   "id": "8d2a8322-e2f7-4a76-9fab-0d94bafbf526",
   "metadata": {},
   "source": [
    "### Activity 2 Rolling Window Object"
   ]
  },
  {
   "cell_type": "code",
   "execution_count": null,
   "id": "c953e341-6c9c-4ed0-9e0c-df9dd15aaf10",
   "metadata": {
    "tags": []
   },
   "outputs": [],
   "source": [
    "# Read the TSLA data, set the `date` as the index\n",
    "tsla_data = Path(\"./Resources/tsla_historical.csv\")\n",
    "tsla_df = pd.read_csv(tsla_data, index_col=\"date\")\n",
    "tsla_df.index = pd.to_datetime(tsla_df.index, format='%m/%d/%y') # explicit converting the 'date' column to a datatime object\n",
    "# Sorting the date index in ascending order\n",
    "tsla_df = tsla_df.sort_index()\n",
    "# Display sample data\n",
    "tsla_df.head()"
   ]
  },
  {
   "cell_type": "markdown",
   "id": "33216673-2498-448d-9d75-c8cb48818002",
   "metadata": {},
   "source": [
    "### activity 5 beta"
   ]
  },
  {
   "cell_type": "code",
   "execution_count": null,
   "id": "6f2e32af-f991-4b48-9966-211c07e1d468",
   "metadata": {
    "tags": []
   },
   "outputs": [],
   "source": [
    "# Read the daily closing prices of AMZN, set the `date` as a datetime index\n",
    "amzn_data = Path(\"./Resources/amzn_data.csv\")\n",
    "amzn_df = pd.read_csv(amzn_data, index_col=\"date\")\n",
    "\n",
    "amzn_df.index = pd.to_datetime(amzn_df.index, format = '%m/%d/%y')\n",
    "amzn_df.head()"
   ]
  },
  {
   "cell_type": "code",
   "execution_count": null,
   "id": "9fe690cc-348a-4711-a447-857988f7a5c7",
   "metadata": {
    "tags": []
   },
   "outputs": [],
   "source": [
    "# Read the daily closing prices of S&P 500, set the `date` as a datetime index\n",
    "sp500_data = Path(\"./Resources/sp500_data.csv\")\n",
    "sp500_df = pd.read_csv(sp500_data, index_col=\"date\")\n",
    "sp500_df.index = pd.to_datetime(sp500_df.index, format = '%m/%d/%y')\n",
    "sp500_df.head()"
   ]
  },
  {
   "cell_type": "markdown",
   "id": "7676d2a0-5671-4cae-b582-111d43fc64ba",
   "metadata": {},
   "source": [
    "### activity 7 portfolio construction"
   ]
  },
  {
   "cell_type": "code",
   "execution_count": null,
   "id": "cf53a4ed-456d-4463-aeda-c8eceb4765f3",
   "metadata": {
    "tags": []
   },
   "outputs": [],
   "source": [
    "# Read the EMB Historical Closing Prices\n",
    "enb_data = Path(\"./Resources/emb_historical.csv\")\n",
    "enb = pd.read_csv(enb_data, index_col=\"Trade DATE\")\n",
    "enb.index = pd.to_datetime(enb.index, format = '%m/%d/%Y') # Cap Y is for 2019, lower case y is for 19\n",
    "enb = enb.sort_index()\n",
    "enb.head()"
   ]
  },
  {
   "cell_type": "code",
   "execution_count": null,
   "id": "b521d165-7887-4c8b-9aba-e8a1883bb55a",
   "metadata": {
    "tags": []
   },
   "outputs": [],
   "source": [
    "# Read the IMO Historical Closing Prices\n",
    "imo_data = Path(\"./Resources/imo_historical.csv\")\n",
    "imo = pd.read_csv(imo_data, index_col=\"Trade DATE\")\n",
    "imo.index = pd.to_datetime(imo.index, format = '%m/%d/%Y')\n",
    "imo = imo.sort_index()\n",
    "imo.head()"
   ]
  }
 ],
 "metadata": {
  "kernelspec": {
   "display_name": "Python 3 (ipykernel)",
   "language": "python",
   "name": "python3"
  },
  "language_info": {
   "codemirror_mode": {
    "name": "ipython",
    "version": 3
   },
   "file_extension": ".py",
   "mimetype": "text/x-python",
   "name": "python",
   "nbconvert_exporter": "python",
   "pygments_lexer": "ipython3",
   "version": "3.11.5"
  }
 },
 "nbformat": 4,
 "nbformat_minor": 5
}
