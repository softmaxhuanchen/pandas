{
 "cells": [
  {
   "cell_type": "markdown",
   "id": "aa76554d-60a1-4d47-b60c-9c4891b17b9c",
   "metadata": {
    "tags": []
   },
   "source": [
    "### Activity 1"
   ]
  },
  {
   "cell_type": "code",
   "execution_count": null,
   "id": "ffa3a59d-741a-4b8b-b838-8a78ac3e29f0",
   "metadata": {},
   "outputs": [],
   "source": [
    "import pandas as pd\n",
    "import os\n",
    "from pathlib import Path\n",
    "import hvplot.pandas"
   ]
  },
  {
   "cell_type": "markdown",
   "id": "4d39f962-6990-4ed1-b361-1c584d41c31e",
   "metadata": {},
   "source": [
    "### Prepare the DataFrame"
   ]
  },
  {
   "cell_type": "code",
   "execution_count": null,
   "id": "21a3be0f-5ed8-48ce-9e65-efebe9e2bdd6",
   "metadata": {},
   "outputs": [],
   "source": [
    "# Read in the population_counts.csv file into a DataFrame\n",
    "population_df = pd.read_csv(\n",
    "    Path(\"Resources/population_counts.csv\")\n",
    ").drop_duplicates()\n",
    "\n",
    "df = population_df.copy()\n",
    "df"
   ]
  },
  {
   "cell_type": "markdown",
   "id": "f8b33c07-0f4e-4882-a4bc-aa82fae1067b",
   "metadata": {},
   "source": [
    "### review "
   ]
  },
  {
   "cell_type": "code",
   "execution_count": null,
   "id": "89d3fef0-4fa9-4467-bb6e-2c6db53d29be",
   "metadata": {
    "tags": []
   },
   "outputs": [],
   "source": [
    "subset = df.iloc[9999:10005:2, [3, 5]]\n",
    "subset"
   ]
  },
  {
   "cell_type": "code",
   "execution_count": null,
   "id": "51463446-6bbe-401f-9406-5c8c14a92098",
   "metadata": {
    "tags": []
   },
   "outputs": [],
   "source": [
    "# Select all rows for the state Alabama where the 'PopulationCount' is greater than 10,000. Return the columns 'Year', 'CityName', and 'PopulationCount'.\n",
    "al_df = df.loc[(df['StateDesc'] == 'Alabama') & (df['PopulationCount'] > 10000), ['Year', 'CityName', 'PopulationCount']]\n",
    "al_df"
   ]
  },
  {
   "cell_type": "code",
   "execution_count": null,
   "id": "8c3c52ef-9c68-4523-833b-c8245533ed36",
   "metadata": {
    "tags": []
   },
   "outputs": [],
   "source": [
    "# newyork\n",
    "ny_df = df.loc[df['StateDesc'] == 'New York', [\"CityName\", \"PopulationCount\", \"Latitude\", \"Longitude\"]]\n",
    "ny_df"
   ]
  },
  {
   "cell_type": "code",
   "execution_count": null,
   "id": "471bd774-31b0-4076-8fd0-6626af5e7f88",
   "metadata": {
    "tags": []
   },
   "outputs": [],
   "source": [
    "ny_df.groupby('CityName').PopulationCount.sum()"
   ]
  },
  {
   "cell_type": "markdown",
   "id": "e5755ddc-e578-4944-b67d-053c1a03fb55",
   "metadata": {},
   "source": [
    "[pandas cheatsheet](https://pandas.pydata.org/Pandas_Cheat_Sheet.pdf)"
   ]
  },
  {
   "cell_type": "code",
   "execution_count": null,
   "id": "55584665-1110-48be-ad20-4086d5b5af6b",
   "metadata": {
    "tags": []
   },
   "outputs": [],
   "source": [
    "map_plot_ny = ny_df.hvplot.points(\n",
    "    'Longitude',\n",
    "    'Latitude',\n",
    "    geo=True,\n",
    "    size = 'PopulationCount',\n",
    "    scale = .02,\n",
    "    color = 'CityName',\n",
    "    alpha = .5,\n",
    "    tiles = 'OSM',\n",
    "    frame_width = 700,\n",
    "    frame_height = 500\n",
    ")\n",
    "map_plot_ny    \n",
    "    "
   ]
  },
  {
   "cell_type": "markdown",
   "id": "ca459e1a-405d-46ef-9a90-552c5cd6c03f",
   "metadata": {},
   "source": [
    "### Plot data, story of populatioin change in CA"
   ]
  },
  {
   "cell_type": "code",
   "execution_count": null,
   "id": "7b4eb901-efbe-4085-a11b-1bd2c1bd881a",
   "metadata": {},
   "outputs": [],
   "source": [
    "# change population count in 2016 randomly. \n",
    "display(df[df['Year'] == 2015])\n",
    "display(df[df['Year'] == 2016])"
   ]
  },
  {
   "cell_type": "code",
   "execution_count": null,
   "id": "7f6537da-d60b-4194-89d4-a459c1a55f1c",
   "metadata": {
    "tags": []
   },
   "outputs": [],
   "source": [
    "import numpy as np\n",
    "\n",
    "def increase_population_randomly(population):\n",
    "    increase_factor = 1 + np.random.uniform(-0.10, 0.10)\n",
    "    return int(population * increase_factor)\n",
    "\n",
    "\n",
    "df.loc[df['Year'] == 2016, 'PopulationCount'] = df.loc[df['Year'] == 2016, 'PopulationCount'].apply(increase_population_randomly)\n",
    "display(df[df['Year'] == 2015])\n",
    "display(df[df['Year'] == 2016])\n"
   ]
  },
  {
   "cell_type": "markdown",
   "id": "eb6ecbc6-2733-408c-b2a2-37bc6508399a",
   "metadata": {},
   "source": [
    "### Plot data"
   ]
  },
  {
   "cell_type": "code",
   "execution_count": null,
   "id": "cd9ff71e-db12-4b94-9da0-bfb75b1df2af",
   "metadata": {},
   "outputs": [],
   "source": [
    "# step 1 prepare df for 2015, 2016\n",
    "df_2015 = df.loc[df['Year'] == 2015, ['Year', 'StateDesc', 'CityName', 'PopulationCount', 'Latitude', 'Longitude']]\n",
    "df_2016 = df.loc[df['Year'] == 2016, ['Year', 'StateDesc', 'CityName', 'PopulationCount', 'Latitude', 'Longitude']]\n",
    "\n",
    "display(df_2015)\n",
    "display(df_2016)"
   ]
  },
  {
   "cell_type": "code",
   "execution_count": null,
   "id": "a10f01f6-963b-4cac-ac88-7cdda7d8be85",
   "metadata": {
    "tags": []
   },
   "outputs": [],
   "source": [
    "# step 2 prepare df for CA\n",
    "ca_df_2015 = df_2015.loc[df_2015['StateDesc'] == 'California'] \n",
    "ca_df_2016 = df_2016.loc[df_2016['StateDesc'] == 'California'] \n",
    "display(ca_df_2015)\n",
    "display(ca_df_2016)"
   ]
  },
  {
   "cell_type": "code",
   "execution_count": null,
   "id": "f335f807-bb54-441d-9b4a-d8be2632ce4a",
   "metadata": {
    "tags": []
   },
   "outputs": [],
   "source": [
    "plot = ca_df_2015.hvplot.points(\n",
    "    'Longitude',\n",
    "    'Latitude',\n",
    "    geo=True,\n",
    "    size = 'PopulationCount',\n",
    "    scale = .02,\n",
    "    color = 'blue',\n",
    "    alpha = .5,\n",
    "    tiles = 'OSM',\n",
    "    frame_width = 700,\n",
    "    frame_height = 500\n",
    ")\n",
    "plot1 = ca_df_2016.hvplot.points(\n",
    "    'Longitude',\n",
    "    'Latitude',\n",
    "    geo=True,\n",
    "    size = 'PopulationCount',\n",
    "    scale = .02,\n",
    "    color = 'red',\n",
    "    alpha = .5,\n",
    "    tiles = 'OSM',\n",
    "    frame_width = 700,\n",
    "    frame_height = 500\n",
    ")    \n",
    "\n",
    "overlay = plot + plot1\n",
    "overlay"
   ]
  },
  {
   "cell_type": "code",
   "execution_count": null,
   "id": "5c2cbac7-3a72-4d9b-8430-ce3d3145891e",
   "metadata": {
    "tags": []
   },
   "outputs": [],
   "source": [
    "# step calculate the diff between 2015, 2016\n",
    "\n",
    "merged_population = ca_df_2015.merge(ca_df_2016, on = ['Longitude','Latitude'], suffixes = ('_2015','_2016'))\n",
    "merged_population['PopulationChange'] = merged_population['PopulationCount_2016'] - merged_population['PopulationCount_2015']\n",
    "merged_population\n",
    "population_change_df = merged_population[['Year_2016','StateDesc_2016','CityName_2016' ,'PopulationChange','Latitude','Longitude']]\n",
    "population_change_df = population_change_df.rename(columns={'Year_2016': 'Year','StateDesc_2016': 'StateDesc','CityName_2016': 'CityName'})\n",
    "population_change_df"
   ]
  },
  {
   "cell_type": "code",
   "execution_count": null,
   "id": "2df4d3f5-f3d1-4d72-b8bf-f797178bf544",
   "metadata": {
    "tags": []
   },
   "outputs": [],
   "source": [
    "ca_2015_plot = ca_df_2015.hvplot.points(\n",
    "    'Longitude',\n",
    "    'Latitude',\n",
    "    geo=True,\n",
    "    size = 'PopulationCount',\n",
    "    hover_cols = ['CityName', 'PopulationCount'],\n",
    "    scale = .02,\n",
    "    color = 'blue',\n",
    "    alpha = .5,\n",
    "    tiles = 'OSM',\n",
    "    frame_width = 700,\n",
    "    frame_height = 500\n",
    ")\n",
    "ca_2016_plot = ca_df_2016.hvplot.points(\n",
    "    'Longitude',\n",
    "    'Latitude',\n",
    "    geo=True,\n",
    "    size = 'PopulationCount',\n",
    "    hover_cols = ['CityName', 'PopulationCount'],\n",
    "    scale = .02,\n",
    "    color = 'red',\n",
    "    alpha = .5,\n",
    "    tiles = 'OSM',\n",
    "    frame_width = 700,\n",
    "    frame_height = 500\n",
    ")\n",
    "population_change_plot = population_change_df.hvplot.points(\n",
    "    'Longitude',\n",
    "    'Latitude',\n",
    "    geo=True,\n",
    "    size = abs(population_change_df['PopulationChange']),\n",
    "    hover_cols = ['CityName', 'PopulationChange'],\n",
    "    scale = .1,\n",
    "    color = 'black',\n",
    "    alpha = .5,\n",
    "    tiles = 'OSM',\n",
    "    frame_width = 700,\n",
    "    frame_height = 500\n",
    ")\n",
    "    "
   ]
  },
  {
   "cell_type": "code",
   "execution_count": null,
   "id": "2e6b3d31-1478-4dac-81a3-13cec2cf2c3f",
   "metadata": {
    "tags": []
   },
   "outputs": [],
   "source": [
    "final_layout = (ca_2015_plot + ca_2016_plot + population_change_plot).cols(1)\n",
    "final_layout"
   ]
  },
  {
   "cell_type": "code",
   "execution_count": null,
   "id": "3df8556c-8c08-438e-b5f6-00d087d6ad4b",
   "metadata": {
    "tags": []
   },
   "outputs": [],
   "source": [
    "def num_color(number):\n",
    "    if number > 0:\n",
    "        return 'black'\n",
    "    else:\n",
    "        return 'red'\n",
    "    \n",
    "population_change_df['Color'] = population_change_df['PopulationChange'].apply(num_color)\n",
    "# population_change_df\n",
    "\n",
    "population_change_plot = population_change_df.hvplot.points(\n",
    "    'Longitude',\n",
    "    'Latitude',\n",
    "    geo=True,\n",
    "    size = abs(population_change_df['PopulationChange']),\n",
    "    hover_cols = ['CityName', 'PopulationChange'],\n",
    "    scale = .1,\n",
    "    color = population_change_df['Color'],\n",
    "    alpha = .5,\n",
    "    tiles = 'OSM',\n",
    "    frame_width = 700,\n",
    "    frame_height = 500\n",
    ")\n",
    "\n",
    "ca_2015_plot = ca_df_2015.hvplot.points(\n",
    "    'Longitude',\n",
    "    'Latitude',\n",
    "    geo=True,\n",
    "    size = 'PopulationCount',\n",
    "    hover_cols = ['CityName', 'PopulationCount'],\n",
    "    scale = .02,\n",
    "    color = 'blue',\n",
    "    alpha = .5,\n",
    "    tiles = 'OSM',\n",
    "    frame_width = 700,\n",
    "    frame_height = 500\n",
    ")\n",
    "ca_2016_plot = ca_df_2016.hvplot.points(\n",
    "    'Longitude',\n",
    "    'Latitude',\n",
    "    geo=True,\n",
    "    size = 'PopulationCount',\n",
    "    hover_cols = ['CityName', 'PopulationCount'],\n",
    "    scale = .02,\n",
    "    color = 'red',\n",
    "    alpha = .5,\n",
    "    tiles = 'OSM',\n",
    "    frame_width = 700,\n",
    "    frame_height = 500\n",
    ")\n",
    "\n",
    "final_layout = (ca_2015_plot + ca_2016_plot + population_change_plot).cols(1)\n",
    "final_layout"
   ]
  }
 ],
 "metadata": {
  "kernelspec": {
   "display_name": "Python 3 (ipykernel)",
   "language": "python",
   "name": "python3"
  },
  "language_info": {
   "codemirror_mode": {
    "name": "ipython",
    "version": 3
   },
   "file_extension": ".py",
   "mimetype": "text/x-python",
   "name": "python",
   "nbconvert_exporter": "python",
   "pygments_lexer": "ipython3",
   "version": "3.11.5"
  }
 },
 "nbformat": 4,
 "nbformat_minor": 5
}
