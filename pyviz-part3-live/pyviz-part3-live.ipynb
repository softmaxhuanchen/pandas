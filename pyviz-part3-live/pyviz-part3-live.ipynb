{
 "cells": [
  {
   "cell_type": "markdown",
   "id": "aa76554d-60a1-4d47-b60c-9c4891b17b9c",
   "metadata": {
    "tags": []
   },
   "source": [
    "### Activity 1"
   ]
  },
  {
   "cell_type": "code",
   "execution_count": null,
   "id": "ffa3a59d-741a-4b8b-b838-8a78ac3e29f0",
   "metadata": {},
   "outputs": [],
   "source": [
    "import pandas as pd\n",
    "import os\n",
    "from pathlib import Path\n",
    "import hvplot.pandas"
   ]
  },
  {
   "cell_type": "markdown",
   "id": "4d39f962-6990-4ed1-b361-1c584d41c31e",
   "metadata": {},
   "source": [
    "### Prepare the DataFrame"
   ]
  },
  {
   "cell_type": "code",
   "execution_count": null,
   "id": "21a3be0f-5ed8-48ce-9e65-efebe9e2bdd6",
   "metadata": {},
   "outputs": [],
   "source": [
    "# Read in the population_counts.csv file into a DataFrame\n",
    "population_df = pd.read_csv(\n",
    "    Path(\"Resources/population_counts.csv\")\n",
    ").drop_duplicates()\n",
    "\n",
    "df = population_df"
   ]
  },
  {
   "cell_type": "markdown",
   "id": "f8b33c07-0f4e-4882-a4bc-aa82fae1067b",
   "metadata": {},
   "source": [
    "### review "
   ]
  },
  {
   "cell_type": "markdown",
   "id": "e5755ddc-e578-4944-b67d-053c1a03fb55",
   "metadata": {},
   "source": [
    "[pandas cheatsheet](https://pandas.pydata.org/Pandas_Cheat_Sheet.pdf)"
   ]
  },
  {
   "cell_type": "code",
   "execution_count": null,
   "id": "c55bf911-99a5-4402-b00e-66f0e90dd840",
   "metadata": {},
   "outputs": [],
   "source": [
    "# Filter the DataFrame to include only New York state data\n",
    "\n"
   ]
  },
  {
   "cell_type": "code",
   "execution_count": null,
   "id": "e8cc36a7-3a4e-4ea6-b7bf-d53e975bff32",
   "metadata": {},
   "outputs": [],
   "source": [
    "# Create a DataFrame consisting of the CityName, PopulationCount, Latitude and Longitude columns\n",
    "\n",
    "\n",
    "# Review the DataFrame\n"
   ]
  },
  {
   "cell_type": "code",
   "execution_count": null,
   "id": "b166c38c-bb3a-4ad4-a70c-1b671f7d8a88",
   "metadata": {},
   "outputs": [],
   "source": [
    "# Group the DataFrame by CityName and sum PopulationCount\n"
   ]
  },
  {
   "cell_type": "markdown",
   "id": "ca459e1a-405d-46ef-9a90-552c5cd6c03f",
   "metadata": {},
   "source": [
    "### Plot data"
   ]
  },
  {
   "cell_type": "code",
   "execution_count": null,
   "id": "7b4eb901-efbe-4085-a11b-1bd2c1bd881a",
   "metadata": {},
   "outputs": [],
   "source": [
    "# Plot the data using hvPlot and Geoviews\n"
   ]
  },
  {
   "cell_type": "markdown",
   "id": "eb6ecbc6-2733-408c-b2a2-37bc6508399a",
   "metadata": {},
   "source": [
    "### Plot data"
   ]
  },
  {
   "cell_type": "code",
   "execution_count": null,
   "id": "cd9ff71e-db12-4b94-9da0-bfb75b1df2af",
   "metadata": {},
   "outputs": [],
   "source": []
  }
 ],
 "metadata": {
  "kernelspec": {
   "display_name": "Python 3 (ipykernel)",
   "language": "python",
   "name": "python3"
  },
  "language_info": {
   "codemirror_mode": {
    "name": "ipython",
    "version": 3
   },
   "file_extension": ".py",
   "mimetype": "text/x-python",
   "name": "python",
   "nbconvert_exporter": "python",
   "pygments_lexer": "ipython3",
   "version": "3.11.5"
  }
 },
 "nbformat": 4,
 "nbformat_minor": 5
}
