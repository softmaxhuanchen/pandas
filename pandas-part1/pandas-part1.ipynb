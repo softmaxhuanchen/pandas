{
 "cells": [
  {
   "cell_type": "markdown",
   "id": "7eb420e7-55f9-4648-afd8-25b5bfd6c5e1",
   "metadata": {},
   "source": [
    "### pandas\n",
    "- dataframe is the key object in pandas. dataframe is a \"type\" holding 2d data. dataframe is equipped with powerful methods\n",
    "- work flow: glance -> data cleaning -> zoom in -> visulize the data -> filter, slice, reshap, extend -> gain insights (machine learning)\n",
    "### why is df powerful\n",
    "- vector operation instead of loops\n",
    "- fractal struture\n",
    "### pay attention to the naming of dfs\n",
    "- use descriptive names for dfs"
   ]
  },
  {
   "cell_type": "markdown",
   "id": "b9a68250-8596-4443-88aa-e2046365f7a1",
   "metadata": {},
   "source": [
    "### glance"
   ]
  },
  {
   "cell_type": "code",
   "execution_count": null,
   "id": "204a756f-e1d1-4bb4-a022-b979ee147fd0",
   "metadata": {},
   "outputs": [],
   "source": [
    "import pandas as pd\n",
    "from pathlib import Path\n",
    "csv_path = Path(\"./Resources/sales.csv\")\n",
    "df_sales = pd.read_csv(csv_path)\n",
    "df_sales.sample(10)\n",
    "df_sales.head(10)"
   ]
  },
  {
   "cell_type": "markdown",
   "id": "bea7d3f5-f52b-4724-b1d8-3e5f9b9576d0",
   "metadata": {
    "tags": []
   },
   "source": [
    "### data cleaning\n",
    "- Column Manipulation\n",
    "- data cleaning, remove duplicates, Nan"
   ]
  },
  {
   "cell_type": "code",
   "execution_count": null,
   "id": "3a056f6b-675a-40eb-8120-ede5b70501c8",
   "metadata": {
    "tags": []
   },
   "outputs": [],
   "source": [
    "csv_path = Path(\"./Resources/customers.csv\")\n",
    "df_customers = pd.read_csv(csv_path)\n",
    "df_customers.head()"
   ]
  },
  {
   "cell_type": "code",
   "execution_count": null,
   "id": "f04aa734-89f0-4d63-b50d-cfdfaf98c303",
   "metadata": {
    "tags": []
   },
   "outputs": [],
   "source": [
    "df_customers.columns"
   ]
  },
  {
   "cell_type": "code",
   "execution_count": null,
   "id": "fc7a894a-1735-4068-92c0-de245d94fc25",
   "metadata": {
    "tags": []
   },
   "outputs": [],
   "source": [
    "temp_df_customers = df_customers[['Email','FullName', 'CreditCard']]\n",
    "temp_df_customers['Balance / 1k'] = df_customers['Balance'] / 1000\n",
    "temp_df_customers"
   ]
  },
  {
   "cell_type": "code",
   "execution_count": null,
   "id": "a3f94eb4-6367-4b23-8a03-45fc0c732376",
   "metadata": {
    "tags": []
   },
   "outputs": [],
   "source": [
    "# data clearing\n",
    "order_data_csv = Path(\"Resources/order_data.csv\")\n",
    "order_data_df = pd.read_csv(order_data_csv)\n",
    "order_data_df"
   ]
  },
  {
   "cell_type": "code",
   "execution_count": null,
   "id": "0b505afc-7651-4306-bb76-42cec7607fbe",
   "metadata": {
    "tags": []
   },
   "outputs": [],
   "source": [
    "# data clearing\n",
    "\n",
    "\n",
    "order_data_csv = Path(\"Resources/order_data.csv\")\n",
    "order_data_df = pd.read_csv(order_data_csv)\n",
    "# order_data_df.dtypes\n",
    "order_data_df.count()\n",
    "order_data_df.isnull().sum()\n",
    "order_data_df[\"order_total\"] = order_data_df[\"order_total\"].str.strip(\"$\")\n",
    "order_data_df[\"order_total\"] = pd.to_numeric(order_data_df[\"order_total\"])\n",
    "\n",
    "mean_total = order_data_df[\"order_total\"].mean()\n",
    "order_data_df[\"order_total\"].fillna(mean_total, inplace = True)\n",
    "order_data_df[\"customer_no\"].fillna(\"Unknown\", inplace = True)\n",
    "order_data_df.drop_duplicates(inplace = True)\n",
    "order_data_df\n",
    "\n",
    "# order_data_df[\"order_date\"] = pd.to_datetime(order_data_df[\"order_date\"],infer_datetime_format=True)\n",
    "# order_data_df\n",
    "\n",
    "order_data_df[\"order_date\"] = pd.to_datetime(order_data_df[\"order_date\"],infer_datetime_format=True, format='mixed')\n",
    "order_data_df"
   ]
  },
  {
   "cell_type": "markdown",
   "id": "399b9b4d-5d65-45e9-ad5f-4f61cd80b3d8",
   "metadata": {
    "tags": []
   },
   "source": [
    "### Zoom in"
   ]
  },
  {
   "cell_type": "code",
   "execution_count": 77,
   "id": "0cd8ad9a-5c80-4250-bcb6-340f79ea0ba8",
   "metadata": {
    "tags": []
   },
   "outputs": [
    {
     "data": {
      "text/html": [
       "<div>\n",
       "<style scoped>\n",
       "    .dataframe tbody tr th:only-of-type {\n",
       "        vertical-align: middle;\n",
       "    }\n",
       "\n",
       "    .dataframe tbody tr th {\n",
       "        vertical-align: top;\n",
       "    }\n",
       "\n",
       "    .dataframe thead th {\n",
       "        text-align: right;\n",
       "    }\n",
       "</style>\n",
       "<table border=\"1\" class=\"dataframe\">\n",
       "  <thead>\n",
       "    <tr style=\"text-align: right;\">\n",
       "      <th></th>\n",
       "      <th>first_name</th>\n",
       "      <th>last_name</th>\n",
       "      <th>gender</th>\n",
       "      <th>age</th>\n",
       "      <th>company_name</th>\n",
       "      <th>address</th>\n",
       "      <th>city</th>\n",
       "      <th>county</th>\n",
       "      <th>postal</th>\n",
       "      <th>phone1</th>\n",
       "      <th>phone2</th>\n",
       "      <th>email</th>\n",
       "      <th>web</th>\n",
       "    </tr>\n",
       "  </thead>\n",
       "  <tbody>\n",
       "    <tr>\n",
       "      <th>0</th>\n",
       "      <td>Aleshia</td>\n",
       "      <td>Tomkiewicz</td>\n",
       "      <td>F</td>\n",
       "      <td>54</td>\n",
       "      <td>Alan D Rosenburg Cpa Pc</td>\n",
       "      <td>14 Taylor St</td>\n",
       "      <td>St. Stephens Ward</td>\n",
       "      <td>Kent</td>\n",
       "      <td>CT2 7PP</td>\n",
       "      <td>01835-703597</td>\n",
       "      <td>01944-369967</td>\n",
       "      <td>atomkiewicz@hotmail.com</td>\n",
       "      <td>http://www.alandrosenburgcpapc.co.uk</td>\n",
       "    </tr>\n",
       "    <tr>\n",
       "      <th>1</th>\n",
       "      <td>Evan</td>\n",
       "      <td>Zigomalas</td>\n",
       "      <td>M</td>\n",
       "      <td>47</td>\n",
       "      <td>Cap Gemini America</td>\n",
       "      <td>5 Binney St</td>\n",
       "      <td>Abbey Ward</td>\n",
       "      <td>Buckinghamshire</td>\n",
       "      <td>HP11 2AX</td>\n",
       "      <td>01937-864715</td>\n",
       "      <td>01714-737668</td>\n",
       "      <td>evan.zigomalas@gmail.com</td>\n",
       "      <td>http://www.capgeminiamerica.co.uk</td>\n",
       "    </tr>\n",
       "    <tr>\n",
       "      <th>2</th>\n",
       "      <td>France</td>\n",
       "      <td>Andrade</td>\n",
       "      <td>M</td>\n",
       "      <td>42</td>\n",
       "      <td>Elliott, John W Esq</td>\n",
       "      <td>8 Moor Place</td>\n",
       "      <td>East Southbourne and Tuckton W</td>\n",
       "      <td>Bournemouth</td>\n",
       "      <td>BH6 3BE</td>\n",
       "      <td>01347-368222</td>\n",
       "      <td>01935-821636</td>\n",
       "      <td>france.andrade@hotmail.com</td>\n",
       "      <td>http://www.elliottjohnwesq.co.uk</td>\n",
       "    </tr>\n",
       "    <tr>\n",
       "      <th>3</th>\n",
       "      <td>Ulysses</td>\n",
       "      <td>Mcwalters</td>\n",
       "      <td>M</td>\n",
       "      <td>45</td>\n",
       "      <td>Mcmahan, Ben L</td>\n",
       "      <td>505 Exeter Rd</td>\n",
       "      <td>Hawerby cum Beesby</td>\n",
       "      <td>Lincolnshire</td>\n",
       "      <td>DN36 5RP</td>\n",
       "      <td>01912-771311</td>\n",
       "      <td>01302-601380</td>\n",
       "      <td>ulysses@hotmail.com</td>\n",
       "      <td>http://www.mcmahanbenl.co.uk</td>\n",
       "    </tr>\n",
       "    <tr>\n",
       "      <th>4</th>\n",
       "      <td>Tyisha</td>\n",
       "      <td>Veness</td>\n",
       "      <td>F</td>\n",
       "      <td>37</td>\n",
       "      <td>Champagne Room</td>\n",
       "      <td>5396 Forth Street</td>\n",
       "      <td>Greets Green and Lyng Ward</td>\n",
       "      <td>West Midlands</td>\n",
       "      <td>B70 9DT</td>\n",
       "      <td>01547-429341</td>\n",
       "      <td>01290-367248</td>\n",
       "      <td>tyisha.veness@hotmail.com</td>\n",
       "      <td>http://www.champagneroom.co.uk</td>\n",
       "    </tr>\n",
       "  </tbody>\n",
       "</table>\n",
       "</div>"
      ],
      "text/plain": [
       "  first_name   last_name gender  age             company_name  \\\n",
       "0    Aleshia  Tomkiewicz      F   54  Alan D Rosenburg Cpa Pc   \n",
       "1       Evan   Zigomalas      M   47       Cap Gemini America   \n",
       "2     France     Andrade      M   42      Elliott, John W Esq   \n",
       "3    Ulysses   Mcwalters      M   45           Mcmahan, Ben L   \n",
       "4     Tyisha      Veness      F   37           Champagne Room   \n",
       "\n",
       "             address                            city           county  \\\n",
       "0       14 Taylor St               St. Stephens Ward             Kent   \n",
       "1        5 Binney St                      Abbey Ward  Buckinghamshire   \n",
       "2       8 Moor Place  East Southbourne and Tuckton W      Bournemouth   \n",
       "3      505 Exeter Rd              Hawerby cum Beesby     Lincolnshire   \n",
       "4  5396 Forth Street      Greets Green and Lyng Ward    West Midlands   \n",
       "\n",
       "     postal        phone1        phone2                       email  \\\n",
       "0   CT2 7PP  01835-703597  01944-369967     atomkiewicz@hotmail.com   \n",
       "1  HP11 2AX  01937-864715  01714-737668    evan.zigomalas@gmail.com   \n",
       "2   BH6 3BE  01347-368222  01935-821636  france.andrade@hotmail.com   \n",
       "3  DN36 5RP  01912-771311  01302-601380         ulysses@hotmail.com   \n",
       "4   B70 9DT  01547-429341  01290-367248   tyisha.veness@hotmail.com   \n",
       "\n",
       "                                    web  \n",
       "0  http://www.alandrosenburgcpapc.co.uk  \n",
       "1     http://www.capgeminiamerica.co.uk  \n",
       "2      http://www.elliottjohnwesq.co.uk  \n",
       "3          http://www.mcmahanbenl.co.uk  \n",
       "4        http://www.champagneroom.co.uk  "
      ]
     },
     "execution_count": 77,
     "metadata": {},
     "output_type": "execute_result"
    }
   ],
   "source": [
    "people_csv = Path(\"Resources/people.csv\")\n",
    "people_df = pd.read_csv(people_csv)\n",
    "people_df.head()"
   ]
  },
  {
   "cell_type": "code",
   "execution_count": null,
   "id": "7c3fcec4-51a1-4cdb-b40c-ba9bacaddff4",
   "metadata": {
    "tags": []
   },
   "outputs": [],
   "source": [
    "people_df.iloc[2:100:3, 0:3]"
   ]
  },
  {
   "cell_type": "code",
   "execution_count": 80,
   "id": "763a3915-eb2e-4040-a7df-6d5783b798fe",
   "metadata": {
    "tags": []
   },
   "outputs": [
    {
     "data": {
      "text/html": [
       "<div>\n",
       "<style scoped>\n",
       "    .dataframe tbody tr th:only-of-type {\n",
       "        vertical-align: middle;\n",
       "    }\n",
       "\n",
       "    .dataframe tbody tr th {\n",
       "        vertical-align: top;\n",
       "    }\n",
       "\n",
       "    .dataframe thead th {\n",
       "        text-align: right;\n",
       "    }\n",
       "</style>\n",
       "<table border=\"1\" class=\"dataframe\">\n",
       "  <thead>\n",
       "    <tr style=\"text-align: right;\">\n",
       "      <th></th>\n",
       "      <th>first_name</th>\n",
       "      <th>last_name</th>\n",
       "      <th>gender</th>\n",
       "      <th>age</th>\n",
       "      <th>company_name</th>\n",
       "      <th>address</th>\n",
       "      <th>city</th>\n",
       "      <th>county</th>\n",
       "      <th>postal</th>\n",
       "      <th>phone1</th>\n",
       "      <th>phone2</th>\n",
       "      <th>email</th>\n",
       "      <th>web</th>\n",
       "    </tr>\n",
       "  </thead>\n",
       "  <tbody>\n",
       "    <tr>\n",
       "      <th>227</th>\n",
       "      <td>Elizabeth</td>\n",
       "      <td>Pata</td>\n",
       "      <td>F</td>\n",
       "      <td>58</td>\n",
       "      <td>Hirsch, Henry L Esq</td>\n",
       "      <td>645 Lister Drive</td>\n",
       "      <td>Denwick</td>\n",
       "      <td>Northumberland</td>\n",
       "      <td>NE66 2LQ</td>\n",
       "      <td>01634-662999</td>\n",
       "      <td>01571-674820</td>\n",
       "      <td>elizabeth@gmail.com</td>\n",
       "      <td>http://www.hirschhenrylesq.co.uk</td>\n",
       "    </tr>\n",
       "    <tr>\n",
       "      <th>238</th>\n",
       "      <td>Cruz</td>\n",
       "      <td>Fanelli</td>\n",
       "      <td>M</td>\n",
       "      <td>52</td>\n",
       "      <td>Graham, John A Esq</td>\n",
       "      <td>4565 Blackstock St</td>\n",
       "      <td>Springfields and Trent Vale Wa</td>\n",
       "      <td>Stoke-on-Trent</td>\n",
       "      <td>ST4 5BW</td>\n",
       "      <td>01710-616480</td>\n",
       "      <td>01314-202428</td>\n",
       "      <td>cruz@hotmail.com</td>\n",
       "      <td>http://www.grahamjohnaesq.co.uk</td>\n",
       "    </tr>\n",
       "    <tr>\n",
       "      <th>369</th>\n",
       "      <td>Mozell</td>\n",
       "      <td>Westad</td>\n",
       "      <td>M</td>\n",
       "      <td>58</td>\n",
       "      <td>Fox Vision Center</td>\n",
       "      <td>8 Gertrude St</td>\n",
       "      <td>Mossley</td>\n",
       "      <td>Greater Manchester</td>\n",
       "      <td>OL5 0QJ</td>\n",
       "      <td>01348-989703</td>\n",
       "      <td>01766-783716</td>\n",
       "      <td>mozell.westad@westad.co.uk</td>\n",
       "      <td>http://www.foxvisioncenter.co.uk</td>\n",
       "    </tr>\n",
       "  </tbody>\n",
       "</table>\n",
       "</div>"
      ],
      "text/plain": [
       "    first_name last_name gender  age         company_name             address  \\\n",
       "227  Elizabeth      Pata      F   58  Hirsch, Henry L Esq    645 Lister Drive   \n",
       "238       Cruz   Fanelli      M   52   Graham, John A Esq  4565 Blackstock St   \n",
       "369     Mozell    Westad      M   58    Fox Vision Center       8 Gertrude St   \n",
       "\n",
       "                               city              county    postal  \\\n",
       "227                         Denwick      Northumberland  NE66 2LQ   \n",
       "238  Springfields and Trent Vale Wa      Stoke-on-Trent   ST4 5BW   \n",
       "369                         Mossley  Greater Manchester   OL5 0QJ   \n",
       "\n",
       "           phone1        phone2                       email  \\\n",
       "227  01634-662999  01571-674820         elizabeth@gmail.com   \n",
       "238  01710-616480  01314-202428            cruz@hotmail.com   \n",
       "369  01348-989703  01766-783716  mozell.westad@westad.co.uk   \n",
       "\n",
       "                                  web  \n",
       "227  http://www.hirschhenrylesq.co.uk  \n",
       "238   http://www.grahamjohnaesq.co.uk  \n",
       "369  http://www.foxvisioncenter.co.uk  "
      ]
     },
     "execution_count": 80,
     "metadata": {},
     "output_type": "execute_result"
    }
   ],
   "source": [
    "name_with_a = people_df.loc[people_df[\"first_name\"].str.contains(\"z\") & people_df[\"last_name\"].str.contains(\"a\")]\n",
    "name_with_a"
   ]
  },
  {
   "cell_type": "code",
   "execution_count": 81,
   "id": "263cc29d-6423-4484-b671-57b69e3b641b",
   "metadata": {
    "tags": []
   },
   "outputs": [
    {
     "data": {
      "text/html": [
       "<div>\n",
       "<style scoped>\n",
       "    .dataframe tbody tr th:only-of-type {\n",
       "        vertical-align: middle;\n",
       "    }\n",
       "\n",
       "    .dataframe tbody tr th {\n",
       "        vertical-align: top;\n",
       "    }\n",
       "\n",
       "    .dataframe thead th {\n",
       "        text-align: right;\n",
       "    }\n",
       "</style>\n",
       "<table border=\"1\" class=\"dataframe\">\n",
       "  <thead>\n",
       "    <tr style=\"text-align: right;\">\n",
       "      <th></th>\n",
       "      <th>last_name</th>\n",
       "      <th>gender</th>\n",
       "      <th>city</th>\n",
       "    </tr>\n",
       "  </thead>\n",
       "  <tbody>\n",
       "    <tr>\n",
       "      <th>227</th>\n",
       "      <td>Pata</td>\n",
       "      <td>F</td>\n",
       "      <td>Denwick</td>\n",
       "    </tr>\n",
       "    <tr>\n",
       "      <th>238</th>\n",
       "      <td>Fanelli</td>\n",
       "      <td>M</td>\n",
       "      <td>Springfields and Trent Vale Wa</td>\n",
       "    </tr>\n",
       "    <tr>\n",
       "      <th>369</th>\n",
       "      <td>Westad</td>\n",
       "      <td>M</td>\n",
       "      <td>Mossley</td>\n",
       "    </tr>\n",
       "  </tbody>\n",
       "</table>\n",
       "</div>"
      ],
      "text/plain": [
       "    last_name gender                            city\n",
       "227      Pata      F                         Denwick\n",
       "238   Fanelli      M  Springfields and Trent Vale Wa\n",
       "369    Westad      M                         Mossley"
      ]
     },
     "execution_count": 81,
     "metadata": {},
     "output_type": "execute_result"
    }
   ],
   "source": [
    "name_with_a.loc[:,[\"last_name\",\"gender\",\"city\"]]"
   ]
  },
  {
   "cell_type": "code",
   "execution_count": 83,
   "id": "56c14bb8-79b2-4e79-8df0-78ddd4757899",
   "metadata": {
    "tags": []
   },
   "outputs": [
    {
     "data": {
      "text/html": [
       "<div>\n",
       "<style scoped>\n",
       "    .dataframe tbody tr th:only-of-type {\n",
       "        vertical-align: middle;\n",
       "    }\n",
       "\n",
       "    .dataframe tbody tr th {\n",
       "        vertical-align: top;\n",
       "    }\n",
       "\n",
       "    .dataframe thead th {\n",
       "        text-align: right;\n",
       "    }\n",
       "</style>\n",
       "<table border=\"1\" class=\"dataframe\">\n",
       "  <thead>\n",
       "    <tr style=\"text-align: right;\">\n",
       "      <th></th>\n",
       "      <th>first_name</th>\n",
       "      <th>last_name</th>\n",
       "      <th>gender</th>\n",
       "      <th>age</th>\n",
       "      <th>company_name</th>\n",
       "      <th>address</th>\n",
       "      <th>city</th>\n",
       "      <th>county</th>\n",
       "      <th>postal</th>\n",
       "      <th>phone1</th>\n",
       "      <th>phone2</th>\n",
       "      <th>email</th>\n",
       "      <th>web</th>\n",
       "      <th>Full Name</th>\n",
       "    </tr>\n",
       "  </thead>\n",
       "  <tbody>\n",
       "    <tr>\n",
       "      <th>0</th>\n",
       "      <td>Aleshia</td>\n",
       "      <td>Tomkiewicz</td>\n",
       "      <td>F</td>\n",
       "      <td>54</td>\n",
       "      <td>Alan D Rosenburg Cpa Pc</td>\n",
       "      <td>14 Taylor St</td>\n",
       "      <td>St. Stephens Ward</td>\n",
       "      <td>Kent</td>\n",
       "      <td>CT2 7PP</td>\n",
       "      <td>01835-703597</td>\n",
       "      <td>01944-369967</td>\n",
       "      <td>atomkiewicz@hotmail.com</td>\n",
       "      <td>http://www.alandrosenburgcpapc.co.uk</td>\n",
       "      <td>Aleshia Tomkiewicz</td>\n",
       "    </tr>\n",
       "    <tr>\n",
       "      <th>1</th>\n",
       "      <td>Evan</td>\n",
       "      <td>Zigomalas</td>\n",
       "      <td>M</td>\n",
       "      <td>47</td>\n",
       "      <td>Cap Gemini America</td>\n",
       "      <td>5 Binney St</td>\n",
       "      <td>Abbey Ward</td>\n",
       "      <td>Buckinghamshire</td>\n",
       "      <td>HP11 2AX</td>\n",
       "      <td>01937-864715</td>\n",
       "      <td>01714-737668</td>\n",
       "      <td>evan.zigomalas@gmail.com</td>\n",
       "      <td>http://www.capgeminiamerica.co.uk</td>\n",
       "      <td>Evan Zigomalas</td>\n",
       "    </tr>\n",
       "    <tr>\n",
       "      <th>2</th>\n",
       "      <td>France</td>\n",
       "      <td>Andrade</td>\n",
       "      <td>M</td>\n",
       "      <td>42</td>\n",
       "      <td>Elliott, John W Esq</td>\n",
       "      <td>8 Moor Place</td>\n",
       "      <td>East Southbourne and Tuckton W</td>\n",
       "      <td>Bournemouth</td>\n",
       "      <td>BH6 3BE</td>\n",
       "      <td>01347-368222</td>\n",
       "      <td>01935-821636</td>\n",
       "      <td>france.andrade@hotmail.com</td>\n",
       "      <td>http://www.elliottjohnwesq.co.uk</td>\n",
       "      <td>France Andrade</td>\n",
       "    </tr>\n",
       "    <tr>\n",
       "      <th>3</th>\n",
       "      <td>Ulysses</td>\n",
       "      <td>Mcwalters</td>\n",
       "      <td>M</td>\n",
       "      <td>45</td>\n",
       "      <td>Mcmahan, Ben L</td>\n",
       "      <td>505 Exeter Rd</td>\n",
       "      <td>Hawerby cum Beesby</td>\n",
       "      <td>Lincolnshire</td>\n",
       "      <td>DN36 5RP</td>\n",
       "      <td>01912-771311</td>\n",
       "      <td>01302-601380</td>\n",
       "      <td>ulysses@hotmail.com</td>\n",
       "      <td>http://www.mcmahanbenl.co.uk</td>\n",
       "      <td>Ulysses Mcwalters</td>\n",
       "    </tr>\n",
       "    <tr>\n",
       "      <th>4</th>\n",
       "      <td>Tyisha</td>\n",
       "      <td>Veness</td>\n",
       "      <td>F</td>\n",
       "      <td>37</td>\n",
       "      <td>Champagne Room</td>\n",
       "      <td>5396 Forth Street</td>\n",
       "      <td>Greets Green and Lyng Ward</td>\n",
       "      <td>West Midlands</td>\n",
       "      <td>B70 9DT</td>\n",
       "      <td>01547-429341</td>\n",
       "      <td>01290-367248</td>\n",
       "      <td>tyisha.veness@hotmail.com</td>\n",
       "      <td>http://www.champagneroom.co.uk</td>\n",
       "      <td>Tyisha Veness</td>\n",
       "    </tr>\n",
       "  </tbody>\n",
       "</table>\n",
       "</div>"
      ],
      "text/plain": [
       "  first_name   last_name gender  age             company_name  \\\n",
       "0    Aleshia  Tomkiewicz      F   54  Alan D Rosenburg Cpa Pc   \n",
       "1       Evan   Zigomalas      M   47       Cap Gemini America   \n",
       "2     France     Andrade      M   42      Elliott, John W Esq   \n",
       "3    Ulysses   Mcwalters      M   45           Mcmahan, Ben L   \n",
       "4     Tyisha      Veness      F   37           Champagne Room   \n",
       "\n",
       "             address                            city           county  \\\n",
       "0       14 Taylor St               St. Stephens Ward             Kent   \n",
       "1        5 Binney St                      Abbey Ward  Buckinghamshire   \n",
       "2       8 Moor Place  East Southbourne and Tuckton W      Bournemouth   \n",
       "3      505 Exeter Rd              Hawerby cum Beesby     Lincolnshire   \n",
       "4  5396 Forth Street      Greets Green and Lyng Ward    West Midlands   \n",
       "\n",
       "     postal        phone1        phone2                       email  \\\n",
       "0   CT2 7PP  01835-703597  01944-369967     atomkiewicz@hotmail.com   \n",
       "1  HP11 2AX  01937-864715  01714-737668    evan.zigomalas@gmail.com   \n",
       "2   BH6 3BE  01347-368222  01935-821636  france.andrade@hotmail.com   \n",
       "3  DN36 5RP  01912-771311  01302-601380         ulysses@hotmail.com   \n",
       "4   B70 9DT  01547-429341  01290-367248   tyisha.veness@hotmail.com   \n",
       "\n",
       "                                    web           Full Name  \n",
       "0  http://www.alandrosenburgcpapc.co.uk  Aleshia Tomkiewicz  \n",
       "1     http://www.capgeminiamerica.co.uk      Evan Zigomalas  \n",
       "2      http://www.elliottjohnwesq.co.uk      France Andrade  \n",
       "3          http://www.mcmahanbenl.co.uk   Ulysses Mcwalters  \n",
       "4        http://www.champagneroom.co.uk       Tyisha Veness  "
      ]
     },
     "execution_count": 83,
     "metadata": {},
     "output_type": "execute_result"
    }
   ],
   "source": [
    "# people_df[\"Full Name\"] = people_df[\"first_name\"] + people_df[\"last_name\"]\n",
    "people_df[\"Full Name\"] = people_df[\"first_name\"].str.cat(people_df[\"last_name\"],sep = ' ')\n",
    "people_df.head()"
   ]
  },
  {
   "cell_type": "markdown",
   "id": "2866d38f-0372-4beb-9744-35516594fafd",
   "metadata": {
    "tags": []
   },
   "source": [
    "### Visualize"
   ]
  },
  {
   "cell_type": "markdown",
   "id": "550da4aa-99fb-4482-8654-55bc896ab00c",
   "metadata": {
    "tags": []
   },
   "source": [
    "### extend"
   ]
  },
  {
   "cell_type": "code",
   "execution_count": null,
   "id": "1f3bb8f1-8951-4c3d-8e67-38bf554eb495",
   "metadata": {
    "tags": []
   },
   "outputs": [],
   "source": [
    "import pandas as pd\n",
    "from pathlib import Path\n",
    "%matplotlib inline\n",
    "\n",
    "TSX_Data_csv = Path(\"Resources/TSX_Data.csv\")  "
   ]
  },
  {
   "cell_type": "code",
   "execution_count": null,
   "id": "43178666-b2c6-4bdc-b169-f4c748c62b7a",
   "metadata": {},
   "outputs": [],
   "source": [
    "# daily return\n",
    "# cum return\n",
    "# visualize\n",
    "\n",
    "#df.pct_change()\n",
    "#df.cumprod()\n"
   ]
  },
  {
   "cell_type": "code",
   "execution_count": null,
   "id": "e419c8e7-d007-4edc-97e5-8c40928ec5d1",
   "metadata": {
    "tags": []
   },
   "outputs": [],
   "source": [
    "tsx_df = pd.read_csv(TSX_Data_csv)\n",
    "tsx_df.head()"
   ]
  },
  {
   "cell_type": "code",
   "execution_count": null,
   "id": "9d1ef5cd-33a3-4e33-a96a-cc674c2a0654",
   "metadata": {
    "tags": []
   },
   "outputs": [],
   "source": [
    "# 300, 310, 400\n",
    "# print((310 - 300)/310)\n",
    "# print((400 - 310)/400)\n",
    "\n",
    "# (1 + 0.0322) * (1 + .225)\n",
    "\n"
   ]
  },
  {
   "cell_type": "code",
   "execution_count": null,
   "id": "effef74f-fdae-4008-a9ba-950ff8cec8a0",
   "metadata": {
    "tags": []
   },
   "outputs": [],
   "source": [
    "# drop unwanted columns\n",
    "tsx_df = tsx_df.drop([\"Open\", \"High\", \"Low\", \"Close\", \"Volume\"], axis = 1)\n",
    "tsx_df\n"
   ]
  },
  {
   "cell_type": "code",
   "execution_count": null,
   "id": "b3c3bf54-b96b-4956-a1a3-f7994ddec9c1",
   "metadata": {
    "tags": []
   },
   "outputs": [],
   "source": [
    "tsx_df.set_index(pd.to_datetime(tsx_df[\"Date\"]),inplace = True)\n",
    "tsx_df.columns"
   ]
  },
  {
   "cell_type": "code",
   "execution_count": null,
   "id": "82d3f7d0-4dfd-4081-ba9b-853f74cc6f0d",
   "metadata": {
    "tags": []
   },
   "outputs": [],
   "source": [
    "tsx_df.drop(\"Date\", axis = 1, inplace = True)"
   ]
  },
  {
   "cell_type": "code",
   "execution_count": null,
   "id": "c6ef68c3-793c-4003-ab90-adb57d160e76",
   "metadata": {
    "tags": []
   },
   "outputs": [],
   "source": [
    "tsx_df"
   ]
  },
  {
   "cell_type": "code",
   "execution_count": null,
   "id": "024a533e-0657-4b71-9589-63a53cb021b9",
   "metadata": {
    "tags": []
   },
   "outputs": [],
   "source": [
    "tsx_df.plot()"
   ]
  },
  {
   "cell_type": "code",
   "execution_count": null,
   "id": "bc45b2b9-f5de-4e5c-a51e-623ea7fdd44a",
   "metadata": {
    "tags": []
   },
   "outputs": [],
   "source": [
    "daily_returns = tsx_df.pct_change()\n",
    "daily_returns.head(20)"
   ]
  },
  {
   "cell_type": "code",
   "execution_count": null,
   "id": "0b81a226-2bf2-47cc-b40d-35e49f3ddb35",
   "metadata": {
    "tags": []
   },
   "outputs": [],
   "source": [
    "daily_returns.plot(figsize = (10,5))"
   ]
  },
  {
   "cell_type": "code",
   "execution_count": null,
   "id": "e5cdb2bc-00fb-4530-9418-29a98474b438",
   "metadata": {
    "tags": []
   },
   "outputs": [],
   "source": [
    "# Calculate the cumulative returns using the 'cumprod()' function\n",
    "cumulative_returns = (1 + daily_returns).cumprod()\n",
    "real_cumulative_returns = (cumulative_returns - 1)\n",
    "real_cumulative_returns"
   ]
  },
  {
   "cell_type": "code",
   "execution_count": null,
   "id": "b6952f41-14db-4a7a-85b6-1cd16122c5a6",
   "metadata": {
    "tags": []
   },
   "outputs": [],
   "source": [
    "real_cumulative_returns.plot(figsize=(10,5))"
   ]
  },
  {
   "cell_type": "code",
   "execution_count": null,
   "id": "8ac9eb01-f7de-4a82-b819-01371c27307b",
   "metadata": {},
   "outputs": [],
   "source": []
  }
 ],
 "metadata": {
  "kernelspec": {
   "display_name": "Python 3 (ipykernel)",
   "language": "python",
   "name": "python3"
  },
  "language_info": {
   "codemirror_mode": {
    "name": "ipython",
    "version": 3
   },
   "file_extension": ".py",
   "mimetype": "text/x-python",
   "name": "python",
   "nbconvert_exporter": "python",
   "pygments_lexer": "ipython3",
   "version": "3.11.5"
  }
 },
 "nbformat": 4,
 "nbformat_minor": 5
}
