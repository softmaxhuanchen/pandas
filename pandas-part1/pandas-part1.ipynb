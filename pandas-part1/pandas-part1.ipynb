{
 "cells": [
  {
   "cell_type": "markdown",
   "id": "7eb420e7-55f9-4648-afd8-25b5bfd6c5e1",
   "metadata": {},
   "source": [
    "### pandas\n",
    "- dataframe is the key object in pandas. dataframe is a \"type\" holding 2d data. dataframe is equipped with powerful methods\n",
    "- work flow: glance -> data cleaning -> zoom in -> visulize the data -> filter, slice, reshap, extend -> gain insights (machine learning)\n",
    "### why is df powerful\n",
    "- vector operation instead of loops\n",
    "- fractal struture\n",
    "### pay attention to the naming of dfs\n",
    "- use descriptive names for dfs"
   ]
  },
  {
   "cell_type": "markdown",
   "id": "b9a68250-8596-4443-88aa-e2046365f7a1",
   "metadata": {},
   "source": [
    "### glance"
   ]
  },
  {
   "cell_type": "code",
   "execution_count": null,
   "id": "204a756f-e1d1-4bb4-a022-b979ee147fd0",
   "metadata": {},
   "outputs": [],
   "source": [
    "import pandas as pd\n",
    "from pathlib import Path\n",
    "csv_path = Path(\"./Resources/sales.csv\")\n",
    "df_sales = pd.read_csv(csv_path)\n",
    "df_sales.sample(10)\n",
    "df_sales.head(10)"
   ]
  },
  {
   "cell_type": "markdown",
   "id": "bea7d3f5-f52b-4724-b1d8-3e5f9b9576d0",
   "metadata": {
    "tags": []
   },
   "source": [
    "### data cleaning\n",
    "- Column Manipulation\n",
    "- data cleaning, remove duplicates, Nan"
   ]
  },
  {
   "cell_type": "code",
   "execution_count": null,
   "id": "3a056f6b-675a-40eb-8120-ede5b70501c8",
   "metadata": {
    "tags": []
   },
   "outputs": [],
   "source": [
    "csv_path = Path(\"./Resources/customers.csv\")\n",
    "df_customers = pd.read_csv(csv_path)\n",
    "df_customers.head()"
   ]
  },
  {
   "cell_type": "code",
   "execution_count": null,
   "id": "f04aa734-89f0-4d63-b50d-cfdfaf98c303",
   "metadata": {
    "tags": []
   },
   "outputs": [],
   "source": [
    "df_customers.columns"
   ]
  },
  {
   "cell_type": "code",
   "execution_count": null,
   "id": "fc7a894a-1735-4068-92c0-de245d94fc25",
   "metadata": {
    "tags": []
   },
   "outputs": [],
   "source": [
    "temp_df_customers = df_customers[['Email','FullName', 'CreditCard']]\n",
    "temp_df_customers['Balance / 1k'] = df_customers['Balance'] / 1000\n",
    "temp_df_customers"
   ]
  },
  {
   "cell_type": "code",
   "execution_count": null,
   "id": "a3f94eb4-6367-4b23-8a03-45fc0c732376",
   "metadata": {
    "tags": []
   },
   "outputs": [],
   "source": [
    "# data clearing\n",
    "order_data_csv = Path(\"Resources/order_data.csv\")\n",
    "order_data_df = pd.read_csv(order_data_csv)\n",
    "order_data_df"
   ]
  },
  {
   "cell_type": "code",
   "execution_count": null,
   "id": "0b505afc-7651-4306-bb76-42cec7607fbe",
   "metadata": {
    "tags": []
   },
   "outputs": [],
   "source": [
    "# data clearing\n",
    "\n",
    "\n",
    "order_data_csv = Path(\"Resources/order_data.csv\")\n",
    "order_data_df = pd.read_csv(order_data_csv)\n",
    "# order_data_df.dtypes\n",
    "order_data_df.count()\n",
    "order_data_df.isnull().sum()\n",
    "order_data_df[\"order_total\"] = order_data_df[\"order_total\"].str.strip(\"$\")\n",
    "order_data_df[\"order_total\"] = pd.to_numeric(order_data_df[\"order_total\"])\n",
    "\n",
    "mean_total = order_data_df[\"order_total\"].mean()\n",
    "order_data_df[\"order_total\"].fillna(mean_total, inplace = True)\n",
    "order_data_df[\"customer_no\"].fillna(\"Unknown\", inplace = True)\n",
    "order_data_df.drop_duplicates(inplace = True)\n",
    "order_data_df\n",
    "\n",
    "# order_data_df[\"order_date\"] = pd.to_datetime(order_data_df[\"order_date\"],infer_datetime_format=True)\n",
    "# order_data_df\n",
    "\n",
    "order_data_df[\"order_date\"] = pd.to_datetime(order_data_df[\"order_date\"],infer_datetime_format=True, format='mixed')\n",
    "order_data_df"
   ]
  },
  {
   "cell_type": "markdown",
   "id": "399b9b4d-5d65-45e9-ad5f-4f61cd80b3d8",
   "metadata": {},
   "source": [
    "### Zoom in"
   ]
  },
  {
   "cell_type": "markdown",
   "id": "2866d38f-0372-4beb-9744-35516594fafd",
   "metadata": {
    "tags": []
   },
   "source": [
    "### Visualize"
   ]
  },
  {
   "cell_type": "markdown",
   "id": "550da4aa-99fb-4482-8654-55bc896ab00c",
   "metadata": {
    "tags": []
   },
   "source": [
    "### extend"
   ]
  },
  {
   "cell_type": "code",
   "execution_count": null,
   "id": "1f3bb8f1-8951-4c3d-8e67-38bf554eb495",
   "metadata": {
    "tags": []
   },
   "outputs": [],
   "source": [
    "import pandas as pd\n",
    "from pathlib import Path\n",
    "%matplotlib inline\n",
    "\n",
    "TSX_Data_csv = Path(\"Resources/TSX_Data.csv\")  "
   ]
  },
  {
   "cell_type": "code",
   "execution_count": null,
   "id": "43178666-b2c6-4bdc-b169-f4c748c62b7a",
   "metadata": {},
   "outputs": [],
   "source": [
    "# daily return\n",
    "# cum return\n",
    "# visualize\n",
    "\n",
    "#df.pct_change()\n",
    "#df.cumprod()\n"
   ]
  },
  {
   "cell_type": "code",
   "execution_count": null,
   "id": "e419c8e7-d007-4edc-97e5-8c40928ec5d1",
   "metadata": {
    "tags": []
   },
   "outputs": [],
   "source": [
    "tsx_df = pd.read_csv(TSX_Data_csv)\n",
    "tsx_df.head()"
   ]
  },
  {
   "cell_type": "code",
   "execution_count": null,
   "id": "9d1ef5cd-33a3-4e33-a96a-cc674c2a0654",
   "metadata": {
    "tags": []
   },
   "outputs": [],
   "source": [
    "# 300, 310, 400\n",
    "# print((310 - 300)/310)\n",
    "# print((400 - 310)/400)\n",
    "\n",
    "# (1 + 0.0322) * (1 + .225)\n",
    "\n"
   ]
  },
  {
   "cell_type": "code",
   "execution_count": null,
   "id": "effef74f-fdae-4008-a9ba-950ff8cec8a0",
   "metadata": {
    "tags": []
   },
   "outputs": [],
   "source": [
    "# drop unwanted columns\n",
    "tsx_df = tsx_df.drop([\"Open\", \"High\", \"Low\", \"Close\", \"Volume\"], axis = 1)\n",
    "tsx_df\n"
   ]
  },
  {
   "cell_type": "code",
   "execution_count": null,
   "id": "b3c3bf54-b96b-4956-a1a3-f7994ddec9c1",
   "metadata": {
    "tags": []
   },
   "outputs": [],
   "source": [
    "tsx_df.set_index(pd.to_datetime(tsx_df[\"Date\"]),inplace = True)\n",
    "tsx_df.columns"
   ]
  },
  {
   "cell_type": "code",
   "execution_count": null,
   "id": "82d3f7d0-4dfd-4081-ba9b-853f74cc6f0d",
   "metadata": {
    "tags": []
   },
   "outputs": [],
   "source": [
    "tsx_df.drop(\"Date\", axis = 1, inplace = True)"
   ]
  },
  {
   "cell_type": "code",
   "execution_count": null,
   "id": "c6ef68c3-793c-4003-ab90-adb57d160e76",
   "metadata": {
    "tags": []
   },
   "outputs": [],
   "source": [
    "tsx_df"
   ]
  },
  {
   "cell_type": "code",
   "execution_count": null,
   "id": "024a533e-0657-4b71-9589-63a53cb021b9",
   "metadata": {
    "tags": []
   },
   "outputs": [],
   "source": [
    "tsx_df.plot()"
   ]
  },
  {
   "cell_type": "code",
   "execution_count": null,
   "id": "bc45b2b9-f5de-4e5c-a51e-623ea7fdd44a",
   "metadata": {
    "tags": []
   },
   "outputs": [],
   "source": [
    "daily_returns = tsx_df.pct_change()\n",
    "daily_returns.head(20)"
   ]
  },
  {
   "cell_type": "code",
   "execution_count": null,
   "id": "0b81a226-2bf2-47cc-b40d-35e49f3ddb35",
   "metadata": {
    "tags": []
   },
   "outputs": [],
   "source": [
    "daily_returns.plot(figsize = (10,5))"
   ]
  },
  {
   "cell_type": "code",
   "execution_count": null,
   "id": "e5cdb2bc-00fb-4530-9418-29a98474b438",
   "metadata": {
    "tags": []
   },
   "outputs": [],
   "source": [
    "# Calculate the cumulative returns using the 'cumprod()' function\n",
    "cumulative_returns = (1 + daily_returns).cumprod()\n",
    "real_cumulative_returns = (cumulative_returns - 1)\n",
    "real_cumulative_returns"
   ]
  },
  {
   "cell_type": "code",
   "execution_count": null,
   "id": "b6952f41-14db-4a7a-85b6-1cd16122c5a6",
   "metadata": {
    "tags": []
   },
   "outputs": [],
   "source": [
    "real_cumulative_returns.plot(figsize=(10,5))"
   ]
  },
  {
   "cell_type": "code",
   "execution_count": null,
   "id": "8ac9eb01-f7de-4a82-b819-01371c27307b",
   "metadata": {},
   "outputs": [],
   "source": []
  }
 ],
 "metadata": {
  "kernelspec": {
   "display_name": "Python 3 (ipykernel)",
   "language": "python",
   "name": "python3"
  },
  "language_info": {
   "codemirror_mode": {
    "name": "ipython",
    "version": 3
   },
   "file_extension": ".py",
   "mimetype": "text/x-python",
   "name": "python",
   "nbconvert_exporter": "python",
   "pygments_lexer": "ipython3",
   "version": "3.11.5"
  }
 },
 "nbformat": 4,
 "nbformat_minor": 5
}
