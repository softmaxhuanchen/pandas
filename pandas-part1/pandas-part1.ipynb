{
 "cells": [
  {
   "cell_type": "markdown",
   "id": "7eb420e7-55f9-4648-afd8-25b5bfd6c5e1",
   "metadata": {},
   "source": [
    "### pandas\n",
    "- dataframe is the key object in pandas. dataframe is a \"type\" holding 2d data. dataframe is equipped with powerful methods\n",
    "- work flow: glance -> data cleaning -> zoom in -> visulize the data -> filter, slice, reshap, extend -> gain insights (machine learning)\n",
    "### why is df powerful\n",
    "- vector operation instead of loops\n",
    "- fractal struture\n",
    "### pay attention to the naming of dfs\n",
    "- use descriptive names for dfs"
   ]
  },
  {
   "cell_type": "markdown",
   "id": "b9a68250-8596-4443-88aa-e2046365f7a1",
   "metadata": {},
   "source": [
    "### glance"
   ]
  },
  {
   "cell_type": "code",
   "execution_count": null,
   "id": "204a756f-e1d1-4bb4-a022-b979ee147fd0",
   "metadata": {},
   "outputs": [],
   "source": [
    "import pandas as pd\n",
    "from pathlib import Path\n",
    "csv_path = Path(\"./Resources/sales.csv\")\n",
    "df_sales = pd.read_csv(csv_path)\n",
    "df_sales.sample(10)\n",
    "df_sales.head(10)"
   ]
  },
  {
   "cell_type": "markdown",
   "id": "bea7d3f5-f52b-4724-b1d8-3e5f9b9576d0",
   "metadata": {
    "tags": []
   },
   "source": [
    "### data cleaning\n",
    "- Column Manipulation\n",
    "- data cleaning, remove duplicates, Nan"
   ]
  },
  {
   "cell_type": "code",
   "execution_count": null,
   "id": "3a056f6b-675a-40eb-8120-ede5b70501c8",
   "metadata": {
    "tags": []
   },
   "outputs": [],
   "source": [
    "csv_path = Path(\"./Resources/customers.csv\")\n",
    "df_customers = pd.read_csv(csv_path)\n",
    "df_customers.head()"
   ]
  },
  {
   "cell_type": "code",
   "execution_count": null,
   "id": "f04aa734-89f0-4d63-b50d-cfdfaf98c303",
   "metadata": {
    "tags": []
   },
   "outputs": [],
   "source": [
    "df_customers.columns"
   ]
  },
  {
   "cell_type": "code",
   "execution_count": null,
   "id": "fc7a894a-1735-4068-92c0-de245d94fc25",
   "metadata": {
    "tags": []
   },
   "outputs": [],
   "source": [
    "temp_df_customers = df_customers[['Email','FullName', 'CreditCard']]\n",
    "temp_df_customers['Balance / 1k'] = df_customers['Balance'] / 1000\n",
    "temp_df_customers"
   ]
  },
  {
   "cell_type": "code",
   "execution_count": 18,
   "id": "a3f94eb4-6367-4b23-8a03-45fc0c732376",
   "metadata": {
    "tags": []
   },
   "outputs": [
    {
     "data": {
      "text/html": [
       "<div>\n",
       "<style scoped>\n",
       "    .dataframe tbody tr th:only-of-type {\n",
       "        vertical-align: middle;\n",
       "    }\n",
       "\n",
       "    .dataframe tbody tr th {\n",
       "        vertical-align: top;\n",
       "    }\n",
       "\n",
       "    .dataframe thead th {\n",
       "        text-align: right;\n",
       "    }\n",
       "</style>\n",
       "<table border=\"1\" class=\"dataframe\">\n",
       "  <thead>\n",
       "    <tr style=\"text-align: right;\">\n",
       "      <th></th>\n",
       "      <th>order_no</th>\n",
       "      <th>customer_no</th>\n",
       "      <th>order_total</th>\n",
       "      <th>order_date</th>\n",
       "    </tr>\n",
       "  </thead>\n",
       "  <tbody>\n",
       "    <tr>\n",
       "      <th>0</th>\n",
       "      <td>452517125</td>\n",
       "      <td>CM458565</td>\n",
       "      <td>$141.25</td>\n",
       "      <td>01-10-2019</td>\n",
       "    </tr>\n",
       "    <tr>\n",
       "      <th>1</th>\n",
       "      <td>45251825</td>\n",
       "      <td>CJ458565</td>\n",
       "      <td>14.00</td>\n",
       "      <td>04/25/2019</td>\n",
       "    </tr>\n",
       "    <tr>\n",
       "      <th>2</th>\n",
       "      <td>4465241327</td>\n",
       "      <td>AK45765</td>\n",
       "      <td>$1103.36</td>\n",
       "      <td>04-25-2019</td>\n",
       "    </tr>\n",
       "    <tr>\n",
       "      <th>3</th>\n",
       "      <td>4465241327</td>\n",
       "      <td>AK45765</td>\n",
       "      <td>$1103.36</td>\n",
       "      <td>04-25-2019</td>\n",
       "    </tr>\n",
       "    <tr>\n",
       "      <th>4</th>\n",
       "      <td>413853121</td>\n",
       "      <td>CM458565</td>\n",
       "      <td>NaN</td>\n",
       "      <td>4/24/2019</td>\n",
       "    </tr>\n",
       "    <tr>\n",
       "      <th>5</th>\n",
       "      <td>45235825</td>\n",
       "      <td>TV4663</td>\n",
       "      <td>65.42</td>\n",
       "      <td>04-29-2019</td>\n",
       "    </tr>\n",
       "    <tr>\n",
       "      <th>6</th>\n",
       "      <td>2356363</td>\n",
       "      <td>2124</td>\n",
       "      <td>258936.12</td>\n",
       "      <td>04-29-2019</td>\n",
       "    </tr>\n",
       "    <tr>\n",
       "      <th>7</th>\n",
       "      <td>452519232</td>\n",
       "      <td>NaN</td>\n",
       "      <td>$141.25</td>\n",
       "      <td>01-10-2019</td>\n",
       "    </tr>\n",
       "  </tbody>\n",
       "</table>\n",
       "</div>"
      ],
      "text/plain": [
       "     order_no customer_no order_total  order_date\n",
       "0   452517125    CM458565     $141.25  01-10-2019\n",
       "1    45251825    CJ458565       14.00  04/25/2019\n",
       "2  4465241327     AK45765    $1103.36  04-25-2019\n",
       "3  4465241327     AK45765    $1103.36  04-25-2019\n",
       "4   413853121    CM458565         NaN   4/24/2019\n",
       "5    45235825      TV4663       65.42  04-29-2019\n",
       "6     2356363        2124   258936.12  04-29-2019\n",
       "7   452519232         NaN     $141.25  01-10-2019"
      ]
     },
     "execution_count": 18,
     "metadata": {},
     "output_type": "execute_result"
    }
   ],
   "source": [
    "# data clearing\n",
    "order_data_csv = Path(\"Resources/order_data.csv\")\n",
    "order_data_df = pd.read_csv(order_data_csv)\n",
    "order_data_df"
   ]
  },
  {
   "cell_type": "code",
   "execution_count": 33,
   "id": "0b505afc-7651-4306-bb76-42cec7607fbe",
   "metadata": {
    "tags": []
   },
   "outputs": [
    {
     "name": "stderr",
     "output_type": "stream",
     "text": [
      "/var/folders/s8/pt25jnw136s1n65s8w11wf240000gn/T/ipykernel_43105/644509997.py:21: UserWarning: The argument 'infer_datetime_format' is deprecated and will be removed in a future version. A strict version of it is now the default, see https://pandas.pydata.org/pdeps/0004-consistent-to-datetime-parsing.html. You can safely remove this argument.\n",
      "  order_data_df[\"order_date\"] = pd.to_datetime(order_data_df[\"order_date\"],infer_datetime_format=True, format='mixed')\n"
     ]
    },
    {
     "data": {
      "text/html": [
       "<div>\n",
       "<style scoped>\n",
       "    .dataframe tbody tr th:only-of-type {\n",
       "        vertical-align: middle;\n",
       "    }\n",
       "\n",
       "    .dataframe tbody tr th {\n",
       "        vertical-align: top;\n",
       "    }\n",
       "\n",
       "    .dataframe thead th {\n",
       "        text-align: right;\n",
       "    }\n",
       "</style>\n",
       "<table border=\"1\" class=\"dataframe\">\n",
       "  <thead>\n",
       "    <tr style=\"text-align: right;\">\n",
       "      <th></th>\n",
       "      <th>order_no</th>\n",
       "      <th>customer_no</th>\n",
       "      <th>order_total</th>\n",
       "      <th>order_date</th>\n",
       "    </tr>\n",
       "  </thead>\n",
       "  <tbody>\n",
       "    <tr>\n",
       "      <th>0</th>\n",
       "      <td>452517125</td>\n",
       "      <td>CM458565</td>\n",
       "      <td>141.250000</td>\n",
       "      <td>2019-01-10</td>\n",
       "    </tr>\n",
       "    <tr>\n",
       "      <th>1</th>\n",
       "      <td>45251825</td>\n",
       "      <td>CJ458565</td>\n",
       "      <td>14.000000</td>\n",
       "      <td>2019-04-25</td>\n",
       "    </tr>\n",
       "    <tr>\n",
       "      <th>2</th>\n",
       "      <td>4465241327</td>\n",
       "      <td>AK45765</td>\n",
       "      <td>1103.360000</td>\n",
       "      <td>2019-04-25</td>\n",
       "    </tr>\n",
       "    <tr>\n",
       "      <th>4</th>\n",
       "      <td>413853121</td>\n",
       "      <td>CM458565</td>\n",
       "      <td>37357.822857</td>\n",
       "      <td>2019-04-24</td>\n",
       "    </tr>\n",
       "    <tr>\n",
       "      <th>5</th>\n",
       "      <td>45235825</td>\n",
       "      <td>TV4663</td>\n",
       "      <td>65.420000</td>\n",
       "      <td>2019-04-29</td>\n",
       "    </tr>\n",
       "    <tr>\n",
       "      <th>6</th>\n",
       "      <td>2356363</td>\n",
       "      <td>2124</td>\n",
       "      <td>258936.120000</td>\n",
       "      <td>2019-04-29</td>\n",
       "    </tr>\n",
       "    <tr>\n",
       "      <th>7</th>\n",
       "      <td>452519232</td>\n",
       "      <td>Unknown</td>\n",
       "      <td>141.250000</td>\n",
       "      <td>2019-01-10</td>\n",
       "    </tr>\n",
       "  </tbody>\n",
       "</table>\n",
       "</div>"
      ],
      "text/plain": [
       "     order_no customer_no    order_total order_date\n",
       "0   452517125    CM458565     141.250000 2019-01-10\n",
       "1    45251825    CJ458565      14.000000 2019-04-25\n",
       "2  4465241327     AK45765    1103.360000 2019-04-25\n",
       "4   413853121    CM458565   37357.822857 2019-04-24\n",
       "5    45235825      TV4663      65.420000 2019-04-29\n",
       "6     2356363        2124  258936.120000 2019-04-29\n",
       "7   452519232     Unknown     141.250000 2019-01-10"
      ]
     },
     "execution_count": 33,
     "metadata": {},
     "output_type": "execute_result"
    }
   ],
   "source": [
    "# data clearing\n",
    "\n",
    "\n",
    "order_data_csv = Path(\"Resources/order_data.csv\")\n",
    "order_data_df = pd.read_csv(order_data_csv)\n",
    "# order_data_df.dtypes\n",
    "order_data_df.count()\n",
    "order_data_df.isnull().sum()\n",
    "order_data_df[\"order_total\"] = order_data_df[\"order_total\"].str.strip(\"$\")\n",
    "order_data_df[\"order_total\"] = pd.to_numeric(order_data_df[\"order_total\"])\n",
    "\n",
    "mean_total = order_data_df[\"order_total\"].mean()\n",
    "order_data_df[\"order_total\"].fillna(mean_total, inplace = True)\n",
    "order_data_df[\"customer_no\"].fillna(\"Unknown\", inplace = True)\n",
    "order_data_df.drop_duplicates(inplace = True)\n",
    "order_data_df\n",
    "\n",
    "# order_data_df[\"order_date\"] = pd.to_datetime(order_data_df[\"order_date\"],infer_datetime_format=True)\n",
    "# order_data_df\n",
    "\n",
    "order_data_df[\"order_date\"] = pd.to_datetime(order_data_df[\"order_date\"],infer_datetime_format=True, format='mixed')\n",
    "order_data_df"
   ]
  },
  {
   "cell_type": "code",
   "execution_count": null,
   "id": "4e83f366-95ce-4476-86df-1d2e7b47d3ac",
   "metadata": {},
   "outputs": [],
   "source": []
  },
  {
   "cell_type": "markdown",
   "id": "399b9b4d-5d65-45e9-ad5f-4f61cd80b3d8",
   "metadata": {},
   "source": [
    "### Zoom in"
   ]
  },
  {
   "cell_type": "code",
   "execution_count": null,
   "id": "f12e1a99-f96a-4030-9f52-212aac1d0d47",
   "metadata": {},
   "outputs": [],
   "source": []
  },
  {
   "cell_type": "markdown",
   "id": "2866d38f-0372-4beb-9744-35516594fafd",
   "metadata": {},
   "source": [
    "### Visualize"
   ]
  },
  {
   "cell_type": "markdown",
   "id": "550da4aa-99fb-4482-8654-55bc896ab00c",
   "metadata": {
    "tags": []
   },
   "source": [
    "### extend"
   ]
  }
 ],
 "metadata": {
  "kernelspec": {
   "display_name": "Python 3 (ipykernel)",
   "language": "python",
   "name": "python3"
  },
  "language_info": {
   "codemirror_mode": {
    "name": "ipython",
    "version": 3
   },
   "file_extension": ".py",
   "mimetype": "text/x-python",
   "name": "python",
   "nbconvert_exporter": "python",
   "pygments_lexer": "ipython3",
   "version": "3.11.5"
  }
 },
 "nbformat": 4,
 "nbformat_minor": 5
}
