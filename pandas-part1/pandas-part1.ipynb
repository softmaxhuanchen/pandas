{
 "cells": [
  {
   "cell_type": "markdown",
   "id": "7eb420e7-55f9-4648-afd8-25b5bfd6c5e1",
   "metadata": {},
   "source": [
    "### pandas\n",
    "- dataframe is the key object in pandas. dataframe is a \"type\" holding 2d data. dataframe is equipped with powerful methods\n",
    "- work flow: glance -> data cleaning -> zoom in -> visulize the data -> filter, slice, reshap, extend -> gain insights (machine learning)\n",
    "### why is df powerful\n",
    "- vector operation instead of loops\n",
    "- fractal struture\n",
    "### pay attention to the naming of dfs\n",
    "- use descriptive names for dfs"
   ]
  },
  {
   "cell_type": "markdown",
   "id": "b9a68250-8596-4443-88aa-e2046365f7a1",
   "metadata": {},
   "source": [
    "### glance"
   ]
  },
  {
   "cell_type": "code",
   "execution_count": null,
   "id": "204a756f-e1d1-4bb4-a022-b979ee147fd0",
   "metadata": {},
   "outputs": [],
   "source": [
    "import pandas as pd\n",
    "from pathlib import Path"
   ]
  },
  {
   "cell_type": "markdown",
   "id": "bea7d3f5-f52b-4724-b1d8-3e5f9b9576d0",
   "metadata": {
    "tags": []
   },
   "source": [
    "### data cleaning\n",
    "- Column Manipulation\n",
    "- data cleaning"
   ]
  },
  {
   "cell_type": "markdown",
   "id": "399b9b4d-5d65-45e9-ad5f-4f61cd80b3d8",
   "metadata": {},
   "source": [
    "### Zoom in"
   ]
  },
  {
   "cell_type": "markdown",
   "id": "2866d38f-0372-4beb-9744-35516594fafd",
   "metadata": {},
   "source": [
    "### Visualize"
   ]
  },
  {
   "cell_type": "markdown",
   "id": "550da4aa-99fb-4482-8654-55bc896ab00c",
   "metadata": {
    "tags": []
   },
   "source": [
    "### extend"
   ]
  }
 ],
 "metadata": {
  "kernelspec": {
   "display_name": "Python 3 (ipykernel)",
   "language": "python",
   "name": "python3"
  },
  "language_info": {
   "codemirror_mode": {
    "name": "ipython",
    "version": 3
   },
   "file_extension": ".py",
   "mimetype": "text/x-python",
   "name": "python",
   "nbconvert_exporter": "python",
   "pygments_lexer": "ipython3",
   "version": "3.11.5"
  }
 },
 "nbformat": 4,
 "nbformat_minor": 5
}
