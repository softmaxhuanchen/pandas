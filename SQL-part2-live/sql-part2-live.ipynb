{
 "cells": [
  {
   "cell_type": "markdown",
   "id": "2f9060cc-6c0d-4e4b-89f7-6b80c63c7a46",
   "metadata": {
    "tags": []
   },
   "source": [
    "### sql-cheatsheets\n",
    "![sql cheat sheet page1](sql-page-1.png)\n",
    "\n",
    "![sql cheat sheet page2](sql-page-2.png)"
   ]
  },
  {
   "cell_type": "markdown",
   "id": "ff5baf89-734d-4155-b560-c9f4a63b7de6",
   "metadata": {},
   "source": [
    "### Review Banking DB\n",
    "\n",
    "[schema](banks/schema.sql)\n",
    "\n",
    "[seed](banks/seed.sql)"
   ]
  },
  {
   "cell_type": "markdown",
   "id": "1e0d321e-9ddf-427d-833d-81e4e6f8a225",
   "metadata": {},
   "source": [
    "### Query\n",
    "\n",
    "-- Fraud detection: who are the customer paid through Wells Fargo?\n",
    "\n",
    "```sql\n",
    "CREATE VIEW payment_summary AS\n",
    "SELECT p.*, c.first_name, c.last_name, b.bank_name \n",
    "FROM payments p\n",
    "JOIN customer c ON p.customer_id = c.customer_id\n",
    "JOIN banks b ON p.bank_routing_number = b.bank_routing_number\n",
    "\n",
    "SELECT * FROM payment_summary\n",
    "WHERE bank_name = 'Wells Fargo';\n",
    "```\n"
   ]
  },
  {
   "cell_type": "markdown",
   "id": "caf8ca9e-82e4-4798-a3c7-dd922a9db819",
   "metadata": {},
   "source": [
    "### Insights\n",
    "\n",
    "Join connect all the small tables into a big table. \n",
    "\n",
    "Questions, why do we just create one gaint table include everything, like the one that we have joined all the tables?\n",
    "\n",
    "tips:\n",
    "use scratch pad, paste the schema on top.\n",
    "use the line only for one command\n"
   ]
  },
  {
   "cell_type": "markdown",
   "id": "0134e877-6c46-46a9-b9f7-1345b62c14c2",
   "metadata": {},
   "source": [
    "[Sakila DB](https://dev.mysql.com/doc/sakila/en/sakila-structure-tables.html)"
   ]
  },
  {
   "cell_type": "markdown",
   "id": "06394dd8-7fd7-40e2-b3ee-7bc29aafa2e5",
   "metadata": {},
   "source": [
    "# explain the data set. the db is the business structure. query for insights\n",
    "- Sakila db "
   ]
  },
  {
   "cell_type": "markdown",
   "id": "3c0d9810-7788-43ce-a2b5-6c0f278a5148",
   "metadata": {},
   "source": [
    "### Join vs subquery\n",
    "\n",
    "```sql\n",
    "\n",
    "  \n",
    "-- Identify customers who rented the film 'PANIC CLUB'.\n",
    "SELECT DISTINCT c.customer_id, c.first_name, c.last_name\n",
    "FROM customer c\n",
    "JOIN rental r ON c.customer_id = r.customer_id\n",
    "JOIN inventory i ON r.inventory_id = i.inventory_id\n",
    "JOIN film f ON i.film_id = f.film_id\n",
    "WHERE f.title = 'PANIC CLUB';\n",
    "\n",
    "SELECT c.customer_id, c.first_name, c.last_name\n",
    "FROM customer c\n",
    "WHERE c.customer_id IN (\n",
    "    SELECT r.customer_id\n",
    "    FROM rental r\n",
    "    WHERE r.inventory_id IN (\n",
    "        SELECT i.inventory_id\n",
    "        FROM inventory i\n",
    "        WHERE i.film_id IN (\n",
    "            SELECT f.film_id\n",
    "            FROM film f\n",
    "            WHERE f.title = 'PANIC CLUB'\n",
    "        )\n",
    "    )\n",
    ");\n",
    "\n",
    "-- Calculate the total rental revenue from the 'Action' category.\n",
    "SELECT SUM(p.amount) AS total_revenue\n",
    "FROM payment p\n",
    "JOIN rental r ON p.rental_id = r.rental_id\n",
    "JOIN inventory i ON r.inventory_id = i.inventory_id\n",
    "JOIN film f ON i.film_id = f.film_id\n",
    "JOIN film_category fc ON f.film_id = fc.film_id\n",
    "JOIN category c ON fc.category_id = c.category_id\n",
    "WHERE c.name = 'Action';\n",
    "\n",
    "SELECT SUM(p.amount) AS total_revenue\n",
    "FROM payment p\n",
    "WHERE p.rental_id IN (\n",
    "    SELECT r.rental_id\n",
    "    FROM rental r\n",
    "    WHERE r.inventory_id IN (\n",
    "        SELECT i.inventory_id\n",
    "        FROM inventory i\n",
    "        WHERE i.film_id IN (\n",
    "            SELECT f.film_id\n",
    "            FROM film f\n",
    "            JOIN film_category fc ON f.film_id = fc.film_id\n",
    "            JOIN category c ON fc.category_id = c.category_id\n",
    "            WHERE c.name = 'Action'\n",
    "        )\n",
    "    )\n",
    ");\n",
    "\n",
    "-- Find the list of films that have never been rented.\n",
    "SELECT f.film_id, f.title\n",
    "FROM film f\n",
    "LEFT JOIN inventory i ON f.film_id = i.film_id\n",
    "LEFT JOIN rental r ON i.inventory_id = r.inventory_id\n",
    "WHERE r.rental_id IS NULL;\n",
    "\n",
    "SELECT f.film_id, f.title\n",
    "FROM film f\n",
    "WHERE NOT EXISTS (\n",
    "    SELECT 1\n",
    "    FROM rental r\n",
    "    JOIN inventory i ON r.inventory_id = i.inventory_id\n",
    "    WHERE i.film_id = f.film_id\n",
    ");\n",
    "\n",
    "```"
   ]
  },
  {
   "cell_type": "markdown",
   "id": "6151e26b-a705-425f-ad7b-6b907f84e053",
   "metadata": {},
   "source": [
    "#\n",
    "- everything is a table.\n",
    "- how to make the table bigger (join)\n",
    "- how to maket the table smaller (group by)\n",
    "- combine join and where in"
   ]
  },
  {
   "cell_type": "markdown",
   "id": "90eb95c4-d82a-4be8-b60f-75a1b2e61705",
   "metadata": {},
   "source": [
    "# steps\n",
    "- think about the tables (relations) getting involved\n",
    "- think about the cols \n",
    "- structure the query on the high level\n",
    "- test on partial querys and build on these querys. 1. combine join, 2. where in, 3. group by"
   ]
  },
  {
   "cell_type": "markdown",
   "id": "e707a5cc-e298-4d20-8536-db223114115f",
   "metadata": {},
   "source": [
    "```sql\n",
    "--1. How many customers in total?\n",
    "SELECT COUNT(*) AS total_customers\n",
    "FROM customer;\n",
    "--2. What is the total amount of payment received?\n",
    "SELECT SUM(amount) AS total_revenue\n",
    "FROM payment;\n",
    "--3. How many films in its inventory?\n",
    "SELECT COUNT(*) AS total_films\n",
    "FROM film;\n",
    "--4. What is the average rental rate for the films?\n",
    "SELECT AVG(rental_rate) AS average_rental_rate\n",
    "FROM film;\n",
    "--5. List the top 10 customers who have made the most number of rentals.\n",
    "SELECT c.customer_id, c.first_name, c.last_name, COUNT(r.rental_id) as rental_count\n",
    "FROM customer c\n",
    "JOIN rental r ON c.customer_id = r.customer_id\n",
    "GROUP BY c.customer_id\n",
    "ORDER BY rental_count DESC\n",
    "LIMIT 10;\n",
    "--6. What are the top 10 most rented films?\n",
    "SELECT f.film_id, f.title, COUNT(r.rental_id) as rental_count\n",
    "FROM film f\n",
    "JOIN inventory i ON f.film_id = i.film_id\n",
    "JOIN rental r ON i.inventory_id = r.inventory_id\n",
    "GROUP BY f.film_id\n",
    "ORDER BY rental_count DESC\n",
    "LIMIT 10;\n",
    "--7. Calculate the total revenue for each store\n",
    "SELECT s.store_id, SUM(p.amount) as total_revenue\n",
    "FROM store s\n",
    "JOIN staff st ON s.store_id = st.store_id\n",
    "JOIN payment p ON st.staff_id = p.staff_id\n",
    "GROUP BY s.store_id;\n",
    "--8. List the top 10 customers who have spent the most on rentals.\n",
    "SELECT c.customer_id, c.first_name, c.last_name, SUM(p.amount) as total_spent\n",
    "FROM customer c\n",
    "JOIN payment p ON c.customer_id = p.customer_id\n",
    "GROUP BY c.customer_id\n",
    "ORDER BY total_spent DESC\n",
    "LIMIT 10;\n",
    "--9. Find films that have never been rented.\n",
    "SELECT f.film_id, f.title\n",
    "FROM film f\n",
    "WHERE f.film_id NOT IN (\n",
    "    SELECT DISTINCT i.film_id\n",
    "    FROM rental r\n",
    "    JOIN inventory i ON r.inventory_id = i.inventory_id\n",
    ");\n",
    "```\n"
   ]
  },
  {
   "cell_type": "code",
   "execution_count": null,
   "id": "7a6227da-0cfb-44d7-8ca9-ced774e88541",
   "metadata": {},
   "outputs": [],
   "source": []
  }
 ],
 "metadata": {
  "kernelspec": {
   "display_name": "Python 3 (ipykernel)",
   "language": "python",
   "name": "python3"
  },
  "language_info": {
   "codemirror_mode": {
    "name": "ipython",
    "version": 3
   },
   "file_extension": ".py",
   "mimetype": "text/x-python",
   "name": "python",
   "nbconvert_exporter": "python",
   "pygments_lexer": "ipython3",
   "version": "3.11.5"
  }
 },
 "nbformat": 4,
 "nbformat_minor": 5
}
