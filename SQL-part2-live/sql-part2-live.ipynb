{
 "cells": [
  {
   "cell_type": "markdown",
   "id": "2f9060cc-6c0d-4e4b-89f7-6b80c63c7a46",
   "metadata": {
    "tags": []
   },
   "source": [
    "### sql-cheatsheets\n",
    "![sql cheat sheet page1](sql-page-1.png)\n",
    "\n",
    "![sql cheat sheet page2](sql-page-2.png)"
   ]
  },
  {
   "cell_type": "markdown",
   "id": "ff5baf89-734d-4155-b560-c9f4a63b7de6",
   "metadata": {},
   "source": [
    "### Review Banking DB\n",
    "\n",
    "[schema](banks/schema.sql)\n",
    "\n",
    "[seed](banks/seed.sql)"
   ]
  },
  {
   "cell_type": "markdown",
   "id": "1e0d321e-9ddf-427d-833d-81e4e6f8a225",
   "metadata": {},
   "source": [
    "### Query\n",
    "\n",
    "-- who are the customers names paid through Wells Fargo?\n",
    "```sql \n",
    "CREATE VIEW payment_customer_bank AS\n",
    "(SELECT p.*, c.first_name, c.last_name, b.bank_name\n",
    "FROM payments p\n",
    "JOIN customer c ON p.customer_id = c.customer_id\n",
    "JOIN banks b ON p.bank_routing_number = b.bank_routing_number)\n",
    "WHERE bank_name = 'Wells Fargo';\n",
    "\n",
    "SELECT * from payment_customer_bank\n",
    "WHERE bank_name = 'Wells Fargo'\n",
    "```\n",
    "\n"
   ]
  },
  {
   "cell_type": "markdown",
   "id": "0134e877-6c46-46a9-b9f7-1345b62c14c2",
   "metadata": {},
   "source": [
    "[Sakila DB](https://dev.mysql.com/doc/sakila/en/sakila-structure-tables.html)"
   ]
  },
  {
   "cell_type": "markdown",
   "id": "ff6f487f-f874-487b-a03c-a937e8aecc36",
   "metadata": {},
   "source": [
    "-- Identify customers who rented the film 'PANIC CLUB'.\n",
    "```sql\n",
    "SELECT c.customer_id, c.first_name, c.last_name, f.title\n",
    "FROM customer c\n",
    "JOIN rental r ON c.customer_id  = r.customer_id\n",
    "JOIN inventory i ON r.inventory_id = i.inventory_id\n",
    "JOIN film f ON i.film_id = f.film_id\n",
    "WHERE f.title = 'PANIC CLUB'\n",
    "```"
   ]
  },
  {
   "cell_type": "code",
   "execution_count": null,
   "id": "7ffbd9ff-c2eb-4f01-8a3e-e987fe21fa2c",
   "metadata": {},
   "outputs": [],
   "source": []
  }
 ],
 "metadata": {
  "kernelspec": {
   "display_name": "Python 3 (ipykernel)",
   "language": "python",
   "name": "python3"
  },
  "language_info": {
   "codemirror_mode": {
    "name": "ipython",
    "version": 3
   },
   "file_extension": ".py",
   "mimetype": "text/x-python",
   "name": "python",
   "nbconvert_exporter": "python",
   "pygments_lexer": "ipython3",
   "version": "3.11.5"
  }
 },
 "nbformat": 4,
 "nbformat_minor": 5
}
