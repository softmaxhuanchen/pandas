{
 "cells": [
  {
   "cell_type": "markdown",
   "id": "2f9060cc-6c0d-4e4b-89f7-6b80c63c7a46",
   "metadata": {
    "tags": []
   },
   "source": [
    "### sql-cheatsheets\n",
    "![sql cheat sheet page1](sql-page-1.png)\n",
    "\n",
    "![sql cheat sheet page2](sql-page-2.png)"
   ]
  },
  {
   "cell_type": "markdown",
   "id": "ff5baf89-734d-4155-b560-c9f4a63b7de6",
   "metadata": {},
   "source": [
    "### Review Banking DB\n",
    "\n",
    "[schema](banks/schema.sql)\n",
    "\n",
    "[seed](banks/seed.sql)"
   ]
  },
  {
   "cell_type": "markdown",
   "id": "1e0d321e-9ddf-427d-833d-81e4e6f8a225",
   "metadata": {},
   "source": [
    "### Query\n",
    "\n",
    "-- who are the customers names paid through Wells Fargo?\n",
    "```sql \n",
    "CREATE VIEW payment_customer_bank AS\n",
    "(SELECT p.*, c.first_name, c.last_name, b.bank_name\n",
    "FROM payments p\n",
    "JOIN customer c ON p.customer_id = c.customer_id\n",
    "JOIN banks b ON p.bank_routing_number = b.bank_routing_number)\n",
    "WHERE bank_name = 'Wells Fargo';\n",
    "\n",
    "SELECT * from payment_customer_bank\n",
    "WHERE bank_name = 'Wells Fargo'\n",
    "```\n",
    "\n"
   ]
  },
  {
   "cell_type": "markdown",
   "id": "0134e877-6c46-46a9-b9f7-1345b62c14c2",
   "metadata": {},
   "source": [
    "[Sakila DB](https://dev.mysql.com/doc/sakila/en/sakila-structure-tables.html)"
   ]
  },
  {
   "cell_type": "markdown",
   "id": "ff6f487f-f874-487b-a03c-a937e8aecc36",
   "metadata": {},
   "source": [
    "-- Identify customers who rented the film 'PANIC CLUB'. first method by creating a giant table including everything, then filter.\n",
    "```sql\n",
    "SELECT c.customer_id, c.first_name, c.last_name, f.title\n",
    "FROM customer c\n",
    "JOIN rental r ON c.customer_id  = r.customer_id\n",
    "JOIN inventory i ON r.inventory_id = i.inventory_id\n",
    "JOIN film f ON i.film_id = f.film_id\n",
    "WHERE f.title = 'PANIC CLUB'\n",
    "```\n",
    "\n",
    "-- second method sub queries\n",
    "```sql\n",
    "SELECT c.customer_id, c.first_name, c.last_name\n",
    "FROM customer c\n",
    "WHERE c.customer_id IN (\n",
    "    SELECT r.customer_id\n",
    "    FROM rental r\n",
    "    WHERE r.inventory_id IN (\n",
    "        SELECT i.inventory_id\n",
    "        FROM inventory i\n",
    "        WHERE i.film_id IN (\n",
    "            SELECT f.film_id\n",
    "            FROM film f\n",
    "            WHERE f.title = 'PANIC CLUB'\n",
    "        )\n",
    "    )\n",
    ");\n",
    "```\n"
   ]
  },
  {
   "cell_type": "markdown",
   "id": "97c71f17-3047-4073-b0de-44a9c4bcd5ee",
   "metadata": {},
   "source": [
    "### Steps\n",
    "1. Think about the tables getting involved. \n",
    "2. think about what kind cols\n",
    "3. think about how to construct the query. 2 methods. "
   ]
  },
  {
   "cell_type": "markdown",
   "id": "e35fec27-d794-4bad-a270-cd8501b57f21",
   "metadata": {},
   "source": [
    "--1. How many customers in total?\n",
    "```sql\n",
    "SELECT COUNT(*) AS total_customers_num\n",
    "FROM customer\n",
    "\n",
    "--2. What is the total amount of payment received?\n",
    "SELECT SUM(amount) AS total_payment_amount\n",
    "FROM payment;\n",
    "\n",
    "--3. How many films in our inventory?\n",
    "\n",
    "SELECT COUNT(*) AS total_films\n",
    "FROM film\n",
    "\n",
    "-- 4. What is the average rental rate for the films?\n",
    "SELECT AVG(rental_rate) AS average_rental_rate\n",
    "FROM film\n",
    "\n",
    "--5. List the top 10 customers who have made the most number of rentals. (names and counts )\n",
    "SELECT c.first_name, c.last_name, COUNT(r.rental_id) AS rental_count\n",
    "FROM customer c\n",
    "JOIN rental r ON c.customer_id = r.customer_id\n",
    "GROUP BY c.customer_id\n",
    "ORDER BY rental_count DESC\n",
    "LIMIT 10\n",
    "\n",
    "--6. What are the top 10 most rented films? (1. films, inventory, and rental. 2. count of film_id in rental table trough inventory table, film.title film_id )\n",
    "\n",
    "SELECT f.film_id, f.title, COUNT(r.rental_id) AS rental_count\n",
    "FROM film f\n",
    "JOIN inventory i ON f.film_id = i.film_id\n",
    "JOIN rental r ON i.inventory_id = r.inventory_id\n",
    "GROUP BY f.film_id\n",
    "ORDER BY rental_count DESC\n",
    "LIMIT 10\n",
    "\n",
    "--7. Calculate the total revenue for each store (1. store, staff, payment)\n",
    "SELECT s.store_id, SUM(p.amount) AS total_revenue\n",
    "FROM store s\n",
    "JOIN staff st ON s.store_id = st.store_id\n",
    "JOIN payment p ON st.staff_id = p.staff_id\n",
    "GROUP BY s.store_id\n",
    "\n",
    "-- from Hyun Bin, we agree it's the correct answer\n",
    "SELECT store.store_id, SUM(payment.amount) FROM payment\n",
    "INNER JOIN rental ON payment.rental_id = rental.rental_id\n",
    "INNER JOIN inventory ON inventory.inventory_id = rental.inventory_id\n",
    "INNER JOIN store ON store.store_id = inventory.store_id\n",
    "GROUP BY store.store_id"
   ]
  }
 ],
 "metadata": {
  "kernelspec": {
   "display_name": "Python 3 (ipykernel)",
   "language": "python",
   "name": "python3"
  },
  "language_info": {
   "codemirror_mode": {
    "name": "ipython",
    "version": 3
   },
   "file_extension": ".py",
   "mimetype": "text/x-python",
   "name": "python",
   "nbconvert_exporter": "python",
   "pygments_lexer": "ipython3",
   "version": "3.11.5"
  }
 },
 "nbformat": 4,
 "nbformat_minor": 5
}
